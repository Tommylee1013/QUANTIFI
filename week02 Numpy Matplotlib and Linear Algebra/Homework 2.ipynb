{
 "nbformat": 4,
 "nbformat_minor": 0,
 "metadata": {
  "colab": {
   "provenance": [],
   "authorship_tag": "ABX9TyP9qcO/6kjVSlJPAPud1/7x"
  },
  "kernelspec": {
   "name": "python3",
   "display_name": "Python 3"
  },
  "language_info": {
   "name": "python"
  }
 },
 "cells": [
  {
   "cell_type": "markdown",
   "source": [
    "## **Present Values**"
   ],
   "metadata": {
    "id": "8xW-8Ei0wLeK"
   }
  },
  {
   "cell_type": "markdown",
   "source": [
    "### **0. Introduction**"
   ],
   "metadata": {
    "id": "rWbbQ3iLEsOb"
   }
  },
  {
   "cell_type": "markdown",
   "source": [
    "- 이번주차에는 **자산가격결정이론(asset pricing theory)**의 시작점인 **현재가치평가모형(present value model)**에 대하여 배워보겠습니다.\n",
    "- 이번 과제에서 한 계산 연습은 나중에도 이용하니 이론을 정확히 이해하고 계산 연습을 충분히 해주시길 바랍니다! 🤩\n",
    "- 이번주차는 모형에 확률을 도입하지 않고 대수적인 계산을 연습하는 것을 목적으로 하겠습니다.\n",
    "- 따라서 **행렬 곱(matrix multiplication)**과 **역행렬(inverse matrix)** 그리고 **등비급수**의 계산 정도만 할 줄 알아도 내용을 충분히 이해하실 수 있을 것입니다.\n",
    "- 자, 이제 시작해봅시다!"
   ],
   "metadata": {
    "id": "Xy2RE-q6w3-j"
   }
  },
  {
   "cell_type": "markdown",
   "source": [
    "### **1. Interest Rates and Present Values**"
   ],
   "metadata": {
    "id": "fvCK3aaV4RDf"
   }
  },
  {
   "cell_type": "markdown",
   "source": [
    "- 1절에서는 **할인(discount)**의 기초적인 개념에 대하여 학습하고, 2절 이후에서는 모형을 확장하여 1절에서의 모형을 행렬로 표현하는 연습을 할 것입니다."
   ],
   "metadata": {
    "id": "QwOjwFlHSKnc"
   }
  },
  {
   "cell_type": "markdown",
   "source": [
    "- 고등학생 때 등비수열과 (무한)등비급수(기하급수)에 대해 배운 것을 기억하시나요?\n",
    "- 그때 배운 공식을 활용하여 이자율이 시간에 따라 지급할 현금흐름에 대해 어떻게 영향을 주는지 이번절에서 알아보겠습니다.\n",
    "- 우리는 시간이 이산적(discrete; countable)이라고 가정합니다.\n",
    "- 따라서 시간의 흐름은 $t=0, 1, 2, \\cdots$처럼 자연수를 첨자로 합니다.\n",
    "- 한 기 동안의 **순명목이자율(net nominal interest rate)**을 $r \\in (0, 1)$이라고 합니다.\n",
    "    - 예를 들어 순이자율이 5퍼센트이면, r은 0.05입니다.\n",
    "- 한 기 동안의 **총명목이자율(gross nominal interest rate)** $R$은 다음과 같이 정의합니다.\n",
    "$$ R = 1+r \\in (1,\\ 2) $$\n",
    "    - 만약 r이 0.05이면, R은 1.05가 됩니다.\n",
    "- **[참고]** 총명목이자율 $R$은 $t$기와 $t+1$기, 즉 한 기동안의 화폐의 **상대가격(relative price)** 혹은 **교환비(율)(exchange rate)**을 말합니다.\n",
    "- 따라서 $R$의 단위는 $t$기의 달러에 대한 $t+1$기에서의 화폐가치입니다.\n"
   ],
   "metadata": {
    "id": "u9e-2csxsWm-"
   }
  },
  {
   "cell_type": "markdown",
   "source": [
    "- 사람들이 돈을 빌리고 빌려줄 때 그들은 미래의 달러(돈)를 위해 현재 달러를 교환하거나 현재의 달러를 위해 미래에 달러로 교환합니다.\n",
    "- 위의 교환이 이루어지는 가격이 곧 총명목이자율(gross nominal interest rate)입니다.\n",
    "> - 만약 제가 $x$ 달러를 오늘 당신에게 판다면, 당신은 내일 $Rx$달러를 저에게 줘야 합니다.\n",
    "> - 이는 당신이 오늘 $x$ 달러를 $R$의 총명목이자율 혹은 $r$의 순명목이자율로 저에게 빌렸다는 것과 같은 의미입니다.\n",
    "- 현재는 순이자율 $r$ 이 시간에 대하여 **고정되었다고 가정**하겠습니다.\n",
    "    - 나중에 더 심화된 모형을 배운다면 시간에 따라 변화한다고 가정할 수도 있습니다.\n",
    "- 따라서 $R$은 $t=0,\\ 1,\\ 2,\\ \\cdots$기에서의 고정된 총명목이자율이 됩니다.\n"
   ],
   "metadata": {
    "id": "K5FpqXZo5DMA"
   }
  },
  {
   "cell_type": "markdown",
   "source": [
    "- 중요한 식은\n",
    "\n",
    "$$ 1, R, R^2, R^3, \\cdots \\tag{1} $$ 과\n",
    "\n",
    "$$ 1, R^{-1}, R^{-2}, \\cdots \\tag{2}$$입니다.\n",
    "\n",
    "- (1)은 투자로 인해 화폐가치가 시간에 따라 어떻게 **축적(accumulate)**되는지를 보여줍니다.\n",
    "- (2)는 미래의 화폐가치가 **할인(discount)**되어 어떻게 현재의 화폐가치로 환산될 수 있는지를 보여줍니다."
   ],
   "metadata": {
    "id": "Wc9qJIQT5nEh"
   }
  },
  {
   "cell_type": "markdown",
   "source": [
    "#### 1.1. Accumulation"
   ],
   "metadata": {
    "id": "4OLgMd4xsFf_"
   }
  },
  {
   "cell_type": "markdown",
   "source": [
    "- 식 (1)에서는 한 기동안 1달러를 (총)이자율 $R$로 투자했을 때 그리고 그 원리금을 지속적으로 재투자했을 때 이 달러가 어떻게 축적되는지를 보여줍니다.\n",
    "> - 여기서 받은 원리금은 다음 기에 그대로 재투자한다고 가정합니다.\n",
    "> - $0$기(현재)에 $1$달러를 투자하면, 다음 기인 $1$기에 $r$만큼의 이자를 받으면 $1$기에 저희에게는 $1+r$만큼의 달러가 있습니다.\n",
    "> - $1$기에 가정에 따라 $1+r = R$ 달러를 재투자하면 $2$기에는 원금(principal) $R$ 달러에 더하여 $rR$ 달러의 이자를 받게 되므로 $2$기에는 $rR + R = (1+r)R = R^2$ 달러를 가지게 됩니다.\n",
    "> - 같은 방식으로 계속 이어갑니다 ⋯."
   ],
   "metadata": {
    "id": "0TGxqaKA6QlP"
   }
  },
  {
   "cell_type": "markdown",
   "source": [
    "- 결론적으로, $0$기에 $x$달러를 투자하고 지속적으로 원리금을 재투자한다면, 아래의 식\n",
    "\n",
    "$$ x, xR, xR^2, \\cdots $$에서는 계좌가 시간 $t= 0, 1, 2, \\cdots$에 따라 어떻게 축적되는지를 확인할 수 있습니다."
   ],
   "metadata": {
    "id": "BDRF-bed7F8I"
   }
  },
  {
   "cell_type": "markdown",
   "source": [
    "#### 1.2. Discounting"
   ],
   "metadata": {
    "id": "dYa2F2SvsHHM"
   }
  },
  {
   "cell_type": "markdown",
   "source": [
    "- (2)에서는 미래의 달러가 현재 가치로 어떻게 표현될 수 있는지를 보여줍니다.\n",
    "- $R$은 $t$기의 달러에 대한 $t+1$기에서의 화폐가치 단위임을 고려합시다.\n",
    "- 따라서\n",
    "> - $R^{-1}$은 $t+1$기의 달러에 대한 $t$기에서의 화폐가치 단위가 됩니다.\n",
    "> - $R^{-2}$은 $t+2$기의 달러에 대한 $t$기에서의 화폐가치 단위가 됩니다.\n",
    "> - 같은 방식으로 반복합니다; $R^{-j}$은 $t+j$기의 달러에 대한 $t$기에서의 화폐가치 단위가 됩니다.\n",
    "- 따라서 $t+j$기에 $x$달러에 대한 청구권을 가진 사람이 있다면, 그 돈은 $t$기에 $xR^{-j}$ 달러의 가치가 있습니다."
   ],
   "metadata": {
    "id": "wBvC90av7c0Z"
   }
  },
  {
   "cell_type": "markdown",
   "source": [
    "### **2. Overview of the Present Value Model**"
   ],
   "metadata": {
    "id": "lS0VKLaFwUgt"
   }
  },
  {
   "cell_type": "markdown",
   "source": [
    "- 한국어로 번역 시 의미의 모호함을 피하기 위해 기초용어와 가정을 영문으로 표기하였습니다."
   ],
   "metadata": {
    "id": "80X5pqe7ob8L"
   }
  },
  {
   "cell_type": "markdown",
   "source": [
    "**[용어와 가정]**\n",
    "- $\\{ d_{t} \\}^{T}_{t=0}$은 배당의 나열, 즉 **배당열(sequence of dividends or payouts)**이라고 하고,\n",
    "- $\\{p_{t}\\}^{T}_{t=0}$ 는 t기 이후의 배당 $\\{ d_{s} \\}^{T}_{s=t}$에 대한 청구권(claim)을 가지는 자산(asset)의 $t$기 가격이며,\n",
    "- $\\delta \\in (0, 1)$은 “**할인인자(discount factor)**\"이고,\n",
    "- $p^{*}_{T+1}$는 자산의 소멸 시점인 $T+1$기에서의 가격(terminal price)이다.\n",
    "- 배당흐름 $\\{ d_{t} \\}^{T}_{t=0}$과 소멸시점의 가격 $p^{*}_{T+1}$은 **외생적(exogeneous)**이라 가정합니다. (즉 주어져있습니다.)\n"
   ],
   "metadata": {
    "id": "_oCe0KkTxKVO"
   }
  },
  {
   "cell_type": "markdown",
   "source": [
    "- 여기서 할인 인자 $\\delta$는 1절에서의 $R^{-1}$과 같은 의미입니다."
   ],
   "metadata": {
    "id": "qKWira0IIViR"
   }
  },
  {
   "cell_type": "markdown",
   "source": [
    "- 어떤 자산을 한 기동안 보유한다고 가정합니다.\n",
    "- $t$기에 자산을 사기 위해 들인 비용(cost)은 $p_t$입니다.\n",
    "- $t+1$기까지 보유하였을 때 투자자는 t기에서의 배당금과 자산을 팔았을 때의 가격 $p_{t+1}$만큼의 돈을 보유하게 됩니다. 이를 현재가치로 나타내면 자산을 팔 때의 가격은 현재가치로 할인된 $\\delta p_{t+1}$입니다.\n",
    "- 비용과 이익이 동일하다는 가정하에\n",
    "\n",
    "$$ p_t = d_t + \\delta p_{t+1}, \\ \\ \\ \\ t=0, 1, \\cdots, T \\tag{3}$$\n",
    "\n",
    "라는 자산가격결정 공식열(sequence of asset pricing equation)을 도출할 수 있습니다."
   ],
   "metadata": {
    "id": "nzBM1DrG1vWh"
   }
  },
  {
   "cell_type": "markdown",
   "source": [
    "- 위 식을 다시 보면 자산가격열 $\\{ p_t \\}^{T}_{t=0}$을 $\\{ d_{t} \\}^{T}_{t=0}$ 와 $p^{*}_{T+1}$에 대한 함수로 나타낼 수 있습니다.\n",
    "\n",
    "$$p_t = p_t\\left( d_t,\\ p^{*}_{T+1} \\right)$$"
   ],
   "metadata": {
    "id": "oN-mkM402G3n"
   }
  },
  {
   "cell_type": "markdown",
   "source": [
    "- 2절 이후에서는 행렬 대수를 이용하여 $\\{ p_t \\}^{T}_{t=0}$를 구하는 방법에 대하여 알아봅니다.\n",
    "- 우선 필요한 라이브러리를 불러옵니다:"
   ],
   "metadata": {
    "id": "3u7h5NaL3KJm"
   }
  },
  {
   "cell_type": "code",
   "source": [
    "import numpy as np\n",
    "import matplotlib.pyplot as plt"
   ],
   "metadata": {
    "id": "E2yCAN_h3N-d",
    "pycharm": {
     "is_executing": true
    }
   },
   "execution_count": null,
   "outputs": []
  },
  {
   "cell_type": "markdown",
   "source": [
    "### **3. Present Value Calculations**"
   ],
   "metadata": {
    "id": "9AYEkCMrwYAh"
   }
  },
  {
   "cell_type": "markdown",
   "source": [
    "- (1)의 관계식을 이용하여 각 시기별 자산과 배당의 관계를 생각하면 다음처럼 쓸 수 있습니다.\n",
    "\n",
    "$$\\begin{matrix}\n",
    "p_0 &=& d_0 + \\delta p_1 \\\\\n",
    "p_1 &=& d_1 + \\delta p_2 \\\\\n",
    "    &\\vdots&             \\\\\n",
    "p_{T-1} &=& d_{T-1} + \\delta p_{T} \\\\\n",
    "p_{T} &=& d_T + \\delta p^{*}_{T+1} \\\\\n",
    " \\end{matrix} \\tag{4}$$"
   ],
   "metadata": {
    "id": "h4oUm8ob4sZ8"
   }
  },
  {
   "cell_type": "markdown",
   "source": [
    "- (2)에서 우변의 $\\delta p_i \\  (i=1, 2, \\cdots, T)$을 좌변으로 이항하면,\n",
    "\n",
    "$$\\begin{matrix}\n",
    "p_0 - \\delta p_1 &=& d_0 \\\\\n",
    "p_1 - \\delta p_2 &=& d_1 \\\\\n",
    "    &\\vdots&             \\\\\n",
    "p_{T-1} - \\delta p_{T} &=& d_{T-1} \\\\\n",
    "p_{T} &=& d_T + \\delta p^{*}_{T+1} \\\\\n",
    " \\end{matrix} \\tag{4*}$$"
   ],
   "metadata": {
    "id": "w-ru-me97Y8G"
   }
  },
  {
   "cell_type": "markdown",
   "source": [
    "- (2*)의 식을 $p_i \\  (i=1, 2, \\cdots, T)$에 대하여 좀 더 명시적으로 작성하면,\n",
    "\n",
    "$$\\begin{matrix}\n",
    "p_0 &-& \\delta p_1 &+& 0 \\times p_2 &+& \\cdots &+& 0 \\times p_T &=& d_0 \\\\\n",
    "0 \\times p_0 &+& p_1 &-& \\delta p_2 &+& \\cdots &+& 0 \\times p_T &=& d_1 \\\\\n",
    " & & & & & & & & &\\vdots&             \\\\\n",
    "0 \\times p_0 &+& \\cdots &+& 0 \\times p_{T-2} &+& p_{T-1} &-& \\delta p_{T} &=& d_{T-1} \\\\\n",
    "0 \\times p_0 &+& \\cdots &+& 0 \\times p_{T-2} &+& 0 \\times p_{T-1} &+& p_{T} &=& d_T + \\delta p^{*}_{T+1} \\\\\n",
    " \\end{matrix} \\tag{4**}$$"
   ],
   "metadata": {
    "id": "KgWNZZ_c8ENS"
   }
  },
  {
   "cell_type": "markdown",
   "source": [
    "- 위의 $T+1$기의 자산가격결정식에 대한 선형시스템(linear system) (2**)을 행렬 꼴로 쓰면 다음과 같습니다.\n",
    "\n",
    "$$\\begin{bmatrix}\n",
    "1 & -\\delta & 0 & 0 & \\cdots & 0 & 0 \\\\\n",
    "0 & 1 & -\\delta & 0 & \\cdots & 0 & 0 \\\\\n",
    "0 & 0 & 1 & -\\delta & \\cdots & 0 & 0 \\\\\n",
    "0 & 0 & 0 & 1 & \\cdots & 0 & 0 \\\\\n",
    "\\vdots & \\vdots & \\vdots & \\vdots & \\ddots & \\vdots & \\vdots \\\\\n",
    "0 & 0 & 0 & 0 & \\cdots & 1 & -\\delta \\\\\n",
    "0 & 0 & 0 & 0 & \\cdots & 0 & 1 \\\\\n",
    "\\end{bmatrix} \\begin{bmatrix}\n",
    "p_{0} \\\\\n",
    "p_{1} \\\\\n",
    "p_{2} \\\\\n",
    "p_{3} \\\\\n",
    "\\vdots \\\\\n",
    "p_{T-1} \\\\\n",
    "p_{T} \\\\\n",
    "\\end{bmatrix} = \\begin{bmatrix}\n",
    "d_{0} \\\\\n",
    "d_{1} \\\\\n",
    "d_{2} \\\\\n",
    "d_{3} \\\\\n",
    "\\vdots \\\\\n",
    "d_{T-1} \\\\\n",
    "d_{T} \\\\\n",
    "\\end{bmatrix} + \\begin{bmatrix}\n",
    "0 \\\\\n",
    "0 \\\\\n",
    "0 \\\\\n",
    "0 \\\\\n",
    "\\vdots \\\\\n",
    "0 \\\\\n",
    "\\delta p^{*}_{T+1} \\\\\n",
    "\\end{bmatrix} \\tag{5}$$"
   ],
   "metadata": {
    "id": "K1GkhDu85kTD"
   }
  },
  {
   "cell_type": "markdown",
   "source": [
    "**[Question]**\n",
    "- 종이에 직접 적어 (5)의 행렬곱을 계산하여 (4)의 꼴로 만들 수 있는지 보이시오.\n",
    "- 답안은 노션 Session Summary 페이지의 Assignment 절에 **이미지로 첨부**해주세요."
   ],
   "metadata": {
    "id": "sisn62EZ92nX"
   }
  },
  {
   "cell_type": "markdown",
   "source": [
    "- (3)의 식에서 행렬 1개와 벡터 3개를 확인할 수 있습니다.\n",
    "- 다음 빨간색 글씨의 행렬을 $\\boldsymbol{A}$라 표기합니다.\n",
    "\n",
    "$$\\color{red}{\\begin{bmatrix}\n",
    "1 & -\\delta & 0 & 0 & \\cdots & 0 & 0 \\\\\n",
    "0 & 1 & -\\delta & 0 & \\cdots & 0 & 0 \\\\\n",
    "0 & 0 & 1 & -\\delta & \\cdots & 0 & 0 \\\\\n",
    "0 & 0 & 0 & 1 & \\cdots & 0 & 0 \\\\\n",
    "\\vdots & \\vdots & \\vdots & \\vdots & \\ddots & \\vdots & \\vdots \\\\\n",
    "0 & 0 & 0 & 0 & \\cdots & 1 & -\\delta \\\\\n",
    "0 & 0 & 0 & 0 & \\cdots & 0 & 1 \\\\\n",
    "\\end{bmatrix}} \\color{lightgray}{\\begin{bmatrix}\n",
    "p_{0} \\\\\n",
    "p_{1} \\\\\n",
    "p_{2} \\\\\n",
    "p_{3} \\\\\n",
    "\\vdots \\\\\n",
    "p_{T-1} \\\\\n",
    "p_{T} \\\\\n",
    "\\end{bmatrix}} = \\color{lightgray}{\\begin{bmatrix}\n",
    "d_{0} \\\\\n",
    "d_{1} \\\\\n",
    "d_{2} \\\\\n",
    "d_{3} \\\\\n",
    "\\vdots \\\\\n",
    "d_{T-1} \\\\\n",
    "d_{T} \\\\\n",
    "\\end{bmatrix}} + \\color{lightgray}{\\begin{bmatrix}\n",
    "0 \\\\\n",
    "0 \\\\\n",
    "0 \\\\\n",
    "0 \\\\\n",
    "\\vdots \\\\\n",
    "0 \\\\\n",
    "\\delta p^{*}_{T+1} \\\\\n",
    "\\end{bmatrix}} \\tag{5*}$$\n",
    "\n",
    "- 다음 빨간색 글씨의 벡터를 $\\boldsymbol{p}$라 표기합니다.\n",
    "\n",
    "$$\\color{lightgray}{\\begin{bmatrix}\n",
    "1 & -\\delta & 0 & 0 & \\cdots & 0 & 0 \\\\\n",
    "0 & 1 & -\\delta & 0 & \\cdots & 0 & 0 \\\\\n",
    "0 & 0 & 1 & -\\delta & \\cdots & 0 & 0 \\\\\n",
    "0 & 0 & 0 & 1 & \\cdots & 0 & 0 \\\\\n",
    "\\vdots & \\vdots & \\vdots & \\vdots & \\ddots & \\vdots & \\vdots \\\\\n",
    "0 & 0 & 0 & 0 & \\cdots & 1 & -\\delta \\\\\n",
    "0 & 0 & 0 & 0 & \\cdots & 0 & 1 \\\\\n",
    "\\end{bmatrix}} \\color{red}{\\begin{bmatrix}\n",
    "p_{0} \\\\\n",
    "p_{1} \\\\\n",
    "p_{2} \\\\\n",
    "p_{3} \\\\\n",
    "\\vdots \\\\\n",
    "p_{T-1} \\\\\n",
    "p_{T} \\\\\n",
    "\\end{bmatrix}} = \\color{lightgray}{\\begin{bmatrix}\n",
    "d_{0} \\\\\n",
    "d_{1} \\\\\n",
    "d_{2} \\\\\n",
    "d_{3} \\\\\n",
    "\\vdots \\\\\n",
    "d_{T-1} \\\\\n",
    "d_{T} \\\\\n",
    "\\end{bmatrix}} + \\color{lightgray}{\\begin{bmatrix}\n",
    "0 \\\\\n",
    "0 \\\\\n",
    "0 \\\\\n",
    "0 \\\\\n",
    "\\vdots \\\\\n",
    "0 \\\\\n",
    "\\delta p^{*}_{T+1} \\\\\n",
    "\\end{bmatrix}} \\tag{5**}$$\n",
    "\n",
    "- 다음 빨간색 글씨의 벡터를 $\\boldsymbol{d}$라 표기합니다.\n",
    "\n",
    "$$\\color{lightgray}{\\begin{bmatrix}\n",
    "1 & -\\delta & 0 & 0 & \\cdots & 0 & 0 \\\\\n",
    "0 & 1 & -\\delta & 0 & \\cdots & 0 & 0 \\\\\n",
    "0 & 0 & 1 & -\\delta & \\cdots & 0 & 0 \\\\\n",
    "0 & 0 & 0 & 1 & \\cdots & 0 & 0 \\\\\n",
    "\\vdots & \\vdots & \\vdots & \\vdots & \\ddots & \\vdots & \\vdots \\\\\n",
    "0 & 0 & 0 & 0 & \\cdots & 1 & -\\delta \\\\\n",
    "0 & 0 & 0 & 0 & \\cdots & 0 & 1 \\\\\n",
    "\\end{bmatrix}} \\color{lightgray}{\\begin{bmatrix}\n",
    "p_{0} \\\\\n",
    "p_{1} \\\\\n",
    "p_{2} \\\\\n",
    "p_{3} \\\\\n",
    "\\vdots \\\\\n",
    "p_{T-1} \\\\\n",
    "p_{T} \\\\\n",
    "\\end{bmatrix}} = \\color{red}{\\begin{bmatrix}\n",
    "d_{0} \\\\\n",
    "d_{1} \\\\\n",
    "d_{2} \\\\\n",
    "d_{3} \\\\\n",
    "\\vdots \\\\\n",
    "d_{T-1} \\\\\n",
    "d_{T} \\\\\n",
    "\\end{bmatrix}} + \\color{lightgray}{\\begin{bmatrix}\n",
    "0 \\\\\n",
    "0 \\\\\n",
    "0 \\\\\n",
    "0 \\\\\n",
    "\\vdots \\\\\n",
    "0 \\\\\n",
    "\\delta p^{*}_{T+1} \\\\\n",
    "\\end{bmatrix}} \\tag{5***}$$\n",
    "\n",
    "- 다음 빨간색 글씨의 벡터를 $\\boldsymbol{b}$라 표기합니다.\n",
    "\n",
    "$$\\color{lightgray}{\\begin{bmatrix}\n",
    "1 & -\\delta & 0 & 0 & \\cdots & 0 & 0 \\\\\n",
    "0 & 1 & -\\delta & 0 & \\cdots & 0 & 0 \\\\\n",
    "0 & 0 & 1 & -\\delta & \\cdots & 0 & 0 \\\\\n",
    "0 & 0 & 0 & 1 & \\cdots & 0 & 0 \\\\\n",
    "\\vdots & \\vdots & \\vdots & \\vdots & \\ddots & \\vdots & \\vdots \\\\\n",
    "0 & 0 & 0 & 0 & \\cdots & 1 & -\\delta \\\\\n",
    "0 & 0 & 0 & 0 & \\cdots & 0 & 1 \\\\\n",
    "\\end{bmatrix}} \\color{lightgray}{\\begin{bmatrix}\n",
    "p_{0} \\\\\n",
    "p_{1} \\\\\n",
    "p_{2} \\\\\n",
    "p_{3} \\\\\n",
    "\\vdots \\\\\n",
    "p_{T-1} \\\\\n",
    "p_{T} \\\\\n",
    "\\end{bmatrix}} = \\color{lightgray}{\\begin{bmatrix}\n",
    "d_{0} \\\\\n",
    "d_{1} \\\\\n",
    "d_{2} \\\\\n",
    "d_{3} \\\\\n",
    "\\vdots \\\\\n",
    "d_{T-1} \\\\\n",
    "d_{T} \\\\\n",
    "\\end{bmatrix}} + \\color{red}{\\begin{bmatrix}\n",
    "0 \\\\\n",
    "0 \\\\\n",
    "0 \\\\\n",
    "0 \\\\\n",
    "\\vdots \\\\\n",
    "0 \\\\\n",
    "\\delta p^{*}_{T+1} \\\\\n",
    "\\end{bmatrix}} \\tag{5****}$$"
   ],
   "metadata": {
    "id": "ILRnKFNn_SF4"
   }
  },
  {
   "cell_type": "markdown",
   "source": [
    "- 벡터-행렬 표기로 나타내면 (5)는 다음과 같이 나타낼 수 있습니다:\n",
    "\n",
    "$$\\boldsymbol{A}\\boldsymbol{p} = \\boldsymbol{d} + \\boldsymbol{b} \\tag{6}$$"
   ],
   "metadata": {
    "id": "7v3QYKil-y-s"
   }
  },
  {
   "cell_type": "markdown",
   "source": [
    "- 위 식을 자산가격 $\\boldsymbol{p}$에 대하여 풀면:\n",
    "$$ \\boldsymbol{p} = \\boldsymbol{A}^{-1}(\\boldsymbol{d} + \\boldsymbol{b}) \\tag{7}$$"
   ],
   "metadata": {
    "id": "WzKWu45lAyGW"
   }
  },
  {
   "cell_type": "markdown",
   "source": [
    "#### 3.1. Small Exercise"
   ],
   "metadata": {
    "id": "oc9Lf3lqBpwG"
   }
  },
  {
   "cell_type": "markdown",
   "source": [
    "- 간단한 예제를 풀어봅시다.\n",
    "- 배당흐름이 다음과 같이 주어져있다고 가정합니다.\n",
    "\n",
    "$$d_{t+1} = 1.05d_{t},\\ \\ \\ t=0, 1, \\cdots, T-1$$."
   ],
   "metadata": {
    "id": "NglfeH3bBvXh"
   }
  },
  {
   "cell_type": "markdown",
   "source": [
    "**[Question]**\n",
    "- 위 배당흐름 식을 참고하여 현재(0기) 배당이 $d_0 = 1$을 만족할 때 때, 0기부터 6기까지의 배당 $d_1$, $d_2$, $\\cdots$, $d_6$을 파이썬을 이용하여 그래프를 그리시오. (레이블을 반드시 추가합니다.)\n",
    "- 예시 출력은 다음과 같습니다."
   ],
   "metadata": {
    "id": "whrOqoQjCJZy"
   }
  },
  {
   "cell_type": "markdown",
   "source": [
    "![image.png](data:image/png;base64,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)"
   ],
   "metadata": {
    "id": "Z9dDU5T_DMmc"
   }
  },
  {
   "cell_type": "code",
   "source": [
    "T = 6\n",
    "d_0 = 1.0\n",
    "\n",
    "# Please write your code here!"
   ],
   "metadata": {
    "id": "mkwWCFPnDSX_"
   },
   "execution_count": null,
   "outputs": []
  },
  {
   "cell_type": "markdown",
   "source": [
    "- 이제, $\\delta = 0.99$와 $p^{*}_{T+1} = 10.0$이라고 가정합시다."
   ],
   "metadata": {
    "id": "bLvV7w8FDtrt"
   }
  },
  {
   "cell_type": "code",
   "source": [
    "delta = 0.99\n",
    "p_star = 10.0"
   ],
   "metadata": {
    "id": "q64R5h9cEHl5"
   },
   "execution_count": null,
   "outputs": []
  },
  {
   "cell_type": "markdown",
   "source": [
    "**[Question]**\n",
    "- 위 가정과 식 (6)을 참고하여 0부터 6기의 행렬 $\\boldsymbol{A}$를 파이썬을 이용하여 구하시오.\n",
    "- 예시 출력은 아래와 같습니다.\n",
    "```python\n",
    "array([[ 1.  , -0.99,  0.  ,  0.  ,  0.  ,  0.  ,  0.  ],\n",
    "         [ 0.  ,  1.  , -0.99,  0.  ,  0.  ,  0.  ,  0.  ],\n",
    "         [ 0.  ,  0.  ,  1.  , -0.99,  0.  ,  0.  ,  0.  ],\n",
    "         [ 0.  ,  0.  ,  0.  ,  1.  , -0.99,  0.  ,  0.  ],\n",
    "         [ 0.  ,  0.  ,  0.  ,  0.  ,  1.  , -0.99,  0.  ],\n",
    "         [ 0.  ,  0.  ,  0.  ,  0.  ,  0.  ,  1.  , -0.99],\n",
    "         [ 0.  ,  0.  ,  0.  ,  0.  ,  0.  ,  0.  ,  1.  ]])\n",
    "```\n",
    "\n",
    "**[Hint]**\n",
    "- 영행렬 넘파이 array를 생성한 후, 반복문과 조건문을 이용하여 각 원소를 추가합니다."
   ],
   "metadata": {
    "id": "Qqp9FKRnEKma"
   }
  },
  {
   "cell_type": "code",
   "source": [
    "# Please write your code here!"
   ],
   "metadata": {
    "id": "hIgG4idqFAT6"
   },
   "execution_count": null,
   "outputs": []
  },
  {
   "cell_type": "markdown",
   "source": [
    "**[Question]**\n",
    "- 위 가정과 식 (7)을 참고하여 0부터 6기 자산가격 벡터 $\\boldsymbol{p}$를 파이썬을 이용하여 계산하시오.\n",
    "- 구한 $\\boldsymbol{p}$를 시각화하시오. (레이블을 추가합니다.)\n",
    "- 예시 출력은 다음과 같습니다."
   ],
   "metadata": {
    "id": "MI7ClZuFFB9_"
   }
  },
  {
   "cell_type": "markdown",
   "source": [
    "![image.png](data:image/png;base64,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)"
   ],
   "metadata": {
    "id": "Am95QxBZF2nv"
   }
  },
  {
   "cell_type": "markdown",
   "source": [
    "- 저희는 경기에 따라 성장(cyclically grow)하는 배당흐름도 고려할 수 있습니다.\n",
    "\n",
    "$$d_{t+1} = 1.01 d_{t} + 0.1 \\sin{t},\\ \\ \\ t=0, 1, \\cdots, T-1$$."
   ],
   "metadata": {
    "id": "bUZL1C_ZGJ5b"
   }
  },
  {
   "cell_type": "markdown",
   "source": [
    "**[Question]**\n",
    "- 이전의 문제들과 같은 방법으로 다음을 구하시오. (단, $d_0 = 1$.)\n",
    "    - 0부터 100기까지의 배당을 구하고 시각화한다.\n",
    "    - 0부터 100기까지의 $\\boldsymbol{A}$를 구한 후, 자산가격벡터 $\\boldsymbol{p}$를 구한다. (단, $\\delta=0.98$, $p^{*}_{T+1} = 0$)\n",
    "    - 자산가격벡터 $\\boldsymbol{p}$를 시각화한다.\n",
    "- 예시 출력은 다음과 같습니다."
   ],
   "metadata": {
    "id": "oIq4q2O_Gevx"
   }
  },
  {
   "cell_type": "markdown",
   "source": [
    "![image.png](data:image/png;base64,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)"
   ],
   "metadata": {
    "id": "ANARJrG-HEas"
   }
  },
  {
   "cell_type": "markdown",
   "source": [
    "![image.png](data:image/png;base64,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)"
   ],
   "metadata": {
    "id": "NMS6zTDmHcj9"
   }
  },
  {
   "cell_type": "markdown",
   "source": [
    "### **4. Analytical Expressions**"
   ],
   "metadata": {
    "id": "Nmdi0U8Hwd21"
   }
  },
  {
   "cell_type": "markdown",
   "source": [
    "- (5)와 (7)을 이용하여 $\\boldsymbol{A}$의 역행렬을 계산하면, 다음을 알 수 있습니다.\n",
    "\n",
    "$$ \\boldsymbol{A}^{-1} = \\begin{bmatrix}\n",
    "1 & \\delta & \\delta^2 & \\cdots & \\delta^{T-1} & \\delta^T \\\\\n",
    "0 & 1 & \\delta & \\cdots & \\delta^{T-2} & \\delta^{T-1} \\\\\n",
    "0 & 0 & 1 & \\cdots & \\delta^{T-3} & \\delta^{T-2} \\\\\n",
    "\\vdots & \\vdots & \\vdots & \\ddots & \\vdots & \\vdots \\\\\n",
    "0 & 0 & 0 & \\cdots & 1 & \\delta \\\\\n",
    "0 & 0 & 0 & \\cdots & 0 & 1 \\\\\n",
    "\\end{bmatrix} \\tag{8}$$"
   ],
   "metadata": {
    "id": "Nat5ItnwHP7C"
   }
  },
  {
   "cell_type": "markdown",
   "source": [
    "**[Question]**\n",
    "- 위의 식 (8)이 A의 역행렬임을 보이시오.\n",
    "- 역행렬임을 보이려면 $\\boldsymbol{A}\\boldsymbol{A}^{-1} = \\boldsymbol{I}$와 $\\boldsymbol{A}^{-1}\\boldsymbol{A} = \\boldsymbol{I}$ 둘을 보이면 됩니다.\n",
    "- 답안은 노션 Session Summary 페이지의 Assignment 절에 **이미지로 첨부**해주세요."
   ],
   "metadata": {
    "id": "3f41udzjIsTd"
   }
  },
  {
   "cell_type": "markdown",
   "source": [
    "- 이제 (8)을 (7)에 대입합니다.\n",
    "\n",
    "$$ \\begin{bmatrix}\n",
    "p_{0} \\\\\n",
    "p_{1} \\\\\n",
    "p_{2} \\\\\n",
    "p_{3} \\\\\n",
    "\\vdots \\\\\n",
    "p_{T-1} \\\\\n",
    "p_{T} \\\\\n",
    "\\end{bmatrix} = \\begin{bmatrix}\n",
    "1 & \\delta & \\delta^2 & \\cdots & \\delta^{T-1} & \\delta^T \\\\\n",
    "0 & 1 & \\delta & \\cdots & \\delta^{T-2} & \\delta^{T-1} \\\\\n",
    "0 & 0 & 1 & \\cdots & \\delta^{T-3} & \\delta^{T-2} \\\\\n",
    "\\vdots & \\vdots & \\vdots & \\ddots & \\vdots & \\vdots \\\\\n",
    "0 & 0 & 0 & \\cdots & 1 & \\delta \\\\\n",
    "0 & 0 & 0 & \\cdots & 0 & 1 \\\\\n",
    "\\end{bmatrix} \\left( \\begin{bmatrix}\n",
    "d_{0} \\\\\n",
    "d_{1} \\\\\n",
    "d_{2} \\\\\n",
    "d_{3} \\\\\n",
    "\\vdots \\\\\n",
    "d_{T-1} \\\\\n",
    "d_{T} \\\\\n",
    "\\end{bmatrix} + \\begin{bmatrix}\n",
    "0 \\\\\n",
    "0 \\\\\n",
    "0 \\\\\n",
    "0 \\\\\n",
    "\\vdots \\\\\n",
    "0 \\\\\n",
    "\\delta p^{*}_{T+1} \\\\\n",
    "\\end{bmatrix} \\right) \\\\\n",
    "= \\begin{bmatrix}\n",
    "1 & \\delta & \\delta^2 & \\cdots & \\delta^{T-1} & \\delta^T \\\\\n",
    "0 & 1 & \\delta & \\cdots & \\delta^{T-2} & \\delta^{T-1} \\\\\n",
    "0 & 0 & 1 & \\cdots & \\delta^{T-3} & \\delta^{T-2} \\\\\n",
    "\\vdots & \\vdots & \\vdots & \\ddots & \\vdots & \\vdots \\\\\n",
    "0 & 0 & 0 & \\cdots & 1 & \\delta \\\\\n",
    "0 & 0 & 0 & \\cdots & 0 & 1 \\\\\n",
    "\\end{bmatrix} \\begin{bmatrix}\n",
    "d_{0} \\\\\n",
    "d_{1} \\\\\n",
    "d_{2} \\\\\n",
    "d_{3} \\\\\n",
    "\\vdots \\\\\n",
    "d_{T-1} \\\\\n",
    "d_{T} + \\delta p^{*}_{T+1} \\\\\n",
    "\\end{bmatrix} $$"
   ],
   "metadata": {
    "id": "4zHEv4rzJ9pu"
   }
  },
  {
   "cell_type": "markdown",
   "source": [
    "- 위 식을 행렬곱을 이용하여 계산해보면, 임의의 $t$에 대하여, 다음 식을 만족함을 알 수 있습니다.\n",
    "\n",
    "$$ p_t = \\sum_{s=t}^{T} \\delta^{s-t}d_s + \\delta^{T+1-t}p^{*}_{T+1} \\tag{9}$$\n",
    "\n"
   ],
   "metadata": {
    "id": "jVrM9qZsMYbb"
   }
  },
  {
   "cell_type": "markdown",
   "source": [
    "**[Question]**\n",
    "- (9)의 도출 과정을 최대한 상세히 서술하시오.\n",
    "- 답안은 노션 Session Summary 페이지의 Assignment 절에 **이미지로 첨부**해주세요."
   ],
   "metadata": {
    "id": "U1bJUsMQSrfP"
   }
  },
  {
   "cell_type": "markdown",
   "source": [
    "- (9)의 식은 **두 가지로 구분**하여 생각해볼 수 있습니다."
   ],
   "metadata": {
    "id": "O-oWTeneRtgr"
   }
  },
  {
   "cell_type": "markdown",
   "source": [
    "1. **기본 요소(fundamental component)** $\\sum\\limits_{s=t}^{T} \\delta^{s-t}d_s$는 예상 배당금의 (할인된) 현재가치의 합을 나타냅니다.\n",
    "\n",
    "2. **버블 요소(bubble component)** $\\delta^{T+1-t}p^{*}_{T+1}$는 다음 5절에서 더 자세히 다룹니다."
   ],
   "metadata": {
    "id": "N88IUcJxS_te"
   }
  },
  {
   "cell_type": "markdown",
   "source": [
    "- 기본요소를 다시 보면, 할인인자(discount factor) $\\delta$와 자산(asset)의 펀더멘털로 쪼개집니다. (위의 경우 그 펀더멘털은 배당 $d$입니다.)\n",
    "- 버블요소는 자산 가격에서 펀더멘털에 의존하지 않는 부분입니다."
   ],
   "metadata": {
    "id": "OEgiha2mUxql"
   }
  },
  {
   "cell_type": "markdown",
   "source": [
    "- 버블요소는 맥락 혹은 편의에 따라 다음과 같이 표기하기도 합니다.\n",
    "\n",
    "$$\\color{blue}{c\\delta^{-t}}\\ \\ \\  (c \\equiv \\delta^{T+1}p^{*}_{T+1})$$"
   ],
   "metadata": {
    "id": "8E5skcFTVmsu"
   }
  },
  {
   "cell_type": "markdown",
   "source": [
    "### **5. More about Bubbles**"
   ],
   "metadata": {
    "id": "THbf8eEHwlcZ"
   }
  },
  {
   "cell_type": "markdown",
   "source": [
    "- 5절은 특수한 예로 시작하겠습니다.\n",
    "- 현재인 0기부터 만기인 $T$기까지 배당을 전혀 지급하지 않는 자산을 가정합니다.\n",
    "- 즉 배당 벡터 $\\boldsymbol{d}$를 다음과 같이 쓸 수 있습니다.\n",
    "\n",
    "$$ \\boldsymbol{d} = \\begin{bmatrix}\n",
    "d_{0} \\\\\n",
    "d_{1} \\\\\n",
    "d_{2} \\\\\n",
    "d_{3} \\\\\n",
    "\\vdots \\\\\n",
    "d_{T-1} \\\\\n",
    "d_{T} \\\\\n",
    "\\end{bmatrix} = \\begin{bmatrix}\n",
    "0 \\\\\n",
    "0 \\\\\n",
    "0 \\\\\n",
    "0 \\\\\n",
    "\\vdots \\\\\n",
    "0 \\\\\n",
    "0 \\\\\n",
    "\\end{bmatrix}$$"
   ],
   "metadata": {
    "id": "IJmszubaWsSi"
   }
  },
  {
   "cell_type": "markdown",
   "source": [
    "- 이때 (1)로부터 선형 시스템을 구성하면 다음과 같습니다.\n",
    "\n",
    "$$\\begin{bmatrix}\n",
    "1 & -\\delta & 0 & 0 & \\cdots & 0 & 0 \\\\\n",
    "0 & 1 & -\\delta & 0 & \\cdots & 0 & 0 \\\\\n",
    "0 & 0 & 1 & -\\delta & \\cdots & 0 & 0 \\\\\n",
    "0 & 0 & 0 & 1 & \\cdots & 0 & 0 \\\\\n",
    "\\vdots & \\vdots & \\vdots & \\vdots & \\ddots & \\vdots & \\vdots \\\\\n",
    "0 & 0 & 0 & 0 & \\cdots & 1 & -\\delta \\\\\n",
    "0 & 0 & 0 & 0 & \\cdots & 0 & 1 \\\\\n",
    "\\end{bmatrix} \\begin{bmatrix}\n",
    "p_{0} \\\\\n",
    "p_{1} \\\\\n",
    "p_{2} \\\\\n",
    "p_{3} \\\\\n",
    "\\vdots \\\\\n",
    "p_{T-1} \\\\\n",
    "p_{T} \\\\\n",
    "\\end{bmatrix} = \\begin{bmatrix}\n",
    "0 \\\\\n",
    "0 \\\\\n",
    "0 \\\\\n",
    "0 \\\\\n",
    "\\vdots \\\\\n",
    "0 \\\\\n",
    "\\delta p^{*}_{T+1} \\\\\n",
    "\\end{bmatrix} \\tag{10}$$"
   ],
   "metadata": {
    "id": "j9tcnVQxXko4"
   }
  },
  {
   "cell_type": "markdown",
   "source": [
    "1. 만약 $p^{*}_{T+1} = 0 \\tag{10}$이라면 (8)의 식을 간단히 $\\boldsymbol{A}\\boldsymbol{p} = \\boldsymbol{0}$라고 쓸 수 있습니다."
   ],
   "metadata": {
    "id": "Dbz5sMzUbJ5A"
   }
  },
  {
   "cell_type": "markdown",
   "source": [
    "- $\\det A \\neq 0$이면 가격벡터 $\\boldsymbol{p} = \\boldsymbol{0}$입니다.\n",
    "- 즉 $p_t = 0$입니다."
   ],
   "metadata": {
    "id": "lbsNLk23j0ms"
   }
  },
  {
   "cell_type": "markdown",
   "source": [
    "2. 만약 양의 상수 $c \\gt 0$에 대하여 $p^{*}_{T+1} = c \\delta^{-(T+1)}$ (4절에서의 $c$가 아님에 유의합니다.)이라 하고 식을 풀면, 다음을 도출할 수 있습니다.\n",
    "\n",
    "$$p_t = c \\delta^{-1} \\tag{11}$$"
   ],
   "metadata": {
    "id": "N3tVumrOciI4"
   }
  },
  {
   "cell_type": "markdown",
   "source": [
    "**[Question]**\n",
    "- 다음 네 종류의 $d$와 $p^{*}_{T+1}$에 대하여 $p_t$의 식을 도출하시오.\n",
    "\n",
    "1. a modified version of the Gordon growth formula\n",
    "\n",
    "$$ p^{*}_{T+1}=0,\\ d_t = g^td_0$$\n",
    "\n",
    "2. the plain vanilla Gordon growth formula\n",
    "\n",
    "$$ p^{*}_{T+1}=g^{T+1}d_0,\\ d_t = g^td_0$$\n",
    "\n",
    "3. price of a worthless stock\n",
    "\n",
    "$$ p^{*}_{T+1}=0,\\ d_t = 0$$\n",
    "\n",
    "4. price of a pure bubble stock\n",
    "\n",
    "$$ p^{*}_{T+1}=c\\delta^{-(T+1)},\\ d_t = 0$$\n",
    "\n",
    "- 답안은 노션 Session Summary 페이지의 Assignment 절에 **이미지로 첨부**해주세요."
   ],
   "metadata": {
    "id": "Fl6HcfBMlFm7"
   }
  },
  {
   "cell_type": "markdown",
   "source": [
    "### **6. Gross Rate of Return**"
   ],
   "metadata": {
    "id": "09QEZ3Q9wwVn"
   }
  },
  {
   "cell_type": "markdown",
   "source": [
    "- 어떤 자산을 $t$기부터 $t+1$기까지 보유할 경우 **(총)수익률(gross rate of return)**$R_t$ 다음과 같이 정의합니다.\n",
    "\n",
    "$$R_t = \\frac{p_{t+1}}{p_{t}} \\tag{12}$$"
   ],
   "metadata": {
    "id": "86u7Y4fZZFeP"
   }
  },
  {
   "cell_type": "markdown",
   "source": [
    "- 5절의 무배당 가정에 의해 도출한 식 (11)을 (12)에 대입할 경우 수익률은 다음과 같습니다.\n",
    "\n",
    "$$R_t = \\delta^{-1}$$"
   ],
   "metadata": {
    "id": "HZPeGLBAZ8mp"
   }
  },
  {
   "cell_type": "markdown",
   "source": [
    "- 2절의 가정에서 $\\delta \\in (0, 1)$이므로 $\\delta^{-1} \\in (1, ∞)$, 즉 $R_t = \\delta^{-1} \\gt 1$임을 알 수 있습니다."
   ],
   "metadata": {
    "id": "qzFqHIbMaOCM"
   }
  },
  {
   "cell_type": "markdown",
   "source": [
    "**[Question]**\n",
    "- 위 문제에서 구한 네 종류의 가격식을 이용하여 0기부터 100기까지의 가격벡터를 도출하고, 수익률을 시각화하시오."
   ],
   "metadata": {
    "id": "BaMXEE57nFe2"
   }
  },
  {
   "cell_type": "code",
   "source": [
    "# Please write your code here!"
   ],
   "metadata": {
    "id": "JFM3UT4Znj4Y"
   },
   "execution_count": null,
   "outputs": []
  }
 ]
}
