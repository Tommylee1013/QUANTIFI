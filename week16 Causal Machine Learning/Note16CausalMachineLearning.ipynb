{
 "cells": [
  {
   "cell_type": "markdown",
   "source": [
    "### Causal Machine Learning"
   ],
   "metadata": {
    "collapsed": false
   },
   "id": "61959206542115ee"
  },
  {
   "cell_type": "markdown",
   "source": [
    "Feature Importance 소개\n",
    "\n",
    "MDI, SFI, MDA Feature Importance의 해석\n",
    "\n",
    "SHAP Model\n",
    "\n",
    "Double Machine Learning, Causal Forest"
   ],
   "metadata": {
    "collapsed": false
   },
   "id": "955be923dc5b082a"
  }
 ],
 "metadata": {
  "kernelspec": {
   "display_name": "Python 3",
   "language": "python",
   "name": "python3"
  },
  "language_info": {
   "codemirror_mode": {
    "name": "ipython",
    "version": 2
   },
   "file_extension": ".py",
   "mimetype": "text/x-python",
   "name": "python",
   "nbconvert_exporter": "python",
   "pygments_lexer": "ipython2",
   "version": "2.7.6"
  }
 },
 "nbformat": 4,
 "nbformat_minor": 5
}
