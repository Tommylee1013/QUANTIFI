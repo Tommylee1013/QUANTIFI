{
 "cells": [
  {
   "cell_type": "markdown",
   "source": [
    "### Causal Machine Learning"
   ],
   "metadata": {
    "collapsed": false
   },
   "id": "61959206542115ee"
  },
  {
   "cell_type": "markdown",
   "source": [
    "#### 1. Feature Importance"
   ],
   "metadata": {
    "collapsed": false
   },
   "id": "17528202ea14ace"
  },
  {
   "cell_type": "code",
   "execution_count": 1,
   "outputs": [],
   "source": [
    "import pandas as pd\n",
    "import numpy as np\n",
    "\n",
    "def get_test_data(\n",
    "        n_features : int = 40,\n",
    "        n_informative : int = 10,\n",
    "        n_redundant : int = 10,\n",
    "        n_samples : int = 10000,\n",
    "        random_state : int = 42,\n",
    "        sigma_std : float = 0.0\n",
    ") : \n",
    "    from sklearn.datasets import make_classification\n",
    "    \n",
    "    np.random.seed(random_state)\n",
    "    \n",
    "    trnsX, cont = make_classification(\n",
    "        n_samples = n_samples,\n",
    "        n_features = n_features,\n",
    "        n_informative = n_informative,\n",
    "        n_redundant = n_redundant,\n",
    "        random_state = random_state,\n",
    "        shuffle = False\n",
    "    )\n",
    "    \n",
    "    df0_index = pd.date_range(start = pd.to_datetime('today') - pd.to_timedelta(n_samples, unit = 'd'), \n",
    "                              periods = n_samples, freq = 'B')\n",
    "\n",
    "    trnsX, cont = pd.DataFrame(trnsX, index = df0_index), pd.Series(cont, index=df0_index).to_frame('bin')\n",
    "\n",
    "    df0 = ['I_' + str(i) for i in range(n_informative)] + ['R_' + str(i) for i in range(n_redundant)]\n",
    "    df0 += ['N_' + str(i) for i in range(n_features - len(df0))]\n",
    "    \n",
    "    trnsX.columns = df0\n",
    "    cont['w'] = 1. / cont.shape[0]\n",
    "    cont['t1'] = pd.Series(cont.index, index = cont.index)\n",
    "    \n",
    "    return trnsX, cont"
   ],
   "metadata": {
    "collapsed": false,
    "ExecuteTime": {
     "end_time": "2024-01-01T09:29:59.798714Z",
     "start_time": "2024-01-01T09:29:59.391613Z"
    }
   },
   "id": "7c136ac1e46c4d1e"
  },
  {
   "cell_type": "code",
   "execution_count": 2,
   "outputs": [],
   "source": [
    "trnsX, cont = get_test_data(n_features = 20, n_informative = 5, n_redundant = 5, n_samples = 1000)"
   ],
   "metadata": {
    "collapsed": false,
    "ExecuteTime": {
     "end_time": "2024-01-01T09:30:00.322687Z",
     "start_time": "2024-01-01T09:29:59.799635Z"
    }
   },
   "id": "88e19ae1dc9397ff"
  },
  {
   "cell_type": "markdown",
   "source": [
    "**1.1 $p-\\mathrm{value}$**"
   ],
   "metadata": {
    "collapsed": false
   },
   "id": "c60ea781ee7224d"
  },
  {
   "cell_type": "code",
   "execution_count": 3,
   "outputs": [
    {
     "name": "stdout",
     "output_type": "stream",
     "text": [
      "Warning: Maximum number of iterations has been exceeded.\n",
      "         Current function value: 0.438438\n",
      "         Iterations: 35\n",
      "                           Logit Regression Results                           \n",
      "==============================================================================\n",
      "Dep. Variable:                    bin   No. Observations:                 1000\n",
      "Model:                          Logit   Df Residuals:                      985\n",
      "Method:                           MLE   Df Model:                           14\n",
      "Date:                Mon, 01 Jan 2024   Pseudo R-squ.:                  0.3675\n",
      "Time:                        18:30:00   Log-Likelihood:                -438.44\n",
      "converged:                      False   LL-Null:                       -693.15\n",
      "Covariance Type:            nonrobust   LLR p-value:                9.339e-100\n",
      "==============================================================================\n",
      "                 coef    std err          z      P>|z|      [0.025      0.975]\n",
      "------------------------------------------------------------------------------\n",
      "I_0           -0.1891        nan        nan        nan         nan         nan\n",
      "I_1           -0.2298   2.29e+06     -1e-07      1.000   -4.49e+06    4.49e+06\n",
      "I_2            0.0519   3.49e+06   1.49e-08      1.000   -6.84e+06    6.84e+06\n",
      "I_3            0.2142   8.85e+05   2.42e-07      1.000   -1.74e+06    1.74e+06\n",
      "I_4            0.2206   2.78e+06   7.93e-08      1.000   -5.45e+06    5.45e+06\n",
      "R_0           -0.0546    5.3e+06  -1.03e-08      1.000   -1.04e+07    1.04e+07\n",
      "R_1           -0.0668   5.47e+05  -1.22e-07      1.000   -1.07e+06    1.07e+06\n",
      "R_2           -0.2672   1.45e+06  -1.84e-07      1.000   -2.85e+06    2.85e+06\n",
      "R_3           -0.5125   2.22e+06  -2.31e-07      1.000   -4.35e+06    4.35e+06\n",
      "R_4            0.1755   5.26e+05   3.34e-07      1.000   -1.03e+06    1.03e+06\n",
      "N_0            0.1035      0.080      1.288      0.198      -0.054       0.261\n",
      "N_1            0.1249      0.083      1.502      0.133      -0.038       0.288\n",
      "N_2            0.1699      0.081      2.090      0.037       0.011       0.329\n",
      "N_3           -0.0789      0.083     -0.950      0.342      -0.242       0.084\n",
      "N_4            0.1496      0.085      1.769      0.077      -0.016       0.315\n",
      "N_5           -0.0704      0.090     -0.780      0.435      -0.247       0.107\n",
      "N_6            0.0084      0.081      0.104      0.918      -0.151       0.168\n",
      "N_7            0.1696      0.087      1.938      0.053      -0.002       0.341\n",
      "N_8            0.0255      0.086      0.295      0.768      -0.144       0.195\n",
      "N_9           -0.0084      0.086     -0.098      0.922      -0.176       0.159\n",
      "==============================================================================\n"
     ]
    },
    {
     "name": "stderr",
     "output_type": "stream",
     "text": [
      "/Users/junghunlee/anaconda3/envs/TimeSeriesModeling/lib/python3.10/site-packages/statsmodels/base/model.py:607: ConvergenceWarning: Maximum Likelihood optimization failed to converge. Check mle_retvals\n",
      "  warnings.warn(\"Maximum Likelihood optimization failed to \"\n"
     ]
    }
   ],
   "source": [
    "import statsmodels.api as sm\n",
    "ols = sm.Logit(cont['bin'], trnsX).fit()"
   ],
   "metadata": {
    "collapsed": false,
    "ExecuteTime": {
     "end_time": "2024-01-01T09:30:00.607851Z",
     "start_time": "2024-01-01T09:30:00.323356Z"
    }
   },
   "id": "20d38b4e9b8cf82b"
  },
  {
   "cell_type": "code",
   "execution_count": 4,
   "outputs": [
    {
     "data": {
      "text/plain": "Text(0.5, 1.0, 'p-values')"
     },
     "execution_count": 4,
     "metadata": {},
     "output_type": "execute_result"
    },
    {
     "data": {
      "text/plain": "<Figure size 1000x400 with 1 Axes>",
      "image/png": "[encoded data removed]"
     },
     "metadata": {},
     "output_type": "display_data"
    }
   ],
   "source": [
    "import matplotlib.pyplot as plt\n",
    "\n",
    "plt.figure(figsize = (10, 4))\n",
    "plt.barh(\n",
    "    ols.pvalues.sort_values(ascending = True).index, \n",
    "    ols.pvalues.sort_values(ascending = True), \n",
    "    color = 'b', alpha = 0.25, height = 0.5\n",
    ")\n",
    "plt.axvline(0.05, ls = ':', color = 'r')\n",
    "plt.grid(False)\n",
    "plt.title('p-values')"
   ],
   "metadata": {
    "collapsed": false,
    "ExecuteTime": {
     "end_time": "2024-01-01T09:30:00.994311Z",
     "start_time": "2024-01-01T09:30:00.604158Z"
    }
   },
   "id": "5ca14e2702a5b6f6"
  },
  {
   "cell_type": "markdown",
   "source": [
    "**1.2 Mean Decrease Importance**"
   ],
   "metadata": {
    "collapsed": false
   },
   "id": "6a4959b07f6674a0"
  },
  {
   "cell_type": "code",
   "execution_count": 5,
   "outputs": [],
   "source": [
    "from sklearn.ensemble import RandomForestClassifier\n",
    "\n",
    "from sklearn.metrics import accuracy_score\n",
    "from feature_importances import *"
   ],
   "metadata": {
    "collapsed": false,
    "ExecuteTime": {
     "end_time": "2024-01-01T09:30:01.128093Z",
     "start_time": "2024-01-01T09:30:00.994008Z"
    }
   },
   "id": "ae9e72a1ddae1cb5"
  },
  {
   "cell_type": "code",
   "execution_count": 6,
   "outputs": [],
   "source": [
    "forest = RandomForestClassifier(\n",
    "    criterion = 'entropy',\n",
    "    class_weight = 'balanced_subsample',\n",
    "    min_weight_fraction_leaf = 0.0,\n",
    "    random_state = 42,\n",
    "    n_estimators = 1000,\n",
    "    max_features = 3,\n",
    "    oob_score = True,\n",
    "    n_jobs = 1\n",
    ")\n",
    "\n",
    "fit = forest.fit(X = trnsX, y = cont['bin'])\n",
    "oob_score = fit.oob_score_"
   ],
   "metadata": {
    "collapsed": false,
    "ExecuteTime": {
     "end_time": "2024-01-01T09:30:03.100697Z",
     "start_time": "2024-01-01T09:30:01.181336Z"
    }
   },
   "id": "618e3682d4f110cd"
  },
  {
   "cell_type": "code",
   "execution_count": 7,
   "outputs": [],
   "source": [
    "cv_gen = PurgedKFold(n_splits = 5, samples_info_sets = cont['t1'])"
   ],
   "metadata": {
    "collapsed": false,
    "ExecuteTime": {
     "end_time": "2024-01-01T09:30:03.104680Z",
     "start_time": "2024-01-01T09:30:03.101040Z"
    }
   },
   "id": "55b351447e39873b"
  },
  {
   "cell_type": "code",
   "execution_count": 8,
   "outputs": [],
   "source": [
    "oos_score = ml_cross_val_score(forest, trnsX, cont['bin'], cv_gen = cv_gen, scoring = accuracy_score).mean()"
   ],
   "metadata": {
    "collapsed": false,
    "ExecuteTime": {
     "end_time": "2024-01-01T09:30:11.355949Z",
     "start_time": "2024-01-01T09:30:03.103407Z"
    }
   },
   "id": "24214e1559068f28"
  },
  {
   "cell_type": "code",
   "execution_count": 9,
   "outputs": [],
   "source": [
    "mdi = mean_decrease_impurity(fit, trnsX.columns)"
   ],
   "metadata": {
    "collapsed": false,
    "ExecuteTime": {
     "end_time": "2024-01-01T09:30:11.370022Z",
     "start_time": "2024-01-01T09:30:11.356816Z"
    }
   },
   "id": "7f31889e1f70234d"
  },
  {
   "cell_type": "code",
   "execution_count": 10,
   "outputs": [
    {
     "data": {
      "text/plain": "<Figure size 1000x400 with 1 Axes>",
      "image/png": "[encoded data removed]"
     },
     "metadata": {},
     "output_type": "display_data"
    }
   ],
   "source": [
    "plot_feature_importance(\n",
    "    mdi,\n",
    "    oob_score = oob_score,\n",
    "    oos_score = oos_score,\n",
    "    save_fig = True,\n",
    "    output_path = './MDI_feature_importance.png'\n",
    ")\n",
    "plt.grid(False)\n",
    "plt.show()"
   ],
   "metadata": {
    "collapsed": false,
    "ExecuteTime": {
     "end_time": "2024-01-01T09:30:11.511360Z",
     "start_time": "2024-01-01T09:30:11.371373Z"
    }
   },
   "id": "4b43218ff030425f"
  },
  {
   "cell_type": "markdown",
   "source": [
    "**1.3 Mean Decrease Accuracy**"
   ],
   "metadata": {
    "collapsed": false
   },
   "id": "76baa72841edf97a"
  },
  {
   "cell_type": "code",
   "execution_count": 11,
   "outputs": [],
   "source": [
    "mda = mean_decrease_accuracy(fit, trnsX, cont['bin'], cv_gen, scoring = accuracy_score)"
   ],
   "metadata": {
    "collapsed": false,
    "ExecuteTime": {
     "end_time": "2024-01-01T09:30:23.713067Z",
     "start_time": "2024-01-01T09:30:11.515482Z"
    }
   },
   "id": "a26d25674ff2639f"
  },
  {
   "cell_type": "code",
   "execution_count": 12,
   "outputs": [
    {
     "data": {
      "text/plain": "<Figure size 1000x400 with 1 Axes>",
      "image/png": "[encoded data removed]"
     },
     "metadata": {},
     "output_type": "display_data"
    }
   ],
   "source": [
    "plot_feature_importance(\n",
    "    mda,\n",
    "    oob_score = oob_score,\n",
    "    oos_score = oos_score,\n",
    "    save_fig = True,\n",
    "    output_path = './MDA_feature_importance.png'\n",
    ")\n",
    "plt.grid(False)\n",
    "plt.show()"
   ],
   "metadata": {
    "collapsed": false,
    "ExecuteTime": {
     "end_time": "2024-01-01T09:30:23.853467Z",
     "start_time": "2024-01-01T09:30:23.714408Z"
    }
   },
   "id": "e68f4e4963f607bd"
  },
  {
   "cell_type": "markdown",
   "source": [
    "**1.4 Probability Weighted Accuracy**"
   ],
   "metadata": {
    "collapsed": false
   },
   "id": "4867126cfdbee8ce"
  },
  {
   "cell_type": "code",
   "execution_count": 13,
   "outputs": [],
   "source": [
    "y_pred = fit.predict(trnsX)\n",
    "y_prob = fit.predict_proba(trnsX)"
   ],
   "metadata": {
    "collapsed": false,
    "ExecuteTime": {
     "end_time": "2024-01-01T09:30:23.999945Z",
     "start_time": "2024-01-01T09:30:23.851816Z"
    }
   },
   "id": "ce5cfc1fdd237a5e"
  },
  {
   "cell_type": "code",
   "execution_count": 14,
   "outputs": [
    {
     "data": {
      "text/plain": "0.9405351053812927"
     },
     "execution_count": 14,
     "metadata": {},
     "output_type": "execute_result"
    }
   ],
   "source": [
    "probability_weighted_accuracy(y_true = cont['bin'], y_pred = y_pred, probabilities = y_prob[:,1])"
   ],
   "metadata": {
    "collapsed": false,
    "ExecuteTime": {
     "end_time": "2024-01-01T09:30:24.008880Z",
     "start_time": "2024-01-01T09:30:24.003247Z"
    }
   },
   "id": "24302f15e0094b13"
  },
  {
   "cell_type": "markdown",
   "source": [
    "#### 2. SHAP Value"
   ],
   "metadata": {
    "collapsed": false
   },
   "id": "badd7b644421dda"
  },
  {
   "cell_type": "code",
   "execution_count": 14,
   "outputs": [],
   "source": [],
   "metadata": {
    "collapsed": false,
    "ExecuteTime": {
     "end_time": "2024-01-01T09:30:24.009079Z",
     "start_time": "2024-01-01T09:30:24.006054Z"
    }
   },
   "id": "303098efc70d3122"
  },
  {
   "cell_type": "markdown",
   "source": [
    "#### 3. Double Machine Learning"
   ],
   "metadata": {
    "collapsed": false
   },
   "id": "26a5ee9b226c8d02"
  },
  {
   "cell_type": "code",
   "execution_count": 14,
   "outputs": [],
   "source": [],
   "metadata": {
    "collapsed": false,
    "ExecuteTime": {
     "end_time": "2024-01-01T09:30:24.009746Z",
     "start_time": "2024-01-01T09:30:24.007799Z"
    }
   },
   "id": "c0a4c52d289badd6"
  }
 ],
 "metadata": {
  "kernelspec": {
   "display_name": "Python 3",
   "language": "python",
   "name": "python3"
  },
  "language_info": {
   "codemirror_mode": {
    "name": "ipython",
    "version": 2
   },
   "file_extension": ".py",
   "mimetype": "text/x-python",
   "name": "python",
   "nbconvert_exporter": "python",
   "pygments_lexer": "ipython2",
   "version": "2.7.6"
  }
 },
 "nbformat": 4,
 "nbformat_minor": 5
}
