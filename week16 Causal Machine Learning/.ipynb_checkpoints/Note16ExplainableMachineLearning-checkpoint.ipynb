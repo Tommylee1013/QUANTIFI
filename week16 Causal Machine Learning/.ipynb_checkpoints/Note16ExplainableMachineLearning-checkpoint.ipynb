{
 "cells": [
  {
   "cell_type": "markdown",
   "source": [
    "### Explainable Machine Learning\n",
    "\n",
    "이번 주차에서는 머신러닝이 이론의 개발을 연구하는 연구자들에게 직관적이고 효과적인 도구를 제공해준다는 몇 가지 모델들에 대해 소개한다"
   ],
   "metadata": {
    "collapsed": false
   },
   "id": "61959206542115ee"
  },
  {
   "cell_type": "markdown",
   "source": [
    "#### 1. Feature Importance\n",
    "\n"
   ],
   "metadata": {
    "collapsed": false
   },
   "id": "17528202ea14ace"
  },
  {
   "cell_type": "code",
   "execution_count": 2,
   "outputs": [],
   "source": [
    "import pandas as pd\n",
    "import numpy as np\n",
    "\n",
    "def get_test_data(\n",
    "        n_features : int = 40,\n",
    "        n_informative : int = 10,\n",
    "        n_redundant : int = 10,\n",
    "        n_samples : int = 10000,\n",
    "        random_state : int = 42,\n",
    "        sigma_std : float = 0.0\n",
    ") : \n",
    "    from sklearn.datasets import make_classification\n",
    "    \n",
    "    np.random.seed(random_state)\n",
    "    \n",
    "    trnsX, cont = make_classification(\n",
    "        n_samples = n_samples,\n",
    "        n_features = n_features,\n",
    "        n_informative = n_informative,\n",
    "        n_redundant = n_redundant,\n",
    "        random_state = random_state,\n",
    "        shuffle = False\n",
    "    )\n",
    "    \n",
    "    df0_index = pd.date_range(start = pd.to_datetime('today') - pd.to_timedelta(n_samples, unit = 'd'), \n",
    "                              periods = n_samples, freq = 'B')\n",
    "\n",
    "    trnsX, cont = pd.DataFrame(trnsX, index = df0_index), pd.Series(cont, index=df0_index).to_frame('bin')\n",
    "\n",
    "    df0 = ['I_' + str(i) for i in range(n_informative)] + ['R_' + str(i) for i in range(n_redundant)]\n",
    "    df0 += ['N_' + str(i) for i in range(n_features - len(df0))]\n",
    "    \n",
    "    trnsX.columns = df0\n",
    "    cont['w'] = 1. / cont.shape[0]\n",
    "    cont['t1'] = pd.Series(cont.index, index = cont.index)\n",
    "    \n",
    "    return trnsX, cont"
   ],
   "metadata": {
    "collapsed": false,
    "ExecuteTime": {
     "end_time": "2024-01-06T04:13:38.025181Z",
     "start_time": "2024-01-06T04:13:37.971420Z"
    }
   },
   "id": "7c136ac1e46c4d1e"
  },
  {
   "cell_type": "code",
   "execution_count": 3,
   "outputs": [],
   "source": [
    "trnsX, cont = get_test_data(n_features = 20, n_informative = 5, n_redundant = 5, n_samples = 1000)"
   ],
   "metadata": {
    "collapsed": false,
    "ExecuteTime": {
     "end_time": "2024-01-06T04:13:38.123448Z",
     "start_time": "2024-01-06T04:13:37.974894Z"
    }
   },
   "id": "88e19ae1dc9397ff"
  },
  {
   "cell_type": "markdown",
   "source": [
    "**1.1 $p-\\mathrm{value}$**\n",
    "\n",
    "고전적 회귀 분석 framework는 올바른 모델 사양, 상호 상관없는 회귀 분석기 또는 백색 잡음 잔차 등, 적합화된 모델에 관한 여러가지 가정을 한다. 그러한 가정이 사실이라는 것을 전제로, 연구자들은 가설 검정을 통해 설명 변수의 중요도를 결정하고자 노력해 왔다. 변수의 중요도와 설명력을 표현하는 일반적인 방법은 1700년대에 제안된 개념인 p-value가 있다\n",
    "\n",
    "$$p-\\mathrm{value} = \\frac{\\hat{p} - p_0}{\\sqrt{\\frac{p_0(1-p_0)}{n}}}$$\n",
    "\n",
    "p-value는 해당 변수와 관련된 실제 계수가 0일 떄 우리가 추정했던 것과 같거나 더 극단적인 결과를 얻었을 확률을 계량화한다. 이는 데이터가 설정된 통계 모형과 얼마나 일치하지 않는지를 나타낸다. 그러나, p-value는 귀무가설이나 대립가설이 참이 아니거나 데이터가 랜덤일 확률을 측정하지 않는다. 또한, p-value의 오용은 매우 광범위하게 퍼져 있을 뿐만 아니라, 지난 수십년간의 금융 연구에서의 신뢰도 문제를 불러일으킨다\n",
    "\n",
    "실제로 p-value의 가장 큰 담점은, 그 값의 근거가 매우 강력한 가정에 의존한다는 것이다. 그러한 가정들이 하나라도 빗나갈 때, false positive와 false negative로 나타날 가능성이 높아진다. 이러한 이유 때문에, 2019년 미국 통계협회에서는 통계적 유의성의 척도로서 p-value의 적용을 권장하고 있지 않다(Wasserstein et al. 2019)\n",
    "\n",
    "p-value의 두 번째 단점은 높은 multicollinearity를 가지고 있는 변수들에 대해서 p-value를 강건하게 추정할 수 없다는 것이다. 다중공선성이 존재하는 상황에서 전통적 회귀 분석 방법은 중복된 정보를 구별할 수 없으므로, p-value간의 대체효과가 발생해 실제 값보다 부풀려지는 결과가 나올 수 있다\n",
    "\n",
    "p-value의 세 번째 단점은 완전히 관련이 없는 확률을 평가한다는 것이다. 귀무가설 $H_0$와 추정된 계수 $\\hat{\\beta}$이 주어졌을 때, p-value는 $H_0$이 참인 경우 $\\hat{\\beta}$과 같거나 극단적인 결과를 얻을 확률을 추정한다. 그러나, 연구자들은 종종 다른 확률, 즉 $\\hat{\\beta}$을 관찰했을 때 $H_0$이 참일 확률에 더 관심이 있다. 이 확률은 Bayes theorem을 이용해 계산할 수 있으며, 주변분포에 대해 가정을 해야 구할 수 있다.\n",
    "\n",
    "p-value의 네 번째 결함은 샘플의 유의성을 평가한다는 것이다. 전체 샘플은 계수 추정과 유의성 결정이라는 두 가지 과제를 해결하는데 사용된다. 따라서, p-value는 샘플 외 설명값이 없는 변수에 대해 낮을 수 있다. 동일한 데이터셋에 대해 여러 번의 샘플 내 테스트를 진행하면 잘못된 발견을 할 가능성이 높아지며, 이는 통계적 사기이다\n",
    "\n",
    "요약하자만, p-value는 필요 이상의 너무 많은 가정을 요구하기 때문에 변수가 여러개인 모형에는 알맞지 않으며, 유의성을 추정하기에도 적절치 않은 값이다. 아래 예를 통해 p-value가 어떻게 정보를 희석시키는지 알아보도록 한다"
   ],
   "metadata": {
    "collapsed": false
   },
   "id": "c60ea781ee7224d"
  },
  {
   "cell_type": "code",
   "execution_count": 4,
   "outputs": [
    {
     "name": "stdout",
     "output_type": "stream",
     "text": [
      "Warning: Maximum number of iterations has been exceeded.\n",
      "         Current function value: 0.438438\n",
      "         Iterations: 35\n"
     ]
    },
    {
     "name": "stderr",
     "output_type": "stream",
     "text": [
      "/Users/junghunlee/anaconda3/envs/TimeSeriesModeling/lib/python3.10/site-packages/statsmodels/base/model.py:607: ConvergenceWarning: Maximum Likelihood optimization failed to converge. Check mle_retvals\n",
      "  warnings.warn(\"Maximum Likelihood optimization failed to \"\n"
     ]
    }
   ],
   "source": [
    "import statsmodels.api as sm\n",
    "ols = sm.Logit(cont['bin'], trnsX).fit()"
   ],
   "metadata": {
    "collapsed": false,
    "ExecuteTime": {
     "end_time": "2024-01-06T04:13:38.860548Z",
     "start_time": "2024-01-06T04:13:38.071871Z"
    }
   },
   "id": "20d38b4e9b8cf82b"
  },
  {
   "cell_type": "code",
   "execution_count": 5,
   "outputs": [
    {
     "data": {
      "text/plain": "Text(0.5, 1.0, 'p-values')"
     },
     "execution_count": 5,
     "metadata": {},
     "output_type": "execute_result"
    },
    {
     "data": {
      "text/plain": "<Figure size 1000x400 with 1 Axes>",
      "image/png": "[encoded data removed]"
     },
     "metadata": {},
     "output_type": "display_data"
    }
   ],
   "source": [
    "import matplotlib.pyplot as plt\n",
    "\n",
    "plt.figure(figsize = (10, 4))\n",
    "plt.barh(\n",
    "    ols.pvalues.sort_values(ascending = True).index, \n",
    "    ols.pvalues.sort_values(ascending = True), \n",
    "    color = 'b', alpha = 0.25, height = 0.5\n",
    ")\n",
    "plt.axvline(0.05, ls = ':', color = 'r')\n",
    "plt.grid(False)\n",
    "plt.title('p-values')"
   ],
   "metadata": {
    "collapsed": false,
    "ExecuteTime": {
     "end_time": "2024-01-06T04:13:39.101992Z",
     "start_time": "2024-01-06T04:13:38.857668Z"
    }
   },
   "id": "5ca14e2702a5b6f6"
  },
  {
   "cell_type": "markdown",
   "source": [
    "**1.2 Mean Decrease Importance**\n",
    "\n",
    "F개의 특성과 관찰당 하나의 레이블로 구성된 크기 N개의 학습 샘플을 갖고 있다고 가정하자. Tree Model을 기반으로 하는 분류/회귀 알고리즘은 각 노트 $t$에서 label을 2개의 샘플로 분할한다. 주어진 feature $X_f$에 대해 임의의 threshold $\\tau$이하의 $X_f$와 연관된 노드 $t$의 label은 왼쪽 샘플에 배치하고, 나머지는 오른쪽 샘플에 배치한다. 이를 분기라고 하며, Tree를 기반으로 하는 Random Forest, XG Boost, Cat Boost등 대부분의 Ensemble Model이 이러한 분기의 과정을 거친다\n",
    "\n",
    "각 샘플에 대해 label값의 분포의 Entropy, Gini impurity 혹은 이외의 기준을 따라서 불순도를 평가할 수 있다. 직관적으로, 샘플은 한 종류의 label만을 담았을 때 가장 순수하며, label이 균등 분포를 따를 때 가장 impurity가 높다고 할 수 있다. 분할에 의해 얻을 수 있는 정보 이득은 아래와 같이 불순도의 감소로 측정된다\n",
    "\n",
    "$$\\Delta g(t, f) = i(t) - \\frac{N_t^{(0)}}{N_t}i(t^{(0)}) - \\frac{N_t^{(1)}}{N_t}i(t^{(1)})$$\n",
    "\n",
    "여기서 $i(t)$는 노드 $t$에서의 label의 불순도이고, $i(t^{(0)})$는 왼쪽으로 분기된 샘플의 불순도, $i(t^{(1)})$은 오른쪽으로 분기된 샘플의 불순도이다\n",
    "\n",
    "각 노드 $t$에서 분류모형은 $\\{X_f\\}_{1, \\dots, F}$의 다양한 feature에 대해 $\\Delta g(t, f)$를 평가하고, 이들 각각에 대해 $\\Delta g(t, f)$를 최대화하는 최적 임계값 $t$를 결정하고, 최대 $\\Delta g(t, f)$와 연관된 특성을 선택한다. 분류 알고리즘은 더 이상의 Information Gain(정보 이득)이 발생하지 않거나 최대 허용 한도 미만으로 불순도를 달성하는 등의 조기 종료 조건이 충족될 때까지 샘플을 분기한다\n",
    "\n",
    "Feature Importance는 특성이 선택된 모든 노드에서 Weighted Information Gain(가중 정보 이득)으로 계산할 수 있다. Mean Decrease Impurity는 특성이 얼마나 불순도를 줄여주는데 기여를 하는지 보여주는 지표이며, 모든 특성의 중요도의 합은 1로 계산된다. 동등한 정보를 가진 feature가 $F$개 있으면 각 feature의 중요도는 $\\frac{1}{F}$일 것으로 기대된다\n",
    "\n",
    "sklearn에서 Random Forest와 같은 앙상블 모형은 다음과 같은 방법으로 MDI feature importance를 추정하는 method가 기본적으로 탑재되어 있다\n",
    "\n",
    "```\n",
    "importances = forest.feature_importances_\n",
    "std = np.std([tree.feature_importances_ for tree in forest.estimators_], axis=0)\n",
    "```\n",
    "\n",
    "importance 추정치는 계량경제학 모형의 beta (coefficient) 추정치와 대응되며, std는 변수의 t-distribution을 추정하는 것과 유사하다. 즉, feature importance는 하나의 parameter로 작용 가능하다\n",
    "\n",
    "한편, 우리는 시계열 모형에 대해서 다루므로, 다음과 같이 시간적 정보의 중복을 제거한 feature importance를 사용하도록 한다"
   ],
   "metadata": {
    "collapsed": false
   },
   "id": "6a4959b07f6674a0"
  },
  {
   "cell_type": "code",
   "execution_count": 6,
   "outputs": [],
   "source": [
    "from sklearn.ensemble import RandomForestClassifier\n",
    "\n",
    "from sklearn.metrics import accuracy_score\n",
    "from feature_importances import *"
   ],
   "metadata": {
    "collapsed": false,
    "ExecuteTime": {
     "end_time": "2024-01-06T04:13:39.496165Z",
     "start_time": "2024-01-06T04:13:39.110051Z"
    }
   },
   "id": "ae9e72a1ddae1cb5"
  },
  {
   "cell_type": "markdown",
   "source": [
    "분류기는 다음과 같이 RandomForest를 사용한다. feature에는 trnsX를 사용하고, target은 1과 0으로 이뤄진 binary label을 사용한다"
   ],
   "metadata": {
    "collapsed": false
   },
   "id": "b02a779eb55da045"
  },
  {
   "cell_type": "code",
   "execution_count": 7,
   "outputs": [],
   "source": [
    "forest = RandomForestClassifier(\n",
    "    criterion = 'entropy',\n",
    "    class_weight = 'balanced_subsample',\n",
    "    min_weight_fraction_leaf = 0.0,\n",
    "    random_state = 42,\n",
    "    n_estimators = 1000,\n",
    "    max_features = 3,\n",
    "    oob_score = True,\n",
    "    n_jobs = 1\n",
    ")\n",
    "\n",
    "fit = forest.fit(X = trnsX, y = cont['bin'])\n",
    "oob_score = fit.oob_score_"
   ],
   "metadata": {
    "collapsed": false,
    "ExecuteTime": {
     "end_time": "2024-01-06T04:13:41.499575Z",
     "start_time": "2024-01-06T04:13:39.498590Z"
    }
   },
   "id": "618e3682d4f110cd"
  },
  {
   "cell_type": "markdown",
   "source": [
    "`PurgedKFold`를 사용해 순차적 특성을 고려하여 K-fold 교차검증을 수행해 준다. 여기서 `cont['t1']`은 포지션을 가지고 있는 만기로 이뤄진 pandas.Series이다"
   ],
   "metadata": {
    "collapsed": false
   },
   "id": "f3190c4e3ff029a7"
  },
  {
   "cell_type": "code",
   "execution_count": 8,
   "outputs": [],
   "source": [
    "cv_gen = PurgedKFold(n_splits = 5, samples_info_sets = cont['t1'])"
   ],
   "metadata": {
    "collapsed": false,
    "ExecuteTime": {
     "end_time": "2024-01-06T04:13:41.504676Z",
     "start_time": "2024-01-06T04:13:41.500592Z"
    }
   },
   "id": "55b351447e39873b"
  },
  {
   "cell_type": "markdown",
   "source": [
    "아래와 같이 `ml_cross_val_score`를 이용해 out of sample(oos) score를 추정한다"
   ],
   "metadata": {
    "collapsed": false
   },
   "id": "c72109877786c76f"
  },
  {
   "cell_type": "code",
   "execution_count": 9,
   "outputs": [],
   "source": [
    "oos_score = ml_cross_val_score(forest, trnsX, cont['bin'], cv_gen = cv_gen, scoring = accuracy_score).mean()"
   ],
   "metadata": {
    "collapsed": false,
    "ExecuteTime": {
     "end_time": "2024-01-06T04:13:50.102081Z",
     "start_time": "2024-01-06T04:13:41.505269Z"
    }
   },
   "id": "24214e1559068f28"
  },
  {
   "cell_type": "markdown",
   "source": [
    "`mean_decrease_impurity`를 사용하면 feature importance를 구할 수 있다"
   ],
   "metadata": {
    "collapsed": false
   },
   "id": "36dd81f0a2d19cd6"
  },
  {
   "cell_type": "code",
   "execution_count": 10,
   "outputs": [],
   "source": [
    "mdi = mean_decrease_impurity(fit, trnsX.columns)"
   ],
   "metadata": {
    "collapsed": false,
    "ExecuteTime": {
     "end_time": "2024-01-06T04:13:50.117023Z",
     "start_time": "2024-01-06T04:13:50.103060Z"
    }
   },
   "id": "7f31889e1f70234d"
  },
  {
   "cell_type": "code",
   "execution_count": 11,
   "outputs": [
    {
     "data": {
      "text/plain": "         mean       std\nI_0  0.149770  0.004193\nI_1  0.039976  0.000987\nI_2  0.037874  0.000982\nI_3  0.077811  0.002873\nI_4  0.060974  0.001408\nR_0  0.036944  0.001032\nR_1  0.104822  0.003300\nR_2  0.057928  0.001402\nR_3  0.186117  0.004794\nR_4  0.100448  0.003100\nN_0  0.013694  0.000321\nN_1  0.013785  0.000340\nN_2  0.014584  0.000324\nN_3  0.014900  0.000331\nN_4  0.015250  0.000359\nN_5  0.014209  0.000335\nN_6  0.014415  0.000324\nN_7  0.016341  0.000371\nN_8  0.014500  0.000332\nN_9  0.015659  0.000358",
      "text/html": "<div>\n<style scoped>\n    .dataframe tbody tr th:only-of-type {\n        vertical-align: middle;\n    }\n\n    .dataframe tbody tr th {\n        vertical-align: top;\n    }\n\n    .dataframe thead th {\n        text-align: right;\n    }\n</style>\n<table border=\"1\" class=\"dataframe\">\n  <thead>\n    <tr style=\"text-align: right;\">\n      <th></th>\n      <th>mean</th>\n      <th>std</th>\n    </tr>\n  </thead>\n  <tbody>\n    <tr>\n      <th>I_0</th>\n      <td>0.149770</td>\n      <td>0.004193</td>\n    </tr>\n    <tr>\n      <th>I_1</th>\n      <td>0.039976</td>\n      <td>0.000987</td>\n    </tr>\n    <tr>\n      <th>I_2</th>\n      <td>0.037874</td>\n      <td>0.000982</td>\n    </tr>\n    <tr>\n      <th>I_3</th>\n      <td>0.077811</td>\n      <td>0.002873</td>\n    </tr>\n    <tr>\n      <th>I_4</th>\n      <td>0.060974</td>\n      <td>0.001408</td>\n    </tr>\n    <tr>\n      <th>R_0</th>\n      <td>0.036944</td>\n      <td>0.001032</td>\n    </tr>\n    <tr>\n      <th>R_1</th>\n      <td>0.104822</td>\n      <td>0.003300</td>\n    </tr>\n    <tr>\n      <th>R_2</th>\n      <td>0.057928</td>\n      <td>0.001402</td>\n    </tr>\n    <tr>\n      <th>R_3</th>\n      <td>0.186117</td>\n      <td>0.004794</td>\n    </tr>\n    <tr>\n      <th>R_4</th>\n      <td>0.100448</td>\n      <td>0.003100</td>\n    </tr>\n    <tr>\n      <th>N_0</th>\n      <td>0.013694</td>\n      <td>0.000321</td>\n    </tr>\n    <tr>\n      <th>N_1</th>\n      <td>0.013785</td>\n      <td>0.000340</td>\n    </tr>\n    <tr>\n      <th>N_2</th>\n      <td>0.014584</td>\n      <td>0.000324</td>\n    </tr>\n    <tr>\n      <th>N_3</th>\n      <td>0.014900</td>\n      <td>0.000331</td>\n    </tr>\n    <tr>\n      <th>N_4</th>\n      <td>0.015250</td>\n      <td>0.000359</td>\n    </tr>\n    <tr>\n      <th>N_5</th>\n      <td>0.014209</td>\n      <td>0.000335</td>\n    </tr>\n    <tr>\n      <th>N_6</th>\n      <td>0.014415</td>\n      <td>0.000324</td>\n    </tr>\n    <tr>\n      <th>N_7</th>\n      <td>0.016341</td>\n      <td>0.000371</td>\n    </tr>\n    <tr>\n      <th>N_8</th>\n      <td>0.014500</td>\n      <td>0.000332</td>\n    </tr>\n    <tr>\n      <th>N_9</th>\n      <td>0.015659</td>\n      <td>0.000358</td>\n    </tr>\n  </tbody>\n</table>\n</div>"
     },
     "execution_count": 11,
     "metadata": {},
     "output_type": "execute_result"
    }
   ],
   "source": [
    "mdi"
   ],
   "metadata": {
    "collapsed": false,
    "ExecuteTime": {
     "end_time": "2024-01-06T04:13:50.130593Z",
     "start_time": "2024-01-06T04:13:50.117716Z"
    }
   },
   "id": "2a07222af2725bfa"
  },
  {
   "cell_type": "markdown",
   "source": [
    "`plot_feature_importance`를 이용해 특성 중요도를 확인해 보자. OOB score는 0.935, OOS score는 0.827이다"
   ],
   "metadata": {
    "collapsed": false
   },
   "id": "7b7ee258cd40a9db"
  },
  {
   "cell_type": "code",
   "execution_count": 13,
   "outputs": [
    {
     "data": {
      "text/plain": "<Figure size 1000x400 with 1 Axes>",
      "image/png": "[encoded data removed]"
     },
     "metadata": {},
     "output_type": "display_data"
    }
   ],
   "source": [
    "plot_feature_importance(\n",
    "    mdi,\n",
    "    oob_score = oob_score,\n",
    "    oos_score = oos_score,\n",
    "    save_fig = True,\n",
    "    output_path = './MDI_feature_importance.png'\n",
    ")\n",
    "plt.grid(False)\n",
    "plt.show()"
   ],
   "metadata": {
    "collapsed": false,
    "ExecuteTime": {
     "end_time": "2024-01-06T04:14:05.706447Z",
     "start_time": "2024-01-06T04:14:05.526567Z"
    }
   },
   "id": "4b43218ff030425f"
  },
  {
   "cell_type": "markdown",
   "source": [
    "p-value의 결과와 비교해 봤을때, Noise가 모두 하위에 랭크된 것을 볼 수 있다. 모델 학습에 있어서 정보를 가지고 있는 information과 redundant feature들이 중요도가 높게 나온 것을 알 수 있다\n",
    "\n",
    "MDI feature importance는 다음과 같은 장점이 존재한다\n",
    "\n",
    "1. MDI는 계산하는 데 있어서 변수의 강력한 분포적 가정을 요구하지 않는다. 즉, 변수의 분포는 어떤 모양을 해도 상관없다\n",
    "2. 통계모형의 beta는 단일 샘플에 대해 추정되는 반면, ensemble모형의 MDI feature importance는 Bootstrapping을 통해 도출된다. 따라서, 추정치의 분산은 ensemble추정기의 개수를 증가시킴으로써 줄일 수 있다\n",
    "3. Base Model이 Tree인 분류기의 목적은 주어진 대수 방정식의 계수를 추정하는 것이 아니므로 특정 귀무가설의 확률을 추정하는 것과는 무관하다. 따라서, 추정기에서 실질적으로 도움이 된 특성을 찾아 점수를 매겨준다\n",
    "\n",
    "다만, MDI는 어디까지나 sample내에서 계산된다는 점에서 과적합의 여지가 존재한다. 이후 소개하는 **MDA feature importance**는 이러한 단점을 보완해 준다"
   ],
   "metadata": {
    "collapsed": false
   },
   "id": "61e5c82ed4df7acc"
  },
  {
   "cell_type": "markdown",
   "source": [
    "**1.3 Mean Decrease Accuracy**\n",
    "\n",
    "p-value와 MDI 모두 설명 목적으로 샘플 내에서 유의적으로 보이는 변수가 예측의 목적과 무관할 수 있다는 점이다. 이 문제를 해결하고자, MDA 특성 중요도가 제안되었다\n",
    "\n",
    "MDA는 다음과 같이 동작한다. \n",
    "1. 모델을 적합화시키고 교차 검증된 성과를 계산한다\n",
    "2. 동일한 적합화 모델읠 교차 검증된 성과를 하는데, 단 하나의 차이점은 feature 중 하나와 관련된 관찰값들을 셔플링한다는 것ㅇ디ㅏ. 그것은 특성당 하나의 수정된 교차검증 성능을 제공한다\n",
    "3. 셔플링 전후의 교차 검증된 성능을 비교함으로써, 특정 feature와 연관된 MDA score를 도출한다. **특성이 중요하다면 특성이 독립인 경우, 셔플링으로 인해 성과의 현저한 저하 현성이 있어야 한다**\n",
    "\n",
    "MDA의 중요한 속성은 MDI와 마찬가지로 단일 추정치의 결과가 아닌 여러개의 추정치의 평균이라는 것이다. 일반적으로, MDA feature importance는 **순열 중요 (permutation importance)** 로 많이 불리며, 다음과 같이 구현된다\n",
    "\n",
    "```\n",
    "from sklearn.inspection import permutation_importance\n",
    "r = permutation_importance(\n",
    "    model, X_val, y_val,\n",
    "    n_repeats=30,\n",
    "    random_state=0\n",
    ")\n",
    "```\n",
    "\n",
    "우리는 시간의 순서가 중요한 시계열 데이터를 다루고 있으므로 permutation importance를 그대로 쓰는것 보다는 아래 예제의 MDA 특성 중요도를 사용하도록 하자\n",
    "\n",
    "한가지 중요한 점은, feature가 독립적이지 않은 경우 MDA는 상호 관련 특성의 중요성을 과소평가할 수 있다. 극단적으로, 매우 중요하지만 동일한 두가지 feature를 고려할 때, MDA는 한 가지 feature를 셔플링하는 효과가 동인한 다른 feature의 존재로 인해 상쇄될 수 있기 때문에, 두 feature모두 중요하지 않다고 결론내릴 수 있다.아래의 예시를 보고, 이러한 점을 확인해 보자"
   ],
   "metadata": {
    "collapsed": false
   },
   "id": "76baa72841edf97a"
  },
  {
   "cell_type": "code",
   "execution_count": 14,
   "outputs": [],
   "source": [
    "mda = mean_decrease_accuracy(fit, trnsX, cont['bin'], cv_gen, scoring = accuracy_score)"
   ],
   "metadata": {
    "collapsed": false,
    "ExecuteTime": {
     "end_time": "2024-01-06T04:14:21.290873Z",
     "start_time": "2024-01-06T04:14:09.166827Z"
    }
   },
   "id": "a26d25674ff2639f"
  },
  {
   "cell_type": "markdown",
   "source": [
    "MDA는 이름에 accuracy가 들어감에도 불구하고, 성능 기준을 accuracy로 꼭 할 필요는 없다. mda는 다른 성과 점수로 계산이 가능함으로 참고하자"
   ],
   "metadata": {
    "collapsed": false
   },
   "id": "7f01541cb8896680"
  },
  {
   "cell_type": "code",
   "execution_count": 15,
   "outputs": [
    {
     "data": {
      "text/plain": "         mean       std\nI_0  0.132141  0.228427\nI_1  0.104274  0.027225\nI_2  0.111496  0.051622\nI_3  0.142856  0.065140\nI_4  0.133888  0.048109\nR_0  0.072527  0.063761\nR_1  0.126855  0.061873\nR_2  0.155045  0.029027\nR_3  0.391615  0.112170\nR_4  0.131732  0.051068\nN_0 -0.002897  0.006974\nN_1  0.013850  0.017584\nN_2  0.076190  0.047470\nN_3 -0.008696  0.008696\nN_4  0.048951  0.031585\nN_5  0.013850  0.017584\nN_6  0.003256  0.026249\nN_7  0.011111  0.044667\nN_8 -0.002817  0.002817\nN_9  0.073738  0.028448",
      "text/html": "<div>\n<style scoped>\n    .dataframe tbody tr th:only-of-type {\n        vertical-align: middle;\n    }\n\n    .dataframe tbody tr th {\n        vertical-align: top;\n    }\n\n    .dataframe thead th {\n        text-align: right;\n    }\n</style>\n<table border=\"1\" class=\"dataframe\">\n  <thead>\n    <tr style=\"text-align: right;\">\n      <th></th>\n      <th>mean</th>\n      <th>std</th>\n    </tr>\n  </thead>\n  <tbody>\n    <tr>\n      <th>I_0</th>\n      <td>0.132141</td>\n      <td>0.228427</td>\n    </tr>\n    <tr>\n      <th>I_1</th>\n      <td>0.104274</td>\n      <td>0.027225</td>\n    </tr>\n    <tr>\n      <th>I_2</th>\n      <td>0.111496</td>\n      <td>0.051622</td>\n    </tr>\n    <tr>\n      <th>I_3</th>\n      <td>0.142856</td>\n      <td>0.065140</td>\n    </tr>\n    <tr>\n      <th>I_4</th>\n      <td>0.133888</td>\n      <td>0.048109</td>\n    </tr>\n    <tr>\n      <th>R_0</th>\n      <td>0.072527</td>\n      <td>0.063761</td>\n    </tr>\n    <tr>\n      <th>R_1</th>\n      <td>0.126855</td>\n      <td>0.061873</td>\n    </tr>\n    <tr>\n      <th>R_2</th>\n      <td>0.155045</td>\n      <td>0.029027</td>\n    </tr>\n    <tr>\n      <th>R_3</th>\n      <td>0.391615</td>\n      <td>0.112170</td>\n    </tr>\n    <tr>\n      <th>R_4</th>\n      <td>0.131732</td>\n      <td>0.051068</td>\n    </tr>\n    <tr>\n      <th>N_0</th>\n      <td>-0.002897</td>\n      <td>0.006974</td>\n    </tr>\n    <tr>\n      <th>N_1</th>\n      <td>0.013850</td>\n      <td>0.017584</td>\n    </tr>\n    <tr>\n      <th>N_2</th>\n      <td>0.076190</td>\n      <td>0.047470</td>\n    </tr>\n    <tr>\n      <th>N_3</th>\n      <td>-0.008696</td>\n      <td>0.008696</td>\n    </tr>\n    <tr>\n      <th>N_4</th>\n      <td>0.048951</td>\n      <td>0.031585</td>\n    </tr>\n    <tr>\n      <th>N_5</th>\n      <td>0.013850</td>\n      <td>0.017584</td>\n    </tr>\n    <tr>\n      <th>N_6</th>\n      <td>0.003256</td>\n      <td>0.026249</td>\n    </tr>\n    <tr>\n      <th>N_7</th>\n      <td>0.011111</td>\n      <td>0.044667</td>\n    </tr>\n    <tr>\n      <th>N_8</th>\n      <td>-0.002817</td>\n      <td>0.002817</td>\n    </tr>\n    <tr>\n      <th>N_9</th>\n      <td>0.073738</td>\n      <td>0.028448</td>\n    </tr>\n  </tbody>\n</table>\n</div>"
     },
     "execution_count": 15,
     "metadata": {},
     "output_type": "execute_result"
    }
   ],
   "source": [
    "mda"
   ],
   "metadata": {
    "collapsed": false,
    "ExecuteTime": {
     "end_time": "2024-01-06T04:14:35.098832Z",
     "start_time": "2024-01-06T04:14:35.092238Z"
    }
   },
   "id": "4a4e74b1f2e7bf6f"
  },
  {
   "cell_type": "markdown",
   "source": [
    "MDA를 위와 같이 구할 수 있다. MDI에서 추정한 mean과 std와 비슷한 기능을 한다"
   ],
   "metadata": {
    "collapsed": false
   },
   "id": "25fb0aa705226cf9"
  },
  {
   "cell_type": "code",
   "execution_count": 16,
   "outputs": [
    {
     "data": {
      "text/plain": "<Figure size 1000x400 with 1 Axes>",
      "image/png": "[encoded data removed]"
     },
     "metadata": {},
     "output_type": "display_data"
    }
   ],
   "source": [
    "plot_feature_importance(\n",
    "    mda,\n",
    "    oob_score = oob_score,\n",
    "    oos_score = oos_score,\n",
    "    save_fig = True,\n",
    "    output_path = './MDA_feature_importance.png'\n",
    ")\n",
    "plt.grid(False)\n",
    "plt.show()"
   ],
   "metadata": {
    "collapsed": false,
    "ExecuteTime": {
     "end_time": "2024-01-06T04:14:37.690762Z",
     "start_time": "2024-01-06T04:14:37.520862Z"
    }
   },
   "id": "e68f4e4963f607bd"
  },
  {
   "cell_type": "markdown",
   "source": [
    "plotting은 위와 같이 표현될 수 있다"
   ],
   "metadata": {
    "collapsed": false
   },
   "id": "73a0c92b313e68b8"
  },
  {
   "cell_type": "markdown",
   "source": [
    "**1.4 Alternative Metrics**\n",
    "\n",
    "금융 응용에서 정확도에 대한 좋은 대안은 로그 손실이다. 로그 손실은 True Label의 평균 로그 우도 측면에서 분류기를 점수화한다. 그러나 한 가지 단점은 log 손실을 해석하고 비교하기가 쉽지 않다는 점이다. 한 가지 방법은, True Label의 **음의 평균 우도(Negative Average Likelihood)** 를 계산하는 것이다\n",
    "\n",
    "$$\\mathrm{NegAL} = -N^{-1} \\sum_{n=0}^{N-1} \\sum_{k=0}^{K-1} {y_{n,k} p_{n,k}}$$\n",
    "\n",
    "여기서 $p_{n,k}$는 label $k$의 예측 $n$과 관련된 확률이며, $y_{n,k}$는 지표 함수, $y_{n,k} \\in \\{ 0,1 \\}$이다. 또한, 관찰 $n$이 label $k$에 할당됐을 때는 $y_{n,k} = 1$이고, 할당되지 않았을 때에는 $y_{n,k} = 0$이다. 이는 로그 손실과 매우 유사하나, 로그 우도가 아니라 우도의 평균을 한다는 점에서 다르며, Negative Average Liklihood의 범위는 여전히 0과 1 사이이다\n",
    "\n",
    "또는, **확률 가중 정확도(PWA, Probability-Weighted Accuracy)** 를 사용할 수도 있다\n",
    "\n",
    "$$\\mathrm{PWA} = \\frac{\\sum_{n = 0}^{N-1} y_n(p_n - K^{-1})}{\\sum_{n = 0}^{N-1} (p_n - K^{-1})}$$\n",
    "\n",
    "여기서 $p_n = \\max_k{\\{p_{n,k}\\}}$이고 $y_n$은 지표 함수, $y_{n,k} \\in \\{ 0,1 \\}$이며, 예측이 정확할 때 $y_n = 1$이고 아니면 $y_n = 0$이다. 이는 분류기가 모든 예측에 절대적인 확신을 가질 때의 표준 정확도와 동일하다. 확률 가중 정확도는 높은 신뢰도를 가지고 한 잘못된 예측에 대해 정확도보다 더욱 심하게 패널티를 가하는데, 로그 손실보다는 덜 심하게 패널티를 가한다\n",
    "\n",
    "여기에서는 sklearn의 log_loss를 사용하여 MDA Feature Importance를 계산해 본다"
   ],
   "metadata": {
    "collapsed": false
   },
   "id": "4867126cfdbee8ce"
  },
  {
   "cell_type": "code",
   "execution_count": 17,
   "outputs": [],
   "source": [
    "from sklearn.metrics import log_loss\n",
    "\n",
    "mda = mean_decrease_accuracy(fit, trnsX, cont['bin'], cv_gen, scoring = log_loss)"
   ],
   "metadata": {
    "collapsed": false,
    "ExecuteTime": {
     "end_time": "2024-01-06T04:14:53.240729Z",
     "start_time": "2024-01-06T04:14:40.981184Z"
    }
   },
   "id": "ce5cfc1fdd237a5e"
  },
  {
   "cell_type": "markdown",
   "source": [
    "scoring을 log_loss로 지정하여 계산해 본다"
   ],
   "metadata": {
    "collapsed": false
   },
   "id": "93d6fd00d85b0fff"
  },
  {
   "cell_type": "code",
   "execution_count": 20,
   "outputs": [
    {
     "data": {
      "text/plain": "         mean       std\nN_4 -0.002922  0.001574\nN_1 -0.002572  0.005098\nN_8 -0.001814  0.004275\nN_6 -0.000262  0.002511\nN_2  0.000345  0.001470\nN_0  0.000668  0.002867\nN_5  0.002041  0.001538\nN_7  0.002995  0.003931\nN_9  0.003049  0.001465\nN_3  0.005097  0.001882\nR_0  0.031393  0.013293\nI_2  0.039898  0.012445\nI_1  0.047096  0.051199\nR_2  0.051282  0.071104\nI_3  0.064785  0.026054\nR_4  0.085424  0.033060\nI_4  0.098722  0.042837\nR_1  0.113175  0.036094\nI_0  0.178104  0.073623\nR_3  0.224791  0.090765",
      "text/html": "<div>\n<style scoped>\n    .dataframe tbody tr th:only-of-type {\n        vertical-align: middle;\n    }\n\n    .dataframe tbody tr th {\n        vertical-align: top;\n    }\n\n    .dataframe thead th {\n        text-align: right;\n    }\n</style>\n<table border=\"1\" class=\"dataframe\">\n  <thead>\n    <tr style=\"text-align: right;\">\n      <th></th>\n      <th>mean</th>\n      <th>std</th>\n    </tr>\n  </thead>\n  <tbody>\n    <tr>\n      <th>N_4</th>\n      <td>-0.002922</td>\n      <td>0.001574</td>\n    </tr>\n    <tr>\n      <th>N_1</th>\n      <td>-0.002572</td>\n      <td>0.005098</td>\n    </tr>\n    <tr>\n      <th>N_8</th>\n      <td>-0.001814</td>\n      <td>0.004275</td>\n    </tr>\n    <tr>\n      <th>N_6</th>\n      <td>-0.000262</td>\n      <td>0.002511</td>\n    </tr>\n    <tr>\n      <th>N_2</th>\n      <td>0.000345</td>\n      <td>0.001470</td>\n    </tr>\n    <tr>\n      <th>N_0</th>\n      <td>0.000668</td>\n      <td>0.002867</td>\n    </tr>\n    <tr>\n      <th>N_5</th>\n      <td>0.002041</td>\n      <td>0.001538</td>\n    </tr>\n    <tr>\n      <th>N_7</th>\n      <td>0.002995</td>\n      <td>0.003931</td>\n    </tr>\n    <tr>\n      <th>N_9</th>\n      <td>0.003049</td>\n      <td>0.001465</td>\n    </tr>\n    <tr>\n      <th>N_3</th>\n      <td>0.005097</td>\n      <td>0.001882</td>\n    </tr>\n    <tr>\n      <th>R_0</th>\n      <td>0.031393</td>\n      <td>0.013293</td>\n    </tr>\n    <tr>\n      <th>I_2</th>\n      <td>0.039898</td>\n      <td>0.012445</td>\n    </tr>\n    <tr>\n      <th>I_1</th>\n      <td>0.047096</td>\n      <td>0.051199</td>\n    </tr>\n    <tr>\n      <th>R_2</th>\n      <td>0.051282</td>\n      <td>0.071104</td>\n    </tr>\n    <tr>\n      <th>I_3</th>\n      <td>0.064785</td>\n      <td>0.026054</td>\n    </tr>\n    <tr>\n      <th>R_4</th>\n      <td>0.085424</td>\n      <td>0.033060</td>\n    </tr>\n    <tr>\n      <th>I_4</th>\n      <td>0.098722</td>\n      <td>0.042837</td>\n    </tr>\n    <tr>\n      <th>R_1</th>\n      <td>0.113175</td>\n      <td>0.036094</td>\n    </tr>\n    <tr>\n      <th>I_0</th>\n      <td>0.178104</td>\n      <td>0.073623</td>\n    </tr>\n    <tr>\n      <th>R_3</th>\n      <td>0.224791</td>\n      <td>0.090765</td>\n    </tr>\n  </tbody>\n</table>\n</div>"
     },
     "execution_count": 20,
     "metadata": {},
     "output_type": "execute_result"
    }
   ],
   "source": [
    "mda"
   ],
   "metadata": {
    "collapsed": false,
    "ExecuteTime": {
     "end_time": "2024-01-06T04:32:33.624124Z",
     "start_time": "2024-01-06T04:32:33.611885Z"
    }
   },
   "id": "c48e23fdeabf83e7"
  },
  {
   "cell_type": "markdown",
   "source": [
    "noise에 대한 feature가 획기적으로 줄어든 것을 확인할 수 있다"
   ],
   "metadata": {
    "collapsed": false
   },
   "id": "f837e5c51ae2e4f8"
  },
  {
   "cell_type": "code",
   "execution_count": 18,
   "outputs": [
    {
     "data": {
      "text/plain": "<Figure size 1000x400 with 1 Axes>",
      "image/png": "[encoded data removed]"
     },
     "metadata": {},
     "output_type": "display_data"
    }
   ],
   "source": [
    "plot_feature_importance(\n",
    "    mda,\n",
    "    oob_score = oob_score,\n",
    "    oos_score = oos_score,\n",
    "    save_fig = True,\n",
    "    output_path = './MDA_feature_importance_logloss.png'\n",
    ")\n",
    "plt.grid(False)\n",
    "plt.show()"
   ],
   "metadata": {
    "collapsed": false,
    "ExecuteTime": {
     "end_time": "2024-01-06T04:15:21.237701Z",
     "start_time": "2024-01-06T04:15:21.102537Z"
    }
   },
   "id": "24302f15e0094b13"
  },
  {
   "cell_type": "markdown",
   "source": [
    "plotting 결과에서도 동일하게 noise feature들이 줄어든 것을 확인할 수 있다. 이는 전략을 설정하는데 있어서 획기적인 insight를 제공해 준다"
   ],
   "metadata": {
    "collapsed": false
   },
   "id": "2adb550d2f867a22"
  },
  {
   "cell_type": "markdown",
   "source": [
    "#### 2. SHAP Value"
   ],
   "metadata": {
    "collapsed": false
   },
   "id": "badd7b644421dda"
  },
  {
   "cell_type": "code",
   "execution_count": null,
   "outputs": [],
   "source": [
    "import shap\n",
    "import tqdm\n",
    "\n",
    "forest_explain = shap.TreeExplainer(fit)\n",
    "shap_values_train = forest_explain(trnsX)"
   ],
   "metadata": {
    "collapsed": false,
    "ExecuteTime": {
     "start_time": "2024-01-06T04:13:50.135452Z"
    }
   },
   "id": "303098efc70d3122"
  },
  {
   "cell_type": "code",
   "execution_count": null,
   "outputs": [],
   "source": [
    "plt.grid(False)\n",
    "plt.title('SHAP Value')\n",
    "shap.plots.beeswarm(\n",
    "    shap_values_train[:,:,1], \n",
    "    max_display = len(shap_values_train.feature_names),\n",
    "    plot_size = (7, 5)\n",
    ")\n",
    "plt.show()"
   ],
   "metadata": {
    "collapsed": false,
    "ExecuteTime": {
     "start_time": "2024-01-06T04:13:50.136659Z"
    }
   },
   "id": "eb7b9a00fc7d5dea"
  },
  {
   "cell_type": "code",
   "execution_count": null,
   "outputs": [],
   "source": [],
   "metadata": {
    "collapsed": false,
    "ExecuteTime": {
     "start_time": "2024-01-06T04:13:50.137577Z"
    }
   },
   "id": "823b68cc58298bf4"
  },
  {
   "cell_type": "markdown",
   "source": [
    "#### 3. Double Machine Learning"
   ],
   "metadata": {
    "collapsed": false
   },
   "id": "26a5ee9b226c8d02"
  },
  {
   "cell_type": "markdown",
   "source": [
    "**3.1 Two Stage Least Squares**"
   ],
   "metadata": {
    "collapsed": false
   },
   "id": "8a9f4e42a462cb72"
  },
  {
   "cell_type": "code",
   "execution_count": null,
   "outputs": [],
   "source": [],
   "metadata": {
    "collapsed": false,
    "ExecuteTime": {
     "start_time": "2024-01-06T04:13:50.138599Z"
    }
   },
   "id": "87b831737487a736"
  },
  {
   "cell_type": "markdown",
   "source": [
    "**3.2 Linear Double Machine Learning**"
   ],
   "metadata": {
    "collapsed": false
   },
   "id": "48f1f7d3700bb133"
  },
  {
   "cell_type": "code",
   "execution_count": null,
   "outputs": [],
   "source": [],
   "metadata": {
    "collapsed": false,
    "ExecuteTime": {
     "start_time": "2024-01-06T04:13:50.139635Z"
    }
   },
   "id": "404f575b122ffebd"
  },
  {
   "cell_type": "markdown",
   "source": [
    "**3.3 Causal Forest**"
   ],
   "metadata": {
    "collapsed": false
   },
   "id": "4ce63716c3657bac"
  },
  {
   "cell_type": "code",
   "execution_count": null,
   "outputs": [],
   "source": [],
   "metadata": {
    "collapsed": false,
    "ExecuteTime": {
     "start_time": "2024-01-06T04:13:50.140351Z"
    }
   },
   "id": "2c49cb18c85be0d2"
  }
 ],
 "metadata": {
  "kernelspec": {
   "display_name": "Python 3",
   "language": "python",
   "name": "python3"
  },
  "language_info": {
   "codemirror_mode": {
    "name": "ipython",
    "version": 2
   },
   "file_extension": ".py",
   "mimetype": "text/x-python",
   "name": "python",
   "nbconvert_exporter": "python",
   "pygments_lexer": "ipython2",
   "version": "2.7.6"
  }
 },
 "nbformat": 4,
 "nbformat_minor": 5
}
