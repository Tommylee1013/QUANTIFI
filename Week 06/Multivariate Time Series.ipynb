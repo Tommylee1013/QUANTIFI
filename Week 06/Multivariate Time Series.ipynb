{
 "cells": [
  {
   "cell_type": "markdown",
   "source": [
    "### Multivariate Time Series\n",
    "\n",
    "**Multivariate Time Series(다변량 시계열)** 은 각 시간 단위마다 여러개의 값을 가지는 시계열을 의미한다. 거시경제분석, Pair Trading 등의 분야에서 많이 사용된다"
   ],
   "metadata": {
    "collapsed": false
   }
  },
  {
   "cell_type": "markdown",
   "source": [
    "#### 1. Vector Process\n",
    "\n",
    "**1.1 Weak Stationarity and Cross-Correlation Matrices**\n",
    "\n",
    "k-dimensional time series $\\mathbf{r} _t = [r_{1t}, \\cdots, r_{kt}]^{'}$를 고려하자. 이들의 first, second moment가 시간에 영향을 받지 않는 시계열이면 weakly stationary하다고 한다. 특히, weakly stationary한 시계열의 Covariance matrix와 mean vector는 Constant 하다.\n",
    "Weakly stationary time series $\\mathbf{r} _t$가 있을 때, mean vector는\n",
    "$$\\mathbf{μ} = E(\\mathbf{r} _t)$$\n",
    "이고, Covariance matrix는\n",
    "$$\\mathbf{Γ} _0 = E[(\\mathbf{r} _t - \\mathbf{μ})(\\mathbf{r} _t - \\mathbf{μ})^{'}]$$\n",
    "이다. 여기서 기대값은 $\\mathbf{r} _t$의 joint distribution에서 추정된 것이다"
   ],
   "metadata": {
    "collapsed": false
   }
  },
  {
   "cell_type": "markdown",
   "source": [
    "#### exercise 1\n",
    "\n",
    "pandas datareader로부터 데이터를 가져와 mean vector와 covariance matrix를 생성해 보자"
   ],
   "metadata": {
    "collapsed": false
   }
  },
  {
   "cell_type": "code",
   "execution_count": 1,
   "metadata": {
    "collapsed": true,
    "ExecuteTime": {
     "end_time": "2023-07-28T10:49:41.012511Z",
     "start_time": "2023-07-28T10:49:40.288919Z"
    }
   },
   "outputs": [],
   "source": [
    "import pandas_datareader as pdr\n",
    "import datetime\n",
    "import numpy as np\n",
    "import pandas as pd\n",
    "\n",
    "start_date = datetime.datetime(2020, 1, 1)\n",
    "end_date = datetime.datetime(2023, 1, 1)\n",
    "\n",
    "samsung = pdr.DataReader(\"005930\", \"naver\", start_date, end_date).astype(int)\n",
    "kakao = pdr.DataReader(\"035720\", \"naver\", start_date, end_date).astype(int)\n",
    "hynics = pdr.DataReader(\"000660\", \"naver\", start_date, end_date).astype(int)\n",
    "LG = pdr.DataReader(\"003550\", \"naver\", start_date, end_date).astype(int)"
   ]
  },
  {
   "cell_type": "markdown",
   "source": [
    "각 종목별 수익률을 계산해 줘야 한다"
   ],
   "metadata": {
    "collapsed": false
   }
  },
  {
   "cell_type": "code",
   "execution_count": 2,
   "outputs": [],
   "source": [
    "ret_samsung = (np.log(samsung.Close) - np.log(samsung.Close.shift())).dropna()\n",
    "ret_kakao = (np.log(kakao.Close) - np.log(kakao.Close.shift())).dropna()\n",
    "ret_hynics = (np.log(hynics.Close) - np.log(hynics.Close.shift())).dropna()\n",
    "ret_LG = (np.log(LG.Close) - np.log(LG.Close.shift())).dropna()"
   ],
   "metadata": {
    "collapsed": false,
    "ExecuteTime": {
     "end_time": "2023-07-28T10:49:41.018875Z",
     "start_time": "2023-07-28T10:49:41.015182Z"
    }
   }
  },
  {
   "cell_type": "markdown",
   "source": [
    "수익률이 계산되었으면, 하나의 Data Frame으로 결합해야 한다"
   ],
   "metadata": {
    "collapsed": false
   }
  },
  {
   "cell_type": "code",
   "execution_count": 3,
   "outputs": [
    {
     "data": {
      "text/plain": "             Samsung     Kakao    Hynics        LG\nDate                                              \n2020-01-03  0.005420  0.000000 -0.002114  0.007003\n2020-01-06  0.000000  0.013016 -0.002119 -0.001406\n2020-01-07  0.005391  0.034982 -0.003186  0.013894\n2020-01-08  0.017762 -0.003119  0.035531 -0.016681\n2020-01-09  0.031198  0.027816  0.016294 -0.001411\n...              ...       ...       ...       ...\n2022-12-23 -0.017065 -0.031339 -0.017835  0.019681\n2022-12-26 -0.003448  0.003738 -0.010336 -0.008563\n2022-12-27  0.003448  0.014815  0.000000  0.006124\n2022-12-28 -0.026157 -0.014815 -0.013072 -0.029742\n2022-12-29 -0.023236 -0.009372 -0.013245 -0.017767\n\n[741 rows x 4 columns]",
      "text/html": "<div>\n<style scoped>\n    .dataframe tbody tr th:only-of-type {\n        vertical-align: middle;\n    }\n\n    .dataframe tbody tr th {\n        vertical-align: top;\n    }\n\n    .dataframe thead th {\n        text-align: right;\n    }\n</style>\n<table border=\"1\" class=\"dataframe\">\n  <thead>\n    <tr style=\"text-align: right;\">\n      <th></th>\n      <th>Samsung</th>\n      <th>Kakao</th>\n      <th>Hynics</th>\n      <th>LG</th>\n    </tr>\n    <tr>\n      <th>Date</th>\n      <th></th>\n      <th></th>\n      <th></th>\n      <th></th>\n    </tr>\n  </thead>\n  <tbody>\n    <tr>\n      <th>2020-01-03</th>\n      <td>0.005420</td>\n      <td>0.000000</td>\n      <td>-0.002114</td>\n      <td>0.007003</td>\n    </tr>\n    <tr>\n      <th>2020-01-06</th>\n      <td>0.000000</td>\n      <td>0.013016</td>\n      <td>-0.002119</td>\n      <td>-0.001406</td>\n    </tr>\n    <tr>\n      <th>2020-01-07</th>\n      <td>0.005391</td>\n      <td>0.034982</td>\n      <td>-0.003186</td>\n      <td>0.013894</td>\n    </tr>\n    <tr>\n      <th>2020-01-08</th>\n      <td>0.017762</td>\n      <td>-0.003119</td>\n      <td>0.035531</td>\n      <td>-0.016681</td>\n    </tr>\n    <tr>\n      <th>2020-01-09</th>\n      <td>0.031198</td>\n      <td>0.027816</td>\n      <td>0.016294</td>\n      <td>-0.001411</td>\n    </tr>\n    <tr>\n      <th>...</th>\n      <td>...</td>\n      <td>...</td>\n      <td>...</td>\n      <td>...</td>\n    </tr>\n    <tr>\n      <th>2022-12-23</th>\n      <td>-0.017065</td>\n      <td>-0.031339</td>\n      <td>-0.017835</td>\n      <td>0.019681</td>\n    </tr>\n    <tr>\n      <th>2022-12-26</th>\n      <td>-0.003448</td>\n      <td>0.003738</td>\n      <td>-0.010336</td>\n      <td>-0.008563</td>\n    </tr>\n    <tr>\n      <th>2022-12-27</th>\n      <td>0.003448</td>\n      <td>0.014815</td>\n      <td>0.000000</td>\n      <td>0.006124</td>\n    </tr>\n    <tr>\n      <th>2022-12-28</th>\n      <td>-0.026157</td>\n      <td>-0.014815</td>\n      <td>-0.013072</td>\n      <td>-0.029742</td>\n    </tr>\n    <tr>\n      <th>2022-12-29</th>\n      <td>-0.023236</td>\n      <td>-0.009372</td>\n      <td>-0.013245</td>\n      <td>-0.017767</td>\n    </tr>\n  </tbody>\n</table>\n<p>741 rows × 4 columns</p>\n</div>"
     },
     "execution_count": 3,
     "metadata": {},
     "output_type": "execute_result"
    }
   ],
   "source": [
    "matrix = pd.concat([ret_samsung, ret_kakao, ret_hynics, ret_LG], axis = 1)\n",
    "matrix.columns = ['Samsung','Kakao','Hynics','LG']\n",
    "matrix"
   ],
   "metadata": {
    "collapsed": false,
    "ExecuteTime": {
     "end_time": "2023-07-28T10:49:41.038043Z",
     "start_time": "2023-07-28T10:49:41.026648Z"
    }
   }
  },
  {
   "cell_type": "markdown",
   "source": [
    "`mean()` method에서 axis를 0으로 지정하여 계산하면 각 종목별 평균 수익률을 계산할 수 있다"
   ],
   "metadata": {
    "collapsed": false
   }
  },
  {
   "cell_type": "code",
   "execution_count": 4,
   "outputs": [
    {
     "data": {
      "text/plain": "Samsung    0.000002\nKakao      0.000743\nHynics    -0.000315\nLG         0.000204\ndtype: float64"
     },
     "execution_count": 4,
     "metadata": {},
     "output_type": "execute_result"
    }
   ],
   "source": [
    "matrix.mean(axis = 0)"
   ],
   "metadata": {
    "collapsed": false,
    "ExecuteTime": {
     "end_time": "2023-07-28T10:49:41.045083Z",
     "start_time": "2023-07-28T10:49:41.037544Z"
    }
   }
  },
  {
   "cell_type": "markdown",
   "source": [
    "`cov()` method를 사용하면 DataFrame의 Covariance를 계산할 수 있다"
   ],
   "metadata": {
    "collapsed": false
   }
  },
  {
   "cell_type": "code",
   "execution_count": 5,
   "outputs": [
    {
     "data": {
      "text/plain": "          Samsung     Kakao    Hynics        LG\nSamsung  0.000277  0.000159  0.000279  0.000182\nKakao    0.000159  0.000650  0.000198  0.000158\nHynics   0.000279  0.000198  0.000542  0.000219\nLG       0.000182  0.000158  0.000219  0.000551",
      "text/html": "<div>\n<style scoped>\n    .dataframe tbody tr th:only-of-type {\n        vertical-align: middle;\n    }\n\n    .dataframe tbody tr th {\n        vertical-align: top;\n    }\n\n    .dataframe thead th {\n        text-align: right;\n    }\n</style>\n<table border=\"1\" class=\"dataframe\">\n  <thead>\n    <tr style=\"text-align: right;\">\n      <th></th>\n      <th>Samsung</th>\n      <th>Kakao</th>\n      <th>Hynics</th>\n      <th>LG</th>\n    </tr>\n  </thead>\n  <tbody>\n    <tr>\n      <th>Samsung</th>\n      <td>0.000277</td>\n      <td>0.000159</td>\n      <td>0.000279</td>\n      <td>0.000182</td>\n    </tr>\n    <tr>\n      <th>Kakao</th>\n      <td>0.000159</td>\n      <td>0.000650</td>\n      <td>0.000198</td>\n      <td>0.000158</td>\n    </tr>\n    <tr>\n      <th>Hynics</th>\n      <td>0.000279</td>\n      <td>0.000198</td>\n      <td>0.000542</td>\n      <td>0.000219</td>\n    </tr>\n    <tr>\n      <th>LG</th>\n      <td>0.000182</td>\n      <td>0.000158</td>\n      <td>0.000219</td>\n      <td>0.000551</td>\n    </tr>\n  </tbody>\n</table>\n</div>"
     },
     "execution_count": 5,
     "metadata": {},
     "output_type": "execute_result"
    }
   ],
   "source": [
    "matrix.cov()"
   ],
   "metadata": {
    "collapsed": false,
    "ExecuteTime": {
     "end_time": "2023-07-28T10:49:41.050999Z",
     "start_time": "2023-07-28T10:49:41.043780Z"
    }
   }
  },
  {
   "cell_type": "markdown",
   "source": [
    "seaborn library에서 `heatmap()` 함수를 이용하면 시각화를 할 수 있다"
   ],
   "metadata": {
    "collapsed": false
   }
  },
  {
   "cell_type": "code",
   "execution_count": 6,
   "outputs": [
    {
     "data": {
      "text/plain": "<AxesSubplot:>"
     },
     "execution_count": 6,
     "metadata": {},
     "output_type": "execute_result"
    },
    {
     "data": {
      "text/plain": "<Figure size 500x400 with 2 Axes>",
      "image/png": "[encoded data removed]"
     },
     "metadata": {},
     "output_type": "display_data"
    }
   ],
   "source": [
    "import seaborn as sns\n",
    "import matplotlib.pyplot as plt\n",
    "mask = np.triu(np.ones_like(matrix.cov(), dtype = bool))\n",
    "f, ax = plt.subplots(figsize = (5, 4))\n",
    "cmap = sns.diverging_palette(230, 20, as_cmap = True)\n",
    "sns.heatmap(matrix.cov(), mask = mask, cmap = cmap, vmax = .0008, center = 0.0002,\n",
    "            square = True, linewidths = .5, cbar_kws = {\"shrink\": .9}, annot = True)"
   ],
   "metadata": {
    "collapsed": false,
    "ExecuteTime": {
     "end_time": "2023-07-28T10:49:41.228764Z",
     "start_time": "2023-07-28T10:49:41.053217Z"
    }
   }
  },
  {
   "cell_type": "markdown",
   "source": [
    "**1.2 Cross-Correlation**\n",
    "\n",
    "행렬 $\\mathbf{D}$를 $k \\times k$ 크기의 대각행렬이라 가정하자. 즉, $\\mathbf{D} = \\mbox{diag}\\{\\sqrt{\\Gamma_{11}(0)},\\cdots,\\sqrt{\\Gamma_{kk}(0)}\\}$이다. 다변량 수익률 행렬$\\mathbf{r} _t$의 concurrent하고, lag가 0인 cross correlation matrix는 다음과 같이 정의된다\n",
    "\n",
    "$$\\mathbf{ρ}_0 = [\\rho_{ij}(0)] = \\mathbf{D^{-1}\\Gamma_0D^{-1}}$$"
   ],
   "metadata": {
    "collapsed": false
   }
  },
  {
   "cell_type": "code",
   "execution_count": 6,
   "outputs": [],
   "source": [],
   "metadata": {
    "collapsed": false,
    "ExecuteTime": {
     "end_time": "2023-07-28T10:49:41.230796Z",
     "start_time": "2023-07-28T10:49:41.228984Z"
    }
   }
  }
 ],
 "metadata": {
  "kernelspec": {
   "display_name": "Python 3",
   "language": "python",
   "name": "python3"
  },
  "language_info": {
   "codemirror_mode": {
    "name": "ipython",
    "version": 2
   },
   "file_extension": ".py",
   "mimetype": "text/x-python",
   "name": "python",
   "nbconvert_exporter": "python",
   "pygments_lexer": "ipython2",
   "version": "2.7.6"
  }
 },
 "nbformat": 4,
 "nbformat_minor": 0
}
