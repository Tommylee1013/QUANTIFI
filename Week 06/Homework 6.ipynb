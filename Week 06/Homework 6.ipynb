{
 "cells": [
  {
   "cell_type": "markdown",
   "source": [
    "### Homework 6\n",
    "\n",
    "이번 과제에서는 Multivariate Time Series를 이용하여 여러 문제를 해결해보도록 한다"
   ],
   "metadata": {
    "collapsed": false
   }
  },
  {
   "cell_type": "markdown",
   "source": [
    "#### 1. Capital Asset Pricing Models\n",
    "\n",
    "Capital Asset Pricing Model에 따르면, 특정 자산의 기대 수익률 $E[r_a]$는 다음과 같이 나타낼 수 있다\n",
    "\n",
    "$$E[r_a] = r_f + \\beta_a(E[r_m] - r_f)$$\n",
    "\n",
    "여기서 $r_f$는 중앙정부 국채 수익률과 같은 무위험자산의 수익률이고, $E[r_m]$은 시장의 기대 수익률이다. 보통 한 나라의 거래소 index의 수익률을 많이 사용하며, 한국의 경우 KOSPI index, 미국의 경우에는 S&P500 index를 사용한다. $\\beta_a$는 자산의 변동으로부터 추정하는데, 다음과 같이 정의된다\n",
    "\n",
    "$$\\beta_a = \\frac{\\mathrm{Cov}(r_a, r_m)}{\\mathrm{Var}(r_m)}$$\n",
    "\n",
    "즉, CAPM모형은 자산의 수익률인 $E[r_a]$와 coefficient가 $\\beta_a$인 시장 프리미엄$(E[r_m] - r_f)$ 사이의 선형 관계로 이뤄져 있다\n",
    "\n",
    "만약 여기서 자산의 시장 대비 초과 수익률 $E[r_a] - r_f$과 $(E[r_m] - r_f)$의 관계로 나타내고 싶다면 다음과 같이 나타낼 수 있다\n",
    "\n",
    "$$(E[r_a] - r_f) = \\alpha + \\beta_a(E[r_m] - r_f)$$"
   ],
   "metadata": {
    "collapsed": false
   }
  },
  {
   "cell_type": "markdown",
   "source": [
    "**1.1 Data Import**\n",
    "\n",
    "아래의 library를 이용하여 Hynics와 KOSPI index의 2020년 1월 1일부터 2023년 7월 31일까지의 데이터를 가져오라"
   ],
   "metadata": {
    "collapsed": false
   }
  },
  {
   "cell_type": "code",
   "execution_count": null,
   "metadata": {
    "collapsed": true,
    "ExecuteTime": {
     "start_time": "2023-08-21T00:34:10.545625Z",
     "end_time": "2023-08-21T00:34:11.029362Z"
    }
   },
   "outputs": [],
   "source": [
    "import pandas as pd\n",
    "import numpy as np\n",
    "from pandas_datareader import data as pdr"
   ]
  },
  {
   "cell_type": "markdown",
   "source": [
    "**1.2 Converting to Matrix**\n",
    "\n",
    "hynics와 KOSPI index의 데이터를 월별 수익률로 계산한 뒤, 하나의 DataFrame으로 병합하여라"
   ],
   "metadata": {
    "collapsed": false
   }
  },
  {
   "cell_type": "markdown",
   "source": [
    "**1.3 Estimation with OLS**\n",
    "\n",
    "무위험이자율이 3%라고 가정할 때, 아래 library를 사용하여 OLS를 추정량을 보고하라. 추정된 $\\beta$는 얼마인가? 적절한 방법을 이용하여 시장수익률과 hynics 수익률 간의 관계도 plotting하여라."
   ],
   "metadata": {
    "collapsed": false
   }
  },
  {
   "cell_type": "code",
   "execution_count": null,
   "outputs": [],
   "source": [
    "import statsmodels.api as sm\n",
    "import matplotlib.pyplot as plt"
   ],
   "metadata": {
    "collapsed": false,
    "ExecuteTime": {
     "start_time": "2023-08-21T00:34:11.272759Z",
     "end_time": "2023-08-21T00:34:11.747845Z"
    }
   }
  },
  {
   "cell_type": "markdown",
   "source": [
    "**1.4 Beta Mapping Risk Estimation**\n",
    "\n",
    "CAPM을 활용해 추정한 $\\beta$를 이용해 자산의 변동성을 다음과 같이 추정할 수 있다\n",
    "\n",
    "$$\\sigma_a = \\beta_a \\times \\sigma_m$$\n",
    "\n",
    "추정된 자산의 변동성을 Hynics의 데이터만을 사용하여 추정한 변동성과 비교하라. 차이가 있는가? 있다면 어느 방법이 변동성을 더 작게 추정하는가? beta mapping을 이용하여 리스크를 추정할 때 문제점은 무엇인가?"
   ],
   "metadata": {
    "collapsed": false
   }
  },
  {
   "cell_type": "markdown",
   "source": [
    "#### 2. Macroeconomics\n",
    "\n",
    "homework.xlsx를 사용하여 다음을 수행하라\n",
    "\n",
    "**2.1 import data**\n",
    "\n",
    "excel 파일 내에서 GDP와 총자본형성, 총 수출액, 총 소비액을 선택하여 matrix를 만들어라"
   ],
   "metadata": {
    "collapsed": false
   }
  },
  {
   "cell_type": "code",
   "execution_count": null,
   "outputs": [],
   "source": [
    "data = pd.read_excel('homework.xlsx', index_col = 0)"
   ],
   "metadata": {
    "collapsed": false,
    "ExecuteTime": {
     "start_time": "2023-08-21T00:34:12.057173Z",
     "end_time": "2023-08-21T00:34:12.354519Z"
    }
   }
  },
  {
   "cell_type": "markdown",
   "source": [
    "**2.2 VAR estimation**\n",
    "\n",
    "아래 library와 데이터를 알맞게 가공하여 $\\mathrm{VAR}(4)$ 모형을 추정하라. 여기서 차분은 전년도 대비 성장률을 사용하도록 한다"
   ],
   "metadata": {
    "collapsed": false
   }
  },
  {
   "cell_type": "code",
   "execution_count": null,
   "outputs": [],
   "source": [
    "import statsmodels.api as sm\n",
    "from statsmodels.tsa.api import VAR"
   ],
   "metadata": {
    "collapsed": false,
    "ExecuteTime": {
     "start_time": "2023-08-21T00:34:12.663430Z",
     "end_time": "2023-08-21T00:34:12.665826Z"
    }
   }
  },
  {
   "cell_type": "markdown",
   "source": [
    "**2.3 Impulse response analysis**\n",
    "\n",
    "모든 변수에 대하여 7기간 충격반응함수 분석을 하라. 어떤 결과가 나왔는가? 결과는 어떻게 해석해야 하는가?"
   ],
   "metadata": {
    "collapsed": false
   }
  },
  {
   "cell_type": "markdown",
   "source": [
    "**2.4 GDP affection**\n",
    "\n",
    "이번에는 GDP 변수의 10기간 충격반응함수를 분석하라. 어떤 결과가 나오는가? 전기의 GDP가 소비에 영향을 끼친다는 Paul Samuelson의 주장은 유효한가?"
   ],
   "metadata": {
    "collapsed": false
   }
  },
  {
   "cell_type": "markdown",
   "source": [
    "GDP는 총소비에 긍정적인 충격을 주기 때문에, Paul Samuelson의 주장은 유효한 것으로 보인다"
   ],
   "metadata": {
    "collapsed": false
   }
  }
 ],
 "metadata": {
  "kernelspec": {
   "display_name": "Python 3",
   "language": "python",
   "name": "python3"
  },
  "language_info": {
   "codemirror_mode": {
    "name": "ipython",
    "version": 2
   },
   "file_extension": ".py",
   "mimetype": "text/x-python",
   "name": "python",
   "nbconvert_exporter": "python",
   "pygments_lexer": "ipython2",
   "version": "2.7.6"
  }
 },
 "nbformat": 4,
 "nbformat_minor": 0
}
