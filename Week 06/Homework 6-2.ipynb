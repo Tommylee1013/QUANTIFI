{
 "cells": [
  {
   "cell_type": "markdown",
   "source": [
    "### Homework 4\n",
    "\n",
    "이번 과제에서는 Cointegration과 Granger Causality를 이용한 Pair Trading 전략을 세워보는 것으로 한다"
   ],
   "metadata": {
    "collapsed": false
   }
  },
  {
   "cell_type": "markdown",
   "source": [
    "#### 1. Data Import\n",
    "\n",
    "아래의 library를 이용하여 2020년 1월 1일부터 2022년 12월 31일까지의 신한지주(055550)와 KB금융지주(105560)의 시계열 데이터를 import하고, 수익률에 대한 Matrix로 변환하라"
   ],
   "metadata": {
    "collapsed": false
   }
  },
  {
   "cell_type": "code",
   "execution_count": null,
   "metadata": {
    "collapsed": true,
    "ExecuteTime": {
     "start_time": "2023-08-22T00:50:34.942806Z",
     "end_time": "2023-08-22T00:50:35.041652Z"
    }
   },
   "outputs": [],
   "source": [
    "import numpy as np\n",
    "import pandas as pd\n",
    "import pandas_datareader as pdr\n",
    "import datetime"
   ]
  },
  {
   "cell_type": "markdown",
   "source": [
    "#### 2. Estimate VAR Model\n",
    "\n",
    "아래 library를 활용해 신한지주와 KB금융지주간 $\\mathrm{VAR}(1)$모형을 추정하라"
   ],
   "metadata": {
    "collapsed": false
   }
  },
  {
   "cell_type": "code",
   "execution_count": null,
   "outputs": [],
   "source": [
    "from statsmodels.tsa.api import VAR"
   ],
   "metadata": {
    "collapsed": false,
    "ExecuteTime": {
     "start_time": "2023-08-22T00:50:35.589042Z",
     "end_time": "2023-08-22T00:50:35.932664Z"
    }
   }
  },
  {
   "cell_type": "markdown",
   "source": [
    "#### 3. Granger Causality\n",
    "\n",
    "추정된 모형에 대해서 Granger 인과관계를 검정하라. 신한지주와 KB금융지주의 시계열은 Granger 인과성을 가지고 있는가?"
   ],
   "metadata": {
    "collapsed": false
   }
  },
  {
   "cell_type": "markdown",
   "source": [
    "#### 4. Cointegration Test\n",
    "\n",
    "주어진 수익률 행렬에 대해서 아래의 library를 사용해 공적분 검증을 시행하라. 두 시계열은 공적분 관계에 있는가? 검정 결과는 어떤 insight를 도출하는가?"
   ],
   "metadata": {
    "collapsed": false
   }
  },
  {
   "cell_type": "code",
   "execution_count": null,
   "outputs": [],
   "source": [
    "from statsmodels.tsa.stattools import coint"
   ],
   "metadata": {
    "collapsed": false,
    "ExecuteTime": {
     "start_time": "2023-08-22T00:50:35.958437Z",
     "end_time": "2023-08-22T00:50:36.003664Z"
    }
   }
  },
  {
   "cell_type": "markdown",
   "source": [
    "#### 5. Spread\n",
    "\n",
    "두 자산간 ratio는 다음과 같이 계산 가능하다\n",
    "\n",
    "$$\\mathrm{Asset~ratio} = \\frac{P_a}{P_b}$$\n",
    "\n",
    "여기서 $P_a$는 자산 a의 가격, $P_b$는 자산 b의 가격을 의미한다. Asset ratio의 5일, 60일 Maving Average를 계산하여 다음과 같은 방법으로 spread를 추정할 수 있다\n",
    "\n",
    "$$\\mathrm{std} = \\mathrm{std}(\\mathrm{MA}(60))$$\n",
    "$$\\mathrm{Spread} = \\frac{\\mathrm{MA}(5) - \\mathrm{MA}(60)}{\\mathrm{std}}$$\n",
    "\n",
    "단, std의 경우 rolling을 이용해 추정하면 59번째 값부터 값을 가지기 때문에 spread는 59번째 기간부터 추정하면 된다\n",
    "\n",
    "신한지주와 KB금융지주의 수익률을 이용해 두 자산간 spread를 계산하고 적절한 방법을 이용해 시각화하라"
   ],
   "metadata": {
    "collapsed": false
   }
  },
  {
   "cell_type": "code",
   "execution_count": null,
   "outputs": [],
   "source": [
    "import matplotlib.pyplot as plt"
   ],
   "metadata": {
    "collapsed": false,
    "ExecuteTime": {
     "start_time": "2023-08-22T00:50:36.060300Z",
     "end_time": "2023-08-22T00:50:36.065798Z"
    }
   }
  },
  {
   "cell_type": "markdown",
   "source": [
    "#### 6. Trading Strategy\n",
    "\n",
    "$\\mathrm{Asset~ratio} = \\frac{P_a}{P_b}$일 때, Spread가 -1 이하로 떨어지면 a자산을 매수 & b자산을 매도하는 매수전략을, 1 이상으로 상승하면 a자산 매도 & b 자산을 매수하는 매도전략을 취한다\n",
    "\n",
    "pandas dataframe을 이용해 신한지주와 KB금융지주의 수익률과 spread, betting side으로 이뤄진 matrix를 생성하라\n",
    "\n",
    "(hint : betting side는 전략의 방향을 결정하는 것으로, 1이면 매수, 0이면 유보, -1이면 매도로 표현한다)"
   ],
   "metadata": {
    "collapsed": false
   }
  },
  {
   "cell_type": "markdown",
   "source": [
    "#### 7. Backtesting\n",
    "\n",
    "행렬에 backtest column을 추가하고 적절한 방법을 사용하여 성과를 Backtesting하라"
   ],
   "metadata": {
    "collapsed": false
   }
  }
 ],
 "metadata": {
  "kernelspec": {
   "display_name": "Python 3",
   "language": "python",
   "name": "python3"
  },
  "language_info": {
   "codemirror_mode": {
    "name": "ipython",
    "version": 2
   },
   "file_extension": ".py",
   "mimetype": "text/x-python",
   "name": "python",
   "nbconvert_exporter": "python",
   "pygments_lexer": "ipython2",
   "version": "2.7.6"
  }
 },
 "nbformat": 4,
 "nbformat_minor": 0
}
