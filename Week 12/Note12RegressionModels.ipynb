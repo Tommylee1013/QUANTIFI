{
 "cells": [
  {
   "cell_type": "markdown",
   "source": [
    "### Regression Models\n",
    "\n",
    "Machine Learning에서 Regression은 주된 분야가 아니다. Model 자체가 분류를 목적으로 만들어졌기 때문이다. 그 중 대표적인 Regression Model에 대한 개념들을 살펴보는 것으로 한다"
   ],
   "metadata": {
    "collapsed": false
   },
   "id": "8c11a21961d77a03"
  },
  {
   "cell_type": "markdown",
   "source": [
    "#### 1. Bias - Variance Dilemma\n",
    "\n",
    "다음 회귀모형을 고려해 보자\n",
    "\n",
    "$$y_t = \\beta_0 + \\beta_1 x_t + \\epsilon_t, ~~~~~ \\epsilon_t \\sim N(0,\\sigma_\\epsilon^2) $$\n",
    "\n",
    "오차항은 다음과 같이 다시 쓸 수 있다\n",
    "\n",
    "$$\\epsilon_t = y_t - \\hat{\\beta_0} - \\hat \\beta_1 x_t$$\n",
    "\n",
    "이를 제곱한 값을 Mean Squared Error라고 하는데, MSE는 다음과 같이 분해할 수 있다\n",
    "\n",
    "$$\\mathrm{MSE} = (E[\\beta_0 + \\beta_1 x_t - \\hat \\beta_0 - \\hat \\beta_1 x_t])^2 + \\mathrm{Var}(\\hat\\beta_0 + \\hat\\beta_1 x_t) + \\sigma_\\epsilon^2$$\n",
    "\n",
    "여기서 $E[\\beta_0 + \\beta_1 x_t - \\hat \\beta_0 - \\hat \\beta_1 x_t])^2$는 편향이라고 하고, $\\mathrm{Var}(\\hat\\beta_0 + \\hat\\beta_1 x_t)$는 분산이라고 한다. $\\sigma_\\epsilon^2$은 줄일 수 없는 순수한 데이터의 잡음이다\n",
    "\n",
    "즉, MSE optimization 과정에서 Variance와 Bias의 tradeoff 관계가 존재한다는 것을 유추할 수 있다. 이를 두고 계량경제학과 머신러닝 모형의 목적이 확연히 구분된다\n",
    "\n",
    "- 계량경제학의 목적 : unbiased estimator중에서 Variance를 최소화하는 값을 추정한다 (BLUE, MVUE)\n",
    "- 머신러닝의 목적 : **성능을 최대화하는** 지점에서 Bias와 Variance를 **적절히 조정한다** (minimize MSE)\n",
    "\n",
    "Machine Learning에서는 Bias에 대한 엄격한 가정 **(BLUE, 최소제곱불편추정량)** 을 포기하고, 분산을 최소화하여 예측력을 높이는 것을 목표로 한다. 이 관점에서 기존의 계량경제학과 충돌이 발생한다. Machine Learning에서 추정된 coefficient는 bias를 포함하기 때문에, coefficient는 해석에 있어서 어려움이 있다. 다만, 예측력은 기존 계량경제학 모형에 비해 월등히 좋다."
   ],
   "metadata": {
    "collapsed": false
   },
   "id": "5eb0cbc742c03aa2"
  },
  {
   "cell_type": "markdown",
   "source": [
    "#### example 1\n",
    "\n",
    "CAPM 모형을 이용하여 계량경제학 모형과 Machine Learning 모형의 추정 결과를 비교해 보자"
   ],
   "metadata": {
    "collapsed": false
   },
   "id": "75632d3f0e72fd16"
  },
  {
   "cell_type": "code",
   "execution_count": 1,
   "outputs": [
    {
     "data": {
      "text/plain": "             Open   High    Low  Close   Volume\nDate                                           \n2015-01-02  47950  48400  47650  47750  1155944\n2015-01-05  48050  48400  47500  47650  1409146\n2015-01-06  47000  47600  46900  47500  1661196\n2015-01-07  46700  47600  46700  47400  1821266\n2015-01-08  48250  50000  47900  49950  5006675",
      "text/html": "<div>\n<style scoped>\n    .dataframe tbody tr th:only-of-type {\n        vertical-align: middle;\n    }\n\n    .dataframe tbody tr th {\n        vertical-align: top;\n    }\n\n    .dataframe thead th {\n        text-align: right;\n    }\n</style>\n<table border=\"1\" class=\"dataframe\">\n  <thead>\n    <tr style=\"text-align: right;\">\n      <th></th>\n      <th>Open</th>\n      <th>High</th>\n      <th>Low</th>\n      <th>Close</th>\n      <th>Volume</th>\n    </tr>\n    <tr>\n      <th>Date</th>\n      <th></th>\n      <th></th>\n      <th></th>\n      <th></th>\n      <th></th>\n    </tr>\n  </thead>\n  <tbody>\n    <tr>\n      <th>2015-01-02</th>\n      <td>47950</td>\n      <td>48400</td>\n      <td>47650</td>\n      <td>47750</td>\n      <td>1155944</td>\n    </tr>\n    <tr>\n      <th>2015-01-05</th>\n      <td>48050</td>\n      <td>48400</td>\n      <td>47500</td>\n      <td>47650</td>\n      <td>1409146</td>\n    </tr>\n    <tr>\n      <th>2015-01-06</th>\n      <td>47000</td>\n      <td>47600</td>\n      <td>46900</td>\n      <td>47500</td>\n      <td>1661196</td>\n    </tr>\n    <tr>\n      <th>2015-01-07</th>\n      <td>46700</td>\n      <td>47600</td>\n      <td>46700</td>\n      <td>47400</td>\n      <td>1821266</td>\n    </tr>\n    <tr>\n      <th>2015-01-08</th>\n      <td>48250</td>\n      <td>50000</td>\n      <td>47900</td>\n      <td>49950</td>\n      <td>5006675</td>\n    </tr>\n  </tbody>\n</table>\n</div>"
     },
     "execution_count": 1,
     "metadata": {},
     "output_type": "execute_result"
    }
   ],
   "source": [
    "import pandas as pd\n",
    "import numpy as np\n",
    "from pandas_datareader import data as pdr\n",
    "\n",
    "start_date = pd.to_datetime('2015-01-01')\n",
    "end_date = pd.to_datetime('2023-10-31')\n",
    "\n",
    "hynics = pdr.DataReader(\"000660\", \"naver\", start_date, end_date).astype(int)\n",
    "hynics.head()"
   ],
   "metadata": {
    "collapsed": false,
    "ExecuteTime": {
     "end_time": "2023-11-09T03:41:01.997039Z",
     "start_time": "2023-11-09T03:41:01.072720Z"
    }
   },
   "id": "bc84f943834039c5"
  },
  {
   "cell_type": "code",
   "execution_count": 2,
   "outputs": [
    {
     "data": {
      "text/plain": "               Open     High      Low    Close    Volume\nDate                                                    \n2015-01-02  1914.24  1929.15  1909.67  1926.44  258775.0\n2015-01-05  1921.96  1921.96  1903.37  1915.75  313442.0\n2015-01-06  1895.48  1900.02  1877.38  1882.45  303687.0\n2015-01-07  1878.90  1887.60  1876.27  1883.83  280509.0\n2015-01-08  1895.85  1907.23  1891.77  1904.65  262207.0",
      "text/html": "<div>\n<style scoped>\n    .dataframe tbody tr th:only-of-type {\n        vertical-align: middle;\n    }\n\n    .dataframe tbody tr th {\n        vertical-align: top;\n    }\n\n    .dataframe thead th {\n        text-align: right;\n    }\n</style>\n<table border=\"1\" class=\"dataframe\">\n  <thead>\n    <tr style=\"text-align: right;\">\n      <th></th>\n      <th>Open</th>\n      <th>High</th>\n      <th>Low</th>\n      <th>Close</th>\n      <th>Volume</th>\n    </tr>\n    <tr>\n      <th>Date</th>\n      <th></th>\n      <th></th>\n      <th></th>\n      <th></th>\n      <th></th>\n    </tr>\n  </thead>\n  <tbody>\n    <tr>\n      <th>2015-01-02</th>\n      <td>1914.24</td>\n      <td>1929.15</td>\n      <td>1909.67</td>\n      <td>1926.44</td>\n      <td>258775.0</td>\n    </tr>\n    <tr>\n      <th>2015-01-05</th>\n      <td>1921.96</td>\n      <td>1921.96</td>\n      <td>1903.37</td>\n      <td>1915.75</td>\n      <td>313442.0</td>\n    </tr>\n    <tr>\n      <th>2015-01-06</th>\n      <td>1895.48</td>\n      <td>1900.02</td>\n      <td>1877.38</td>\n      <td>1882.45</td>\n      <td>303687.0</td>\n    </tr>\n    <tr>\n      <th>2015-01-07</th>\n      <td>1878.90</td>\n      <td>1887.60</td>\n      <td>1876.27</td>\n      <td>1883.83</td>\n      <td>280509.0</td>\n    </tr>\n    <tr>\n      <th>2015-01-08</th>\n      <td>1895.85</td>\n      <td>1907.23</td>\n      <td>1891.77</td>\n      <td>1904.65</td>\n      <td>262207.0</td>\n    </tr>\n  </tbody>\n</table>\n</div>"
     },
     "execution_count": 2,
     "metadata": {},
     "output_type": "execute_result"
    }
   ],
   "source": [
    "kospi = pdr.DataReader('KOSPI', \"naver\", start_date, end_date).astype(float)\n",
    "kospi.head()"
   ],
   "metadata": {
    "collapsed": false,
    "ExecuteTime": {
     "end_time": "2023-11-09T03:41:02.565207Z",
     "start_time": "2023-11-09T03:41:01.997899Z"
    }
   },
   "id": "c5c4a1a81fae3787"
  },
  {
   "cell_type": "code",
   "execution_count": 3,
   "outputs": [
    {
     "data": {
      "text/plain": "              Hynics     KOSPI\nDate                          \n2015-01-11  0.040026 -0.000904\n2015-01-18 -0.046328 -0.019183\n2015-01-25  0.001053  0.025084\n2015-02-01  0.003153  0.006779\n2015-02-08 -0.046170  0.003206",
      "text/html": "<div>\n<style scoped>\n    .dataframe tbody tr th:only-of-type {\n        vertical-align: middle;\n    }\n\n    .dataframe tbody tr th {\n        vertical-align: top;\n    }\n\n    .dataframe thead th {\n        text-align: right;\n    }\n</style>\n<table border=\"1\" class=\"dataframe\">\n  <thead>\n    <tr style=\"text-align: right;\">\n      <th></th>\n      <th>Hynics</th>\n      <th>KOSPI</th>\n    </tr>\n    <tr>\n      <th>Date</th>\n      <th></th>\n      <th></th>\n    </tr>\n  </thead>\n  <tbody>\n    <tr>\n      <th>2015-01-11</th>\n      <td>0.040026</td>\n      <td>-0.000904</td>\n    </tr>\n    <tr>\n      <th>2015-01-18</th>\n      <td>-0.046328</td>\n      <td>-0.019183</td>\n    </tr>\n    <tr>\n      <th>2015-01-25</th>\n      <td>0.001053</td>\n      <td>0.025084</td>\n    </tr>\n    <tr>\n      <th>2015-02-01</th>\n      <td>0.003153</td>\n      <td>0.006779</td>\n    </tr>\n    <tr>\n      <th>2015-02-08</th>\n      <td>-0.046170</td>\n      <td>0.003206</td>\n    </tr>\n  </tbody>\n</table>\n</div>"
     },
     "execution_count": 3,
     "metadata": {},
     "output_type": "execute_result"
    }
   ],
   "source": [
    "monthly_hynics = hynics.resample('W').last()\n",
    "kospi_mon = kospi.resample('W').last()\n",
    "\n",
    "ret_hynics = np.log(monthly_hynics.Close) - np.log(monthly_hynics.Close.shift(1))\n",
    "ret_kospi = np.log(kospi_mon.Close) - np.log(kospi_mon.Close.shift(1))\n",
    "\n",
    "matrix = pd.concat([ret_hynics, ret_kospi], axis = 1).dropna()\n",
    "matrix.columns = ['Hynics','KOSPI']\n",
    "\n",
    "matrix.head()"
   ],
   "metadata": {
    "collapsed": false,
    "ExecuteTime": {
     "end_time": "2023-11-09T03:41:02.578361Z",
     "start_time": "2023-11-09T03:41:02.565569Z"
    }
   },
   "id": "94fa64cb9ca5eefd"
  },
  {
   "cell_type": "markdown",
   "source": [
    "SK hynics 주별 데이터와 KOSPI 시장 수익률 데이터를 가지고 온다. 우선 전통적인 계량 모형의 추정 결과부터 살펴 보자"
   ],
   "metadata": {
    "collapsed": false
   },
   "id": "4d46d9989d6de1b5"
  },
  {
   "cell_type": "code",
   "execution_count": 4,
   "outputs": [
    {
     "name": "stdout",
     "output_type": "stream",
     "text": [
      "                            OLS Regression Results                            \n",
      "==============================================================================\n",
      "Dep. Variable:                 Hynics   R-squared:                       0.329\n",
      "Model:                            OLS   Adj. R-squared:                  0.327\n",
      "Method:                 Least Squares   F-statistic:                     179.1\n",
      "Date:                Thu, 09 Nov 2023   Prob (F-statistic):           1.63e-33\n",
      "Time:                        12:41:02   Log-Likelihood:                 673.98\n",
      "No. Observations:                 367   AIC:                            -1344.\n",
      "Df Residuals:                     365   BIC:                            -1336.\n",
      "Df Model:                           1                                         \n",
      "Covariance Type:            nonrobust                                         \n",
      "==============================================================================\n",
      "                 coef    std err          t      P>|t|      [0.025      0.975]\n",
      "------------------------------------------------------------------------------\n",
      "const          0.0357      0.003     11.147      0.000       0.029       0.042\n",
      "KOSPI          1.1398      0.085     13.384      0.000       0.972       1.307\n",
      "==============================================================================\n",
      "Omnibus:                        4.464   Durbin-Watson:                   2.004\n",
      "Prob(Omnibus):                  0.107   Jarque-Bera (JB):                4.593\n",
      "Skew:                           0.171   Prob(JB):                        0.101\n",
      "Kurtosis:                       3.428   Cond. No.                         42.2\n",
      "==============================================================================\n",
      "\n",
      "Notes:\n",
      "[1] Standard Errors assume that the covariance matrix of the errors is correctly specified.\n"
     ]
    }
   ],
   "source": [
    "import statsmodels.api as sm\n",
    "import matplotlib.pyplot as plt\n",
    "from sklearn.model_selection import train_test_split\n",
    "\n",
    "X = matrix['KOSPI'] - 0.03\n",
    "X = sm.add_constant(X)\n",
    "y = matrix['Hynics']\n",
    "\n",
    "X_train, X_test, y_train, y_test = train_test_split(X, y, test_size = 0.2, shuffle = False)\n",
    "\n",
    "model = sm.OLS(y_train, X_train)\n",
    "result = model.fit()\n",
    "print(result.summary())"
   ],
   "metadata": {
    "collapsed": false,
    "ExecuteTime": {
     "end_time": "2023-11-09T03:41:02.907541Z",
     "start_time": "2023-11-09T03:41:02.578817Z"
    }
   },
   "id": "290762bffa5f2bb8"
  },
  {
   "cell_type": "code",
   "execution_count": 5,
   "outputs": [
    {
     "data": {
      "text/plain": "<Figure size 640x480 with 1 Axes>",
      "image/png": "[encoded data removed]"
     },
     "metadata": {},
     "output_type": "display_data"
    }
   ],
   "source": [
    "import seaborn as sns\n",
    "beta, alpha = np.polyfit(x = X_train['KOSPI'] , y = y_train ,deg = 1)\n",
    "plt.axvline(0, color = 'grey', alpha = 0.5)\n",
    "plt.axhline(0, color = 'grey', alpha = 0.5)\n",
    "plt.scatter(X_train['KOSPI'], y_train, label = 'Returns', marker = '.', color = 'navy', alpha = 0.5)\n",
    "sns.lineplot(x = X_train['KOSPI'], y = alpha + X_train['KOSPI'] * beta, color = 'red', label = 'CAPM Line', alpha = 0.7)\n",
    "plt.legend(loc = 'center left', bbox_to_anchor = (1, 0.5))\n",
    "plt.grid(False)\n",
    "plt.title('Capital Asset Pricing Model - Hynics', fontfamily = 'Serif')\n",
    "plt.show()"
   ],
   "metadata": {
    "collapsed": false,
    "ExecuteTime": {
     "end_time": "2023-11-09T03:41:03.038394Z",
     "start_time": "2023-11-09T03:41:02.909730Z"
    }
   },
   "id": "3448d6df4d3e31fa"
  },
  {
   "cell_type": "markdown",
   "source": [
    "추정된 회귀선은 위와 같이 출력된다. 추정된 결과는 최소 분산은 아닐수도 있지만 불편 추정량이다"
   ],
   "metadata": {
    "collapsed": false
   },
   "id": "c20580a424cdaffa"
  },
  {
   "cell_type": "code",
   "execution_count": 6,
   "outputs": [
    {
     "name": "stdout",
     "output_type": "stream",
     "text": [
      "The estimated Beta is 1.1398\n"
     ]
    }
   ],
   "source": [
    "print('The estimated Beta is %.4f' % result.params[1])"
   ],
   "metadata": {
    "collapsed": false,
    "ExecuteTime": {
     "end_time": "2023-11-09T03:41:03.042913Z",
     "start_time": "2023-11-09T03:41:03.039224Z"
    }
   },
   "id": "69831f5a3bf8ee5a"
  },
  {
   "cell_type": "markdown",
   "source": [
    "추정된 Coefficient는 위와 같다. 그렇다면, test 기간에 대해서는 어떻게 될까?"
   ],
   "metadata": {
    "collapsed": false
   },
   "id": "56169c6b69abe9ee"
  },
  {
   "cell_type": "code",
   "execution_count": 7,
   "outputs": [
    {
     "data": {
      "text/plain": "<Figure size 640x480 with 1 Axes>",
      "image/png": "[encoded data removed]"
     },
     "metadata": {},
     "output_type": "display_data"
    }
   ],
   "source": [
    "beta, alpha = np.polyfit(x = X_train['KOSPI'] , y = y_train ,deg = 1)\n",
    "plt.axvline(0, color = 'grey', alpha = 0.5)\n",
    "plt.axhline(0, color = 'grey', alpha = 0.5)\n",
    "plt.scatter(X_test['KOSPI'], y_test, label = 'Returns', marker = '.', color = 'navy', alpha = 0.5)\n",
    "sns.lineplot(x = X_train['KOSPI'], y = alpha + X_train['KOSPI'] * beta, color = 'red', label = 'CAPM Line', alpha = 0.7)\n",
    "plt.legend(loc = 'center left', bbox_to_anchor = (1, 0.5))\n",
    "plt.grid(False)\n",
    "plt.title('Capital Asset Pricing Model - Hynics', fontfamily = 'Serif')\n",
    "plt.show()"
   ],
   "metadata": {
    "collapsed": false,
    "ExecuteTime": {
     "end_time": "2023-11-09T03:41:03.163090Z",
     "start_time": "2023-11-09T03:41:03.057395Z"
    }
   },
   "id": "a77024882a869b2c"
  },
  {
   "cell_type": "code",
   "execution_count": 8,
   "outputs": [
    {
     "name": "stdout",
     "output_type": "stream",
     "text": [
      "Mean Squared Error: 0.001531790710522154\n",
      "R squared score: 0.27855973222058583\n"
     ]
    }
   ],
   "source": [
    "from sklearn.metrics import mean_squared_error, r2_score\n",
    "y_pred = result.predict(X_test)\n",
    "mse = mean_squared_error(y_test, y_pred)\n",
    "r2 = r2_score(y_test, y_pred)\n",
    "print(f\"Mean Squared Error: {mse}\")\n",
    "print(f\"R squared score: {r2}\")"
   ],
   "metadata": {
    "collapsed": false,
    "ExecuteTime": {
     "end_time": "2023-11-09T03:41:03.166823Z",
     "start_time": "2023-11-09T03:41:03.162355Z"
    }
   },
   "id": "dd3427dd521776a6"
  },
  {
   "cell_type": "markdown",
   "source": [
    "test 기간에 대해서도 MSE가 0.0015318정도로 꽤 준수한 성능을 보여준다. 이번에는 panelized Regression model인 Ridge Regression의 경우를 살펴보자"
   ],
   "metadata": {
    "collapsed": false
   },
   "id": "d2af99933dd13eda"
  },
  {
   "cell_type": "code",
   "execution_count": 9,
   "outputs": [
    {
     "data": {
      "text/plain": "Ridge(alpha=0.0001)",
      "text/html": "<style>#sk-container-id-1 {color: black;}#sk-container-id-1 pre{padding: 0;}#sk-container-id-1 div.sk-toggleable {background-color: white;}#sk-container-id-1 label.sk-toggleable__label {cursor: pointer;display: block;width: 100%;margin-bottom: 0;padding: 0.3em;box-sizing: border-box;text-align: center;}#sk-container-id-1 label.sk-toggleable__label-arrow:before {content: \"▸\";float: left;margin-right: 0.25em;color: #696969;}#sk-container-id-1 label.sk-toggleable__label-arrow:hover:before {color: black;}#sk-container-id-1 div.sk-estimator:hover label.sk-toggleable__label-arrow:before {color: black;}#sk-container-id-1 div.sk-toggleable__content {max-height: 0;max-width: 0;overflow: hidden;text-align: left;background-color: #f0f8ff;}#sk-container-id-1 div.sk-toggleable__content pre {margin: 0.2em;color: black;border-radius: 0.25em;background-color: #f0f8ff;}#sk-container-id-1 input.sk-toggleable__control:checked~div.sk-toggleable__content {max-height: 200px;max-width: 100%;overflow: auto;}#sk-container-id-1 input.sk-toggleable__control:checked~label.sk-toggleable__label-arrow:before {content: \"▾\";}#sk-container-id-1 div.sk-estimator input.sk-toggleable__control:checked~label.sk-toggleable__label {background-color: #d4ebff;}#sk-container-id-1 div.sk-label input.sk-toggleable__control:checked~label.sk-toggleable__label {background-color: #d4ebff;}#sk-container-id-1 input.sk-hidden--visually {border: 0;clip: rect(1px 1px 1px 1px);clip: rect(1px, 1px, 1px, 1px);height: 1px;margin: -1px;overflow: hidden;padding: 0;position: absolute;width: 1px;}#sk-container-id-1 div.sk-estimator {font-family: monospace;background-color: #f0f8ff;border: 1px dotted black;border-radius: 0.25em;box-sizing: border-box;margin-bottom: 0.5em;}#sk-container-id-1 div.sk-estimator:hover {background-color: #d4ebff;}#sk-container-id-1 div.sk-parallel-item::after {content: \"\";width: 100%;border-bottom: 1px solid gray;flex-grow: 1;}#sk-container-id-1 div.sk-label:hover label.sk-toggleable__label {background-color: #d4ebff;}#sk-container-id-1 div.sk-serial::before {content: \"\";position: absolute;border-left: 1px solid gray;box-sizing: border-box;top: 0;bottom: 0;left: 50%;z-index: 0;}#sk-container-id-1 div.sk-serial {display: flex;flex-direction: column;align-items: center;background-color: white;padding-right: 0.2em;padding-left: 0.2em;position: relative;}#sk-container-id-1 div.sk-item {position: relative;z-index: 1;}#sk-container-id-1 div.sk-parallel {display: flex;align-items: stretch;justify-content: center;background-color: white;position: relative;}#sk-container-id-1 div.sk-item::before, #sk-container-id-1 div.sk-parallel-item::before {content: \"\";position: absolute;border-left: 1px solid gray;box-sizing: border-box;top: 0;bottom: 0;left: 50%;z-index: -1;}#sk-container-id-1 div.sk-parallel-item {display: flex;flex-direction: column;z-index: 1;position: relative;background-color: white;}#sk-container-id-1 div.sk-parallel-item:first-child::after {align-self: flex-end;width: 50%;}#sk-container-id-1 div.sk-parallel-item:last-child::after {align-self: flex-start;width: 50%;}#sk-container-id-1 div.sk-parallel-item:only-child::after {width: 0;}#sk-container-id-1 div.sk-dashed-wrapped {border: 1px dashed gray;margin: 0 0.4em 0.5em 0.4em;box-sizing: border-box;padding-bottom: 0.4em;background-color: white;}#sk-container-id-1 div.sk-label label {font-family: monospace;font-weight: bold;display: inline-block;line-height: 1.2em;}#sk-container-id-1 div.sk-label-container {text-align: center;}#sk-container-id-1 div.sk-container {/* jupyter's `normalize.less` sets `[hidden] { display: none; }` but bootstrap.min.css set `[hidden] { display: none !important; }` so we also need the `!important` here to be able to override the default hidden behavior on the sphinx rendered scikit-learn.org. See: https://github.com/scikit-learn/scikit-learn/issues/21755 */display: inline-block !important;position: relative;}#sk-container-id-1 div.sk-text-repr-fallback {display: none;}</style><div id=\"sk-container-id-1\" class=\"sk-top-container\"><div class=\"sk-text-repr-fallback\"><pre>Ridge(alpha=0.0001)</pre><b>In a Jupyter environment, please rerun this cell to show the HTML representation or trust the notebook. <br />On GitHub, the HTML representation is unable to render, please try loading this page with nbviewer.org.</b></div><div class=\"sk-container\" hidden><div class=\"sk-item\"><div class=\"sk-estimator sk-toggleable\"><input class=\"sk-toggleable__control sk-hidden--visually\" id=\"sk-estimator-id-1\" type=\"checkbox\" checked><label for=\"sk-estimator-id-1\" class=\"sk-toggleable__label sk-toggleable__label-arrow\">Ridge</label><div class=\"sk-toggleable__content\"><pre>Ridge(alpha=0.0001)</pre></div></div></div></div></div>"
     },
     "execution_count": 9,
     "metadata": {},
     "output_type": "execute_result"
    }
   ],
   "source": [
    "from sklearn.linear_model import Ridge\n",
    "\n",
    "linear = Ridge(alpha = 0.0001)\n",
    "linear.fit(X_train, y_train)"
   ],
   "metadata": {
    "collapsed": false,
    "ExecuteTime": {
     "end_time": "2023-11-09T03:41:03.216352Z",
     "start_time": "2023-11-09T03:41:03.167886Z"
    }
   },
   "id": "e67371458024aa26"
  },
  {
   "cell_type": "markdown",
   "source": [
    "sklearn에서 Linear Model들은 coef_ 속성을 통해 추정된 회귀계수를 볼 수 있다"
   ],
   "metadata": {
    "collapsed": false
   },
   "id": "ac04be77c9758cf7"
  },
  {
   "cell_type": "code",
   "execution_count": 10,
   "outputs": [
    {
     "name": "stdout",
     "output_type": "stream",
     "text": [
      "[0.         1.13922681]\n"
     ]
    }
   ],
   "source": [
    "print(linear.coef_)"
   ],
   "metadata": {
    "collapsed": false,
    "ExecuteTime": {
     "end_time": "2023-11-09T03:41:03.223270Z",
     "start_time": "2023-11-09T03:41:03.217317Z"
    }
   },
   "id": "36a53eba7ce8a245"
  },
  {
   "cell_type": "code",
   "execution_count": 11,
   "outputs": [
    {
     "name": "stdout",
     "output_type": "stream",
     "text": [
      "Ridge Regression - MSE: 0.001531779911164356, R-squared: 0.2785648184843478\n"
     ]
    }
   ],
   "source": [
    "y_pred_linear = linear.predict(X_test)\n",
    "mse_linear = mean_squared_error(y_test, y_pred_linear)\n",
    "r2_linear = r2_score(y_test, y_pred_linear)\n",
    "\n",
    "print(f\"Ridge Regression - MSE: {mse_linear}, R-squared: {r2_linear}\")"
   ],
   "metadata": {
    "collapsed": false,
    "ExecuteTime": {
     "end_time": "2023-11-09T03:41:03.232910Z",
     "start_time": "2023-11-09T03:41:03.223867Z"
    }
   },
   "id": "359e7d5a6a651acc"
  },
  {
   "cell_type": "markdown",
   "source": [
    "sklearn의 Ridge Regression이 예측에 대해 MSE가 조금 더 줄은 것을 확인할 수 있다. 그러나, 통계학적으로 추정된 coefficient는 **unbiased Estimator** 가 아니다\n",
    "\n",
    "게다가, sklearn의 Linear Model에서는 $\\beta_0$에 해당하는 intercept도 추정되지 않는다"
   ],
   "metadata": {
    "collapsed": false
   },
   "id": "42c2abfc9a85b141"
  },
  {
   "cell_type": "markdown",
   "source": [
    "#### 2. Support Vector Regression\n",
    "\n",
    "1995년, Vapnik와 Cortes는 Support Vector Network라는 모형을 제안하였다\n",
    "\n",
    "```\n",
    "sklearn.svm.SVR(*, kernel='rbf', degree=3, gamma='scale', coef0=0.0, tol=0.001, C=1.0, epsilon=0.1, shrinking=True, cache_size=200, verbose=False, max_iter=-1)\n",
    "```\n",
    "\n",
    "주요 Hyper Parameter는 다음과 같다\n",
    "\n",
    "- kernel : SVM 커널 함수를 지정한다\n",
    "- degree : kernel을 poly, 즉 비선형으로 지정하였을 때 지정하는 차수이다. 기본값은 3이며 값이 커질수록 모형이 복잡해진다\n",
    "- coef0 : y intercept를 지정한다\n",
    "- C : L2 score (Ridge)를 비용함수로 지정한다. 값이 작아질수록 일반화 성능이 커진다. 기본값은 1이다\n",
    "\n",
    "\n",
    "https://link.springer.com/article/10.1007/BF00994018\n",
    "\n",
    "**2.1 Hard Margin Model**\n",
    "\n",
    "Hard Margin Model의 손실함수는 다음을 최적화하는 것을 목적으로 한다\n",
    "\n",
    "$$\\mathrm{Loss_{SVR}} = \\min_w ||w||^2 + \\lambda(\\frac{1}{2}\\sum_{i = 1}^n (y_i - f(x_i))^2)$$\n",
    "\n",
    "여기서 $||w||^2$는 데이터와 회귀선과의 거리를 나타내는데, 이는 선형회귀식에서 오차를 최소화하는 식과 유사함을 알 수 있다."
   ],
   "metadata": {
    "collapsed": false
   },
   "id": "2acdb9cfbf98792d"
  },
  {
   "cell_type": "markdown",
   "source": [
    "#### example 2\n",
    "\n",
    "example 1의 모형을 Hard Margin SVR 모형에 적합화해 보자"
   ],
   "metadata": {
    "collapsed": false
   },
   "id": "c0ee2a314dc5bfe5"
  },
  {
   "cell_type": "code",
   "execution_count": 12,
   "id": "initial_id",
   "metadata": {
    "collapsed": true,
    "ExecuteTime": {
     "end_time": "2023-11-09T03:41:03.308230Z",
     "start_time": "2023-11-09T03:41:03.235593Z"
    }
   },
   "outputs": [
    {
     "data": {
      "text/plain": "SVR(C=1000, kernel='linear')",
      "text/html": "<style>#sk-container-id-2 {color: black;}#sk-container-id-2 pre{padding: 0;}#sk-container-id-2 div.sk-toggleable {background-color: white;}#sk-container-id-2 label.sk-toggleable__label {cursor: pointer;display: block;width: 100%;margin-bottom: 0;padding: 0.3em;box-sizing: border-box;text-align: center;}#sk-container-id-2 label.sk-toggleable__label-arrow:before {content: \"▸\";float: left;margin-right: 0.25em;color: #696969;}#sk-container-id-2 label.sk-toggleable__label-arrow:hover:before {color: black;}#sk-container-id-2 div.sk-estimator:hover label.sk-toggleable__label-arrow:before {color: black;}#sk-container-id-2 div.sk-toggleable__content {max-height: 0;max-width: 0;overflow: hidden;text-align: left;background-color: #f0f8ff;}#sk-container-id-2 div.sk-toggleable__content pre {margin: 0.2em;color: black;border-radius: 0.25em;background-color: #f0f8ff;}#sk-container-id-2 input.sk-toggleable__control:checked~div.sk-toggleable__content {max-height: 200px;max-width: 100%;overflow: auto;}#sk-container-id-2 input.sk-toggleable__control:checked~label.sk-toggleable__label-arrow:before {content: \"▾\";}#sk-container-id-2 div.sk-estimator input.sk-toggleable__control:checked~label.sk-toggleable__label {background-color: #d4ebff;}#sk-container-id-2 div.sk-label input.sk-toggleable__control:checked~label.sk-toggleable__label {background-color: #d4ebff;}#sk-container-id-2 input.sk-hidden--visually {border: 0;clip: rect(1px 1px 1px 1px);clip: rect(1px, 1px, 1px, 1px);height: 1px;margin: -1px;overflow: hidden;padding: 0;position: absolute;width: 1px;}#sk-container-id-2 div.sk-estimator {font-family: monospace;background-color: #f0f8ff;border: 1px dotted black;border-radius: 0.25em;box-sizing: border-box;margin-bottom: 0.5em;}#sk-container-id-2 div.sk-estimator:hover {background-color: #d4ebff;}#sk-container-id-2 div.sk-parallel-item::after {content: \"\";width: 100%;border-bottom: 1px solid gray;flex-grow: 1;}#sk-container-id-2 div.sk-label:hover label.sk-toggleable__label {background-color: #d4ebff;}#sk-container-id-2 div.sk-serial::before {content: \"\";position: absolute;border-left: 1px solid gray;box-sizing: border-box;top: 0;bottom: 0;left: 50%;z-index: 0;}#sk-container-id-2 div.sk-serial {display: flex;flex-direction: column;align-items: center;background-color: white;padding-right: 0.2em;padding-left: 0.2em;position: relative;}#sk-container-id-2 div.sk-item {position: relative;z-index: 1;}#sk-container-id-2 div.sk-parallel {display: flex;align-items: stretch;justify-content: center;background-color: white;position: relative;}#sk-container-id-2 div.sk-item::before, #sk-container-id-2 div.sk-parallel-item::before {content: \"\";position: absolute;border-left: 1px solid gray;box-sizing: border-box;top: 0;bottom: 0;left: 50%;z-index: -1;}#sk-container-id-2 div.sk-parallel-item {display: flex;flex-direction: column;z-index: 1;position: relative;background-color: white;}#sk-container-id-2 div.sk-parallel-item:first-child::after {align-self: flex-end;width: 50%;}#sk-container-id-2 div.sk-parallel-item:last-child::after {align-self: flex-start;width: 50%;}#sk-container-id-2 div.sk-parallel-item:only-child::after {width: 0;}#sk-container-id-2 div.sk-dashed-wrapped {border: 1px dashed gray;margin: 0 0.4em 0.5em 0.4em;box-sizing: border-box;padding-bottom: 0.4em;background-color: white;}#sk-container-id-2 div.sk-label label {font-family: monospace;font-weight: bold;display: inline-block;line-height: 1.2em;}#sk-container-id-2 div.sk-label-container {text-align: center;}#sk-container-id-2 div.sk-container {/* jupyter's `normalize.less` sets `[hidden] { display: none; }` but bootstrap.min.css set `[hidden] { display: none !important; }` so we also need the `!important` here to be able to override the default hidden behavior on the sphinx rendered scikit-learn.org. See: https://github.com/scikit-learn/scikit-learn/issues/21755 */display: inline-block !important;position: relative;}#sk-container-id-2 div.sk-text-repr-fallback {display: none;}</style><div id=\"sk-container-id-2\" class=\"sk-top-container\"><div class=\"sk-text-repr-fallback\"><pre>SVR(C=1000, kernel=&#x27;linear&#x27;)</pre><b>In a Jupyter environment, please rerun this cell to show the HTML representation or trust the notebook. <br />On GitHub, the HTML representation is unable to render, please try loading this page with nbviewer.org.</b></div><div class=\"sk-container\" hidden><div class=\"sk-item\"><div class=\"sk-estimator sk-toggleable\"><input class=\"sk-toggleable__control sk-hidden--visually\" id=\"sk-estimator-id-2\" type=\"checkbox\" checked><label for=\"sk-estimator-id-2\" class=\"sk-toggleable__label sk-toggleable__label-arrow\">SVR</label><div class=\"sk-toggleable__content\"><pre>SVR(C=1000, kernel=&#x27;linear&#x27;)</pre></div></div></div></div></div>"
     },
     "execution_count": 12,
     "metadata": {},
     "output_type": "execute_result"
    }
   ],
   "source": [
    "from sklearn.svm import SVR\n",
    "\n",
    "X = matrix['KOSPI'] - 0.03\n",
    "X = sm.add_constant(X)\n",
    "y = matrix['Hynics']\n",
    "\n",
    "X_train, X_test, y_train, y_test = train_test_split(X, y, test_size = 0.2, shuffle = False)\n",
    "\n",
    "model = SVR(kernel = 'linear', C = 1000)\n",
    "model.fit(X_train, y_train)"
   ]
  },
  {
   "cell_type": "markdown",
   "source": [
    "C가 클 수록 Train Data에 적합화된다. 즉, Hard Margin Model로 추정된다"
   ],
   "metadata": {
    "collapsed": false
   },
   "id": "ee663cdf4b26bf3a"
  },
  {
   "cell_type": "code",
   "execution_count": 13,
   "outputs": [
    {
     "data": {
      "text/plain": "<Figure size 640x480 with 1 Axes>",
      "image/png": "[encoded data removed]"
     },
     "metadata": {},
     "output_type": "display_data"
    }
   ],
   "source": [
    "y_pred = model.predict(X_test)\n",
    "\n",
    "beta, alpha = np.polyfit(x = X_train['KOSPI'] , y = y_train ,deg = 1)\n",
    "plt.axvline(0, color = 'grey', alpha = 0.5)\n",
    "plt.axhline(0, color = 'grey', alpha = 0.5)\n",
    "plt.scatter(X_test['KOSPI'], y_test, label = 'Returns', marker = '.', color = 'navy', alpha = 0.4)\n",
    "sns.lineplot(x = X_test['KOSPI'], y = y_pred, color = 'darkorange', label = 'CAPM Line')\n",
    "plt.legend(loc = 'center left', bbox_to_anchor = (1, 0.5))\n",
    "plt.grid(False)\n",
    "plt.title('Support Vector Regression', fontfamily = 'Serif')\n",
    "plt.show()"
   ],
   "metadata": {
    "collapsed": false,
    "ExecuteTime": {
     "end_time": "2023-11-09T03:41:03.389616Z",
     "start_time": "2023-11-09T03:41:03.291967Z"
    }
   },
   "id": "c26b479226db284c"
  },
  {
   "cell_type": "markdown",
   "source": [
    "coefficient가 추정되긴 하지만, 여타 ML 모형과 마찬가지로 unbiased estimator가 아니니 해석에 유의해야 한다"
   ],
   "metadata": {
    "collapsed": false
   },
   "id": "7078e3c896e34e3c"
  },
  {
   "cell_type": "code",
   "execution_count": 14,
   "outputs": [
    {
     "data": {
      "text/plain": "array([[4.54747351e-13, 1.31661564e+00]])"
     },
     "execution_count": 14,
     "metadata": {},
     "output_type": "execute_result"
    }
   ],
   "source": [
    "model.coef_"
   ],
   "metadata": {
    "collapsed": false,
    "ExecuteTime": {
     "end_time": "2023-11-09T03:41:03.404811Z",
     "start_time": "2023-11-09T03:41:03.398473Z"
    }
   },
   "id": "493f758809bafbd4"
  },
  {
   "cell_type": "markdown",
   "source": [
    "**2.2 Soft Margin Model**\n",
    "\n",
    "<center><img src = \"https://leejiyoon52.github.io/images/image_67.png\" alt=\"My Image\"></center>\n",
    "\n",
    "과적합이나 기타 일반화 성능 향상을 위해, 보통은 아래와 같은 손실함수를 최적화하는 것을 목적으로 한다\n",
    "\n",
    "$$\\mathrm{Loss_{SVR}} = \\min_w \\frac{1}{2}||w||^2 + C\\sum_{i = 1}^n (\\xi_i + \\xi_i^*)$$\n",
    "$$\\mathrm{such~that~} (w^T x_i + b) - y_i \\leq \\epsilon + \\xi_i$$\n",
    "$$y_i - (w^T x_i + b) \\leq \\epsilon + \\xi_i^*$$\n",
    "$$\\xi_i, \\xi_i^* \\geq 0$$\n",
    "\n",
    "추정된 회귀식에서 상단과 하단에 각각 $\\epsilon$만큼 마진을 생성하여 추정식의 허용 범위를 넓혀 준다. 즉, margin 값을 크게 줄 수록 모형의 노이즈 허용 범위가 커지는 것이다\n",
    "\n",
    "비용함수 최적화에 있어서 Lagrangian Problem으로 해를 찾는 것이 가능하지만, 그 과정이 길기 때문에 우선은 생략한다. Lagrangian Dual Problem은 다음과 같이 정리된다\n",
    "\n",
    "$$\\mathbf{L_D} = \\frac{1}{2}\\sum_{i,j = 1}^n (\\alpha_i^* - \\alpha_i)(\\alpha_j^* - \\alpha_j)\\mathbf{x_i^Tx_j} - \\epsilon \\sum_{i,j = 1}^n(\\alpha_i^* - \\alpha_i) + \\sum_{i,j = 1}^n y_i(\\alpha_i^* - \\alpha_i)$$\n",
    "$$\\mathrm{such ~ that ~} \\sum_{i=1}^n (\\alpha_i^* - \\alpha_i) = 0, ~~~~~ \\alpha_i, \\alpha_i^* \\in [0,C]$$\n",
    "\n",
    "Lagrangian dual problem으로 재구성한 목적식은 $α$로 이루어져있는 convex하고, 연속적인 quadratic programming problem이다. 최적화 프로그램을 이용한다면 간편하게 $α$를 도출할 수 있다"
   ],
   "metadata": {
    "collapsed": false
   },
   "id": "5c57554cee2c12f4"
  },
  {
   "cell_type": "markdown",
   "source": [
    "#### example 3\n",
    "\n",
    "example 2에 이어 soft margin model을 추정해 보자. 여기서 C = 0.1을 사용하도록 한다"
   ],
   "metadata": {
    "collapsed": false
   },
   "id": "876b0e817b373a25"
  },
  {
   "cell_type": "code",
   "execution_count": 15,
   "outputs": [
    {
     "data": {
      "text/plain": "SVR(C=0.1, kernel='linear')",
      "text/html": "<style>#sk-container-id-3 {color: black;}#sk-container-id-3 pre{padding: 0;}#sk-container-id-3 div.sk-toggleable {background-color: white;}#sk-container-id-3 label.sk-toggleable__label {cursor: pointer;display: block;width: 100%;margin-bottom: 0;padding: 0.3em;box-sizing: border-box;text-align: center;}#sk-container-id-3 label.sk-toggleable__label-arrow:before {content: \"▸\";float: left;margin-right: 0.25em;color: #696969;}#sk-container-id-3 label.sk-toggleable__label-arrow:hover:before {color: black;}#sk-container-id-3 div.sk-estimator:hover label.sk-toggleable__label-arrow:before {color: black;}#sk-container-id-3 div.sk-toggleable__content {max-height: 0;max-width: 0;overflow: hidden;text-align: left;background-color: #f0f8ff;}#sk-container-id-3 div.sk-toggleable__content pre {margin: 0.2em;color: black;border-radius: 0.25em;background-color: #f0f8ff;}#sk-container-id-3 input.sk-toggleable__control:checked~div.sk-toggleable__content {max-height: 200px;max-width: 100%;overflow: auto;}#sk-container-id-3 input.sk-toggleable__control:checked~label.sk-toggleable__label-arrow:before {content: \"▾\";}#sk-container-id-3 div.sk-estimator input.sk-toggleable__control:checked~label.sk-toggleable__label {background-color: #d4ebff;}#sk-container-id-3 div.sk-label input.sk-toggleable__control:checked~label.sk-toggleable__label {background-color: #d4ebff;}#sk-container-id-3 input.sk-hidden--visually {border: 0;clip: rect(1px 1px 1px 1px);clip: rect(1px, 1px, 1px, 1px);height: 1px;margin: -1px;overflow: hidden;padding: 0;position: absolute;width: 1px;}#sk-container-id-3 div.sk-estimator {font-family: monospace;background-color: #f0f8ff;border: 1px dotted black;border-radius: 0.25em;box-sizing: border-box;margin-bottom: 0.5em;}#sk-container-id-3 div.sk-estimator:hover {background-color: #d4ebff;}#sk-container-id-3 div.sk-parallel-item::after {content: \"\";width: 100%;border-bottom: 1px solid gray;flex-grow: 1;}#sk-container-id-3 div.sk-label:hover label.sk-toggleable__label {background-color: #d4ebff;}#sk-container-id-3 div.sk-serial::before {content: \"\";position: absolute;border-left: 1px solid gray;box-sizing: border-box;top: 0;bottom: 0;left: 50%;z-index: 0;}#sk-container-id-3 div.sk-serial {display: flex;flex-direction: column;align-items: center;background-color: white;padding-right: 0.2em;padding-left: 0.2em;position: relative;}#sk-container-id-3 div.sk-item {position: relative;z-index: 1;}#sk-container-id-3 div.sk-parallel {display: flex;align-items: stretch;justify-content: center;background-color: white;position: relative;}#sk-container-id-3 div.sk-item::before, #sk-container-id-3 div.sk-parallel-item::before {content: \"\";position: absolute;border-left: 1px solid gray;box-sizing: border-box;top: 0;bottom: 0;left: 50%;z-index: -1;}#sk-container-id-3 div.sk-parallel-item {display: flex;flex-direction: column;z-index: 1;position: relative;background-color: white;}#sk-container-id-3 div.sk-parallel-item:first-child::after {align-self: flex-end;width: 50%;}#sk-container-id-3 div.sk-parallel-item:last-child::after {align-self: flex-start;width: 50%;}#sk-container-id-3 div.sk-parallel-item:only-child::after {width: 0;}#sk-container-id-3 div.sk-dashed-wrapped {border: 1px dashed gray;margin: 0 0.4em 0.5em 0.4em;box-sizing: border-box;padding-bottom: 0.4em;background-color: white;}#sk-container-id-3 div.sk-label label {font-family: monospace;font-weight: bold;display: inline-block;line-height: 1.2em;}#sk-container-id-3 div.sk-label-container {text-align: center;}#sk-container-id-3 div.sk-container {/* jupyter's `normalize.less` sets `[hidden] { display: none; }` but bootstrap.min.css set `[hidden] { display: none !important; }` so we also need the `!important` here to be able to override the default hidden behavior on the sphinx rendered scikit-learn.org. See: https://github.com/scikit-learn/scikit-learn/issues/21755 */display: inline-block !important;position: relative;}#sk-container-id-3 div.sk-text-repr-fallback {display: none;}</style><div id=\"sk-container-id-3\" class=\"sk-top-container\"><div class=\"sk-text-repr-fallback\"><pre>SVR(C=0.1, kernel=&#x27;linear&#x27;)</pre><b>In a Jupyter environment, please rerun this cell to show the HTML representation or trust the notebook. <br />On GitHub, the HTML representation is unable to render, please try loading this page with nbviewer.org.</b></div><div class=\"sk-container\" hidden><div class=\"sk-item\"><div class=\"sk-estimator sk-toggleable\"><input class=\"sk-toggleable__control sk-hidden--visually\" id=\"sk-estimator-id-3\" type=\"checkbox\" checked><label for=\"sk-estimator-id-3\" class=\"sk-toggleable__label sk-toggleable__label-arrow\">SVR</label><div class=\"sk-toggleable__content\"><pre>SVR(C=0.1, kernel=&#x27;linear&#x27;)</pre></div></div></div></div></div>"
     },
     "execution_count": 15,
     "metadata": {},
     "output_type": "execute_result"
    }
   ],
   "source": [
    "from sklearn.svm import SVR\n",
    "\n",
    "X = matrix['KOSPI'] - 0.03\n",
    "X = sm.add_constant(X)\n",
    "y = matrix['Hynics']\n",
    "\n",
    "X_train, X_test, y_train, y_test = train_test_split(X, y, test_size = 0.2, shuffle = False)\n",
    "\n",
    "model = SVR(kernel = 'linear', C = 0.1)\n",
    "model.fit(X_train, y_train)"
   ],
   "metadata": {
    "collapsed": false,
    "ExecuteTime": {
     "end_time": "2023-11-09T03:41:03.421474Z",
     "start_time": "2023-11-09T03:41:03.408411Z"
    }
   },
   "id": "5b28ec334c27ec56"
  },
  {
   "cell_type": "code",
   "execution_count": 16,
   "outputs": [
    {
     "data": {
      "text/plain": "<Figure size 640x480 with 1 Axes>",
      "image/png": "[encoded data removed]"
     },
     "metadata": {},
     "output_type": "display_data"
    }
   ],
   "source": [
    "y_pred = model.predict(X_test)\n",
    "\n",
    "beta, alpha = np.polyfit(x = X_train['KOSPI'] , y = y_train ,deg = 1)\n",
    "plt.axvline(0, color = 'grey', alpha = 0.5)\n",
    "plt.axhline(0, color = 'grey', alpha = 0.5)\n",
    "plt.scatter(X_test['KOSPI'], y_test, label = 'Returns', marker = '.', color = 'navy', alpha = 0.4)\n",
    "sns.lineplot(x = X_test['KOSPI'], y = y_pred, color = 'darkorange', label = 'CAPM Line')\n",
    "plt.legend(loc = 'center left', bbox_to_anchor = (1, 0.5))\n",
    "plt.grid(False)\n",
    "plt.title('Support Vector Regression', fontfamily = 'Serif')\n",
    "plt.show()"
   ],
   "metadata": {
    "collapsed": false,
    "ExecuteTime": {
     "end_time": "2023-11-09T03:41:03.527190Z",
     "start_time": "2023-11-09T03:41:03.418065Z"
    }
   },
   "id": "c669919598364f6b"
  },
  {
   "cell_type": "markdown",
   "source": [
    "C값을 작게 하면 할수록 추정치는 $\\hat y_i = \\bar y$에 가까워진다. 즉, 모형이 단순해진다"
   ],
   "metadata": {
    "collapsed": false
   },
   "id": "8241eff07b31711e"
  },
  {
   "cell_type": "code",
   "execution_count": 17,
   "outputs": [
    {
     "data": {
      "text/plain": "array([[-2.77555756e-17,  6.45651355e-02]])"
     },
     "execution_count": 17,
     "metadata": {},
     "output_type": "execute_result"
    }
   ],
   "source": [
    "model.coef_"
   ],
   "metadata": {
    "collapsed": false,
    "ExecuteTime": {
     "end_time": "2023-11-09T03:41:03.534479Z",
     "start_time": "2023-11-09T03:41:03.528016Z"
    }
   },
   "id": "8432bd9ab4a82ba2"
  },
  {
   "cell_type": "markdown",
   "source": [
    "마찬가지로 coefficient를 확인할 수 있지만, 큰 의미는 없으므로 무시해도 된다"
   ],
   "metadata": {
    "collapsed": false
   },
   "id": "51a4f530c83e630c"
  },
  {
   "cell_type": "markdown",
   "source": [
    "**2.3 Kernel Function**\n",
    "\n",
    "Support Vector Machine은 선형 모형이기 때문에 비선형 회귀식을 구해야 하는 경우가 상당히 제약적이었다. 이런 경우 Mapping function의 일종인 Kernel Function을 사용하여 해결하게 되었다\n",
    "\n",
    "$$x = (x_1, x_2, \\dots, x_p) \\Rightarrow \\phi(x) = z = (z_1, z_2, \\dots, z_q)$$\n",
    "\n",
    "<center><img src = \"https://leejiyoon52.github.io/images/image_80.png\" alt=\"My Image\"></center>\n",
    "\n",
    "즉, 중간에 비선형 공간을 추가하여 선형공간으로 다시 데이터를 평평하게 펴는 과정을 거치는 것이라 이해하면 좋다. Kernel Function이 포함된 Lagrangian Dual Problem은 다음과 같이 표현된다\n",
    "\n",
    "$$\\mathcal{L_D} = \\frac{1}{2}\\sum_{i,j = 1}^n (\\alpha_i^* - \\alpha_i)(\\alpha_j^* - \\alpha_j)\\mathbf{K(x_i^,x_j)} - \\epsilon \\sum_{i,j = 1}^n(\\alpha_i^* - \\alpha_i) + \\sum_{i,j = 1}^n y_i(\\alpha_i^* - \\alpha_i)$$\n",
    "\n",
    "평면식과는 다르게 중간 과정에서 Kernel Function의 Mapping과정이 포함된것을 알 수 있다\n",
    "\n",
    "대표적인 kernel function에는 다음과 같은 것들이 있다. 주로 rbf가 자주 사용된다\n",
    "\n",
    "- linear : 선형 커널\n",
    "- poly : 비선형 커널, 3차 함수가 기본적으로 추정된다\n",
    "- rbf(default) : RBF커널, 가우시안 커널이다. 성능이 좋기 때문에 자주 사용된다\n",
    "- sigmoid : sigmoid 커널\n",
    "- precomputed"
   ],
   "metadata": {
    "collapsed": false
   },
   "id": "c79c90c7604bfd42"
  },
  {
   "cell_type": "markdown",
   "source": [
    "#### 3. Regression Tree\n",
    "\n",
    "```\n",
    "sklearn.tree.DecisionTreeRegressor(*, criterion='squared_error', splitter='best', max_depth=None, min_samples_split=2, min_samples_leaf=1, min_weight_fraction_leaf=0.0, max_features=None, random_state=None, max_leaf_nodes=None, min_impurity_decrease=0.0, ccp_alpha=0.0)\n",
    "```\n",
    "\n",
    "Regression Tree는 오차제곱합을 가장 잘 줄일 수 있는 Feature를 기준으로 분기를 만들어 결과를 예측하는 매우 단순한 모형이다. 분기 과정에서 정보가 저장되는데, 이를 이용해 모형 추정 후 어떤 Feature가 예측에 크게 작용했는지 볼 수 있기 때문에 설명력에 있어서 다른 Machine Learning 모형보다 우월하다\n",
    "\n",
    "최근에는 이를 이용하여 Inference를 시도하는 것이 연구되고 있다. 다만 여기서 유의할 점은, Granger Causality와 같이 예측에 있어서 특정 Feature가 큰 영향을 끼쳤다는 것을 보여줄 뿐, **인과관계를 보장하지는 않는다.** 즉, 여전히 인과관계 추론에 있어서는 **Domain Knowledge**가 매우 중요하다\n",
    "\n",
    "아래는 Tree Model이 분기를 하는 과정을 보여준다\n",
    "\n",
    "<center><img src = \"https://www.statology.org/wp-content/uploads/2020/11/tree6.png\" alt=\"My Image\"></center>\n",
    "\n",
    "Model자체가 분기를 포함하기 때문에, 추정된 Regression Line은 각이 진 상태로 나온다. 아래는 Regression Tree가 추정한 Line을 보여준다\n",
    "\n",
    "<center><img src = \"https://cdn-images-1.medium.com/max/1200/1*VD-ygoJ8OwUpBaTgkDTSOg.png\" alt=\"My Image\"></center>"
   ],
   "metadata": {
    "collapsed": false
   },
   "id": "ac07597d5115f39b"
  },
  {
   "cell_type": "markdown",
   "source": [
    "**3.1 Training**\n",
    "\n",
    "Regression Tree는 Top-down 방식으로 진행되며, 탐욕적 알고리즘 탐색 방식으로 가장 좋은 가지를 찾아서 분기를 하는 방식을 반복한다. 모든 변수 $X_1, X_2, \\dots, X_p$와 모든 가능한 분기지점(cut point) $s$에 대해 오차 제곱합을 가장 많이 줄여주는 $(j,s)$를 선택하게 된다. Tree가 두 개의 분기로 나뉘는 초평면은 다음과 같이 정의 가능하다\n",
    "\n",
    "$$R_1(j,s) = \\{X | X_j < s\\} \\mathrm{~~and~~} R_2 (j,s) = \\{X|X_j \\geq s\\}$$\n",
    "\n",
    "다음 수식을 최소화시키는 $j$와 $s$를 구하는 식으로 분기가 이뤄진다\n",
    "\n",
    "$$\\Sigma_{i:x_i \\in R_1(j,s)}(y_i - \\hat{y_{R_1}})^2 + \\Sigma_{i:x_i \\in R_2(j,s)}(y_i - \\hat{y_{R_2}})^2$$\n",
    "\n",
    "여기서 목적이 **최소제곱**이라는 것에 주목하자. $R_1, R_2$로 구획을 나눌 때 $R_1(j,s)$에 속한 데이터들과 구획 내의 평균$\\hat{y_{R_1}}$와의 차이를 구한 뒤 제곱하고, 이를 $R_2$도 마찬가지로 진행한 뒤 모두 더함으로써 오차 제곱합을 구한다\n",
    "\n",
    "분기를 한 뒤 오차 제곱합이 분기 전 오차 제곱합보다 작아질 때까지 위 과정을 반복한다"
   ],
   "metadata": {
    "collapsed": false
   },
   "id": "c1e4dc87f9ef3850"
  },
  {
   "cell_type": "markdown",
   "source": [
    "**3.2 Pruning**\n",
    "\n",
    "가지치기(Pruning)는 Tree Model에서 과적합에 대응하기 위한 주요 수단이다. Tree Regression의 Hyper Parameter로는 크게 Depth와 Node의 수가 있는데, Depth와 Node의 수가 커질수록, 복잡한 모형이 된다\n",
    "\n",
    "가지치기에는 크게 **사전 가지치기(Pre-pruning)** 와 **사후 가지치기(Post-pruning)** 이 존재한다. 사전 가지치기는 노드 분기 전 일반화 성능을 향상시킬 수 없는 것을 미리 예측하여 만약 성능 향상이 이뤄지지 않는다면, 분기를 중지하고 해당 노드를 마지막으로 학습을 끝내는 방식이다. 사후 가지치기는 모형 학습을 완료한 이후, 일반화 성능을 높이는 분기들을 삭제하는 방식으로 이뤄진다\n",
    "\n",
    "일반적으로 사전 가지치기가 통계적 오류를 범할 실수가 적으며, 사후 가지치기는 데이터 의존적인 판단방법이 될 수 있다. sklearn에서는  `cost_complexity_pruning_path`, `ccp_alpha`를 이용해 사후 가지치기를 할 수 있으며, 사전 가지치기는 `max_depth`, `min_samples_split`, `min_samples_leaf`를 통해 지정할 수 있다"
   ],
   "metadata": {
    "collapsed": false
   },
   "id": "cd7603601f99ed39"
  },
  {
   "cell_type": "markdown",
   "source": [
    "#### example 4\n",
    "\n",
    "French 교수는 매년 Factor Model 추정을 위한 데이터를 꾸준히 업데이트 한다. 아래 주소로 가면 전체 데이터를 받아볼 수 있다\n",
    "\n",
    "https://mba.tuck.dartmouth.edu/pages/faculty/ken.french/data_library.html\n",
    "\n",
    "준비된 `factor_data.csv`는 월간 CRSP Data 변화에 따른 3 Factor이다"
   ],
   "metadata": {
    "collapsed": false
   },
   "id": "292e09ec36f907f2"
  },
  {
   "cell_type": "code",
   "execution_count": 18,
   "outputs": [
    {
     "data": {
      "text/plain": "            Mkt-RF   SMB   HML     RF\n1926-07-02    1.60 -0.62 -0.83  0.056\n1926-07-10    0.36 -0.88  0.31  0.056\n1926-07-17    1.01  0.59 -1.44  0.056\n1926-07-24   -2.05  0.10 -0.18  0.056\n1926-07-31    3.04 -1.82 -0.90  0.056",
      "text/html": "<div>\n<style scoped>\n    .dataframe tbody tr th:only-of-type {\n        vertical-align: middle;\n    }\n\n    .dataframe tbody tr th {\n        vertical-align: top;\n    }\n\n    .dataframe thead th {\n        text-align: right;\n    }\n</style>\n<table border=\"1\" class=\"dataframe\">\n  <thead>\n    <tr style=\"text-align: right;\">\n      <th></th>\n      <th>Mkt-RF</th>\n      <th>SMB</th>\n      <th>HML</th>\n      <th>RF</th>\n    </tr>\n  </thead>\n  <tbody>\n    <tr>\n      <th>1926-07-02</th>\n      <td>1.60</td>\n      <td>-0.62</td>\n      <td>-0.83</td>\n      <td>0.056</td>\n    </tr>\n    <tr>\n      <th>1926-07-10</th>\n      <td>0.36</td>\n      <td>-0.88</td>\n      <td>0.31</td>\n      <td>0.056</td>\n    </tr>\n    <tr>\n      <th>1926-07-17</th>\n      <td>1.01</td>\n      <td>0.59</td>\n      <td>-1.44</td>\n      <td>0.056</td>\n    </tr>\n    <tr>\n      <th>1926-07-24</th>\n      <td>-2.05</td>\n      <td>0.10</td>\n      <td>-0.18</td>\n      <td>0.056</td>\n    </tr>\n    <tr>\n      <th>1926-07-31</th>\n      <td>3.04</td>\n      <td>-1.82</td>\n      <td>-0.90</td>\n      <td>0.056</td>\n    </tr>\n  </tbody>\n</table>\n</div>"
     },
     "execution_count": 18,
     "metadata": {},
     "output_type": "execute_result"
    }
   ],
   "source": [
    "factor = pd.read_csv('factor_data.csv', index_col = 0)\n",
    "factor.index = pd.to_datetime(factor.index.astype(str))\n",
    "factor.head()"
   ],
   "metadata": {
    "collapsed": false,
    "ExecuteTime": {
     "end_time": "2023-11-09T03:41:03.542755Z",
     "start_time": "2023-11-09T03:41:03.530772Z"
    }
   },
   "id": "1cd86392e8492194"
  },
  {
   "cell_type": "markdown",
   "source": [
    "3 factor model은 아래와 같이 추정된다\n",
    "\n",
    "$$(R_i - R_f)_t = \\beta_0 + \\beta_1 (R_m - R_f)_t + \\beta_2 \\mathrm{SMB}_t + \\beta_3 \\mathrm{HML}_t + \\epsilon_t, ~~~~~ \\epsilon_t \\sim N(0, \\sigma_\\epsilon^2)$$\n",
    "\n",
    "여기서 $R_f$는 무위험수익률, $R_i$는 자산 i에 대한 수익률, $R_m$은 시장수익률, $\\mathrm{SMB}_t$는 소형주의 평균 수익률, $\\mathrm{HML}_t$는 대형주들의 평균 수익률이다\n",
    "\n",
    "우선, 다중회귀분석을 진행해 보자"
   ],
   "metadata": {
    "collapsed": false
   },
   "id": "de182e8e9aa66453"
  },
  {
   "cell_type": "code",
   "execution_count": 19,
   "outputs": [
    {
     "name": "stdout",
     "output_type": "stream",
     "text": [
      "[*********************100%%**********************]  1 of 1 completed\n"
     ]
    },
    {
     "data": {
      "text/plain": "                Open      High       Low     Close  Adj Close     Volume\nDate                                                                    \n2000-01-03  0.936384  1.004464  0.907924  0.999442   0.848323  535796800\n2000-01-04  0.966518  0.987723  0.903460  0.915179   0.776801  512377600\n2000-01-05  0.926339  0.987165  0.919643  0.928571   0.788168  778321600\n2000-01-06  0.947545  0.955357  0.848214  0.848214   0.719961  767972800\n2000-01-07  0.861607  0.901786  0.852679  0.888393   0.754065  460734400",
      "text/html": "<div>\n<style scoped>\n    .dataframe tbody tr th:only-of-type {\n        vertical-align: middle;\n    }\n\n    .dataframe tbody tr th {\n        vertical-align: top;\n    }\n\n    .dataframe thead th {\n        text-align: right;\n    }\n</style>\n<table border=\"1\" class=\"dataframe\">\n  <thead>\n    <tr style=\"text-align: right;\">\n      <th></th>\n      <th>Open</th>\n      <th>High</th>\n      <th>Low</th>\n      <th>Close</th>\n      <th>Adj Close</th>\n      <th>Volume</th>\n    </tr>\n    <tr>\n      <th>Date</th>\n      <th></th>\n      <th></th>\n      <th></th>\n      <th></th>\n      <th></th>\n      <th></th>\n    </tr>\n  </thead>\n  <tbody>\n    <tr>\n      <th>2000-01-03</th>\n      <td>0.936384</td>\n      <td>1.004464</td>\n      <td>0.907924</td>\n      <td>0.999442</td>\n      <td>0.848323</td>\n      <td>535796800</td>\n    </tr>\n    <tr>\n      <th>2000-01-04</th>\n      <td>0.966518</td>\n      <td>0.987723</td>\n      <td>0.903460</td>\n      <td>0.915179</td>\n      <td>0.776801</td>\n      <td>512377600</td>\n    </tr>\n    <tr>\n      <th>2000-01-05</th>\n      <td>0.926339</td>\n      <td>0.987165</td>\n      <td>0.919643</td>\n      <td>0.928571</td>\n      <td>0.788168</td>\n      <td>778321600</td>\n    </tr>\n    <tr>\n      <th>2000-01-06</th>\n      <td>0.947545</td>\n      <td>0.955357</td>\n      <td>0.848214</td>\n      <td>0.848214</td>\n      <td>0.719961</td>\n      <td>767972800</td>\n    </tr>\n    <tr>\n      <th>2000-01-07</th>\n      <td>0.861607</td>\n      <td>0.901786</td>\n      <td>0.852679</td>\n      <td>0.888393</td>\n      <td>0.754065</td>\n      <td>460734400</td>\n    </tr>\n  </tbody>\n</table>\n</div>"
     },
     "execution_count": 19,
     "metadata": {},
     "output_type": "execute_result"
    }
   ],
   "source": [
    "import yfinance as yf\n",
    "\n",
    "start_date = '2000-01-01'\n",
    "end_date = '2023-11-01'\n",
    "\n",
    "apple = yf.download('AAPL', start = start_date, end = end_date)\n",
    "apple.head()"
   ],
   "metadata": {
    "collapsed": false,
    "ExecuteTime": {
     "end_time": "2023-11-09T03:41:05.153408Z",
     "start_time": "2023-11-09T03:41:03.543021Z"
    }
   },
   "id": "c40bee60436991e1"
  },
  {
   "cell_type": "code",
   "execution_count": 20,
   "outputs": [
    {
     "data": {
      "text/plain": "               apple  market-rf   smb   hml\n2000-01-14 -0.093623       2.07  1.96 -1.50\n2000-01-21 -0.000193       0.02  6.94 -2.81\n2000-01-28 -0.194052      -5.71  0.17  1.75\n2000-02-04 -0.047158       4.46  1.26 -2.94\n2000-02-11 -0.101080      -1.45  6.24 -2.83",
      "text/html": "<div>\n<style scoped>\n    .dataframe tbody tr th:only-of-type {\n        vertical-align: middle;\n    }\n\n    .dataframe tbody tr th {\n        vertical-align: top;\n    }\n\n    .dataframe thead th {\n        text-align: right;\n    }\n</style>\n<table border=\"1\" class=\"dataframe\">\n  <thead>\n    <tr style=\"text-align: right;\">\n      <th></th>\n      <th>apple</th>\n      <th>market-rf</th>\n      <th>smb</th>\n      <th>hml</th>\n    </tr>\n  </thead>\n  <tbody>\n    <tr>\n      <th>2000-01-14</th>\n      <td>-0.093623</td>\n      <td>2.07</td>\n      <td>1.96</td>\n      <td>-1.50</td>\n    </tr>\n    <tr>\n      <th>2000-01-21</th>\n      <td>-0.000193</td>\n      <td>0.02</td>\n      <td>6.94</td>\n      <td>-2.81</td>\n    </tr>\n    <tr>\n      <th>2000-01-28</th>\n      <td>-0.194052</td>\n      <td>-5.71</td>\n      <td>0.17</td>\n      <td>1.75</td>\n    </tr>\n    <tr>\n      <th>2000-02-04</th>\n      <td>-0.047158</td>\n      <td>4.46</td>\n      <td>1.26</td>\n      <td>-2.94</td>\n    </tr>\n    <tr>\n      <th>2000-02-11</th>\n      <td>-0.101080</td>\n      <td>-1.45</td>\n      <td>6.24</td>\n      <td>-2.83</td>\n    </tr>\n  </tbody>\n</table>\n</div>"
     },
     "execution_count": 20,
     "metadata": {},
     "output_type": "execute_result"
    }
   ],
   "source": [
    "apple = apple.resample('W-Fri').last()\n",
    "ret_apple = np.log(apple.Close) - np.log(apple.Close.shift(1))\n",
    "\n",
    "matrix = pd.concat([ret_apple - factor['RF'], factor.iloc[:,:-1]], axis = 1).dropna()\n",
    "matrix.columns = ['apple', 'market-rf', 'smb', 'hml']\n",
    "\n",
    "matrix.head()"
   ],
   "metadata": {
    "collapsed": false,
    "ExecuteTime": {
     "end_time": "2023-11-09T03:41:05.166524Z",
     "start_time": "2023-11-09T03:41:05.157953Z"
    }
   },
   "id": "af40bad4c7668806"
  },
  {
   "cell_type": "code",
   "execution_count": 21,
   "outputs": [
    {
     "name": "stdout",
     "output_type": "stream",
     "text": [
      "                            OLS Regression Results                            \n",
      "==============================================================================\n",
      "Dep. Variable:                  apple   R-squared:                       0.223\n",
      "Model:                            OLS   Adj. R-squared:                  0.221\n",
      "Method:                 Least Squares   F-statistic:                     90.83\n",
      "Date:                Thu, 09 Nov 2023   Prob (F-statistic):           1.12e-51\n",
      "Time:                        12:41:05   Log-Likelihood:                 1298.4\n",
      "No. Observations:                 953   AIC:                            -2589.\n",
      "Df Residuals:                     949   BIC:                            -2569.\n",
      "Df Model:                           3                                         \n",
      "Covariance Type:            nonrobust                                         \n",
      "==============================================================================\n",
      "                 coef    std err          t      P>|t|      [0.025      0.975]\n",
      "------------------------------------------------------------------------------\n",
      "const         -0.0299      0.002    -14.842      0.000      -0.034      -0.026\n",
      "market-rf      0.0125      0.001     14.898      0.000       0.011       0.014\n",
      "smb            0.0013      0.002      0.869      0.385      -0.002       0.004\n",
      "hml           -0.0089      0.001     -6.349      0.000      -0.012      -0.006\n",
      "==============================================================================\n",
      "Omnibus:                      665.859   Durbin-Watson:                   1.223\n",
      "Prob(Omnibus):                  0.000   Jarque-Bera (JB):            28075.633\n",
      "Skew:                          -2.646   Prob(JB):                         0.00\n",
      "Kurtosis:                      29.058   Cond. No.                         2.55\n",
      "==============================================================================\n",
      "\n",
      "Notes:\n",
      "[1] Standard Errors assume that the covariance matrix of the errors is correctly specified.\n"
     ]
    }
   ],
   "source": [
    "X = matrix.drop('apple', axis = 1)\n",
    "X = sm.add_constant(X)\n",
    "y = matrix['apple']\n",
    "\n",
    "X_train, X_test, y_train, y_test = train_test_split(X, y, test_size = 0.2, shuffle = False)\n",
    "\n",
    "model = sm.OLS(y_train, X_train)\n",
    "result = model.fit()\n",
    "print(result.summary())"
   ],
   "metadata": {
    "collapsed": false,
    "ExecuteTime": {
     "end_time": "2023-11-09T03:41:05.195088Z",
     "start_time": "2023-11-09T03:41:05.169123Z"
    }
   },
   "id": "a683ad7845bc072a"
  },
  {
   "cell_type": "code",
   "execution_count": 22,
   "outputs": [
    {
     "name": "stdout",
     "output_type": "stream",
     "text": [
      "Mean Squared Error: 0.002246933018794043\n",
      "R squared score: 0.2250979351027267\n"
     ]
    }
   ],
   "source": [
    "y_pred = result.predict(X_test)\n",
    "mse = mean_squared_error(y_test, y_pred)\n",
    "r2 = r2_score(y_test, y_pred)\n",
    "print(f\"Mean Squared Error: {mse}\")\n",
    "print(f\"R squared score: {r2}\")"
   ],
   "metadata": {
    "collapsed": false,
    "ExecuteTime": {
     "end_time": "2023-11-09T03:41:05.225810Z",
     "start_time": "2023-11-09T03:41:05.177811Z"
    }
   },
   "id": "a91b5280f67a4354"
  },
  {
   "cell_type": "markdown",
   "source": [
    "그렇다면, Regression Tree의 추정 결과는 어떻게 나올까?"
   ],
   "metadata": {
    "collapsed": false
   },
   "id": "b9d848faee5958dc"
  },
  {
   "cell_type": "code",
   "execution_count": 23,
   "outputs": [
    {
     "data": {
      "text/plain": "DecisionTreeRegressor(max_depth=3, random_state=42)",
      "text/html": "<style>#sk-container-id-4 {color: black;}#sk-container-id-4 pre{padding: 0;}#sk-container-id-4 div.sk-toggleable {background-color: white;}#sk-container-id-4 label.sk-toggleable__label {cursor: pointer;display: block;width: 100%;margin-bottom: 0;padding: 0.3em;box-sizing: border-box;text-align: center;}#sk-container-id-4 label.sk-toggleable__label-arrow:before {content: \"▸\";float: left;margin-right: 0.25em;color: #696969;}#sk-container-id-4 label.sk-toggleable__label-arrow:hover:before {color: black;}#sk-container-id-4 div.sk-estimator:hover label.sk-toggleable__label-arrow:before {color: black;}#sk-container-id-4 div.sk-toggleable__content {max-height: 0;max-width: 0;overflow: hidden;text-align: left;background-color: #f0f8ff;}#sk-container-id-4 div.sk-toggleable__content pre {margin: 0.2em;color: black;border-radius: 0.25em;background-color: #f0f8ff;}#sk-container-id-4 input.sk-toggleable__control:checked~div.sk-toggleable__content {max-height: 200px;max-width: 100%;overflow: auto;}#sk-container-id-4 input.sk-toggleable__control:checked~label.sk-toggleable__label-arrow:before {content: \"▾\";}#sk-container-id-4 div.sk-estimator input.sk-toggleable__control:checked~label.sk-toggleable__label {background-color: #d4ebff;}#sk-container-id-4 div.sk-label input.sk-toggleable__control:checked~label.sk-toggleable__label {background-color: #d4ebff;}#sk-container-id-4 input.sk-hidden--visually {border: 0;clip: rect(1px 1px 1px 1px);clip: rect(1px, 1px, 1px, 1px);height: 1px;margin: -1px;overflow: hidden;padding: 0;position: absolute;width: 1px;}#sk-container-id-4 div.sk-estimator {font-family: monospace;background-color: #f0f8ff;border: 1px dotted black;border-radius: 0.25em;box-sizing: border-box;margin-bottom: 0.5em;}#sk-container-id-4 div.sk-estimator:hover {background-color: #d4ebff;}#sk-container-id-4 div.sk-parallel-item::after {content: \"\";width: 100%;border-bottom: 1px solid gray;flex-grow: 1;}#sk-container-id-4 div.sk-label:hover label.sk-toggleable__label {background-color: #d4ebff;}#sk-container-id-4 div.sk-serial::before {content: \"\";position: absolute;border-left: 1px solid gray;box-sizing: border-box;top: 0;bottom: 0;left: 50%;z-index: 0;}#sk-container-id-4 div.sk-serial {display: flex;flex-direction: column;align-items: center;background-color: white;padding-right: 0.2em;padding-left: 0.2em;position: relative;}#sk-container-id-4 div.sk-item {position: relative;z-index: 1;}#sk-container-id-4 div.sk-parallel {display: flex;align-items: stretch;justify-content: center;background-color: white;position: relative;}#sk-container-id-4 div.sk-item::before, #sk-container-id-4 div.sk-parallel-item::before {content: \"\";position: absolute;border-left: 1px solid gray;box-sizing: border-box;top: 0;bottom: 0;left: 50%;z-index: -1;}#sk-container-id-4 div.sk-parallel-item {display: flex;flex-direction: column;z-index: 1;position: relative;background-color: white;}#sk-container-id-4 div.sk-parallel-item:first-child::after {align-self: flex-end;width: 50%;}#sk-container-id-4 div.sk-parallel-item:last-child::after {align-self: flex-start;width: 50%;}#sk-container-id-4 div.sk-parallel-item:only-child::after {width: 0;}#sk-container-id-4 div.sk-dashed-wrapped {border: 1px dashed gray;margin: 0 0.4em 0.5em 0.4em;box-sizing: border-box;padding-bottom: 0.4em;background-color: white;}#sk-container-id-4 div.sk-label label {font-family: monospace;font-weight: bold;display: inline-block;line-height: 1.2em;}#sk-container-id-4 div.sk-label-container {text-align: center;}#sk-container-id-4 div.sk-container {/* jupyter's `normalize.less` sets `[hidden] { display: none; }` but bootstrap.min.css set `[hidden] { display: none !important; }` so we also need the `!important` here to be able to override the default hidden behavior on the sphinx rendered scikit-learn.org. See: https://github.com/scikit-learn/scikit-learn/issues/21755 */display: inline-block !important;position: relative;}#sk-container-id-4 div.sk-text-repr-fallback {display: none;}</style><div id=\"sk-container-id-4\" class=\"sk-top-container\"><div class=\"sk-text-repr-fallback\"><pre>DecisionTreeRegressor(max_depth=3, random_state=42)</pre><b>In a Jupyter environment, please rerun this cell to show the HTML representation or trust the notebook. <br />On GitHub, the HTML representation is unable to render, please try loading this page with nbviewer.org.</b></div><div class=\"sk-container\" hidden><div class=\"sk-item\"><div class=\"sk-estimator sk-toggleable\"><input class=\"sk-toggleable__control sk-hidden--visually\" id=\"sk-estimator-id-4\" type=\"checkbox\" checked><label for=\"sk-estimator-id-4\" class=\"sk-toggleable__label sk-toggleable__label-arrow\">DecisionTreeRegressor</label><div class=\"sk-toggleable__content\"><pre>DecisionTreeRegressor(max_depth=3, random_state=42)</pre></div></div></div></div></div>"
     },
     "execution_count": 23,
     "metadata": {},
     "output_type": "execute_result"
    }
   ],
   "source": [
    "from sklearn.tree import DecisionTreeRegressor\n",
    "\n",
    "X = matrix.drop('apple', axis = 1)\n",
    "X = sm.add_constant(X)\n",
    "y = matrix['apple']\n",
    "\n",
    "X_train, X_test, y_train, y_test = train_test_split(X, y, test_size = 0.2, shuffle = False)\n",
    "\n",
    "tree = DecisionTreeRegressor(criterion = 'squared_error',\n",
    "                             max_depth = 3,\n",
    "                             random_state = 42)\n",
    "\n",
    "tree.fit(X_train, y_train)"
   ],
   "metadata": {
    "collapsed": false,
    "ExecuteTime": {
     "end_time": "2023-11-09T03:41:05.347147Z",
     "start_time": "2023-11-09T03:41:05.181634Z"
    }
   },
   "id": "51679b157c96aba1"
  },
  {
   "cell_type": "markdown",
   "source": [
    "Decision Tree에서는 coefficient대신 feature importance를 볼 수 있다. 이 결과를 통해 어떤 Feature가 예측에 있어서 영향을 주었는지 볼 수 있다"
   ],
   "metadata": {
    "collapsed": false
   },
   "id": "1cf89731fe4306a9"
  },
  {
   "cell_type": "code",
   "execution_count": 24,
   "outputs": [
    {
     "data": {
      "text/plain": "array([0.        , 0.73630803, 0.        , 0.26369197])"
     },
     "execution_count": 24,
     "metadata": {},
     "output_type": "execute_result"
    }
   ],
   "source": [
    "tree.feature_importances_"
   ],
   "metadata": {
    "collapsed": false,
    "ExecuteTime": {
     "end_time": "2023-11-09T03:41:05.348665Z",
     "start_time": "2023-11-09T03:41:05.226673Z"
    }
   },
   "id": "32442f7520cca4b9"
  },
  {
   "cell_type": "markdown",
   "source": [
    "예측에 대한 성능은 오히려 계량경제 모델보다 떨어지는 것으로 나타났다. 이는 과적합 규제가 제대로 되지 않았기 때문인 것으로 보인다"
   ],
   "metadata": {
    "collapsed": false
   },
   "id": "e729e60cdd5e9092"
  },
  {
   "cell_type": "code",
   "execution_count": 25,
   "outputs": [
    {
     "name": "stdout",
     "output_type": "stream",
     "text": [
      "Mean Squared Error: 0.002999012700096499\n",
      "R squared score: -0.034272545963658585\n"
     ]
    }
   ],
   "source": [
    "y_pred = tree.predict(X_test)\n",
    "mse = mean_squared_error(y_test, y_pred)\n",
    "r2 = r2_score(y_test, y_pred)\n",
    "print(f\"Mean Squared Error: {mse}\")\n",
    "print(f\"R squared score: {r2}\")"
   ],
   "metadata": {
    "collapsed": false,
    "ExecuteTime": {
     "end_time": "2023-11-09T03:41:05.365114Z",
     "start_time": "2023-11-09T03:41:05.231721Z"
    }
   },
   "id": "1478fff3b3f46590"
  },
  {
   "cell_type": "markdown",
   "source": [
    "#### Exercise 1\n",
    "\n",
    "임의의 NASDAQ 상장종목에 대해 다음을 수행하라\n",
    "\n",
    "**1.1** example 4에서 활용한 factor data를 기반으로 statsmodel을 사용해 다중회귀분석을 시행하라"
   ],
   "metadata": {
    "collapsed": false
   },
   "id": "99779418d15d8945"
  },
  {
   "cell_type": "code",
   "execution_count": 26,
   "outputs": [],
   "source": [
    "# Write your code here!"
   ],
   "metadata": {
    "collapsed": false,
    "ExecuteTime": {
     "end_time": "2023-11-09T03:41:05.365393Z",
     "start_time": "2023-11-09T03:41:05.235036Z"
    }
   },
   "id": "3cb8e3bf86ce1ffc"
  },
  {
   "cell_type": "markdown",
   "source": [
    "**1.2** Ridge Regression을 사용하여 coefficient를 추정하라. 1.1번과 어떤 차이가 있고, 이 추정량은 unbiased estimator인지 설명하라"
   ],
   "metadata": {
    "collapsed": false
   },
   "id": "796e7565b5457457"
  },
  {
   "cell_type": "code",
   "execution_count": 27,
   "outputs": [],
   "source": [
    "# Write your code here!"
   ],
   "metadata": {
    "collapsed": false,
    "ExecuteTime": {
     "end_time": "2023-11-09T03:41:05.369400Z",
     "start_time": "2023-11-09T03:41:05.238259Z"
    }
   },
   "id": "3fb09da03d90fa98"
  },
  {
   "cell_type": "markdown",
   "source": [
    "**1.3** SVR을 사용하여 회귀선을 추정하라. 선형모형과 어떤 차이가 있는지 설명하라. 여기서 추정된 coefficient는 신뢰할 수 있는가? 여기서 `C = 10`을 사용한다"
   ],
   "metadata": {
    "collapsed": false
   },
   "id": "6f548b094240399f"
  },
  {
   "cell_type": "code",
   "execution_count": 28,
   "outputs": [],
   "source": [
    "# Write your code here!"
   ],
   "metadata": {
    "collapsed": false,
    "ExecuteTime": {
     "end_time": "2023-11-09T03:41:05.369571Z",
     "start_time": "2023-11-09T03:41:05.240815Z"
    }
   },
   "id": "f6ee30c137d2af2f"
  },
  {
   "cell_type": "markdown",
   "source": [
    "**1.4** Regression Tree 모형을 사용하여 추정하라. 추정한 모형의 feature importance를 확인하라. 추정된 feature importance는 회귀 계수와 어떤 관계가 있는가?"
   ],
   "metadata": {
    "collapsed": false
   },
   "id": "8b9b6778e81b27c3"
  },
  {
   "cell_type": "code",
   "execution_count": 29,
   "outputs": [],
   "source": [
    "# Write your code here!"
   ],
   "metadata": {
    "collapsed": false,
    "ExecuteTime": {
     "end_time": "2023-11-09T03:41:05.369638Z",
     "start_time": "2023-11-09T03:41:05.243383Z"
    }
   },
   "id": "a27b851fd5e65e1b"
  },
  {
   "cell_type": "markdown",
   "source": [
    "**1.5** 위 Machine Learning 모형의 추정 결과로 선정한 종목이 소형주인지, 대형주인지 추론할 수 있는가? 이유를 들어 설명하라"
   ],
   "metadata": {
    "collapsed": false
   },
   "id": "d3d427390f0197a2"
  }
 ],
 "metadata": {
  "kernelspec": {
   "display_name": "Python 3",
   "language": "python",
   "name": "python3"
  },
  "language_info": {
   "codemirror_mode": {
    "name": "ipython",
    "version": 2
   },
   "file_extension": ".py",
   "mimetype": "text/x-python",
   "name": "python",
   "nbconvert_exporter": "python",
   "pygments_lexer": "ipython2",
   "version": "2.7.6"
  }
 },
 "nbformat": 4,
 "nbformat_minor": 5
}
