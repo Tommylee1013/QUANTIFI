{
 "cells": [
  {
   "cell_type": "markdown",
   "source": [
    "### Korean Security Market"
   ],
   "metadata": {
    "collapsed": false
   },
   "id": "67dab41a0e513619"
  },
  {
   "cell_type": "markdown",
   "source": [
    "#### 1. Data Import\n",
    "\n",
    "**1.1 KOSPI 상장기업 불러오기**\n",
    "\n",
    "Notion Database에 있는 `stock_list.csv`는 한국 KOSPI, KOSDAQ, KONEX에 상장되어 있는 모든 기업의 종목 정보를 저장한 파일이다. Code에서 0으로 끝나는 종목만이 거래가 원활하기 때문에 필터링 과정이 필요하다\n",
    "\n",
    "종목코드가 0으로 끝나는 ticker만을 필터링하여 상위 200개의 종목의 티커를 list형태로 저장하라"
   ],
   "metadata": {
    "collapsed": false
   },
   "id": "159192be474e14cd"
  },
  {
   "cell_type": "code",
   "execution_count": null,
   "id": "initial_id",
   "metadata": {
    "collapsed": true
   },
   "outputs": [],
   "source": [
    "import numpy as np\n",
    "import pandas as pd\n",
    "import matplotlib.pyplot as plt\n",
    "import warnings \n",
    "warnings.filterwarnings('ignore')"
   ]
  },
  {
   "cell_type": "code",
   "execution_count": null,
   "outputs": [],
   "source": [
    "# Write your code here!"
   ],
   "metadata": {
    "collapsed": false
   },
   "id": "5e9c2be535207660"
  },
  {
   "cell_type": "markdown",
   "source": [
    "**1.2 가격 정보 불러오기**\n",
    "\n",
    "아래의 library를 이용하여 2020년 1월 1일부터 2023년 11월 23일까지의 200개 종목에 대한 종가 데이터를 불러와 dataframe에 저장하라"
   ],
   "metadata": {
    "collapsed": false
   },
   "id": "efc674cbe580630e"
  },
  {
   "cell_type": "code",
   "execution_count": null,
   "outputs": [],
   "source": [
    "import pandas_datareader as pdr\n",
    "import datetime\n",
    "\n",
    "data = pd.DataFrame()\n",
    "\n",
    "start_date = datetime.datetime(2020, 1, 1)\n",
    "end_date = datetime.datetime(2023, 11, 23)\n",
    "\n",
    "# Write your code here!"
   ],
   "metadata": {
    "collapsed": false
   },
   "id": "8a93e50ab018a5f"
  },
  {
   "cell_type": "markdown",
   "source": [
    "**1.3 수익률 변환**\n",
    "\n",
    "log차분을 수행하여 안정적인 시계열 데이터로 변환하라. seaborn의 heatmap함수를 사용하여 자산간 상관성을 확인한다"
   ],
   "metadata": {
    "collapsed": false
   },
   "id": "fb60c64519f64f9a"
  },
  {
   "cell_type": "code",
   "execution_count": null,
   "outputs": [],
   "source": [
    "import seaborn as sns\n",
    "\n",
    "# Write your code here!"
   ],
   "metadata": {
    "collapsed": false
   },
   "id": "237ac401edb06e21"
  },
  {
   "cell_type": "markdown",
   "source": [
    "#### 2. Principal Components Analysis\n",
    "\n",
    "sklearn의 PCA를 활용하여 차원 축소를 수행하라. `n_components = 10`으로 지정한다. clustermap을 확인해 보자. 어떤 결과가 나오는가? clustering은 잘 수행이 되었는가?"
   ],
   "metadata": {
    "collapsed": false
   },
   "id": "e502d1456d2495a8"
  },
  {
   "cell_type": "code",
   "execution_count": null,
   "outputs": [],
   "source": [
    "from sklearn.decomposition import PCA\n",
    "\n",
    "# Write your code here!"
   ],
   "metadata": {
    "collapsed": false
   },
   "id": "a527df870b28c14b"
  },
  {
   "cell_type": "markdown",
   "source": [
    "#### 3. K means clustering\n",
    "\n",
    "sklearn의 KMeans를 사용하여 군집화를 수행하라. 군집화의 개수는 10으로 지정한다. 수행한 결과를 각각 mean-variance 평면과 시간에 따른 수익률 plot에 시각화해 보자. 어떤 결과를 얻을 수 있는가?"
   ],
   "metadata": {
    "collapsed": false
   },
   "id": "85fa66df4943b4d1"
  },
  {
   "cell_type": "code",
   "execution_count": null,
   "outputs": [],
   "source": [
    "from sklearn.cluster import KMeans\n",
    "\n",
    "# Write your code here!"
   ],
   "metadata": {
    "collapsed": false
   },
   "id": "2ba630baf3367d5d"
  },
  {
   "cell_type": "markdown",
   "source": [
    "#### 4. Hierarchical PCA\n",
    "\n",
    "자산 200개에 대한 Dendogram을 출력하고 clustermap을 확인해 보자. distance는 $\\sqrt{\\frac{1}{2}(1 - \\rho_{i,j})}$로 정의한다"
   ],
   "metadata": {
    "collapsed": false
   },
   "id": "bd9883b43f5446e5"
  },
  {
   "cell_type": "code",
   "execution_count": null,
   "outputs": [],
   "source": [
    "from scipy.cluster.hierarchy import dendrogram, linkage\n",
    "from scipy.spatial.distance import squareform\n",
    "\n",
    "# Write your code here!"
   ],
   "metadata": {
    "collapsed": false
   },
   "id": "7d7374c4d9772ae3"
  },
  {
   "cell_type": "markdown",
   "source": [
    "#### 5. Quasi Diagonalization\n",
    "\n",
    "4번의 결과에 이어 아래의 함수를 사용해 준 대각화를 시행해 보고 결과를 출력하라"
   ],
   "metadata": {
    "collapsed": false
   },
   "id": "155cbd4266c1b62e"
  },
  {
   "cell_type": "code",
   "execution_count": null,
   "outputs": [],
   "source": [
    "def QuasiDiag(link: np.ndarray) -> list:\n",
    "    link = link.astype(int)\n",
    "    sortIx = pd.Series([link[-1, 0], link[-1, 1]])\n",
    "    numItems = link[-1, 3]    # number of original items\n",
    "    while sortIx.max() >= numItems:\n",
    "        sortIx.index = range(0, sortIx.shape[0] * 2, 2)    # make space\n",
    "        df0 = sortIx[sortIx >= numItems]    # find clusters\n",
    "        i = df0.index\n",
    "        j = df0.values - numItems\n",
    "        sortIx[i] = link[j, 0]    # item 1\n",
    "        df0 = pd.Series(link[j, 1], index=i+1)\n",
    "        sortIx = pd.concat([sortIx, df0])    # item 2\n",
    "        sortIx = sortIx.sort_index()    # re-sort\n",
    "        sortIx.index = range(sortIx.shape[0])    # re-index\n",
    "    lst =  sortIx.tolist()\n",
    "    return lst"
   ],
   "metadata": {
    "collapsed": false
   },
   "id": "ed87c6148c362469"
  },
  {
   "cell_type": "code",
   "execution_count": null,
   "outputs": [],
   "source": [
    "# Write your code here!"
   ],
   "metadata": {
    "collapsed": false
   },
   "id": "d0f30b852fea1218"
  },
  {
   "cell_type": "markdown",
   "source": [
    "#### 6. IPCA Allocation\n",
    "\n",
    "5번의 추정된 결과와 아래의 함수를 사용하여 각 자산별 가중치를 계산하라"
   ],
   "metadata": {
    "collapsed": false
   },
   "id": "c5b9962de5caa7a0"
  },
  {
   "cell_type": "code",
   "execution_count": null,
   "outputs": [],
   "source": [
    "def InversePortfolio(cov, **kargs) : \n",
    "    ivp = 1 / np.diag(cov)\n",
    "    ivp /= ivp.sum()\n",
    "    return ivp\n",
    "\n",
    "def ClusterVar(cov, cItems) :\n",
    "    cov_ = pd.DataFrame(cov).loc[cItems, cItems] # 행렬 분할\n",
    "    w_ = InversePortfolio(cov_).reshape(-1, 1)\n",
    "    cVar = np.dot(np.dot(w_.T, cov_), w_)[0, 0]\n",
    "    return cVar\n",
    "\n",
    "def RecBipart(cov: np.ndarray, sortIx: list) -> pd.Series:\n",
    "    w = pd.Series([1] * len(sortIx), index=sortIx)\n",
    "    cItems = [sortIx]    # 모든 아이템을 하나의 군집으로 초기화\n",
    "    while len(cItems) > 0:\n",
    "        cItems = [i[int(j): int(k)] for i in cItems\n",
    "                  for j, k in ((0, len(i) / 2), (len(i) / 2, len(i))) if len(i) > 1]    # bi-section\n",
    "        for i in range(0, len(cItems), 2):    # parse in pairs\n",
    "            cItems0 = cItems[i]    # cluster 1\n",
    "            cItems1 = cItems[i+1]    # cluster 2\n",
    "            cVar0 = ClusterVar(cov, cItems0)\n",
    "            cVar1 = ClusterVar(cov, cItems1)\n",
    "            alpha = 1 - cVar0 / (cVar0 + cVar1)\n",
    "            w[cItems0] *= alpha    # weight 1\n",
    "            w[cItems1] *= 1 - alpha    # weight 2\n",
    "    return w"
   ],
   "metadata": {
    "collapsed": false
   },
   "id": "ce904f31a1f077d9"
  },
  {
   "cell_type": "code",
   "execution_count": null,
   "outputs": [],
   "source": [
    "# Write your code here!"
   ],
   "metadata": {
    "collapsed": false
   },
   "id": "34c20f45e1b0dbf0"
  }
 ],
 "metadata": {
  "kernelspec": {
   "display_name": "Python 3",
   "language": "python",
   "name": "python3"
  },
  "language_info": {
   "codemirror_mode": {
    "name": "ipython",
    "version": 2
   },
   "file_extension": ".py",
   "mimetype": "text/x-python",
   "name": "python",
   "nbconvert_exporter": "python",
   "pygments_lexer": "ipython2",
   "version": "2.7.6"
  }
 },
 "nbformat": 4,
 "nbformat_minor": 5
}
