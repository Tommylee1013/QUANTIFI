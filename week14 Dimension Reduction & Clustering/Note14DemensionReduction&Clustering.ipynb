{
 "cells": [
  {
   "cell_type": "markdown",
   "source": [
    "### Demension Reduction & Clustering"
   ],
   "metadata": {
    "collapsed": false
   },
   "id": "59fd6232ccae95ee"
  },
  {
   "cell_type": "markdown",
   "source": [
    "PCA -> KNN Clustering -> DBSCAN Clustering -> Hierarchical Clustering + AutoEncoder\n",
    "\n",
    "Exercise : KOSPI Clustering / Intro. Allocation "
   ],
   "metadata": {
    "collapsed": false
   },
   "id": "e38f168e34a4aaf6"
  }
 ],
 "metadata": {
  "kernelspec": {
   "display_name": "Python 3",
   "language": "python",
   "name": "python3"
  },
  "language_info": {
   "codemirror_mode": {
    "name": "ipython",
    "version": 2
   },
   "file_extension": ".py",
   "mimetype": "text/x-python",
   "name": "python",
   "nbconvert_exporter": "python",
   "pygments_lexer": "ipython2",
   "version": "2.7.6"
  }
 },
 "nbformat": 4,
 "nbformat_minor": 5
}
