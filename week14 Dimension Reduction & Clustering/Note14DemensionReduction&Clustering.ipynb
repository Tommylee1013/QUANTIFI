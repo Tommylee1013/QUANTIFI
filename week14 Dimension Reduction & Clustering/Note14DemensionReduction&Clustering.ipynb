{
 "cells": [
  {
   "cell_type": "markdown",
   "source": [
    "### Demension Reduction & Clustering"
   ],
   "metadata": {
    "collapsed": false
   },
   "id": "59fd6232ccae95ee"
  },
  {
   "cell_type": "markdown",
   "source": [
    "PCA -> KNN Clustering -> DBSCAN Clustering -> Hierarchical Clustering + AutoEncoder\n",
    "\n",
    "Exercise : KOSPI Clustering / Intro. Allocation "
   ],
   "metadata": {
    "collapsed": false
   },
   "id": "e38f168e34a4aaf6"
  },
  {
   "cell_type": "markdown",
   "source": [
    "#### 1. Principal Component Analysis\n",
    "\n",
    "statsmodels -> sklearn 소개하고 auto encoder 소개할것"
   ],
   "metadata": {
    "collapsed": false
   },
   "id": "98bb370b68873e86"
  },
  {
   "cell_type": "code",
   "execution_count": null,
   "outputs": [],
   "source": [],
   "metadata": {
    "collapsed": false
   },
   "id": "b609c580834cf317"
  },
  {
   "cell_type": "markdown",
   "source": [
    "#### 2. K-mean Clustering"
   ],
   "metadata": {
    "collapsed": false
   },
   "id": "7d743806f1f6b810"
  },
  {
   "cell_type": "code",
   "execution_count": null,
   "outputs": [],
   "source": [],
   "metadata": {
    "collapsed": false
   },
   "id": "6b038a7fe7b21a1a"
  },
  {
   "cell_type": "markdown",
   "source": [
    "#### 3. DBSCAN"
   ],
   "metadata": {
    "collapsed": false
   },
   "id": "984f7c7e4f529501"
  },
  {
   "cell_type": "code",
   "execution_count": null,
   "outputs": [],
   "source": [],
   "metadata": {
    "collapsed": false
   },
   "id": "b79895793158d9ab"
  },
  {
   "cell_type": "markdown",
   "source": [
    "#### 4. Hierarchical Clustering"
   ],
   "metadata": {
    "collapsed": false
   },
   "id": "dd807725cbbab0d8"
  },
  {
   "cell_type": "code",
   "execution_count": null,
   "outputs": [],
   "source": [],
   "metadata": {
    "collapsed": false
   },
   "id": "c6e91e8aa046e55e"
  }
 ],
 "metadata": {
  "kernelspec": {
   "display_name": "Python 3",
   "language": "python",
   "name": "python3"
  },
  "language_info": {
   "codemirror_mode": {
    "name": "ipython",
    "version": 2
   },
   "file_extension": ".py",
   "mimetype": "text/x-python",
   "name": "python",
   "nbconvert_exporter": "python",
   "pygments_lexer": "ipython2",
   "version": "2.7.6"
  }
 },
 "nbformat": 4,
 "nbformat_minor": 5
}
