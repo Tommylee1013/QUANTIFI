{
 "cells": [
  {
   "cell_type": "markdown",
   "source": [
    "### Homework 10\n",
    "\n",
    "이번 과제에서는 고빈도 데이터 및 시장미시구조론을 기반으로 하는 모형에 대해 실습해 보도록 한다"
   ],
   "metadata": {
    "collapsed": false
   },
   "id": "2dff15ed9b418836"
  },
  {
   "cell_type": "markdown",
   "source": [
    "#### 1. Data Import\n",
    "\n",
    "Notion Database내의 `005930.txt`는 2017-04-24 ~ 2019-05-15동안의 삼성전자 1분 단위의 거래 정보를 기록한 것이다. 아래의 library를 이용해 데이터를 가져오라"
   ],
   "metadata": {
    "collapsed": false
   },
   "id": "a3476d2768fbbd84"
  },
  {
   "cell_type": "code",
   "execution_count": null,
   "id": "initial_id",
   "metadata": {
    "collapsed": true,
    "is_executing": true
   },
   "outputs": [],
   "source": [
    "import pandas as pd\n",
    "import numpy as np"
   ]
  },
  {
   "cell_type": "code",
   "execution_count": null,
   "outputs": [],
   "source": [
    "# Write your code here"
   ],
   "metadata": {
    "collapsed": false,
    "is_executing": true
   },
   "id": "eb3eeecfa019472e"
  },
  {
   "cell_type": "markdown",
   "source": [
    "#### 2. Tick Rule\n",
    "\n",
    "close series에 대해 Tick Rule을 적용해 보자. 하락과 상승을 잘 잡아내는가?"
   ],
   "metadata": {
    "collapsed": false
   },
   "id": "df8274281541de8b"
  },
  {
   "cell_type": "code",
   "execution_count": null,
   "outputs": [],
   "source": [
    "import MicroStructure as ms"
   ],
   "metadata": {
    "collapsed": false,
    "is_executing": true
   },
   "id": "da280d16ebc1d9ce"
  },
  {
   "cell_type": "code",
   "execution_count": null,
   "outputs": [],
   "source": [
    "# Write your code here"
   ],
   "metadata": {
    "collapsed": false,
    "is_executing": true
   },
   "id": "c076b01de68d9af8"
  },
  {
   "cell_type": "markdown",
   "source": [
    "#### 3. Dollar Value\n",
    "\n",
    "dollar value는 거래량과 자산 가격의 곱으로 계산된다. 가격 계열의 Data Frame에 dollar value의 column을 새롭게 추가해 보자"
   ],
   "metadata": {
    "collapsed": false
   },
   "id": "f4be9999d534466f"
  },
  {
   "cell_type": "code",
   "execution_count": null,
   "outputs": [],
   "source": [
    "# Write your code here"
   ],
   "metadata": {
    "collapsed": false,
    "is_executing": true
   },
   "id": "5369fd76061ac06b"
  },
  {
   "cell_type": "markdown",
   "source": [
    "#### 4. Role Model\n",
    "\n",
    "Role Model을 이용하여 거래에 대한 비용을 추정해 보자. window = 20으로 지정한다. 추정시 3번에서 생성한 dollar value를 사용한다. roll impact는 어느 시점에서 가장 큰 것으로 추정되는가?"
   ],
   "metadata": {
    "collapsed": false
   },
   "id": "c8037483f759943c"
  },
  {
   "cell_type": "code",
   "execution_count": null,
   "outputs": [],
   "source": [
    "# Write your code here"
   ],
   "metadata": {
    "collapsed": false,
    "is_executing": true
   },
   "id": "8b65cbcba77f813d"
  },
  {
   "cell_type": "markdown",
   "source": [
    "#### 5. Becker Parkinson Volatility Estimator\n",
    "\n",
    "low, high series를 이용해서 Corwin-Schultz spread를 추정하라. 추정된 spread를 이용해 becker parkinson 변동성 추정량도 추정 가능하다. 스프레드가 벌어질수록 변동성이 커진다는 것은 어떻게 해석할 수 있을까?"
   ],
   "metadata": {
    "collapsed": false
   },
   "id": "aaa19dd15fcf604c"
  },
  {
   "cell_type": "code",
   "execution_count": null,
   "outputs": [],
   "source": [
    "# Write your code here"
   ],
   "metadata": {
    "collapsed": false,
    "is_executing": true
   },
   "id": "e2e77613d6b9f03d"
  },
  {
   "cell_type": "markdown",
   "source": [
    "#### 6. Kalman Filtering and GARCH Models\n",
    "\n",
    "Becker Parkinson Volatility Estimator를 Kalman Filtering하여 적합화하면 $\\mathrm{GARCH}$ 변동성 추정치와 비슷해진다. 8주차와 9주차에서 Kalman filtering과 GARCH 모형을 가져와 두 추정치를 비교하라. 여기서 Kalman Filtering은 Becker Parkinson 변동성 추정치에 적용하고, GARCH 모형은 일별 가격 계열에 대해 적용한다\n",
    "\n",
    "두 추정치는 비슷한 양상을 띄고 있는가? Becker Parkinson 변동성 추정치는 고빈도 데이터에서의 변동성 추정량으로써 설득력이 있는가?"
   ],
   "metadata": {
    "collapsed": false
   },
   "id": "7a5c760d6f940745"
  },
  {
   "cell_type": "code",
   "execution_count": null,
   "outputs": [],
   "source": [
    "# Write your code here"
   ],
   "metadata": {
    "collapsed": false,
    "is_executing": true
   },
   "id": "b1b1dd12b6ffa831"
  },
  {
   "cell_type": "markdown",
   "source": [
    "#### 7. Bar Sampling\n",
    "\n",
    "Samsung Electronics High Frequency Data에 대해서 다음을 추정하라"
   ],
   "metadata": {
    "collapsed": false
   },
   "id": "75e511885c65c81c"
  },
  {
   "cell_type": "markdown",
   "source": [
    "**7.1 Tick Bar Sampling**\n",
    "\n",
    "주어진 데이터에 대해 Tick count Sampling을 진행하라. 여기서 Tick의 `threshold = 150`이다"
   ],
   "metadata": {
    "collapsed": false
   },
   "id": "bb146d0746ff3ee7"
  },
  {
   "cell_type": "code",
   "execution_count": null,
   "outputs": [],
   "source": [
    "# Write your code here"
   ],
   "metadata": {
    "collapsed": false,
    "is_executing": true
   },
   "id": "f8bf2f0d165cefa6"
  },
  {
   "cell_type": "markdown",
   "source": [
    "**7.2 Volume Bar Sampling**\n",
    "\n",
    "주어진 데이터에 대해서 Volume count Sampling을 진행하라. 여기서 Volume의 `threshold = 1000000`이다"
   ],
   "metadata": {
    "collapsed": false
   },
   "id": "46b6c966973578d1"
  },
  {
   "cell_type": "code",
   "execution_count": null,
   "outputs": [],
   "source": [
    "# Write your code here"
   ],
   "metadata": {
    "collapsed": false,
    "is_executing": true
   },
   "id": "f80d511e1127515"
  },
  {
   "cell_type": "markdown",
   "source": [
    "**7.3 Dollar Value Bar Sampling**\n",
    "\n",
    "주어진 데이터에 대해서 Dollar Value count Sampling을 진행하라. 여기서 Dollar Value의 `threshold = 10e9`이다"
   ],
   "metadata": {
    "collapsed": false
   },
   "id": "7973024a5ba1070a"
  },
  {
   "cell_type": "code",
   "execution_count": null,
   "outputs": [],
   "source": [
    "# Write your code here"
   ],
   "metadata": {
    "collapsed": false,
    "is_executing": true
   },
   "id": "1ba74dfd2d0757be"
  },
  {
   "cell_type": "markdown",
   "source": [
    "**7.4 Sample Distribution**\n",
    "\n",
    "Time, Tick, Volume, Dollar로 표본추출된 샘플에 대해서 Histogram을 plotting하라. 어느 추출법을 통해 얻은 sample bar가 Normal Distribution에 가깝게 추출되었는가?"
   ],
   "metadata": {
    "collapsed": false
   },
   "id": "a213064af962a8e2"
  },
  {
   "cell_type": "code",
   "execution_count": null,
   "outputs": [],
   "source": [
    "# Write your code here"
   ],
   "metadata": {
    "collapsed": false,
    "is_executing": true
   },
   "id": "133d9977a2c2de49"
  }
 ],
 "metadata": {
  "kernelspec": {
   "display_name": "Python 3",
   "language": "python",
   "name": "python3"
  },
  "language_info": {
   "codemirror_mode": {
    "name": "ipython",
    "version": 2
   },
   "file_extension": ".py",
   "mimetype": "text/x-python",
   "name": "python",
   "nbconvert_exporter": "python",
   "pygments_lexer": "ipython2",
   "version": "2.7.6"
  }
 },
 "nbformat": 4,
 "nbformat_minor": 5
}
