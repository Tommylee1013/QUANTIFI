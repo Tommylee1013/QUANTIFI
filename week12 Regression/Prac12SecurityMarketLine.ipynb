{
 "cells": [
  {
   "cell_type": "markdown",
   "source": [
    "### Security Market Line\n",
    "\n",
    "증권시장선(Security Market Line)은 1985년 Dybvig가 Capital Asset Pricing Model을 기반으로 제시한 모형으로, 시스템 리스크인 자산의 beta와 자산 수익률의 관계로 표현된다\n",
    "\n",
    "$$E(r_i) - r_f = \\alpha_0 + \\alpha_1 \\frac{E(r_i) - r_f}{E(r_m) - r_f} + \\epsilon_i, ~~~~~ \\epsilon_i \\sim N(0,\\sigma_i^2)$$\n",
    "\n",
    "여기서 $E(r_i)$는 자산 i의 수익률이고, $r_f$는 무위험자산의 수익률, $E(r_m)$은 시장의 수익률이다. 즉, $E(r_m) - r_f$은 무위험시장 대비 시장의 초과수익률이고, $E(r_i) - r_f$는 무위험시장 대비 자산의 초과수익률이다\n",
    "\n",
    "$\\frac{E(r_i) - r_f}{E(r_m) - r_f}$는 자산의 beta라고 불리며, 포트폴리오 보유에 대한 risk premium이라고 해석할 수 있다.\n",
    "\n",
    "오늘 모형에서는 아래와 같이 설명변수가 하나 더 추가된 SML model을 사용한다\n",
    "\n",
    "$$E(r_i) - r_f = \\alpha_0 + \\alpha_1 \\frac{E(r_i) - r_f}{E(r_m) - r_f} + \\alpha_2 \\sigma_i + \\epsilon_i, ~~~~~ \\epsilon_i \\sim N(0,\\sigma_i^2)$$"
   ],
   "metadata": {
    "collapsed": false
   },
   "id": "79bdb8d9bd2ba942"
  },
  {
   "cell_type": "markdown",
   "source": [
    "#### 1. Data Import\n",
    "\n",
    "`feature_matrix.csv`는 French 교수가 조사한 미국 100개 산업별 portfolio 데이터 중 2010년부터 2023년 8월까지의 일별 수익률을 기반으로 제작된 데이터이다. 아래와 같은 column을 가지고 있다.\n",
    "\n",
    "- return : 포트폴리오의 초과 수익률\n",
    "- beta : 각 포트폴리오의 추정된 리스크 프리미엄(beta)\n",
    "- volatility : 각 포트폴리오의 추정된 변동성(sigma)\n",
    "\n",
    "아래의 라이브러리를 이용하여 data를 import하라"
   ],
   "metadata": {
    "collapsed": false
   },
   "id": "d888e269647a9a00"
  },
  {
   "cell_type": "code",
   "execution_count": null,
   "id": "initial_id",
   "metadata": {
    "collapsed": true
   },
   "outputs": [],
   "source": [
    "import pandas as pd\n",
    "import numpy as np"
   ]
  },
  {
   "cell_type": "markdown",
   "source": [
    "#### 2. Linear Regression\n",
    "\n",
    "아래의 library를 사용하여 OLS Model로 적합화하라. train test split은 0.3으로 지정하고 `random_state = 42`로 지정한다. test 데이터에 대해 추정된 MSE와 R2 score는 얼마인가?"
   ],
   "metadata": {
    "collapsed": false
   },
   "id": "c06381b0ef178d31"
  },
  {
   "cell_type": "code",
   "execution_count": null,
   "outputs": [],
   "source": [
    "import statsmodels.api as sm\n",
    "from sklearn.model_selection import train_test_split\n",
    "from sklearn.metrics import mean_squared_error, r2_score"
   ],
   "metadata": {
    "collapsed": false
   },
   "id": "ffb0761648026766"
  },
  {
   "cell_type": "markdown",
   "source": [
    "#### 3. Ridge Regression\n",
    "\n",
    "아래의 library를 사용하여 Ridge Regression으로 적합화하라. Hyperparameter `alpha = 0.001`로 지정한다. test 데이터에 대해 추정된 MSE와 R2 score는 얼마인가?"
   ],
   "metadata": {
    "collapsed": false
   },
   "id": "5e58516d90a677c6"
  },
  {
   "cell_type": "code",
   "execution_count": null,
   "outputs": [],
   "source": [
    "from sklearn.linear_model import Ridge"
   ],
   "metadata": {
    "collapsed": false
   },
   "id": "1ad8baf92ef54d09"
  },
  {
   "cell_type": "markdown",
   "source": [
    "#### 4. Support Vector Regression\n",
    "\n",
    "아래의 library를 사용하여 Support Vector Regression으로 적합화하라. Hyperparameter `C = 10`로 지정한다. kernel은 linear kernel을 사용하도록 한다. test 데이터에 대해 추정된 MSE와 R2 score는 얼마인가?"
   ],
   "metadata": {
    "collapsed": false
   },
   "id": "3f50a5987fe7ba69"
  },
  {
   "cell_type": "code",
   "execution_count": null,
   "outputs": [],
   "source": [
    "from sklearn.svm import SVR"
   ],
   "metadata": {
    "collapsed": false
   },
   "id": "6545b7e2b92ff82b"
  },
  {
   "cell_type": "markdown",
   "source": [
    "#### 5. Regression Tree\n",
    "\n",
    "아래의 library를 사용하여 DecisionTree Regressor로 적합화하라. Hyperparameter `creterion = 'squared_error', max_depth = 4, random_state = 42`로 지정한다. test 데이터에 대해 추정된 MSE와 R2 score는 얼마인가?"
   ],
   "metadata": {
    "collapsed": false
   },
   "id": "414cde210db1a2fa"
  },
  {
   "cell_type": "code",
   "execution_count": null,
   "outputs": [],
   "source": [
    "from sklearn.tree import DecisionTreeRegressor"
   ],
   "metadata": {
    "collapsed": false
   },
   "id": "6e0ac32360714931"
  },
  {
   "cell_type": "markdown",
   "source": [
    "#### 6. 모형 추정 결과\n",
    "\n",
    "각 모형별 추정 결과를 비교하라. 어떤 모형을 사용하기에 가장 적합한가? 금융에서 머신러닝 프로젝트가 종종 실패하는 이유를 추론할 수 있는가?"
   ],
   "metadata": {
    "collapsed": false
   },
   "id": "8ea3ac0369990b83"
  }
 ],
 "metadata": {
  "kernelspec": {
   "display_name": "Python 3",
   "language": "python",
   "name": "python3"
  },
  "language_info": {
   "codemirror_mode": {
    "name": "ipython",
    "version": 2
   },
   "file_extension": ".py",
   "mimetype": "text/x-python",
   "name": "python",
   "nbconvert_exporter": "python",
   "pygments_lexer": "ipython2",
   "version": "2.7.6"
  }
 },
 "nbformat": 4,
 "nbformat_minor": 5
}
