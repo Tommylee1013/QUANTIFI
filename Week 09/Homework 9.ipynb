{
 "cells": [
  {
   "cell_type": "markdown",
   "source": [
    "### Homework 9\n",
    "\n",
    "이번 과제에서는 Kalman Filtering, Smoothering을 비롯해 평활화에 관련된 문제를 실습해 보도록 한다"
   ],
   "metadata": {
    "collapsed": false
   },
   "id": "edd14144607c52f8"
  },
  {
   "cell_type": "markdown",
   "source": [
    "#### 1. Data Import\n",
    "\n",
    "`pandas.read_csv()`를 이용해 아래의 두 가지 데이터를 준비하도록 한다\n",
    "\n",
    "- Gold_USD.csv : 일별 금 가격 (Commodity)\n",
    "- USD_KRW.csv : 일별 원-달러 환율"
   ],
   "metadata": {
    "collapsed": false
   },
   "id": "34c5008f6b9b588d"
  },
  {
   "cell_type": "code",
   "execution_count": null,
   "id": "initial_id",
   "metadata": {
    "collapsed": true
   },
   "outputs": [],
   "source": [
    "import numpy as np\n",
    "import pandas as pd\n",
    "\n",
    "# write your code here!"
   ]
  },
  {
   "cell_type": "markdown",
   "source": [
    "**1.1 Data Preprocessing**\n",
    "\n",
    "준비된 데이터는 최근 날짜에서 과거날짜로, 즉, 역순으로 정렬되어 있다. 적절한 방법을 이용하여 데이터를 과거-현재 순으로 정렬하라"
   ],
   "metadata": {
    "collapsed": false
   },
   "id": "8f55c6ab65d439b5"
  },
  {
   "cell_type": "code",
   "execution_count": null,
   "outputs": [],
   "source": [
    "# write your code here!"
   ],
   "metadata": {
    "collapsed": false
   },
   "id": "a3c4bab3426f5f1"
  },
  {
   "cell_type": "markdown",
   "source": [
    "**1.2 Datetime Index**\n",
    "\n",
    "분석의 편리함을 위해 준비된 데이터의 index를 적절한 방법을 이용해 datetime index로 변환하라. pandas에는 이를 위한 method가 정의되어 있다 (검색을 추천함)"
   ],
   "metadata": {
    "collapsed": false
   },
   "id": "14c57d04d6a6c604"
  },
  {
   "cell_type": "code",
   "execution_count": 1,
   "outputs": [],
   "source": [
    "# write your code here!"
   ],
   "metadata": {
    "collapsed": false,
    "ExecuteTime": {
     "end_time": "2023-09-27T15:56:08.957043Z",
     "start_time": "2023-09-27T15:56:08.954038Z"
    }
   },
   "id": "c4938d90a66d4cee"
  },
  {
   "cell_type": "markdown",
   "source": [
    "#### 2. State Space models\n",
    "\n",
    "**2.1 $\\mathrm{ARMA}$ models**\n",
    "\n",
    "두 자료에 대하여 적절한 차수를 탐색해 $\\mathrm{ARMA}$모형을 추정하라. 단, 가격은 종가를 기준으로 한다"
   ],
   "metadata": {
    "collapsed": false
   },
   "id": "a43556021fe1e3b8"
  },
  {
   "cell_type": "code",
   "execution_count": null,
   "outputs": [],
   "source": [
    "# write your code here!"
   ],
   "metadata": {
    "collapsed": false
   },
   "id": "6f253fc6c884cc30"
  },
  {
   "cell_type": "markdown",
   "source": [
    "**2.2 Kalman Filtering**\n",
    "\n",
    "준비된 `SpectralAnalysisStateSpaceModel.py`를 활용하여 Kalman Filtering을 수행하라. **2.1**에서 추정한 $\\mathrm{ARMA}$모형과 비교하라. $\\mathrm{ARMA}$모형은 state space model이라고 볼 수 있는가?"
   ],
   "metadata": {
    "collapsed": false
   },
   "id": "3a252f3a7abcce28"
  },
  {
   "cell_type": "code",
   "execution_count": null,
   "outputs": [],
   "source": [
    "# write your code here!"
   ],
   "metadata": {
    "collapsed": false
   },
   "id": "bd4b700b445848ad"
  },
  {
   "cell_type": "markdown",
   "source": [
    "#### 3. Kalman Smoothing\n",
    "\n",
    "**3.1 Estimate Kalman Smoother**\n",
    "\n",
    "아래의 함수를 이용하여 USD/KRW과 GOLD 가격에 대해 Kalman Smoothing을 진행하라. 단, q = 0.001로 지정한다."
   ],
   "metadata": {
    "collapsed": false
   },
   "id": "43130f95ef67d162"
  },
  {
   "cell_type": "code",
   "execution_count": null,
   "outputs": [],
   "source": [
    "from statsmodels.tsa.statespace.mlemodel import MLEModel\n",
    "def kalman_smoothing(close : pd.Series, \n",
    "                     q : float, dt : float = 1.0, s : float = 0.5,\n",
    "                     A : np.array = np.array([[1]]), \n",
    "                     Q : np.array = np.array([[1]]), \n",
    "                     H : np.array = np.array([[1]]), \n",
    "                     R : np.array = np.eye(1),\n",
    "                     m0 : np.array = np.array([[1]]),\n",
    "                     P0 : np.array = np.eye(1),\n",
    "                     k_state : int = 1) -> pd.DataFrame :\n",
    "    Q = q * Q\n",
    "    R = s ** 2 * R\n",
    "\n",
    "    kf = MLEModel(close, k_states = k_state)\n",
    "    kf._state_names = ['x1']\n",
    "    kf['design'] = H\n",
    "    kf['obs_cov'] = R\n",
    "    kf['transition'] = A\n",
    "    kf['selection'] = np.eye(1)\n",
    "    kf['state_cov'] = Q\n",
    "\n",
    "    kf.initialize_known(A @ m0[:, 0], A @ P0 @ A.T + Q)\n",
    "    res = kf.smooth(params = [])\n",
    "    output = pd.DataFrame(res.states.smoothed.x1.values, index = close.index, columns = ['smoothered'])\n",
    "    \n",
    "    return output"
   ],
   "metadata": {
    "collapsed": false
   },
   "id": "e7675fc46dcb7f94"
  },
  {
   "cell_type": "code",
   "execution_count": null,
   "outputs": [],
   "source": [
    "# write your code here!"
   ],
   "metadata": {
    "collapsed": false
   },
   "id": "f7db8fbb62ddc449"
  },
  {
   "cell_type": "markdown",
   "source": [
    "**3.2 plotting**\n",
    "\n",
    "kalman smoothe된 두 변수를 plotting하라. 비슷한 추세를 가지고 있는가?"
   ],
   "metadata": {
    "collapsed": false
   },
   "id": "171ca34ba4f7a3a6"
  },
  {
   "cell_type": "code",
   "execution_count": null,
   "outputs": [],
   "source": [
    "# write your code here!"
   ],
   "metadata": {
    "collapsed": false
   },
   "id": "5e57039ce66c110d"
  },
  {
   "cell_type": "markdown",
   "source": [
    "#### 4. Kernel Smoothing\n",
    "\n",
    "Locally Weighted Scatterplot Smoothing(LOESS, 국소회귀평활화)은 smoothing방법 중 하나이다. 자세한 내용은 아래 article를 참조하도록 하자\n",
    "\n",
    "https://towardsdatascience.com/loess-373d43b03564\n",
    "\n",
    "`statsmodels.api.nonparametric.lowess`에서는 LOESS평활화를 추정할 수 있다. `lowess()`함수의 대표적인 parameter는 아래와 같다\n",
    "\n",
    "```python\n",
    "statsmodels.nonparametric.smoothers_lowess.lowess(\n",
    "    endog, \n",
    "    exog, \n",
    "    frac = 0.6666666666666666, \n",
    "    it=3, \n",
    "    delta=0.0, \n",
    "    xvals=None, \n",
    "    is_sorted=False, \n",
    "    missing='drop', \n",
    "    return_sorted=True)\n",
    "```\n",
    "\n",
    "endog에는 가격계열의 pandas.Series를 지정하고, exog에는 `np.arange(len(pd.Series))`를 지정하면 된다. `frac`은 평활화에 가장 중요한 역할을 하는 parameter로, **지정한 값 만큼 local band를 지정하여 회귀를 진행**한다. 예를 들어, `frac=1`인 경우 전 구간에서 회귀를 진행하는 것이고, `frac=0.5`를 지정하면 전 구간에서 절반의 기간만큼 회귀를 진행한다\n",
    "\n",
    "`frac=0.1`을 지정하여 USD/KRW과 GOLD가격 데이터에 대한 smoothing을 진행하고 3번의 결과와 비교하라. 어떠한 차이가 있는가?"
   ],
   "metadata": {
    "collapsed": false
   },
   "id": "2f5acda53633a3fa"
  },
  {
   "cell_type": "code",
   "execution_count": null,
   "outputs": [],
   "source": [
    "import statsmodels.api as sm\n",
    "\n",
    "# write your code here!"
   ],
   "metadata": {
    "collapsed": false
   },
   "id": "e215c9f3a61efd9f"
  },
  {
   "cell_type": "markdown",
   "source": [
    "#### 5. Structural Change\n",
    "\n",
    "Smoothing의 가장 큰 장점은 시장의 국면을 쉽게 판단할 수 있다는 것이다. smoothing 결과로 본 USD/KRW 시장과 GOLD가격 시장은 어느 시기가 활황이었고, 어느 시기가 불황이었는가?\n",
    "이 시기는 전세계적으로 경기 침체가 일어난 시기와 어떠한 관계가 있는가?"
   ],
   "metadata": {
    "collapsed": false
   },
   "id": "bcb82806a102fc0d"
  }
 ],
 "metadata": {
  "kernelspec": {
   "display_name": "Python 3",
   "language": "python",
   "name": "python3"
  },
  "language_info": {
   "codemirror_mode": {
    "name": "ipython",
    "version": 2
   },
   "file_extension": ".py",
   "mimetype": "text/x-python",
   "name": "python",
   "nbconvert_exporter": "python",
   "pygments_lexer": "ipython2",
   "version": "2.7.6"
  }
 },
 "nbformat": 4,
 "nbformat_minor": 5
}
