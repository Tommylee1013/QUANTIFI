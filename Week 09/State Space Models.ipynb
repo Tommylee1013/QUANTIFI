{
 "cells": [
  {
   "cell_type": "markdown",
   "source": [
    "### State-Space Models and Kalman Filter\n",
    "\n",
    "state-space model과 ARIMA model간 관계를 논하고 Kalman filter에 대해 이해한다"
   ],
   "metadata": {
    "collapsed": false
   }
  },
  {
   "cell_type": "markdown",
   "source": [
    "#### 1. Local Trend Model\n",
    "\n",
    "단변량 시계열 $y_t$가 아래의 식을 만족한다고 가정하자\n",
    "\n",
    "$$y_t = \\mu_t + e_t, ~~~~~ e_t \\sim N(0, \\sigma_e^2)$$\n",
    "$$\\mu_{t+1} = \\mu_t + \\eta_t, ~~~~~ \\eta_t \\sim N(0, \\sigma_\\eta^2)$$\n",
    "\n",
    "여기서 $\\{e_t\\}$와 $\\{\\eta_t\\}$는 각각 Gaussian white noise series이고, t는 시간에 대한 sequential series이다. 최초의 값 $\\mu_1$이 알려져 있거나 분포가 주어져 있고, 각각 시점에 대해 오차항 $\\{e_t\\}$와 $\\{\\eta_t\\}$는 독립적이다. 여기서 $\\mu_t$는 *pure random walk*이고, $y_t$는 $\\mu_t$에서 오차항 $e_t$가 추가된 관측된 시계열이다. 종합적으로 미루어 볼 때, $\\mu_t$는 즉각적으로 관측이 되지 않는 trend이고, $y_t$는 오차항을 포함한 관측되는 데이터이다\n",
    "\n",
    "위 모형을 linear Gaussian state-space model이라고 하고, $\\mu_t$는 state이라고 한다. $y_t$와 state $\\mu_t$를 측정오차 $e_t$를 포함한 observation error라고 한다. 또한 이 모형은 local-level model이라고도 불리며, 이는 구조적 시계열 모형의 예 중 하나이다"
   ],
   "metadata": {
    "collapsed": false
   }
  },
  {
   "cell_type": "markdown",
   "source": [
    "**$\\mathrm{ARIMA}$ 모형과의 관계**\n",
    "\n",
    "$\\mathrm{ARIMA(0,1,1)}$ 모형을 만족하는 $y_t$가 아래와 같은 모형을 만족한다고 하자\n",
    "\n",
    "$$(1-B)y_t = (1-\\theta B)a_t$$\n",
    "\n",
    "여기서 $\\{a_t\\}$는 평균이 0, 분산이 $\\sigma_a^2$인 Gaussian white noise이다. value $\\theta$와 $\\sigma_a$는 $\\sigma_e, \\sigma_\\eta$에 의해 결정된다. 최종적으로 다음과 같은 식을 얻을 수 있다\n",
    "\n",
    "$$(1-B)\\mu_{t+1} = \\eta_t,~~~~~ \\mu_{t+1} = \\frac{1}{1-B}\\eta_t$$\n",
    "\n",
    "위 식을 이용해, 맨 위의 식 $y_t$를 다시쓰면\n",
    "\n",
    "$$y_t = \\frac{1}{1-B}\\eta_{t-1} + e_t$$\n",
    "$$(1-B)y_t = \\eta_{t-1} + e_t - e_{t-1}$$"
   ],
   "metadata": {
    "collapsed": false
   }
  },
  {
   "cell_type": "code",
   "execution_count": null,
   "metadata": {
    "collapsed": true
   },
   "outputs": [],
   "source": []
  }
 ],
 "metadata": {
  "kernelspec": {
   "display_name": "Python 3",
   "language": "python",
   "name": "python3"
  },
  "language_info": {
   "codemirror_mode": {
    "name": "ipython",
    "version": 2
   },
   "file_extension": ".py",
   "mimetype": "text/x-python",
   "name": "python",
   "nbconvert_exporter": "python",
   "pygments_lexer": "ipython2",
   "version": "2.7.6"
  }
 },
 "nbformat": 4,
 "nbformat_minor": 0
}
