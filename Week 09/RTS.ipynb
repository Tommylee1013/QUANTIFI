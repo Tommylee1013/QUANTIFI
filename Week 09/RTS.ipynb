{
 "cells": [
  {
   "cell_type": "markdown",
   "source": [
    "#### 4. RTS smoothing\n",
    "\n",
    "RTS smoothing은 Kalman smoothing의 일반화된 평활화 방법이라 볼 수 있다. $j = n, n-1, \\dots, 1$의 sequential에서 parameter $p(z_j|x_{1:n})$을 계산한다\n",
    "\n",
    "먼저, $j=n$을 고려해 보자. kalman filter에서 고려된 것과 같이, $p(z_n | x_{1:n}) = N(z_n|\\hat \\mu_n, \\hat V_n)$이다. 여기서 $\\mu_n, V_n$은 칼만 필터에 의해 계산된 최종 단계의 평균과 분산이다\n",
    "\n",
    "이를 일반화하여 모든 단계에서의 $j$를 생각하여 $p(z_{j+1} | x_{1:n}) = N(z_{j+1}|x_{1:n})$을 가정해 보자. 그러면 parameter p는 아래와 같이 결합확률분포로 볼 수 있다\n",
    "\n",
    "$$p(z_j | x_{1:n}) = \\int p(z_j | z_{j+1}, x_{1:n})p(z_{j+1}|x_{1:n})dz_{j+1}$$\n",
    "\n",
    "**backpropagation**\n",
    "\n",
    "$p(z_{j+1}|x_{1:n}) = N(z_{j+1} | \\hat \\mu_{j+1}, \\hat V_{j+1})$을 알고 있지만, $p(z_{j}|z_{j+1}x_{1:n})$의 parameter를 얻기 위해서는 몇가지 계산 과정이 필요하다\n",
    "\n",
    "$$p(z_j |z_{j+1}, x_{1:n}) ∝_{z_j} p(z_j , z_{j+1}, x_{1:n}) = p(z_j , x_{1:j} )p(z_{j+1}|z_j )p(x_{j+1:n}|z_{j+1})$$\n",
    "$$∝_{z_j} p(z_{j+1}|z_j )p(z_j |x_{1:j} ) = N (z_{j+1}|F z_j , Q)N (z_j |μ_j , V_j )$$\n",
    "$$∝_{z_j} N(z_j μ_{j+K}(z_{j+1}−Fμ_j),(I−KF)V_j)$$\n",
    "\n"
   ],
   "metadata": {
    "collapsed": false
   },
   "id": "5f11858dbb796041"
  },
  {
   "cell_type": "code",
   "execution_count": null,
   "id": "initial_id",
   "metadata": {
    "collapsed": true
   },
   "outputs": [],
   "source": [
    "noise = [0.01, 0.1, 1, 5, 10]\n",
    "Q = [0.00001, 0.0001, 0.001, 0.01, 0.1]\n",
    "\n",
    "fig, axes = plt.subplots(len(noise), len(Q), figsize=(24, 16))\n",
    "\n",
    "for x, i in enumerate(noise):\n",
    "    for y, j in enumerate(Q):\n",
    "        result = sas.calculate_rts(kospi, noise = i, Q = j)\n",
    "        result.plot(ax = axes[x, y], title = \"noise = {}, Q = {}\".format(i, j), grid = False)\n",
    "\n",
    "plt.tight_layout()\n",
    "plt.show()"
   ]
  }
 ],
 "metadata": {
  "kernelspec": {
   "display_name": "Python 3",
   "language": "python",
   "name": "python3"
  },
  "language_info": {
   "codemirror_mode": {
    "name": "ipython",
    "version": 2
   },
   "file_extension": ".py",
   "mimetype": "text/x-python",
   "name": "python",
   "nbconvert_exporter": "python",
   "pygments_lexer": "ipython2",
   "version": "2.7.6"
  }
 },
 "nbformat": 4,
 "nbformat_minor": 5
}
