{
 "cells": [
  {
   "cell_type": "markdown",
   "source": [
    "### Meta Labeling II\n",
    "\n",
    "Meta Labeling은 Marcos Lopez de Prado(2018)가 저서 Advances in Financial Machine Learning에서 제안한 모형으로, labeling문제에 직면한 금융 머신러닝 프로젝트에 적절한 방법을 제시한다. 다음과 같은 논리로 이뤄진다\n",
    "\n",
    "1. Feature 준비 : 자산에 대한 가격 데이터, technical feature등을 포함한 feature matrix를 준비한다\n",
    "2. Primary Model : 자산의 가격이 상승할지, 하강할지 판단하는 모형이다. 여기에는 자신만의 판단 기준을 내세울 수 있으며, 때로는 애널리스트의 판단이 될 수 있다\n",
    "3. Secondary Model : Primary Model에서 나온 정보를 가지고 거래를 집행할지, 하지 않을지를 판단하는 모형이다. 거래 집행 유무만 판단하므로 이진 분류 문제가 된다\n",
    "\n",
    "오늘은 13주차에 이어서 technical feature를 이용해 간단한 이동평균 매수매도 전략을 Primary Model로 제작한 후, Ensemble Model을 활용하여 Secondary Model을 제작해 매매 의사결정 모형을 만드는 것을 목표로 한다"
   ],
   "metadata": {
    "collapsed": false
   },
   "id": "bfd6c6165c59d18a"
  },
  {
   "cell_type": "markdown",
   "source": [
    "#### 1. Data Import\n",
    "\n",
    "아래의 library를 활용해 Apple의 가격 시계열을 불러오자. 한국은 공매도 집행이 금지되었으므로 고려하지 않는다. 기간은 2000년 1월 1일부터 12월 22일까지로 지정한다. 시계열이므로 정상성을 위해 로그 차분을 진행한다"
   ],
   "metadata": {
    "collapsed": false
   },
   "id": "f66824e62cf3a619"
  },
  {
   "cell_type": "code",
   "execution_count": 21,
   "id": "initial_id",
   "metadata": {
    "collapsed": true,
    "ExecuteTime": {
     "end_time": "2023-12-22T11:40:02.744237Z",
     "start_time": "2023-12-22T11:40:01.656476Z"
    }
   },
   "outputs": [
    {
     "name": "stdout",
     "output_type": "stream",
     "text": [
      "[*********************100%%**********************]  1 of 1 completed\n"
     ]
    },
    {
     "data": {
      "text/plain": "Date\n2000-01-04   -0.088077\n2000-01-05    0.014527\n2000-01-06   -0.090514\n2000-01-07    0.046281\n2000-01-10   -0.017744\nName: Close, dtype: float64"
     },
     "execution_count": 21,
     "metadata": {},
     "output_type": "execute_result"
    }
   ],
   "source": [
    "import yfinance as yf\n",
    "import pandas as pd\n",
    "import numpy as np\n",
    "\n",
    "start_date = '2000-01-01'\n",
    "end_date = '2023-12-23'\n",
    "\n",
    "apple = yf.download('AAPL', start = start_date, end = end_date)\n",
    "apple_ret = np.log(apple.Close / apple.Close.shift(1)).dropna()\n",
    "apple_ret.head()"
   ]
  },
  {
   "cell_type": "markdown",
   "source": [
    "#### 2. Fractionally Differentiated Features\n",
    "\n",
    "Prado(2018)는 저서 Advances in Financial Machine Learning을 통해 시장의 장기 기억을 담고 있는 시계열의 경우 Machine Learning 학습에 도움이 된다고 주장하였다\n",
    "\n",
    "`IntegratedSeries.py`의 함수를 이용하여 원 시계열 데이터에 0.6차분을 수행하라. 사용 방법은 7주차 내용을 참고하라"
   ],
   "metadata": {
    "collapsed": false
   },
   "id": "3441071b249a1661"
  },
  {
   "cell_type": "code",
   "execution_count": 22,
   "outputs": [],
   "source": [
    "import IntegratedSeries as IS\n",
    "import statsmodels.api as sm"
   ],
   "metadata": {
    "collapsed": false,
    "ExecuteTime": {
     "end_time": "2023-12-22T11:40:03.128755Z",
     "start_time": "2023-12-22T11:40:03.122167Z"
    }
   },
   "id": "4c2beb36030c6f8e"
  },
  {
   "cell_type": "code",
   "execution_count": 23,
   "outputs": [
    {
     "name": "stderr",
     "output_type": "stream",
     "text": [
      "/Users/junghunlee/Desktop/Pycharm/QUANTIFI/week15 Ensemble Models/IntegratedSeries.py:29: FutureWarning: The default dtype for empty Series will be 'object' instead of 'float64' in a future version. Specify a dtype explicitly to silence this warning.\n",
      "  df_ = pd.Series()\n"
     ]
    }
   ],
   "source": [
    "apple_d = IS.fracDiff_FFD(apple[['Close']], 0.6)"
   ],
   "metadata": {
    "collapsed": false,
    "ExecuteTime": {
     "end_time": "2023-12-22T11:40:04.758614Z",
     "start_time": "2023-12-22T11:40:03.601493Z"
    }
   },
   "id": "28380f7bef62fab3"
  },
  {
   "cell_type": "code",
   "execution_count": 24,
   "outputs": [],
   "source": [
    "apple['fracdiff'] = apple_d"
   ],
   "metadata": {
    "collapsed": false,
    "ExecuteTime": {
     "end_time": "2023-12-22T11:40:04.764954Z",
     "start_time": "2023-12-22T11:40:04.759709Z"
    }
   },
   "id": "f217f60619597c03"
  },
  {
   "cell_type": "markdown",
   "source": [
    "#### 3. Technical Features\n",
    "\n",
    "`ta` library에는 다양한 기술적 분석들에 사용 가능한 feature를 제작해 준다. ta library를 활용하여 다음과 같은 feature를 만들어 주도록 한다\n",
    "\n",
    "- money flow index : window = 20\n",
    "- on balance volume : window = 20\n",
    "- rsi : window = 20\n",
    "- bollinger band : window = 20, window_dev = 1\n",
    "- volume weighted average price : window = 20\n",
    "- tsi indicator : window_fast = 13, window_slow = 25"
   ],
   "metadata": {
    "collapsed": false
   },
   "id": "2804f600a16c39e6"
  },
  {
   "cell_type": "code",
   "execution_count": 25,
   "outputs": [],
   "source": [
    "from ta.volatility import BollingerBands\n",
    "from ta.volume import money_flow_index, on_balance_volume\n",
    "from ta.momentum import rsi\n",
    "from ta.volume import volume_weighted_average_price\n",
    "from ta.momentum import tsi\n",
    "\n",
    "indicator_bb = BollingerBands(close = apple[\"Close\"], window = 20, window_dev = 1)\n",
    "\n",
    "apple['bb_bbm'] = indicator_bb.bollinger_mavg()\n",
    "apple['bb_bbh'] = indicator_bb.bollinger_hband()\n",
    "apple['bb_bbl'] = indicator_bb.bollinger_lband()\n",
    "\n",
    "apple['mfi'] = money_flow_index(high = apple.High, \n",
    "                                  low = apple.Low, \n",
    "                                  close = apple.Close, \n",
    "                                  volume = apple.Volume,\n",
    "                                  window = 20)\n",
    "apple['obv'] = on_balance_volume(close = apple.Close, \n",
    "                                   volume = apple.Volume)\n",
    "apple['rsi'] = rsi(close = apple.Close, window = 21)\n",
    "apple['return'] = apple_ret\n",
    "apple['vwap'] = volume_weighted_average_price(high = apple['High'],\n",
    "                                           low = apple['Low'],\n",
    "                                           close = apple['Close'],\n",
    "                                           volume = apple['Volume'],\n",
    "                                           window = 20)\n",
    "apple['tsi'] = tsi(close = apple['Close'],\n",
    "                   window_fast = 13,\n",
    "                   window_slow = 15)"
   ],
   "metadata": {
    "collapsed": false,
    "ExecuteTime": {
     "end_time": "2023-12-22T11:40:06.401257Z",
     "start_time": "2023-12-22T11:40:06.340528Z"
    }
   },
   "id": "89074c89f403dbb3"
  },
  {
   "cell_type": "markdown",
   "source": [
    "#### 4. Corwin Schultz Spread\n",
    "\n",
    "10주차의 `MicroStructure.py`를 이용하여 corwin schultz spread를 계산하라. 사용방법은 10주차의 내용을 참고하도록 한다"
   ],
   "metadata": {
    "collapsed": false
   },
   "id": "99153cf285f09318"
  },
  {
   "cell_type": "code",
   "execution_count": 26,
   "outputs": [],
   "source": [
    "import MicroStructure as ms\n",
    "\n",
    "spread = ms.CorwinSchultz(high = apple.High, low = apple.Low)"
   ],
   "metadata": {
    "collapsed": false,
    "ExecuteTime": {
     "end_time": "2023-12-22T11:40:20.397841Z",
     "start_time": "2023-12-22T11:40:20.378715Z"
    }
   },
   "id": "e55f257018009ea3"
  },
  {
   "cell_type": "code",
   "execution_count": 28,
   "outputs": [
    {
     "data": {
      "text/plain": "Date\n2000-02-01    0.004752\n2000-02-02    0.060278\n2000-02-03    0.072427\n2000-02-04    0.013942\n2000-02-07    0.000000\nName: Spread, dtype: float64"
     },
     "execution_count": 28,
     "metadata": {},
     "output_type": "execute_result"
    }
   ],
   "source": [
    "cs_estimator = spread.corwin_schultz_estimator(window = 20)\n",
    "cs_estimator.dropna().head()"
   ],
   "metadata": {
    "collapsed": false,
    "ExecuteTime": {
     "end_time": "2023-12-22T11:40:40.186858Z",
     "start_time": "2023-12-22T11:40:40.175724Z"
    }
   },
   "id": "d58a531dd6059cef"
  },
  {
   "cell_type": "code",
   "execution_count": 30,
   "outputs": [],
   "source": [
    "apple['corwin_schultz'] = cs_estimator"
   ],
   "metadata": {
    "collapsed": false,
    "ExecuteTime": {
     "end_time": "2023-12-22T11:41:34.740302Z",
     "start_time": "2023-12-22T11:41:34.725131Z"
    }
   },
   "id": "772855369e298bd"
  },
  {
   "cell_type": "code",
   "execution_count": 31,
   "outputs": [],
   "source": [
    "apple.dropna(inplace = True)"
   ],
   "metadata": {
    "collapsed": false,
    "ExecuteTime": {
     "end_time": "2023-12-22T11:41:36.310670Z",
     "start_time": "2023-12-22T11:41:36.302626Z"
    }
   },
   "id": "b8aaf0d2e5413399"
  },
  {
   "cell_type": "markdown",
   "source": [
    "#### 5. Primary Modeling\n",
    "\n",
    "Primary Model에서는 방향만을 추정한다. 여기서는 Bollinger Band전략을 사용하여 가격이 상승할 것인지, 하락할 것인지 labeling을 하자. 여기서 상승은 1, 하락은 -1, 횡보상태는 0으로 labeling한다"
   ],
   "metadata": {
    "collapsed": false
   },
   "id": "e6aa5a1419dc6248"
  },
  {
   "cell_type": "code",
   "execution_count": 39,
   "outputs": [
    {
     "data": {
      "text/plain": "                Open      High       Low     Close  Adj Close     Volume  \\\nDate                                                                       \n2002-05-10  0.433750  0.433750  0.410357  0.416429   0.352998  235396000   \n2002-05-13  0.420000  0.430179  0.409643  0.427500   0.362383  265608000   \n2002-05-14  0.436607  0.458571  0.432500  0.457321   0.387662  526506400   \n2002-05-15  0.453036  0.463929  0.443571  0.451429   0.382667  335826400   \n2002-05-16  0.447500  0.454464  0.441964  0.450179   0.381608  227052000   \n\n            fracdiff    bb_bbm    bb_bbh    bb_bbl        mfi         obv  \\\nDate                                                                        \n2002-05-10 -0.008617  0.431545  0.448236  0.414853  51.141905 -3680986400   \n2002-05-13  0.010881  0.430598  0.446952  0.414244  50.728989 -3415378400   \n2002-05-14  0.035424  0.430482  0.446637  0.414328  49.845975 -2888872000   \n2002-05-15  0.010873  0.429741  0.444519  0.414963  49.210677 -3224698400   \n2002-05-16  0.009276  0.429563  0.444068  0.415057  50.857085 -3451750400   \n\n                  rsi    return      vwap       tsi  corwin_schultz  label  \nDate                                                                        \n2002-05-10  46.762252 -0.036626  0.435058 -9.516220        0.000000      0  \n2002-05-13  49.700168  0.026238  0.433914 -7.497196        0.000000      0  \n2002-05-14  56.491004  0.067431  0.432820 -0.355367        0.000000      1  \n2002-05-15  54.951900 -0.012967  0.431957  3.516093        0.000000      1  \n2002-05-16  54.620401 -0.002773  0.431246  6.074729        0.020592      1  ",
      "text/html": "<div>\n<style scoped>\n    .dataframe tbody tr th:only-of-type {\n        vertical-align: middle;\n    }\n\n    .dataframe tbody tr th {\n        vertical-align: top;\n    }\n\n    .dataframe thead th {\n        text-align: right;\n    }\n</style>\n<table border=\"1\" class=\"dataframe\">\n  <thead>\n    <tr style=\"text-align: right;\">\n      <th></th>\n      <th>Open</th>\n      <th>High</th>\n      <th>Low</th>\n      <th>Close</th>\n      <th>Adj Close</th>\n      <th>Volume</th>\n      <th>fracdiff</th>\n      <th>bb_bbm</th>\n      <th>bb_bbh</th>\n      <th>bb_bbl</th>\n      <th>mfi</th>\n      <th>obv</th>\n      <th>rsi</th>\n      <th>return</th>\n      <th>vwap</th>\n      <th>tsi</th>\n      <th>corwin_schultz</th>\n      <th>label</th>\n    </tr>\n    <tr>\n      <th>Date</th>\n      <th></th>\n      <th></th>\n      <th></th>\n      <th></th>\n      <th></th>\n      <th></th>\n      <th></th>\n      <th></th>\n      <th></th>\n      <th></th>\n      <th></th>\n      <th></th>\n      <th></th>\n      <th></th>\n      <th></th>\n      <th></th>\n      <th></th>\n      <th></th>\n    </tr>\n  </thead>\n  <tbody>\n    <tr>\n      <th>2002-05-10</th>\n      <td>0.433750</td>\n      <td>0.433750</td>\n      <td>0.410357</td>\n      <td>0.416429</td>\n      <td>0.352998</td>\n      <td>235396000</td>\n      <td>-0.008617</td>\n      <td>0.431545</td>\n      <td>0.448236</td>\n      <td>0.414853</td>\n      <td>51.141905</td>\n      <td>-3680986400</td>\n      <td>46.762252</td>\n      <td>-0.036626</td>\n      <td>0.435058</td>\n      <td>-9.516220</td>\n      <td>0.000000</td>\n      <td>0</td>\n    </tr>\n    <tr>\n      <th>2002-05-13</th>\n      <td>0.420000</td>\n      <td>0.430179</td>\n      <td>0.409643</td>\n      <td>0.427500</td>\n      <td>0.362383</td>\n      <td>265608000</td>\n      <td>0.010881</td>\n      <td>0.430598</td>\n      <td>0.446952</td>\n      <td>0.414244</td>\n      <td>50.728989</td>\n      <td>-3415378400</td>\n      <td>49.700168</td>\n      <td>0.026238</td>\n      <td>0.433914</td>\n      <td>-7.497196</td>\n      <td>0.000000</td>\n      <td>0</td>\n    </tr>\n    <tr>\n      <th>2002-05-14</th>\n      <td>0.436607</td>\n      <td>0.458571</td>\n      <td>0.432500</td>\n      <td>0.457321</td>\n      <td>0.387662</td>\n      <td>526506400</td>\n      <td>0.035424</td>\n      <td>0.430482</td>\n      <td>0.446637</td>\n      <td>0.414328</td>\n      <td>49.845975</td>\n      <td>-2888872000</td>\n      <td>56.491004</td>\n      <td>0.067431</td>\n      <td>0.432820</td>\n      <td>-0.355367</td>\n      <td>0.000000</td>\n      <td>1</td>\n    </tr>\n    <tr>\n      <th>2002-05-15</th>\n      <td>0.453036</td>\n      <td>0.463929</td>\n      <td>0.443571</td>\n      <td>0.451429</td>\n      <td>0.382667</td>\n      <td>335826400</td>\n      <td>0.010873</td>\n      <td>0.429741</td>\n      <td>0.444519</td>\n      <td>0.414963</td>\n      <td>49.210677</td>\n      <td>-3224698400</td>\n      <td>54.951900</td>\n      <td>-0.012967</td>\n      <td>0.431957</td>\n      <td>3.516093</td>\n      <td>0.000000</td>\n      <td>1</td>\n    </tr>\n    <tr>\n      <th>2002-05-16</th>\n      <td>0.447500</td>\n      <td>0.454464</td>\n      <td>0.441964</td>\n      <td>0.450179</td>\n      <td>0.381608</td>\n      <td>227052000</td>\n      <td>0.009276</td>\n      <td>0.429563</td>\n      <td>0.444068</td>\n      <td>0.415057</td>\n      <td>50.857085</td>\n      <td>-3451750400</td>\n      <td>54.620401</td>\n      <td>-0.002773</td>\n      <td>0.431246</td>\n      <td>6.074729</td>\n      <td>0.020592</td>\n      <td>1</td>\n    </tr>\n  </tbody>\n</table>\n</div>"
     },
     "execution_count": 39,
     "metadata": {},
     "output_type": "execute_result"
    }
   ],
   "source": [
    "apple['label'] = 0\n",
    "apple.loc[(apple['Close'] > apple['bb_bbh']), 'label'] = 1\n",
    "apple.loc[(apple['Close'] < apple['bb_bbl']), 'label'] = -1\n",
    "apple.head()"
   ],
   "metadata": {
    "collapsed": false,
    "ExecuteTime": {
     "end_time": "2023-12-22T11:43:43.185565Z",
     "start_time": "2023-12-22T11:43:43.169590Z"
    }
   },
   "id": "677dfbb71edcee8c"
  },
  {
   "cell_type": "markdown",
   "source": [
    "#### 6. Meta Labeling\n",
    "\n",
    "Secondary Model은 Primary Model에서 나온 방향을 이용해 거래의 실행 여부만을 평가한다. 3개의 레이블[-1, 0, 1]을 이진 분류 모형[0, 1]으로 다시 labeling을 진행한다. 이 과정을 Meta Labeling이라고 한다"
   ],
   "metadata": {
    "collapsed": false
   },
   "id": "6d31d19eb93561c6"
  },
  {
   "cell_type": "code",
   "execution_count": 40,
   "outputs": [
    {
     "data": {
      "text/plain": "                Open      High       Low     Close  Adj Close     Volume  \\\nDate                                                                       \n2002-05-10  0.433750  0.433750  0.410357  0.416429   0.352998  235396000   \n2002-05-13  0.420000  0.430179  0.409643  0.427500   0.362383  265608000   \n2002-05-14  0.436607  0.458571  0.432500  0.457321   0.387662  526506400   \n2002-05-15  0.453036  0.463929  0.443571  0.451429   0.382667  335826400   \n2002-05-16  0.447500  0.454464  0.441964  0.450179   0.381608  227052000   \n\n            fracdiff    bb_bbm    bb_bbh    bb_bbl        mfi         obv  \\\nDate                                                                        \n2002-05-10 -0.008617  0.431545  0.448236  0.414853  51.141905 -3680986400   \n2002-05-13  0.010881  0.430598  0.446952  0.414244  50.728989 -3415378400   \n2002-05-14  0.035424  0.430482  0.446637  0.414328  49.845975 -2888872000   \n2002-05-15  0.010873  0.429741  0.444519  0.414963  49.210677 -3224698400   \n2002-05-16  0.009276  0.429563  0.444068  0.415057  50.857085 -3451750400   \n\n                  rsi    return      vwap       tsi  corwin_schultz  label  \\\nDate                                                                         \n2002-05-10  46.762252 -0.036626  0.435058 -9.516220        0.000000      0   \n2002-05-13  49.700168  0.026238  0.433914 -7.497196        0.000000      0   \n2002-05-14  56.491004  0.067431  0.432820 -0.355367        0.000000      1   \n2002-05-15  54.951900 -0.012967  0.431957  3.516093        0.000000      1   \n2002-05-16  54.620401 -0.002773  0.431246  6.074729        0.020592      1   \n\n            meta_label  \nDate                    \n2002-05-10           0  \n2002-05-13           0  \n2002-05-14           1  \n2002-05-15           1  \n2002-05-16           1  ",
      "text/html": "<div>\n<style scoped>\n    .dataframe tbody tr th:only-of-type {\n        vertical-align: middle;\n    }\n\n    .dataframe tbody tr th {\n        vertical-align: top;\n    }\n\n    .dataframe thead th {\n        text-align: right;\n    }\n</style>\n<table border=\"1\" class=\"dataframe\">\n  <thead>\n    <tr style=\"text-align: right;\">\n      <th></th>\n      <th>Open</th>\n      <th>High</th>\n      <th>Low</th>\n      <th>Close</th>\n      <th>Adj Close</th>\n      <th>Volume</th>\n      <th>fracdiff</th>\n      <th>bb_bbm</th>\n      <th>bb_bbh</th>\n      <th>bb_bbl</th>\n      <th>mfi</th>\n      <th>obv</th>\n      <th>rsi</th>\n      <th>return</th>\n      <th>vwap</th>\n      <th>tsi</th>\n      <th>corwin_schultz</th>\n      <th>label</th>\n      <th>meta_label</th>\n    </tr>\n    <tr>\n      <th>Date</th>\n      <th></th>\n      <th></th>\n      <th></th>\n      <th></th>\n      <th></th>\n      <th></th>\n      <th></th>\n      <th></th>\n      <th></th>\n      <th></th>\n      <th></th>\n      <th></th>\n      <th></th>\n      <th></th>\n      <th></th>\n      <th></th>\n      <th></th>\n      <th></th>\n      <th></th>\n    </tr>\n  </thead>\n  <tbody>\n    <tr>\n      <th>2002-05-10</th>\n      <td>0.433750</td>\n      <td>0.433750</td>\n      <td>0.410357</td>\n      <td>0.416429</td>\n      <td>0.352998</td>\n      <td>235396000</td>\n      <td>-0.008617</td>\n      <td>0.431545</td>\n      <td>0.448236</td>\n      <td>0.414853</td>\n      <td>51.141905</td>\n      <td>-3680986400</td>\n      <td>46.762252</td>\n      <td>-0.036626</td>\n      <td>0.435058</td>\n      <td>-9.516220</td>\n      <td>0.000000</td>\n      <td>0</td>\n      <td>0</td>\n    </tr>\n    <tr>\n      <th>2002-05-13</th>\n      <td>0.420000</td>\n      <td>0.430179</td>\n      <td>0.409643</td>\n      <td>0.427500</td>\n      <td>0.362383</td>\n      <td>265608000</td>\n      <td>0.010881</td>\n      <td>0.430598</td>\n      <td>0.446952</td>\n      <td>0.414244</td>\n      <td>50.728989</td>\n      <td>-3415378400</td>\n      <td>49.700168</td>\n      <td>0.026238</td>\n      <td>0.433914</td>\n      <td>-7.497196</td>\n      <td>0.000000</td>\n      <td>0</td>\n      <td>0</td>\n    </tr>\n    <tr>\n      <th>2002-05-14</th>\n      <td>0.436607</td>\n      <td>0.458571</td>\n      <td>0.432500</td>\n      <td>0.457321</td>\n      <td>0.387662</td>\n      <td>526506400</td>\n      <td>0.035424</td>\n      <td>0.430482</td>\n      <td>0.446637</td>\n      <td>0.414328</td>\n      <td>49.845975</td>\n      <td>-2888872000</td>\n      <td>56.491004</td>\n      <td>0.067431</td>\n      <td>0.432820</td>\n      <td>-0.355367</td>\n      <td>0.000000</td>\n      <td>1</td>\n      <td>1</td>\n    </tr>\n    <tr>\n      <th>2002-05-15</th>\n      <td>0.453036</td>\n      <td>0.463929</td>\n      <td>0.443571</td>\n      <td>0.451429</td>\n      <td>0.382667</td>\n      <td>335826400</td>\n      <td>0.010873</td>\n      <td>0.429741</td>\n      <td>0.444519</td>\n      <td>0.414963</td>\n      <td>49.210677</td>\n      <td>-3224698400</td>\n      <td>54.951900</td>\n      <td>-0.012967</td>\n      <td>0.431957</td>\n      <td>3.516093</td>\n      <td>0.000000</td>\n      <td>1</td>\n      <td>1</td>\n    </tr>\n    <tr>\n      <th>2002-05-16</th>\n      <td>0.447500</td>\n      <td>0.454464</td>\n      <td>0.441964</td>\n      <td>0.450179</td>\n      <td>0.381608</td>\n      <td>227052000</td>\n      <td>0.009276</td>\n      <td>0.429563</td>\n      <td>0.444068</td>\n      <td>0.415057</td>\n      <td>50.857085</td>\n      <td>-3451750400</td>\n      <td>54.620401</td>\n      <td>-0.002773</td>\n      <td>0.431246</td>\n      <td>6.074729</td>\n      <td>0.020592</td>\n      <td>1</td>\n      <td>1</td>\n    </tr>\n  </tbody>\n</table>\n</div>"
     },
     "execution_count": 40,
     "metadata": {},
     "output_type": "execute_result"
    }
   ],
   "source": [
    "apple['meta_label'] = 0\n",
    "apple.loc[(apple['label'] == 1) | (apple['label'] == -1), 'meta_label'] = 1\n",
    "apple.head()"
   ],
   "metadata": {
    "collapsed": false,
    "ExecuteTime": {
     "end_time": "2023-12-22T11:44:38.426958Z",
     "start_time": "2023-12-22T11:44:38.404076Z"
    }
   },
   "id": "167991e0a09cc73e"
  },
  {
   "cell_type": "markdown",
   "source": [
    "#### 7. Secondary Modeling\n",
    "\n",
    "Meta Label을 target으로 지정하고, 2번에서 지정한 technical feature들을 이용하여 이진 분류 모형을 수행하라. 즉, feature matrix에는 아래와 같은 데이터들이 들어간다\n",
    "\n",
    "- fractionally differenctiated features\n",
    "- money flow index\n",
    "- on balance volume\n",
    "- RSI\n",
    "- TSI\n",
    "- VWAP\n",
    "- log return\n",
    "- corwin schultz spread\n",
    "- meta label (target)\n",
    "\n",
    "여기서, Bollinger Band 관련 feature들은 labeling에 사용되었으므로 고려하지 않는다\n",
    "\n",
    "모형의 검증을 위해 test data는 0.2로 지정하고 shuffle = False로 지정한다"
   ],
   "metadata": {
    "collapsed": false
   },
   "id": "4d6f30576f36b09f"
  },
  {
   "cell_type": "code",
   "execution_count": 41,
   "outputs": [
    {
     "data": {
      "text/plain": "            fracdiff        mfi         obv        rsi    return      vwap  \\\nDate                                                                         \n2002-05-10 -0.008617  51.141905 -3680986400  46.762252 -0.036626  0.435058   \n2002-05-13  0.010881  50.728989 -3415378400  49.700168  0.026238  0.433914   \n2002-05-14  0.035424  49.845975 -2888872000  56.491004  0.067431  0.432820   \n2002-05-15  0.010873  49.210677 -3224698400  54.951900 -0.012967  0.431957   \n2002-05-16  0.009276  50.857085 -3451750400  54.620401 -0.002773  0.431246   \n\n                 tsi  corwin_schultz  meta_label  \nDate                                              \n2002-05-10 -9.516220        0.000000           0  \n2002-05-13 -7.497196        0.000000           0  \n2002-05-14 -0.355367        0.000000           1  \n2002-05-15  3.516093        0.000000           1  \n2002-05-16  6.074729        0.020592           1  ",
      "text/html": "<div>\n<style scoped>\n    .dataframe tbody tr th:only-of-type {\n        vertical-align: middle;\n    }\n\n    .dataframe tbody tr th {\n        vertical-align: top;\n    }\n\n    .dataframe thead th {\n        text-align: right;\n    }\n</style>\n<table border=\"1\" class=\"dataframe\">\n  <thead>\n    <tr style=\"text-align: right;\">\n      <th></th>\n      <th>fracdiff</th>\n      <th>mfi</th>\n      <th>obv</th>\n      <th>rsi</th>\n      <th>return</th>\n      <th>vwap</th>\n      <th>tsi</th>\n      <th>corwin_schultz</th>\n      <th>meta_label</th>\n    </tr>\n    <tr>\n      <th>Date</th>\n      <th></th>\n      <th></th>\n      <th></th>\n      <th></th>\n      <th></th>\n      <th></th>\n      <th></th>\n      <th></th>\n      <th></th>\n    </tr>\n  </thead>\n  <tbody>\n    <tr>\n      <th>2002-05-10</th>\n      <td>-0.008617</td>\n      <td>51.141905</td>\n      <td>-3680986400</td>\n      <td>46.762252</td>\n      <td>-0.036626</td>\n      <td>0.435058</td>\n      <td>-9.516220</td>\n      <td>0.000000</td>\n      <td>0</td>\n    </tr>\n    <tr>\n      <th>2002-05-13</th>\n      <td>0.010881</td>\n      <td>50.728989</td>\n      <td>-3415378400</td>\n      <td>49.700168</td>\n      <td>0.026238</td>\n      <td>0.433914</td>\n      <td>-7.497196</td>\n      <td>0.000000</td>\n      <td>0</td>\n    </tr>\n    <tr>\n      <th>2002-05-14</th>\n      <td>0.035424</td>\n      <td>49.845975</td>\n      <td>-2888872000</td>\n      <td>56.491004</td>\n      <td>0.067431</td>\n      <td>0.432820</td>\n      <td>-0.355367</td>\n      <td>0.000000</td>\n      <td>1</td>\n    </tr>\n    <tr>\n      <th>2002-05-15</th>\n      <td>0.010873</td>\n      <td>49.210677</td>\n      <td>-3224698400</td>\n      <td>54.951900</td>\n      <td>-0.012967</td>\n      <td>0.431957</td>\n      <td>3.516093</td>\n      <td>0.000000</td>\n      <td>1</td>\n    </tr>\n    <tr>\n      <th>2002-05-16</th>\n      <td>0.009276</td>\n      <td>50.857085</td>\n      <td>-3451750400</td>\n      <td>54.620401</td>\n      <td>-0.002773</td>\n      <td>0.431246</td>\n      <td>6.074729</td>\n      <td>0.020592</td>\n      <td>1</td>\n    </tr>\n  </tbody>\n</table>\n</div>"
     },
     "execution_count": 41,
     "metadata": {},
     "output_type": "execute_result"
    }
   ],
   "source": [
    "matrix = apple[['fracdiff','mfi','obv','rsi','return','vwap','tsi','corwin_schultz','meta_label']]\n",
    "matrix.head()"
   ],
   "metadata": {
    "collapsed": false,
    "ExecuteTime": {
     "end_time": "2023-12-22T11:46:12.486681Z",
     "start_time": "2023-12-22T11:46:12.459613Z"
    }
   },
   "id": "1b94b7d3c3506a23"
  },
  {
   "cell_type": "code",
   "execution_count": 42,
   "outputs": [],
   "source": [
    "from sklearn.model_selection import train_test_split\n",
    "\n",
    "X = matrix.drop('meta_label', axis = 1)\n",
    "y = matrix['meta_label']\n",
    "\n",
    "X_train, X_test, y_train, y_test = train_test_split(X, y, test_size = 0.2, shuffle = False)"
   ],
   "metadata": {
    "collapsed": false,
    "ExecuteTime": {
     "end_time": "2023-12-22T11:50:49.126154Z",
     "start_time": "2023-12-22T11:50:48.860223Z"
    }
   },
   "id": "71acf8c07bf98d8"
  },
  {
   "cell_type": "markdown",
   "source": [
    "**7.1 RandomForest Classifier**\n",
    "\n",
    "Secondary Model로 Random Forest Classifier를 사용하고 성능을 평가하라. Hyper Parameter는 다음과 같이 지정한다\n",
    "\n",
    "```\n",
    "n_estimators = 1000\n",
    "sample_weights = 'balanced_subsample'\n",
    "criterion = 'entropy'\n",
    "ccp_alpha = 0.001\n",
    "random_state = 42\n",
    "```"
   ],
   "metadata": {
    "collapsed": false
   },
   "id": "4ab6b7f85ffe7af6"
  },
  {
   "cell_type": "code",
   "execution_count": 43,
   "outputs": [],
   "source": [
    "from sklearn.ensemble import RandomForestClassifier\n",
    "\n",
    "rf = RandomForestClassifier(\n",
    "    n_estimators = 1000,\n",
    "    criterion = 'entropy', \n",
    "    random_state = 42,\n",
    "    class_weight = 'balanced_subsample', \n",
    "    ccp_alpha = 0.001,\n",
    "    )\n",
    "model = rf.fit(X_train, y_train)"
   ],
   "metadata": {
    "collapsed": false,
    "ExecuteTime": {
     "end_time": "2023-12-22T11:51:26.376027Z",
     "start_time": "2023-12-22T11:51:17.651551Z"
    }
   },
   "id": "7befc3fa555caa2a"
  },
  {
   "cell_type": "code",
   "execution_count": 47,
   "outputs": [
    {
     "name": "stdout",
     "output_type": "stream",
     "text": [
      "Accuracy: 0.7401285583103765\n"
     ]
    }
   ],
   "source": [
    "from sklearn.metrics import accuracy_score, classification_report, confusion_matrix, roc_curve, auc\n",
    "\n",
    "y_prob = rf.predict_proba(X_test)[:, 1]\n",
    "y_pred = rf.predict(X_test)\n",
    "fpr, tpr, thresholds = roc_curve(y_test, y_prob)\n",
    "accuracy = accuracy_score(y_test, y_pred)\n",
    "print(f'Accuracy: {accuracy}')"
   ],
   "metadata": {
    "collapsed": false,
    "ExecuteTime": {
     "end_time": "2023-12-22T11:54:02.347886Z",
     "start_time": "2023-12-22T11:54:02.175110Z"
    }
   },
   "id": "a890196ffa9aa78b"
  },
  {
   "cell_type": "code",
   "execution_count": 48,
   "outputs": [
    {
     "name": "stdout",
     "output_type": "stream",
     "text": [
      "              precision    recall  f1-score   support\n",
      "\n",
      "           0       0.66      0.64      0.65       412\n",
      "           1       0.79      0.80      0.79       677\n",
      "\n",
      "    accuracy                           0.74      1089\n",
      "   macro avg       0.72      0.72      0.72      1089\n",
      "weighted avg       0.74      0.74      0.74      1089\n"
     ]
    }
   ],
   "source": [
    "print(classification_report(y_test, y_pred))"
   ],
   "metadata": {
    "collapsed": false,
    "ExecuteTime": {
     "end_time": "2023-12-22T11:54:02.955448Z",
     "start_time": "2023-12-22T11:54:02.946923Z"
    }
   },
   "id": "b1f79af4b31b937f"
  },
  {
   "cell_type": "code",
   "execution_count": 49,
   "outputs": [
    {
     "data": {
      "text/plain": "<Figure size 300x300 with 1 Axes>",
      "image/png": "[encoded data removed]"
     },
     "metadata": {},
     "output_type": "display_data"
    }
   ],
   "source": [
    "import matplotlib.pyplot as plt\n",
    "import seaborn as sns\n",
    "\n",
    "cm = confusion_matrix(y_test, y_pred)\n",
    "plt.figure(figsize = (3, 3))\n",
    "sns.heatmap(cm, annot = True, fmt = 'd', cbar = False)\n",
    "plt.xlabel('Predicted')\n",
    "plt.ylabel('True')\n",
    "plt.title('Confusion Matrix', fontsize = 12, fontfamily = 'Serif')\n",
    "plt.show()"
   ],
   "metadata": {
    "collapsed": false,
    "ExecuteTime": {
     "end_time": "2023-12-22T11:54:03.454916Z",
     "start_time": "2023-12-22T11:54:03.409259Z"
    }
   },
   "id": "beb9b2118757680d"
  },
  {
   "cell_type": "code",
   "execution_count": 53,
   "outputs": [
    {
     "data": {
      "text/plain": "<Figure size 600x400 with 1 Axes>",
      "image/png": "[encoded data removed]"
     },
     "metadata": {},
     "output_type": "display_data"
    }
   ],
   "source": [
    "y_prob = rf.predict_proba(X_test)[:, 1]\n",
    "\n",
    "fpr, tpr, thresholds = roc_curve(y_test, y_prob)\n",
    "roc_auc = auc(fpr, tpr)\n",
    "\n",
    "plt.figure(figsize = (6, 4))\n",
    "plt.plot(fpr, tpr, label = 'Random Forest (area = {:.2f})'.format(roc_auc), color = 'navy', alpha = 0.8)\n",
    "plt.plot([0, 1], [0, 1], 'k:')\n",
    "plt.xlabel('False Positive Rate')\n",
    "plt.ylabel('True Positive Rate')\n",
    "plt.title('ROC Curve with Random Forest', fontsize = 12, fontfamily = 'Serif')\n",
    "plt.grid(False)\n",
    "plt.legend()\n",
    "plt.show()"
   ],
   "metadata": {
    "collapsed": false,
    "ExecuteTime": {
     "end_time": "2023-12-22T12:07:07.752788Z",
     "start_time": "2023-12-22T12:07:07.559446Z"
    }
   },
   "id": "d4e6578b60039dc5"
  },
  {
   "cell_type": "code",
   "execution_count": null,
   "outputs": [],
   "source": [],
   "metadata": {
    "collapsed": false
   },
   "id": "497ff94a32cb0eb8"
  }
 ],
 "metadata": {
  "kernelspec": {
   "display_name": "Python 3",
   "language": "python",
   "name": "python3"
  },
  "language_info": {
   "codemirror_mode": {
    "name": "ipython",
    "version": 2
   },
   "file_extension": ".py",
   "mimetype": "text/x-python",
   "name": "python",
   "nbconvert_exporter": "python",
   "pygments_lexer": "ipython2",
   "version": "2.7.6"
  }
 },
 "nbformat": 4,
 "nbformat_minor": 5
}
