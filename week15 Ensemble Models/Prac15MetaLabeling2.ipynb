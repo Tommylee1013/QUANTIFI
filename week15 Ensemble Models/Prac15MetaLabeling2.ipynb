{
 "cells": [
  {
   "cell_type": "markdown",
   "source": [
    "### Meta Labeling II\n",
    "\n",
    "Meta Labeling은 Marcos Lopez de Prado(2018)가 저서 Advances in Financial Machine Learning에서 제안한 모형으로, labeling문제에 직면한 금융 머신러닝 프로젝트에 적절한 방법을 제시한다. 다음과 같은 논리로 이뤄진다\n",
    "\n",
    "1. Feature 준비 : 자산에 대한 가격 데이터, technical feature등을 포함한 feature matrix를 준비한다\n",
    "2. Primary Model : 자산의 가격이 상승할지, 하강할지 판단하는 모형이다. 여기에는 자신만의 판단 기준을 내세울 수 있으며, 때로는 애널리스트의 판단이 될 수 있다\n",
    "3. Secondary Model : Primary Model에서 나온 정보를 가지고 거래를 집행할지, 하지 않을지를 판단하는 모형이다. 거래 집행 유무만 판단하므로 이진 분류 문제가 된다\n",
    "\n",
    "오늘은 13주차에 이어서 technical feature를 이용해 간단한 이동평균 매수매도 전략을 Primary Model로 제작한 후, Ensemble Model을 활용하여 Secondary Model을 제작해 매매 의사결정 모형을 만드는 것을 목표로 한다"
   ],
   "metadata": {
    "collapsed": false
   },
   "id": "bfd6c6165c59d18a"
  },
  {
   "cell_type": "markdown",
   "source": [
    "#### 1. Data Import\n",
    "\n",
    "아래의 library를 활용해 Apple의 가격 시계열을 불러오자. 한국은 공매도 집행이 금지되었으므로 고려하지 않는다. 기간은 2000년 1월 1일부터 12월 22일까지로 지정한다. 시계열이므로 정상성을 위해 로그 차분을 진행한다"
   ],
   "metadata": {
    "collapsed": false
   },
   "id": "f66824e62cf3a619"
  },
  {
   "cell_type": "code",
   "execution_count": null,
   "id": "initial_id",
   "metadata": {
    "collapsed": true
   },
   "outputs": [],
   "source": [
    "import yfinance as yf\n",
    "import pandas as pd\n",
    "import numpy as np\n",
    "\n",
    "start_date = '2000-01-01'\n",
    "end_date = '2023-12-23'\n",
    "\n",
    "# write your code here!"
   ]
  },
  {
   "cell_type": "markdown",
   "source": [
    "#### 2. Fractionally Differentiated Features\n",
    "\n",
    "Prado(2018)는 저서 Advances in Financial Machine Learning을 통해 시장의 장기 기억을 담고 있는 시계열의 경우 Machine Learning 학습에 도움이 된다고 주장하였다\n",
    "\n",
    "`IntegratedSeries.py`의 함수를 이용하여 원 시계열 데이터에 0.6차분을 수행하라. 사용 방법은 7주차 내용을 참고하라"
   ],
   "metadata": {
    "collapsed": false
   },
   "id": "3441071b249a1661"
  },
  {
   "cell_type": "code",
   "execution_count": null,
   "outputs": [],
   "source": [
    "import IntegratedSeries as IS\n",
    "import statsmodels.api as sm\n",
    "\n",
    "# write your code here!"
   ],
   "metadata": {
    "collapsed": false
   },
   "id": "4c2beb36030c6f8e"
  },
  {
   "cell_type": "markdown",
   "source": [
    "#### 3. Technical Features\n",
    "\n",
    "`ta` library에는 다양한 기술적 분석들에 사용 가능한 feature를 제작해 준다. ta library를 활용하여 다음과 같은 feature를 만들어 주도록 한다\n",
    "\n",
    "- money flow index : window = 20\n",
    "- on balance volume : window = 20\n",
    "- rsi : window = 20\n",
    "- bollinger band : window = 20, window_dev = 1\n",
    "- volume weighted average price : window = 20\n",
    "- tsi indicator : window_fast = 13, window_slow = 25"
   ],
   "metadata": {
    "collapsed": false
   },
   "id": "2804f600a16c39e6"
  },
  {
   "cell_type": "code",
   "execution_count": null,
   "outputs": [],
   "source": [
    "from ta.volatility import BollingerBands\n",
    "from ta.volume import money_flow_index, on_balance_volume\n",
    "from ta.momentum import rsi\n",
    "from ta.volume import volume_weighted_average_price\n",
    "from ta.momentum import tsi\n",
    "\n",
    "#indicator_bb = BollingerBands(close = apple[\"Close\"], window = 20, window_dev = 1)\n",
    "\n",
    "#apple['bb_bbm'] = indicator_bb.bollinger_mavg()\n",
    "#apple['bb_bbh'] = indicator_bb.bollinger_hband()\n",
    "#apple['bb_bbl'] = indicator_bb.bollinger_lband()\n",
    "\n",
    "#apple['mfi'] = money_flow_index(high = apple.High, \n",
    "#                                low = apple.Low, \n",
    "#                                close = apple.Close, \n",
    "#                                volume = apple.Volume,\n",
    "#                                window = 20)\n",
    "#apple['obv'] = on_balance_volume(close = apple.Close, \n",
    "#                                   volume = apple.Volume)\n",
    "#apple['rsi'] = rsi(close = apple.Close, window = 21)\n",
    "#apple['return'] = apple_ret\n",
    "#apple['vwap'] = volume_weighted_average_price(high = apple['High'],\n",
    "#                                              low = apple['Low'],\n",
    "#                                              close = apple['Close'],\n",
    "#                                              volume = apple['Volume'],\n",
    "#                                              window = 20)\n",
    "#apple['tsi'] = tsi(close = apple['Close'],\n",
    "#                   window_fast = 13,\n",
    "#                   window_slow = 15)"
   ],
   "metadata": {
    "collapsed": false
   },
   "id": "89074c89f403dbb3"
  },
  {
   "cell_type": "markdown",
   "source": [
    "#### 4. Corwin Schultz Spread\n",
    "\n",
    "10주차의 `MicroStructure.py`를 이용하여 corwin schultz spread를 계산하라. 사용방법은 10주차의 내용을 참고하도록 한다"
   ],
   "metadata": {
    "collapsed": false
   },
   "id": "99153cf285f09318"
  },
  {
   "cell_type": "code",
   "execution_count": null,
   "outputs": [],
   "source": [
    "import MicroStructure as ms\n",
    "\n",
    "# write your code here!"
   ],
   "metadata": {
    "collapsed": false
   },
   "id": "e55f257018009ea3"
  },
  {
   "cell_type": "markdown",
   "source": [
    "#### 5. Primary Modeling\n",
    "\n",
    "Primary Model에서는 방향만을 추정한다. 여기서는 Bollinger Band전략을 사용하여 가격이 상승할 것인지, 하락할 것인지 labeling을 하자. 여기서 상승은 1, 하락은 -1, 횡보상태는 0으로 labeling한다"
   ],
   "metadata": {
    "collapsed": false
   },
   "id": "e6aa5a1419dc6248"
  },
  {
   "cell_type": "code",
   "execution_count": null,
   "outputs": [],
   "source": [
    "# write your code here!"
   ],
   "metadata": {
    "collapsed": false
   },
   "id": "677dfbb71edcee8c"
  },
  {
   "cell_type": "markdown",
   "source": [
    "#### 6. Meta Labeling\n",
    "\n",
    "Secondary Model은 Primary Model에서 나온 방향을 이용해 거래의 실행 여부만을 평가한다. 3개의 레이블[-1, 0, 1]을 이진 분류 모형[0, 1]으로 다시 labeling을 진행한다. 이 과정을 Meta Labeling이라고 한다"
   ],
   "metadata": {
    "collapsed": false
   },
   "id": "6d31d19eb93561c6"
  },
  {
   "cell_type": "code",
   "execution_count": null,
   "outputs": [],
   "source": [
    "# write your code here!"
   ],
   "metadata": {
    "collapsed": false
   },
   "id": "167991e0a09cc73e"
  },
  {
   "cell_type": "markdown",
   "source": [
    "#### 7. Secondary Modeling\n",
    "\n",
    "Meta Label을 target으로 지정하고, 2번에서 지정한 technical feature들을 이용하여 이진 분류 모형을 수행하라. 즉, feature matrix에는 아래와 같은 데이터들이 들어간다\n",
    "\n",
    "- fractionally differenctiated features\n",
    "- money flow index\n",
    "- on balance volume\n",
    "- RSI\n",
    "- TSI\n",
    "- VWAP\n",
    "- log return\n",
    "- corwin schultz spread\n",
    "- meta label (target)\n",
    "\n",
    "여기서, Bollinger Band 관련 feature들은 labeling에 사용되었으므로 고려하지 않는다\n",
    "\n",
    "모형의 검증을 위해 test data는 0.2로 지정하고 shuffle = False로 지정한다"
   ],
   "metadata": {
    "collapsed": false
   },
   "id": "4d6f30576f36b09f"
  },
  {
   "cell_type": "code",
   "execution_count": null,
   "outputs": [],
   "source": [
    "from sklearn.model_selection import train_test_split\n",
    "\n",
    "# write your code here!"
   ],
   "metadata": {
    "collapsed": false
   },
   "id": "71acf8c07bf98d8"
  },
  {
   "cell_type": "markdown",
   "source": [
    "**7.1 RandomForest Classifier**\n",
    "\n",
    "Secondary Model로 Random Forest Classifier를 사용하고 성능을 평가하라. Hyper Parameter는 다음과 같이 지정한다\n",
    "\n",
    "```\n",
    "n_estimators = 1000\n",
    "sample_weights = 'balanced_subsample'\n",
    "criterion = 'entropy'\n",
    "ccp_alpha = 0.001\n",
    "random_state = 42\n",
    "```"
   ],
   "metadata": {
    "collapsed": false
   },
   "id": "4ab6b7f85ffe7af6"
  },
  {
   "cell_type": "code",
   "execution_count": null,
   "outputs": [],
   "source": [
    "from sklearn.ensemble import RandomForestClassifier\n",
    "\n",
    "# write your code here!"
   ],
   "metadata": {
    "collapsed": false
   },
   "id": "7befc3fa555caa2a"
  },
  {
   "cell_type": "markdown",
   "source": [
    "**7.2 Ada Boosting**\n",
    "\n",
    "동일한 작업을 AdaBoosting을 통해 확인하라. 단, 기초 모형은 Decision Tree를 사용하고, Hyper Parameter는 다음과 같이 지정하도록 한다\n",
    "\n",
    "**Estimator : Tree**\n",
    "```\n",
    "    max_depth = 1,\n",
    "    criterion = 'entropy',\n",
    "    class_weight = 'balanced',\n",
    "    random_state = 42\n",
    "```\n",
    "\n",
    "**Adaboost**\n",
    "```\n",
    "    n_estimators = 1000,\n",
    "    random_state = 42\n",
    "```"
   ],
   "metadata": {
    "collapsed": false
   },
   "id": "5fadb73196c53ebc"
  },
  {
   "cell_type": "code",
   "execution_count": null,
   "outputs": [],
   "source": [
    "from sklearn.ensemble import AdaBoostClassifier\n",
    "from sklearn.tree import DecisionTreeClassifier\n",
    "\n",
    "# write your code here!"
   ],
   "metadata": {
    "collapsed": false
   },
   "id": "497ff94a32cb0eb8"
  },
  {
   "cell_type": "markdown",
   "source": [
    "**7.3 Gradient Boosting**\n",
    "\n",
    "주어진 문제를 Gradient Boosting을 활용해 추정하자. Hyper Parameter는 아래와 같이 지정한다\n",
    "\n",
    "```\n",
    "    n_estimators = 1000, \n",
    "    learning_rate = 1.0, \n",
    "    max_depth = 1, \n",
    "    random_state = 42\n",
    "```"
   ],
   "metadata": {
    "collapsed": false
   },
   "id": "3698537d57ffb44d"
  },
  {
   "cell_type": "code",
   "execution_count": null,
   "outputs": [],
   "source": [
    "from sklearn.ensemble import GradientBoostingClassifier\n",
    "\n",
    "# write your code here!"
   ],
   "metadata": {
    "collapsed": false
   },
   "id": "a750196a3030e0e3"
  },
  {
   "cell_type": "markdown",
   "source": [
    "**7.4 CatBoosting**\n",
    "\n",
    "주어진 문제를 CatBoost를 활용해 예측해 보자. 아래의 Hyper Parameter를 사용하고, Sample Weights는 Random Forest에서 사용했던 balanced_subsample과 동일한 기능을 하도록 조정한다\n",
    "\n",
    "```\n",
    "    class_weights = class_weights,\n",
    "    n_estimators = 1000,\n",
    "    loss_function = 'Logloss',\n",
    "    random_state = 42,\n",
    "    learning_rate = 0.1,\n",
    "    verbose = 0\n",
    "```"
   ],
   "metadata": {
    "collapsed": false
   },
   "id": "cd6102cf40445a1f"
  },
  {
   "cell_type": "code",
   "execution_count": null,
   "outputs": [],
   "source": [
    "from sklearn.utils.class_weight import compute_class_weight\n",
    "from catboost import CatBoostClassifier\n",
    "\n",
    "# write your code here!"
   ],
   "metadata": {
    "collapsed": false
   },
   "id": "2e4aa85953c2e5a0"
  },
  {
   "cell_type": "markdown",
   "source": [
    "#### 8. Compare Results\n",
    "\n",
    "추정기간의 성능을 비교해 보자. 매매 기회를 최대한 많이 잡아내기 위해서는(실제 1 중에서 최대한 많이 잡아내는 것) 어떤 모형을 쓰는 것이 가장 효율적인가?"
   ],
   "metadata": {
    "collapsed": false
   },
   "id": "e098c2ff3a161724"
  }
 ],
 "metadata": {
  "kernelspec": {
   "display_name": "Python 3",
   "language": "python",
   "name": "python3"
  },
  "language_info": {
   "codemirror_mode": {
    "name": "ipython",
    "version": 2
   },
   "file_extension": ".py",
   "mimetype": "text/x-python",
   "name": "python",
   "nbconvert_exporter": "python",
   "pygments_lexer": "ipython2",
   "version": "2.7.6"
  }
 },
 "nbformat": 4,
 "nbformat_minor": 5
}
