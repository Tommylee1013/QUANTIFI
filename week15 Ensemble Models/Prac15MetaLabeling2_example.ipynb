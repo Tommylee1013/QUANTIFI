{
 "cells": [
  {
   "cell_type": "markdown",
   "source": [
    "### Meta Labeling II\n",
    "\n",
    "Meta Labeling은 Marcos Lopez de Prado(2018)가 저서 Advances in Financial Machine Learning에서 제안한 모형으로, labeling문제에 직면한 금융 머신러닝 프로젝트에 적절한 방법을 제시한다. 다음과 같은 논리로 이뤄진다\n",
    "\n",
    "1. Feature 준비 : 자산에 대한 가격 데이터, technical feature등을 포함한 feature matrix를 준비한다\n",
    "2. Primary Model : 자산의 가격이 상승할지, 하강할지 판단하는 모형이다. 여기에는 자신만의 판단 기준을 내세울 수 있으며, 때로는 애널리스트의 판단이 될 수 있다\n",
    "3. Secondary Model : Primary Model에서 나온 정보를 가지고 거래를 집행할지, 하지 않을지를 판단하는 모형이다. 거래 집행 유무만 판단하므로 이진 분류 문제가 된다\n",
    "\n",
    "오늘은 13주차에 이어서 technical feature를 이용해 간단한 이동평균 매수매도 전략을 Primary Model로 제작한 후, Ensemble Model을 활용하여 Secondary Model을 제작해 매매 의사결정 모형을 만드는 것을 목표로 한다"
   ],
   "metadata": {
    "collapsed": false
   },
   "id": "bfd6c6165c59d18a"
  },
  {
   "cell_type": "markdown",
   "source": [
    "#### 1. Data Import\n",
    "\n",
    "아래의 library를 활용해 Apple의 가격 시계열을 불러오자. 한국은 공매도 집행이 금지되었으므로 고려하지 않는다. 기간은 2000년 1월 1일부터 12월 22일까지로 지정한다. 시계열이므로 정상성을 위해 로그 차분을 진행한다"
   ],
   "metadata": {
    "collapsed": false
   },
   "id": "f66824e62cf3a619"
  },
  {
   "cell_type": "code",
   "execution_count": 1,
   "id": "initial_id",
   "metadata": {
    "collapsed": true,
    "ExecuteTime": {
     "end_time": "2023-12-28T16:56:28.401043Z",
     "start_time": "2023-12-28T16:56:27.239497Z"
    }
   },
   "outputs": [
    {
     "name": "stdout",
     "output_type": "stream",
     "text": [
      "[*********************100%%**********************]  1 of 1 completed\n"
     ]
    },
    {
     "data": {
      "text/plain": "Date\n2000-01-04   -0.088077\n2000-01-05    0.014527\n2000-01-06   -0.090514\n2000-01-07    0.046281\n2000-01-10   -0.017744\nName: Close, dtype: float64"
     },
     "execution_count": 1,
     "metadata": {},
     "output_type": "execute_result"
    }
   ],
   "source": [
    "import yfinance as yf\n",
    "import pandas as pd\n",
    "import numpy as np\n",
    "\n",
    "start_date = '2000-01-01'\n",
    "end_date = '2023-12-23'\n",
    "\n",
    "apple = yf.download('AAPL', start = start_date, end = end_date)\n",
    "apple_ret = np.log(apple.Close / apple.Close.shift(1)).dropna()\n",
    "apple_ret.head()"
   ]
  },
  {
   "cell_type": "markdown",
   "source": [
    "#### 2. Fractionally Differentiated Features\n",
    "\n",
    "Prado(2018)는 저서 Advances in Financial Machine Learning을 통해 시장의 장기 기억을 담고 있는 시계열의 경우 Machine Learning 학습에 도움이 된다고 주장하였다\n",
    "\n",
    "`IntegratedSeries.py`의 함수를 이용하여 원 시계열 데이터에 0.6차분을 수행하라. 사용 방법은 7주차 내용을 참고하라"
   ],
   "metadata": {
    "collapsed": false
   },
   "id": "3441071b249a1661"
  },
  {
   "cell_type": "code",
   "execution_count": 2,
   "outputs": [],
   "source": [
    "import IntegratedSeries as IS\n",
    "import statsmodels.api as sm"
   ],
   "metadata": {
    "collapsed": false,
    "ExecuteTime": {
     "end_time": "2023-12-28T16:56:28.860588Z",
     "start_time": "2023-12-28T16:56:28.400393Z"
    }
   },
   "id": "4c2beb36030c6f8e"
  },
  {
   "cell_type": "code",
   "execution_count": 3,
   "outputs": [
    {
     "name": "stderr",
     "output_type": "stream",
     "text": [
      "/Users/junghunlee/Desktop/Pycharm/QUANTIFI/week15 Ensemble Models/IntegratedSeries.py:29: FutureWarning: The default dtype for empty Series will be 'object' instead of 'float64' in a future version. Specify a dtype explicitly to silence this warning.\n",
      "  df_ = pd.Series()\n"
     ]
    }
   ],
   "source": [
    "apple_d = IS.fracDiff_FFD(apple[['Close']], 0.6)"
   ],
   "metadata": {
    "collapsed": false,
    "ExecuteTime": {
     "end_time": "2023-12-28T16:56:29.970572Z",
     "start_time": "2023-12-28T16:56:28.861585Z"
    }
   },
   "id": "28380f7bef62fab3"
  },
  {
   "cell_type": "code",
   "execution_count": 4,
   "outputs": [],
   "source": [
    "apple['fracdiff'] = apple_d"
   ],
   "metadata": {
    "collapsed": false,
    "ExecuteTime": {
     "end_time": "2023-12-28T16:56:29.971678Z",
     "start_time": "2023-12-28T16:56:29.970473Z"
    }
   },
   "id": "f217f60619597c03"
  },
  {
   "cell_type": "markdown",
   "source": [
    "#### 3. Technical Features\n",
    "\n",
    "`ta` library에는 다양한 기술적 분석들에 사용 가능한 feature를 제작해 준다. ta library를 활용하여 다음과 같은 feature를 만들어 주도록 한다\n",
    "\n",
    "- money flow index : window = 20\n",
    "- on balance volume : window = 20\n",
    "- rsi : window = 20\n",
    "- bollinger band : window = 20, window_dev = 1\n",
    "- volume weighted average price : window = 20\n",
    "- tsi indicator : window_fast = 13, window_slow = 25"
   ],
   "metadata": {
    "collapsed": false
   },
   "id": "2804f600a16c39e6"
  },
  {
   "cell_type": "code",
   "execution_count": 5,
   "outputs": [],
   "source": [
    "from ta.volatility import BollingerBands\n",
    "from ta.volume import money_flow_index, on_balance_volume\n",
    "from ta.momentum import rsi\n",
    "from ta.volume import volume_weighted_average_price\n",
    "from ta.momentum import tsi\n",
    "\n",
    "indicator_bb = BollingerBands(close = apple[\"Close\"], window = 20, window_dev = 1)\n",
    "\n",
    "apple['bb_bbm'] = indicator_bb.bollinger_mavg()\n",
    "apple['bb_bbh'] = indicator_bb.bollinger_hband()\n",
    "apple['bb_bbl'] = indicator_bb.bollinger_lband()\n",
    "\n",
    "apple['mfi'] = money_flow_index(high = apple.High, \n",
    "                                low = apple.Low, \n",
    "                                close = apple.Close, \n",
    "                                volume = apple.Volume,\n",
    "                                window = 20)\n",
    "apple['obv'] = on_balance_volume(close = apple.Close, \n",
    "                                   volume = apple.Volume)\n",
    "apple['rsi'] = rsi(close = apple.Close, window = 21)\n",
    "apple['return'] = apple_ret\n",
    "apple['vwap'] = volume_weighted_average_price(high = apple['High'],\n",
    "                                              low = apple['Low'],\n",
    "                                              close = apple['Close'],\n",
    "                                              volume = apple['Volume'],\n",
    "                                              window = 20)\n",
    "apple['tsi'] = tsi(close = apple['Close'],\n",
    "                   window_fast = 13,\n",
    "                   window_slow = 15)"
   ],
   "metadata": {
    "collapsed": false,
    "ExecuteTime": {
     "end_time": "2023-12-28T16:56:30.020701Z",
     "start_time": "2023-12-28T16:56:29.972053Z"
    }
   },
   "id": "89074c89f403dbb3"
  },
  {
   "cell_type": "markdown",
   "source": [
    "#### 4. Corwin Schultz Spread\n",
    "\n",
    "10주차의 `MicroStructure.py`를 이용하여 corwin schultz spread를 계산하라. 사용방법은 10주차의 내용을 참고하도록 한다"
   ],
   "metadata": {
    "collapsed": false
   },
   "id": "99153cf285f09318"
  },
  {
   "cell_type": "code",
   "execution_count": 6,
   "outputs": [],
   "source": [
    "import MicroStructure as ms\n",
    "\n",
    "spread = ms.CorwinSchultz(high = apple.High, low = apple.Low)"
   ],
   "metadata": {
    "collapsed": false,
    "ExecuteTime": {
     "end_time": "2023-12-28T16:56:30.027127Z",
     "start_time": "2023-12-28T16:56:30.023275Z"
    }
   },
   "id": "e55f257018009ea3"
  },
  {
   "cell_type": "code",
   "execution_count": 7,
   "outputs": [
    {
     "data": {
      "text/plain": "Date\n2000-02-01    0.004752\n2000-02-02    0.060278\n2000-02-03    0.072427\n2000-02-04    0.013942\n2000-02-07    0.000000\nName: Spread, dtype: float64"
     },
     "execution_count": 7,
     "metadata": {},
     "output_type": "execute_result"
    }
   ],
   "source": [
    "cs_estimator = spread.corwin_schultz_estimator(window = 20)\n",
    "cs_estimator.dropna().head()"
   ],
   "metadata": {
    "collapsed": false,
    "ExecuteTime": {
     "end_time": "2023-12-28T16:56:30.033479Z",
     "start_time": "2023-12-28T16:56:30.027544Z"
    }
   },
   "id": "d58a531dd6059cef"
  },
  {
   "cell_type": "code",
   "execution_count": 8,
   "outputs": [],
   "source": [
    "apple['corwin_schultz'] = cs_estimator"
   ],
   "metadata": {
    "collapsed": false,
    "ExecuteTime": {
     "end_time": "2023-12-28T16:56:30.036820Z",
     "start_time": "2023-12-28T16:56:30.033583Z"
    }
   },
   "id": "772855369e298bd"
  },
  {
   "cell_type": "code",
   "execution_count": 9,
   "outputs": [],
   "source": [
    "apple.dropna(inplace = True)"
   ],
   "metadata": {
    "collapsed": false,
    "ExecuteTime": {
     "end_time": "2023-12-28T16:56:30.040489Z",
     "start_time": "2023-12-28T16:56:30.036430Z"
    }
   },
   "id": "b8aaf0d2e5413399"
  },
  {
   "cell_type": "markdown",
   "source": [
    "#### 5. Primary Modeling\n",
    "\n",
    "Primary Model에서는 방향만을 추정한다. 여기서는 Bollinger Band전략을 사용하여 가격이 상승할 것인지, 하락할 것인지 labeling을 하자. 여기서 상승은 1, 하락은 -1, 횡보상태는 0으로 labeling한다"
   ],
   "metadata": {
    "collapsed": false
   },
   "id": "e6aa5a1419dc6248"
  },
  {
   "cell_type": "code",
   "execution_count": 10,
   "outputs": [
    {
     "data": {
      "text/plain": "                Open      High       Low     Close  Adj Close     Volume  \\\nDate                                                                       \n2002-05-10  0.433750  0.433750  0.410357  0.416429   0.352998  235396000   \n2002-05-13  0.420000  0.430179  0.409643  0.427500   0.362383  265608000   \n2002-05-14  0.436607  0.458571  0.432500  0.457321   0.387662  526506400   \n2002-05-15  0.453036  0.463929  0.443571  0.451429   0.382667  335826400   \n2002-05-16  0.447500  0.454464  0.441964  0.450179   0.381608  227052000   \n\n            fracdiff    bb_bbm    bb_bbh    bb_bbl        mfi         obv  \\\nDate                                                                        \n2002-05-10 -0.008617  0.431545  0.448236  0.414853  51.141905 -3680986400   \n2002-05-13  0.010881  0.430598  0.446952  0.414244  50.728989 -3415378400   \n2002-05-14  0.035424  0.430482  0.446637  0.414328  49.845975 -2888872000   \n2002-05-15  0.010873  0.429741  0.444519  0.414963  49.210677 -3224698400   \n2002-05-16  0.009276  0.429563  0.444068  0.415057  50.857085 -3451750400   \n\n                  rsi    return      vwap       tsi  corwin_schultz  label  \nDate                                                                        \n2002-05-10  46.762252 -0.036626  0.435058 -9.516220        0.000000      0  \n2002-05-13  49.700168  0.026238  0.433914 -7.497196        0.000000      0  \n2002-05-14  56.491004  0.067431  0.432820 -0.355367        0.000000      1  \n2002-05-15  54.951900 -0.012967  0.431957  3.516093        0.000000      1  \n2002-05-16  54.620401 -0.002773  0.431246  6.074729        0.020592      1  ",
      "text/html": "<div>\n<style scoped>\n    .dataframe tbody tr th:only-of-type {\n        vertical-align: middle;\n    }\n\n    .dataframe tbody tr th {\n        vertical-align: top;\n    }\n\n    .dataframe thead th {\n        text-align: right;\n    }\n</style>\n<table border=\"1\" class=\"dataframe\">\n  <thead>\n    <tr style=\"text-align: right;\">\n      <th></th>\n      <th>Open</th>\n      <th>High</th>\n      <th>Low</th>\n      <th>Close</th>\n      <th>Adj Close</th>\n      <th>Volume</th>\n      <th>fracdiff</th>\n      <th>bb_bbm</th>\n      <th>bb_bbh</th>\n      <th>bb_bbl</th>\n      <th>mfi</th>\n      <th>obv</th>\n      <th>rsi</th>\n      <th>return</th>\n      <th>vwap</th>\n      <th>tsi</th>\n      <th>corwin_schultz</th>\n      <th>label</th>\n    </tr>\n    <tr>\n      <th>Date</th>\n      <th></th>\n      <th></th>\n      <th></th>\n      <th></th>\n      <th></th>\n      <th></th>\n      <th></th>\n      <th></th>\n      <th></th>\n      <th></th>\n      <th></th>\n      <th></th>\n      <th></th>\n      <th></th>\n      <th></th>\n      <th></th>\n      <th></th>\n      <th></th>\n    </tr>\n  </thead>\n  <tbody>\n    <tr>\n      <th>2002-05-10</th>\n      <td>0.433750</td>\n      <td>0.433750</td>\n      <td>0.410357</td>\n      <td>0.416429</td>\n      <td>0.352998</td>\n      <td>235396000</td>\n      <td>-0.008617</td>\n      <td>0.431545</td>\n      <td>0.448236</td>\n      <td>0.414853</td>\n      <td>51.141905</td>\n      <td>-3680986400</td>\n      <td>46.762252</td>\n      <td>-0.036626</td>\n      <td>0.435058</td>\n      <td>-9.516220</td>\n      <td>0.000000</td>\n      <td>0</td>\n    </tr>\n    <tr>\n      <th>2002-05-13</th>\n      <td>0.420000</td>\n      <td>0.430179</td>\n      <td>0.409643</td>\n      <td>0.427500</td>\n      <td>0.362383</td>\n      <td>265608000</td>\n      <td>0.010881</td>\n      <td>0.430598</td>\n      <td>0.446952</td>\n      <td>0.414244</td>\n      <td>50.728989</td>\n      <td>-3415378400</td>\n      <td>49.700168</td>\n      <td>0.026238</td>\n      <td>0.433914</td>\n      <td>-7.497196</td>\n      <td>0.000000</td>\n      <td>0</td>\n    </tr>\n    <tr>\n      <th>2002-05-14</th>\n      <td>0.436607</td>\n      <td>0.458571</td>\n      <td>0.432500</td>\n      <td>0.457321</td>\n      <td>0.387662</td>\n      <td>526506400</td>\n      <td>0.035424</td>\n      <td>0.430482</td>\n      <td>0.446637</td>\n      <td>0.414328</td>\n      <td>49.845975</td>\n      <td>-2888872000</td>\n      <td>56.491004</td>\n      <td>0.067431</td>\n      <td>0.432820</td>\n      <td>-0.355367</td>\n      <td>0.000000</td>\n      <td>1</td>\n    </tr>\n    <tr>\n      <th>2002-05-15</th>\n      <td>0.453036</td>\n      <td>0.463929</td>\n      <td>0.443571</td>\n      <td>0.451429</td>\n      <td>0.382667</td>\n      <td>335826400</td>\n      <td>0.010873</td>\n      <td>0.429741</td>\n      <td>0.444519</td>\n      <td>0.414963</td>\n      <td>49.210677</td>\n      <td>-3224698400</td>\n      <td>54.951900</td>\n      <td>-0.012967</td>\n      <td>0.431957</td>\n      <td>3.516093</td>\n      <td>0.000000</td>\n      <td>1</td>\n    </tr>\n    <tr>\n      <th>2002-05-16</th>\n      <td>0.447500</td>\n      <td>0.454464</td>\n      <td>0.441964</td>\n      <td>0.450179</td>\n      <td>0.381608</td>\n      <td>227052000</td>\n      <td>0.009276</td>\n      <td>0.429563</td>\n      <td>0.444068</td>\n      <td>0.415057</td>\n      <td>50.857085</td>\n      <td>-3451750400</td>\n      <td>54.620401</td>\n      <td>-0.002773</td>\n      <td>0.431246</td>\n      <td>6.074729</td>\n      <td>0.020592</td>\n      <td>1</td>\n    </tr>\n  </tbody>\n</table>\n</div>"
     },
     "execution_count": 10,
     "metadata": {},
     "output_type": "execute_result"
    }
   ],
   "source": [
    "apple['label'] = 0\n",
    "apple.loc[(apple['Close'] > apple['bb_bbh']), 'label'] = 1\n",
    "apple.loc[(apple['Close'] < apple['bb_bbl']), 'label'] = -1\n",
    "apple.head()"
   ],
   "metadata": {
    "collapsed": false,
    "ExecuteTime": {
     "end_time": "2023-12-28T16:56:30.054267Z",
     "start_time": "2023-12-28T16:56:30.041920Z"
    }
   },
   "id": "677dfbb71edcee8c"
  },
  {
   "cell_type": "markdown",
   "source": [
    "#### 6. Meta Labeling\n",
    "\n",
    "Secondary Model은 Primary Model에서 나온 방향을 이용해 거래의 실행 여부만을 평가한다. 3개의 레이블[-1, 0, 1]을 이진 분류 모형[0, 1]으로 다시 labeling을 진행한다. 이 과정을 Meta Labeling이라고 한다"
   ],
   "metadata": {
    "collapsed": false
   },
   "id": "6d31d19eb93561c6"
  },
  {
   "cell_type": "code",
   "execution_count": 11,
   "outputs": [
    {
     "data": {
      "text/plain": "                Open      High       Low     Close  Adj Close     Volume  \\\nDate                                                                       \n2002-05-10  0.433750  0.433750  0.410357  0.416429   0.352998  235396000   \n2002-05-13  0.420000  0.430179  0.409643  0.427500   0.362383  265608000   \n2002-05-14  0.436607  0.458571  0.432500  0.457321   0.387662  526506400   \n2002-05-15  0.453036  0.463929  0.443571  0.451429   0.382667  335826400   \n2002-05-16  0.447500  0.454464  0.441964  0.450179   0.381608  227052000   \n\n            fracdiff    bb_bbm    bb_bbh    bb_bbl        mfi         obv  \\\nDate                                                                        \n2002-05-10 -0.008617  0.431545  0.448236  0.414853  51.141905 -3680986400   \n2002-05-13  0.010881  0.430598  0.446952  0.414244  50.728989 -3415378400   \n2002-05-14  0.035424  0.430482  0.446637  0.414328  49.845975 -2888872000   \n2002-05-15  0.010873  0.429741  0.444519  0.414963  49.210677 -3224698400   \n2002-05-16  0.009276  0.429563  0.444068  0.415057  50.857085 -3451750400   \n\n                  rsi    return      vwap       tsi  corwin_schultz  label  \\\nDate                                                                         \n2002-05-10  46.762252 -0.036626  0.435058 -9.516220        0.000000      0   \n2002-05-13  49.700168  0.026238  0.433914 -7.497196        0.000000      0   \n2002-05-14  56.491004  0.067431  0.432820 -0.355367        0.000000      1   \n2002-05-15  54.951900 -0.012967  0.431957  3.516093        0.000000      1   \n2002-05-16  54.620401 -0.002773  0.431246  6.074729        0.020592      1   \n\n            meta_label  \nDate                    \n2002-05-10           0  \n2002-05-13           0  \n2002-05-14           1  \n2002-05-15           1  \n2002-05-16           1  ",
      "text/html": "<div>\n<style scoped>\n    .dataframe tbody tr th:only-of-type {\n        vertical-align: middle;\n    }\n\n    .dataframe tbody tr th {\n        vertical-align: top;\n    }\n\n    .dataframe thead th {\n        text-align: right;\n    }\n</style>\n<table border=\"1\" class=\"dataframe\">\n  <thead>\n    <tr style=\"text-align: right;\">\n      <th></th>\n      <th>Open</th>\n      <th>High</th>\n      <th>Low</th>\n      <th>Close</th>\n      <th>Adj Close</th>\n      <th>Volume</th>\n      <th>fracdiff</th>\n      <th>bb_bbm</th>\n      <th>bb_bbh</th>\n      <th>bb_bbl</th>\n      <th>mfi</th>\n      <th>obv</th>\n      <th>rsi</th>\n      <th>return</th>\n      <th>vwap</th>\n      <th>tsi</th>\n      <th>corwin_schultz</th>\n      <th>label</th>\n      <th>meta_label</th>\n    </tr>\n    <tr>\n      <th>Date</th>\n      <th></th>\n      <th></th>\n      <th></th>\n      <th></th>\n      <th></th>\n      <th></th>\n      <th></th>\n      <th></th>\n      <th></th>\n      <th></th>\n      <th></th>\n      <th></th>\n      <th></th>\n      <th></th>\n      <th></th>\n      <th></th>\n      <th></th>\n      <th></th>\n      <th></th>\n    </tr>\n  </thead>\n  <tbody>\n    <tr>\n      <th>2002-05-10</th>\n      <td>0.433750</td>\n      <td>0.433750</td>\n      <td>0.410357</td>\n      <td>0.416429</td>\n      <td>0.352998</td>\n      <td>235396000</td>\n      <td>-0.008617</td>\n      <td>0.431545</td>\n      <td>0.448236</td>\n      <td>0.414853</td>\n      <td>51.141905</td>\n      <td>-3680986400</td>\n      <td>46.762252</td>\n      <td>-0.036626</td>\n      <td>0.435058</td>\n      <td>-9.516220</td>\n      <td>0.000000</td>\n      <td>0</td>\n      <td>0</td>\n    </tr>\n    <tr>\n      <th>2002-05-13</th>\n      <td>0.420000</td>\n      <td>0.430179</td>\n      <td>0.409643</td>\n      <td>0.427500</td>\n      <td>0.362383</td>\n      <td>265608000</td>\n      <td>0.010881</td>\n      <td>0.430598</td>\n      <td>0.446952</td>\n      <td>0.414244</td>\n      <td>50.728989</td>\n      <td>-3415378400</td>\n      <td>49.700168</td>\n      <td>0.026238</td>\n      <td>0.433914</td>\n      <td>-7.497196</td>\n      <td>0.000000</td>\n      <td>0</td>\n      <td>0</td>\n    </tr>\n    <tr>\n      <th>2002-05-14</th>\n      <td>0.436607</td>\n      <td>0.458571</td>\n      <td>0.432500</td>\n      <td>0.457321</td>\n      <td>0.387662</td>\n      <td>526506400</td>\n      <td>0.035424</td>\n      <td>0.430482</td>\n      <td>0.446637</td>\n      <td>0.414328</td>\n      <td>49.845975</td>\n      <td>-2888872000</td>\n      <td>56.491004</td>\n      <td>0.067431</td>\n      <td>0.432820</td>\n      <td>-0.355367</td>\n      <td>0.000000</td>\n      <td>1</td>\n      <td>1</td>\n    </tr>\n    <tr>\n      <th>2002-05-15</th>\n      <td>0.453036</td>\n      <td>0.463929</td>\n      <td>0.443571</td>\n      <td>0.451429</td>\n      <td>0.382667</td>\n      <td>335826400</td>\n      <td>0.010873</td>\n      <td>0.429741</td>\n      <td>0.444519</td>\n      <td>0.414963</td>\n      <td>49.210677</td>\n      <td>-3224698400</td>\n      <td>54.951900</td>\n      <td>-0.012967</td>\n      <td>0.431957</td>\n      <td>3.516093</td>\n      <td>0.000000</td>\n      <td>1</td>\n      <td>1</td>\n    </tr>\n    <tr>\n      <th>2002-05-16</th>\n      <td>0.447500</td>\n      <td>0.454464</td>\n      <td>0.441964</td>\n      <td>0.450179</td>\n      <td>0.381608</td>\n      <td>227052000</td>\n      <td>0.009276</td>\n      <td>0.429563</td>\n      <td>0.444068</td>\n      <td>0.415057</td>\n      <td>50.857085</td>\n      <td>-3451750400</td>\n      <td>54.620401</td>\n      <td>-0.002773</td>\n      <td>0.431246</td>\n      <td>6.074729</td>\n      <td>0.020592</td>\n      <td>1</td>\n      <td>1</td>\n    </tr>\n  </tbody>\n</table>\n</div>"
     },
     "execution_count": 11,
     "metadata": {},
     "output_type": "execute_result"
    }
   ],
   "source": [
    "apple['meta_label'] = 0\n",
    "apple.loc[(apple['label'] == 1) | (apple['label'] == -1), 'meta_label'] = 1\n",
    "apple.head()"
   ],
   "metadata": {
    "collapsed": false,
    "ExecuteTime": {
     "end_time": "2023-12-28T16:56:30.061448Z",
     "start_time": "2023-12-28T16:56:30.050751Z"
    }
   },
   "id": "167991e0a09cc73e"
  },
  {
   "cell_type": "markdown",
   "source": [
    "#### 7. Secondary Modeling\n",
    "\n",
    "Meta Label을 target으로 지정하고, 2번에서 지정한 technical feature들을 이용하여 이진 분류 모형을 수행하라. 즉, feature matrix에는 아래와 같은 데이터들이 들어간다\n",
    "\n",
    "- fractionally differenctiated features\n",
    "- money flow index\n",
    "- on balance volume\n",
    "- RSI\n",
    "- TSI\n",
    "- VWAP\n",
    "- log return\n",
    "- corwin schultz spread\n",
    "- meta label (target)\n",
    "\n",
    "여기서, Bollinger Band 관련 feature들은 labeling에 사용되었으므로 고려하지 않는다\n",
    "\n",
    "모형의 검증을 위해 test data는 0.2로 지정하고 shuffle = False로 지정한다"
   ],
   "metadata": {
    "collapsed": false
   },
   "id": "4d6f30576f36b09f"
  },
  {
   "cell_type": "code",
   "execution_count": 12,
   "outputs": [
    {
     "data": {
      "text/plain": "            fracdiff        mfi         obv        rsi    return      vwap  \\\nDate                                                                         \n2002-05-10 -0.008617  51.141905 -3680986400  46.762252 -0.036626  0.435058   \n2002-05-13  0.010881  50.728989 -3415378400  49.700168  0.026238  0.433914   \n2002-05-14  0.035424  49.845975 -2888872000  56.491004  0.067431  0.432820   \n2002-05-15  0.010873  49.210677 -3224698400  54.951900 -0.012967  0.431957   \n2002-05-16  0.009276  50.857085 -3451750400  54.620401 -0.002773  0.431246   \n\n                 tsi  corwin_schultz  meta_label  \nDate                                              \n2002-05-10 -9.516220        0.000000           0  \n2002-05-13 -7.497196        0.000000           0  \n2002-05-14 -0.355367        0.000000           1  \n2002-05-15  3.516093        0.000000           1  \n2002-05-16  6.074729        0.020592           1  ",
      "text/html": "<div>\n<style scoped>\n    .dataframe tbody tr th:only-of-type {\n        vertical-align: middle;\n    }\n\n    .dataframe tbody tr th {\n        vertical-align: top;\n    }\n\n    .dataframe thead th {\n        text-align: right;\n    }\n</style>\n<table border=\"1\" class=\"dataframe\">\n  <thead>\n    <tr style=\"text-align: right;\">\n      <th></th>\n      <th>fracdiff</th>\n      <th>mfi</th>\n      <th>obv</th>\n      <th>rsi</th>\n      <th>return</th>\n      <th>vwap</th>\n      <th>tsi</th>\n      <th>corwin_schultz</th>\n      <th>meta_label</th>\n    </tr>\n    <tr>\n      <th>Date</th>\n      <th></th>\n      <th></th>\n      <th></th>\n      <th></th>\n      <th></th>\n      <th></th>\n      <th></th>\n      <th></th>\n      <th></th>\n    </tr>\n  </thead>\n  <tbody>\n    <tr>\n      <th>2002-05-10</th>\n      <td>-0.008617</td>\n      <td>51.141905</td>\n      <td>-3680986400</td>\n      <td>46.762252</td>\n      <td>-0.036626</td>\n      <td>0.435058</td>\n      <td>-9.516220</td>\n      <td>0.000000</td>\n      <td>0</td>\n    </tr>\n    <tr>\n      <th>2002-05-13</th>\n      <td>0.010881</td>\n      <td>50.728989</td>\n      <td>-3415378400</td>\n      <td>49.700168</td>\n      <td>0.026238</td>\n      <td>0.433914</td>\n      <td>-7.497196</td>\n      <td>0.000000</td>\n      <td>0</td>\n    </tr>\n    <tr>\n      <th>2002-05-14</th>\n      <td>0.035424</td>\n      <td>49.845975</td>\n      <td>-2888872000</td>\n      <td>56.491004</td>\n      <td>0.067431</td>\n      <td>0.432820</td>\n      <td>-0.355367</td>\n      <td>0.000000</td>\n      <td>1</td>\n    </tr>\n    <tr>\n      <th>2002-05-15</th>\n      <td>0.010873</td>\n      <td>49.210677</td>\n      <td>-3224698400</td>\n      <td>54.951900</td>\n      <td>-0.012967</td>\n      <td>0.431957</td>\n      <td>3.516093</td>\n      <td>0.000000</td>\n      <td>1</td>\n    </tr>\n    <tr>\n      <th>2002-05-16</th>\n      <td>0.009276</td>\n      <td>50.857085</td>\n      <td>-3451750400</td>\n      <td>54.620401</td>\n      <td>-0.002773</td>\n      <td>0.431246</td>\n      <td>6.074729</td>\n      <td>0.020592</td>\n      <td>1</td>\n    </tr>\n  </tbody>\n</table>\n</div>"
     },
     "execution_count": 12,
     "metadata": {},
     "output_type": "execute_result"
    }
   ],
   "source": [
    "matrix = apple[['fracdiff','mfi','obv','rsi','return','vwap','tsi','corwin_schultz','meta_label']]\n",
    "matrix.head()"
   ],
   "metadata": {
    "collapsed": false,
    "ExecuteTime": {
     "end_time": "2023-12-28T16:56:30.064815Z",
     "start_time": "2023-12-28T16:56:30.059052Z"
    }
   },
   "id": "1b94b7d3c3506a23"
  },
  {
   "cell_type": "code",
   "execution_count": 13,
   "outputs": [],
   "source": [
    "from sklearn.model_selection import train_test_split\n",
    "\n",
    "X = matrix.drop('meta_label', axis = 1)\n",
    "y = matrix['meta_label']\n",
    "\n",
    "X_train, X_test, y_train, y_test = train_test_split(X, y, test_size = 0.2, shuffle = False)"
   ],
   "metadata": {
    "collapsed": false,
    "ExecuteTime": {
     "end_time": "2023-12-28T16:56:30.256620Z",
     "start_time": "2023-12-28T16:56:30.064975Z"
    }
   },
   "id": "71acf8c07bf98d8"
  },
  {
   "cell_type": "markdown",
   "source": [
    "**7.1 RandomForest Classifier**\n",
    "\n",
    "Secondary Model로 Random Forest Classifier를 사용하고 성능을 평가하라. Hyper Parameter는 다음과 같이 지정한다\n",
    "\n",
    "```\n",
    "n_estimators = 1000\n",
    "sample_weights = 'balanced_subsample'\n",
    "criterion = 'entropy'\n",
    "ccp_alpha = 0.001\n",
    "random_state = 42\n",
    "```"
   ],
   "metadata": {
    "collapsed": false
   },
   "id": "4ab6b7f85ffe7af6"
  },
  {
   "cell_type": "code",
   "execution_count": 14,
   "outputs": [],
   "source": [
    "from sklearn.ensemble import RandomForestClassifier\n",
    "\n",
    "rf = RandomForestClassifier(\n",
    "    n_estimators = 1000,\n",
    "    criterion = 'entropy', \n",
    "    random_state = 42,\n",
    "    class_weight = 'balanced_subsample', \n",
    "    ccp_alpha = 0.001,\n",
    "    )\n",
    "model = rf.fit(X_train, y_train)"
   ],
   "metadata": {
    "collapsed": false,
    "ExecuteTime": {
     "end_time": "2023-12-28T16:56:38.762837Z",
     "start_time": "2023-12-28T16:56:30.184935Z"
    }
   },
   "id": "7befc3fa555caa2a"
  },
  {
   "cell_type": "code",
   "execution_count": 15,
   "outputs": [
    {
     "name": "stdout",
     "output_type": "stream",
     "text": [
      "Accuracy: 0.7410468319559229\n"
     ]
    }
   ],
   "source": [
    "from sklearn.metrics import accuracy_score, classification_report, confusion_matrix, roc_curve, auc\n",
    "\n",
    "y_prob = rf.predict_proba(X_test)[:, 1]\n",
    "y_pred = rf.predict(X_test)\n",
    "fpr, tpr, thresholds = roc_curve(y_test, y_prob)\n",
    "accuracy = accuracy_score(y_test, y_pred)\n",
    "print(f'Accuracy: {accuracy}')"
   ],
   "metadata": {
    "collapsed": false,
    "ExecuteTime": {
     "end_time": "2023-12-28T16:56:38.940542Z",
     "start_time": "2023-12-28T16:56:38.766457Z"
    }
   },
   "id": "a890196ffa9aa78b"
  },
  {
   "cell_type": "code",
   "execution_count": 16,
   "outputs": [
    {
     "name": "stdout",
     "output_type": "stream",
     "text": [
      "              precision    recall  f1-score   support\n",
      "\n",
      "           0       0.66      0.64      0.65       412\n",
      "           1       0.78      0.80      0.79       677\n",
      "\n",
      "    accuracy                           0.74      1089\n",
      "   macro avg       0.72      0.72      0.72      1089\n",
      "weighted avg       0.74      0.74      0.74      1089\n"
     ]
    }
   ],
   "source": [
    "print(classification_report(y_test, y_pred))"
   ],
   "metadata": {
    "collapsed": false,
    "ExecuteTime": {
     "end_time": "2023-12-28T16:56:38.943491Z",
     "start_time": "2023-12-28T16:56:38.937261Z"
    }
   },
   "id": "b1f79af4b31b937f"
  },
  {
   "cell_type": "code",
   "execution_count": 17,
   "outputs": [
    {
     "data": {
      "text/plain": "<Figure size 300x300 with 1 Axes>",
      "image/png": "[encoded data removed]"
     },
     "metadata": {},
     "output_type": "display_data"
    }
   ],
   "source": [
    "import matplotlib.pyplot as plt\n",
    "import seaborn as sns\n",
    "\n",
    "cm = confusion_matrix(y_test, y_pred)\n",
    "plt.figure(figsize = (3, 3))\n",
    "sns.heatmap(cm, annot = True, fmt = 'd', cbar = False)\n",
    "plt.xlabel('Predicted')\n",
    "plt.ylabel('True')\n",
    "plt.title('Confusion Matrix', fontsize = 12, fontfamily = 'Serif')\n",
    "plt.show()"
   ],
   "metadata": {
    "collapsed": false,
    "ExecuteTime": {
     "end_time": "2023-12-28T16:56:39.025610Z",
     "start_time": "2023-12-28T16:56:38.943898Z"
    }
   },
   "id": "beb9b2118757680d"
  },
  {
   "cell_type": "code",
   "execution_count": 18,
   "outputs": [
    {
     "data": {
      "text/plain": "<Figure size 600x400 with 1 Axes>",
      "image/png": "[encoded data removed]"
     },
     "metadata": {},
     "output_type": "display_data"
    }
   ],
   "source": [
    "y_prob = rf.predict_proba(X_test)[:, 1]\n",
    "\n",
    "fpr, tpr, thresholds = roc_curve(y_test, y_prob)\n",
    "roc_auc = auc(fpr, tpr)\n",
    "\n",
    "plt.figure(figsize = (6, 4))\n",
    "plt.plot(fpr, tpr, label = 'Random Forest (area = {:.2f})'.format(roc_auc), color = 'navy', alpha = 0.8)\n",
    "plt.plot([0, 1], [0, 1], 'k:')\n",
    "plt.xlabel('False Positive Rate')\n",
    "plt.ylabel('True Positive Rate')\n",
    "plt.title('ROC Curve with Random Forest', fontsize = 12, fontfamily = 'Serif')\n",
    "plt.grid(False)\n",
    "plt.legend()\n",
    "plt.show()"
   ],
   "metadata": {
    "collapsed": false,
    "ExecuteTime": {
     "end_time": "2023-12-28T16:56:39.174468Z",
     "start_time": "2023-12-28T16:56:39.007255Z"
    }
   },
   "id": "d4e6578b60039dc5"
  },
  {
   "cell_type": "markdown",
   "source": [
    "**7.2 Ada Boosting**\n",
    "\n",
    "동일한 작업을 AdaBoosting을 통해 확인하라. 단, 기초 모형은 Decision Tree를 사용하고, Hyper Parameter는 다음과 같이 지정하도록 한다\n",
    "\n",
    "**Estimator : Tree**\n",
    "```\n",
    "    max_depth = 1,\n",
    "    criterion = 'entropy',\n",
    "    class_weight = 'balanced',\n",
    "    random_state = 42\n",
    "```\n",
    "\n",
    "**Adaboost**\n",
    "```\n",
    "    n_estimators = 1000,\n",
    "    random_state = 42\n",
    "```"
   ],
   "metadata": {
    "collapsed": false
   },
   "id": "5fadb73196c53ebc"
  },
  {
   "cell_type": "code",
   "execution_count": 24,
   "outputs": [],
   "source": [
    "from sklearn.ensemble import AdaBoostClassifier\n",
    "from sklearn.tree import DecisionTreeClassifier\n",
    "\n",
    "tree = DecisionTreeClassifier(\n",
    "    criterion = 'entropy',\n",
    "    class_weight = 'balanced',\n",
    "    random_state = 42\n",
    ")\n",
    "adaboost = AdaBoostClassifier(\n",
    "    tree,\n",
    "    n_estimators = 1000,\n",
    "    random_state = 42\n",
    ")"
   ],
   "metadata": {
    "collapsed": false,
    "ExecuteTime": {
     "end_time": "2023-12-28T16:58:52.433609Z",
     "start_time": "2023-12-28T16:58:52.421387Z"
    }
   },
   "id": "497ff94a32cb0eb8"
  },
  {
   "cell_type": "code",
   "execution_count": 25,
   "outputs": [
    {
     "data": {
      "text/plain": "AdaBoostClassifier(estimator=DecisionTreeClassifier(class_weight='balanced',\n                                                    criterion='entropy',\n                                                    random_state=42),\n                   n_estimators=1000, random_state=42)",
      "text/html": "<style>#sk-container-id-2 {color: black;}#sk-container-id-2 pre{padding: 0;}#sk-container-id-2 div.sk-toggleable {background-color: white;}#sk-container-id-2 label.sk-toggleable__label {cursor: pointer;display: block;width: 100%;margin-bottom: 0;padding: 0.3em;box-sizing: border-box;text-align: center;}#sk-container-id-2 label.sk-toggleable__label-arrow:before {content: \"▸\";float: left;margin-right: 0.25em;color: #696969;}#sk-container-id-2 label.sk-toggleable__label-arrow:hover:before {color: black;}#sk-container-id-2 div.sk-estimator:hover label.sk-toggleable__label-arrow:before {color: black;}#sk-container-id-2 div.sk-toggleable__content {max-height: 0;max-width: 0;overflow: hidden;text-align: left;background-color: #f0f8ff;}#sk-container-id-2 div.sk-toggleable__content pre {margin: 0.2em;color: black;border-radius: 0.25em;background-color: #f0f8ff;}#sk-container-id-2 input.sk-toggleable__control:checked~div.sk-toggleable__content {max-height: 200px;max-width: 100%;overflow: auto;}#sk-container-id-2 input.sk-toggleable__control:checked~label.sk-toggleable__label-arrow:before {content: \"▾\";}#sk-container-id-2 div.sk-estimator input.sk-toggleable__control:checked~label.sk-toggleable__label {background-color: #d4ebff;}#sk-container-id-2 div.sk-label input.sk-toggleable__control:checked~label.sk-toggleable__label {background-color: #d4ebff;}#sk-container-id-2 input.sk-hidden--visually {border: 0;clip: rect(1px 1px 1px 1px);clip: rect(1px, 1px, 1px, 1px);height: 1px;margin: -1px;overflow: hidden;padding: 0;position: absolute;width: 1px;}#sk-container-id-2 div.sk-estimator {font-family: monospace;background-color: #f0f8ff;border: 1px dotted black;border-radius: 0.25em;box-sizing: border-box;margin-bottom: 0.5em;}#sk-container-id-2 div.sk-estimator:hover {background-color: #d4ebff;}#sk-container-id-2 div.sk-parallel-item::after {content: \"\";width: 100%;border-bottom: 1px solid gray;flex-grow: 1;}#sk-container-id-2 div.sk-label:hover label.sk-toggleable__label {background-color: #d4ebff;}#sk-container-id-2 div.sk-serial::before {content: \"\";position: absolute;border-left: 1px solid gray;box-sizing: border-box;top: 0;bottom: 0;left: 50%;z-index: 0;}#sk-container-id-2 div.sk-serial {display: flex;flex-direction: column;align-items: center;background-color: white;padding-right: 0.2em;padding-left: 0.2em;position: relative;}#sk-container-id-2 div.sk-item {position: relative;z-index: 1;}#sk-container-id-2 div.sk-parallel {display: flex;align-items: stretch;justify-content: center;background-color: white;position: relative;}#sk-container-id-2 div.sk-item::before, #sk-container-id-2 div.sk-parallel-item::before {content: \"\";position: absolute;border-left: 1px solid gray;box-sizing: border-box;top: 0;bottom: 0;left: 50%;z-index: -1;}#sk-container-id-2 div.sk-parallel-item {display: flex;flex-direction: column;z-index: 1;position: relative;background-color: white;}#sk-container-id-2 div.sk-parallel-item:first-child::after {align-self: flex-end;width: 50%;}#sk-container-id-2 div.sk-parallel-item:last-child::after {align-self: flex-start;width: 50%;}#sk-container-id-2 div.sk-parallel-item:only-child::after {width: 0;}#sk-container-id-2 div.sk-dashed-wrapped {border: 1px dashed gray;margin: 0 0.4em 0.5em 0.4em;box-sizing: border-box;padding-bottom: 0.4em;background-color: white;}#sk-container-id-2 div.sk-label label {font-family: monospace;font-weight: bold;display: inline-block;line-height: 1.2em;}#sk-container-id-2 div.sk-label-container {text-align: center;}#sk-container-id-2 div.sk-container {/* jupyter's `normalize.less` sets `[hidden] { display: none; }` but bootstrap.min.css set `[hidden] { display: none !important; }` so we also need the `!important` here to be able to override the default hidden behavior on the sphinx rendered scikit-learn.org. See: https://github.com/scikit-learn/scikit-learn/issues/21755 */display: inline-block !important;position: relative;}#sk-container-id-2 div.sk-text-repr-fallback {display: none;}</style><div id=\"sk-container-id-2\" class=\"sk-top-container\"><div class=\"sk-text-repr-fallback\"><pre>AdaBoostClassifier(estimator=DecisionTreeClassifier(class_weight=&#x27;balanced&#x27;,\n                                                    criterion=&#x27;entropy&#x27;,\n                                                    random_state=42),\n                   n_estimators=1000, random_state=42)</pre><b>In a Jupyter environment, please rerun this cell to show the HTML representation or trust the notebook. <br />On GitHub, the HTML representation is unable to render, please try loading this page with nbviewer.org.</b></div><div class=\"sk-container\" hidden><div class=\"sk-item sk-dashed-wrapped\"><div class=\"sk-label-container\"><div class=\"sk-label sk-toggleable\"><input class=\"sk-toggleable__control sk-hidden--visually\" id=\"sk-estimator-id-4\" type=\"checkbox\" ><label for=\"sk-estimator-id-4\" class=\"sk-toggleable__label sk-toggleable__label-arrow\">AdaBoostClassifier</label><div class=\"sk-toggleable__content\"><pre>AdaBoostClassifier(estimator=DecisionTreeClassifier(class_weight=&#x27;balanced&#x27;,\n                                                    criterion=&#x27;entropy&#x27;,\n                                                    random_state=42),\n                   n_estimators=1000, random_state=42)</pre></div></div></div><div class=\"sk-parallel\"><div class=\"sk-parallel-item\"><div class=\"sk-item\"><div class=\"sk-label-container\"><div class=\"sk-label sk-toggleable\"><input class=\"sk-toggleable__control sk-hidden--visually\" id=\"sk-estimator-id-5\" type=\"checkbox\" ><label for=\"sk-estimator-id-5\" class=\"sk-toggleable__label sk-toggleable__label-arrow\">estimator: DecisionTreeClassifier</label><div class=\"sk-toggleable__content\"><pre>DecisionTreeClassifier(class_weight=&#x27;balanced&#x27;, criterion=&#x27;entropy&#x27;,\n                       random_state=42)</pre></div></div></div><div class=\"sk-serial\"><div class=\"sk-item\"><div class=\"sk-estimator sk-toggleable\"><input class=\"sk-toggleable__control sk-hidden--visually\" id=\"sk-estimator-id-6\" type=\"checkbox\" ><label for=\"sk-estimator-id-6\" class=\"sk-toggleable__label sk-toggleable__label-arrow\">DecisionTreeClassifier</label><div class=\"sk-toggleable__content\"><pre>DecisionTreeClassifier(class_weight=&#x27;balanced&#x27;, criterion=&#x27;entropy&#x27;,\n                       random_state=42)</pre></div></div></div></div></div></div></div></div></div></div>"
     },
     "execution_count": 25,
     "metadata": {},
     "output_type": "execute_result"
    }
   ],
   "source": [
    "adaboost.fit(X_train, y_train)"
   ],
   "metadata": {
    "collapsed": false,
    "ExecuteTime": {
     "end_time": "2023-12-28T16:58:53.462985Z",
     "start_time": "2023-12-28T16:58:53.406810Z"
    }
   },
   "id": "b966690decede2bb"
  },
  {
   "cell_type": "code",
   "execution_count": 26,
   "outputs": [
    {
     "name": "stdout",
     "output_type": "stream",
     "text": [
      "Accuracy: 0.6409550045913682\n"
     ]
    }
   ],
   "source": [
    "y_prob = adaboost.predict_proba(X_test)[:, 1]\n",
    "y_pred = adaboost.predict(X_test)\n",
    "fpr, tpr, thresholds = roc_curve(y_test, y_prob)\n",
    "accuracy = accuracy_score(y_test, y_pred)\n",
    "print(f'Accuracy: {accuracy}')"
   ],
   "metadata": {
    "collapsed": false,
    "ExecuteTime": {
     "end_time": "2023-12-28T16:58:55.072131Z",
     "start_time": "2023-12-28T16:58:55.058919Z"
    }
   },
   "id": "5d5fb711aee7e944"
  },
  {
   "cell_type": "code",
   "execution_count": 27,
   "outputs": [
    {
     "name": "stdout",
     "output_type": "stream",
     "text": [
      "              precision    recall  f1-score   support\n",
      "\n",
      "           0       0.53      0.42      0.47       412\n",
      "           1       0.69      0.77      0.73       677\n",
      "\n",
      "    accuracy                           0.64      1089\n",
      "   macro avg       0.61      0.60      0.60      1089\n",
      "weighted avg       0.63      0.64      0.63      1089\n"
     ]
    }
   ],
   "source": [
    "print(classification_report(y_test, y_pred))"
   ],
   "metadata": {
    "collapsed": false,
    "ExecuteTime": {
     "end_time": "2023-12-28T16:58:56.867592Z",
     "start_time": "2023-12-28T16:58:56.857920Z"
    }
   },
   "id": "30aef7db4320a754"
  },
  {
   "cell_type": "code",
   "execution_count": 28,
   "outputs": [
    {
     "data": {
      "text/plain": "<Figure size 300x300 with 1 Axes>",
      "image/png": "[encoded data removed]"
     },
     "metadata": {},
     "output_type": "display_data"
    }
   ],
   "source": [
    "cm = confusion_matrix(y_test, y_pred)\n",
    "plt.figure(figsize = (3, 3))\n",
    "sns.heatmap(cm, annot = True, fmt = 'd', cbar = False)\n",
    "plt.xlabel('Predicted')\n",
    "plt.ylabel('True')\n",
    "plt.title('Confusion Matrix', fontsize = 12, fontfamily = 'Serif')\n",
    "plt.show()"
   ],
   "metadata": {
    "collapsed": false,
    "ExecuteTime": {
     "end_time": "2023-12-28T16:59:08.041937Z",
     "start_time": "2023-12-28T16:59:07.996802Z"
    }
   },
   "id": "9d18e0259f12e71f"
  },
  {
   "cell_type": "code",
   "execution_count": 29,
   "outputs": [
    {
     "data": {
      "text/plain": "<Figure size 600x400 with 1 Axes>",
      "image/png": "[encoded data removed]"
     },
     "metadata": {},
     "output_type": "display_data"
    }
   ],
   "source": [
    "fpr, tpr, thresholds = roc_curve(y_test, y_prob)\n",
    "roc_auc = auc(fpr, tpr)\n",
    "\n",
    "plt.figure(figsize = (6, 4))\n",
    "plt.plot(fpr, tpr, label = 'Ada Boost (area = {:.2f})'.format(roc_auc), color = 'darkorange', alpha = 0.8)\n",
    "plt.plot([0, 1], [0, 1], 'k:')\n",
    "plt.xlabel('False Positive Rate')\n",
    "plt.ylabel('True Positive Rate')\n",
    "plt.title('ROC Curve with Ada Boost', fontsize = 12, fontfamily = 'Serif')\n",
    "plt.grid(False)\n",
    "plt.legend()\n",
    "plt.show()"
   ],
   "metadata": {
    "collapsed": false,
    "ExecuteTime": {
     "end_time": "2023-12-28T16:59:16.273378Z",
     "start_time": "2023-12-28T16:59:16.178493Z"
    }
   },
   "id": "14e1acf36f9c1f4b"
  },
  {
   "cell_type": "markdown",
   "source": [
    "**7.3 Gradient Boosting**\n",
    "\n",
    "주어진 문제를 Gradient Boosting을 활용해 추정하자. Hyper Parameter는 아래와 같이 지정한다\n",
    "\n",
    "```\n",
    "    n_estimators = 1000, \n",
    "    learning_rate = 1.0, \n",
    "    max_depth = 1, \n",
    "    random_state = 42\n",
    "```"
   ],
   "metadata": {
    "collapsed": false
   },
   "id": "3698537d57ffb44d"
  },
  {
   "cell_type": "code",
   "execution_count": 34,
   "outputs": [],
   "source": [
    "from sklearn.ensemble import GradientBoostingClassifier\n",
    "\n",
    "gradient = GradientBoostingClassifier(\n",
    "    n_estimators = 1000, \n",
    "    learning_rate = 1.0, \n",
    "    max_depth = 6, \n",
    "    random_state = 42\n",
    ")"
   ],
   "metadata": {
    "collapsed": false,
    "ExecuteTime": {
     "end_time": "2023-12-28T17:00:12.356825Z",
     "start_time": "2023-12-28T17:00:12.340448Z"
    }
   },
   "id": "a750196a3030e0e3"
  },
  {
   "cell_type": "code",
   "execution_count": 35,
   "outputs": [
    {
     "data": {
      "text/plain": "GradientBoostingClassifier(learning_rate=1.0, max_depth=6, n_estimators=1000,\n                           random_state=42)",
      "text/html": "<style>#sk-container-id-4 {color: black;}#sk-container-id-4 pre{padding: 0;}#sk-container-id-4 div.sk-toggleable {background-color: white;}#sk-container-id-4 label.sk-toggleable__label {cursor: pointer;display: block;width: 100%;margin-bottom: 0;padding: 0.3em;box-sizing: border-box;text-align: center;}#sk-container-id-4 label.sk-toggleable__label-arrow:before {content: \"▸\";float: left;margin-right: 0.25em;color: #696969;}#sk-container-id-4 label.sk-toggleable__label-arrow:hover:before {color: black;}#sk-container-id-4 div.sk-estimator:hover label.sk-toggleable__label-arrow:before {color: black;}#sk-container-id-4 div.sk-toggleable__content {max-height: 0;max-width: 0;overflow: hidden;text-align: left;background-color: #f0f8ff;}#sk-container-id-4 div.sk-toggleable__content pre {margin: 0.2em;color: black;border-radius: 0.25em;background-color: #f0f8ff;}#sk-container-id-4 input.sk-toggleable__control:checked~div.sk-toggleable__content {max-height: 200px;max-width: 100%;overflow: auto;}#sk-container-id-4 input.sk-toggleable__control:checked~label.sk-toggleable__label-arrow:before {content: \"▾\";}#sk-container-id-4 div.sk-estimator input.sk-toggleable__control:checked~label.sk-toggleable__label {background-color: #d4ebff;}#sk-container-id-4 div.sk-label input.sk-toggleable__control:checked~label.sk-toggleable__label {background-color: #d4ebff;}#sk-container-id-4 input.sk-hidden--visually {border: 0;clip: rect(1px 1px 1px 1px);clip: rect(1px, 1px, 1px, 1px);height: 1px;margin: -1px;overflow: hidden;padding: 0;position: absolute;width: 1px;}#sk-container-id-4 div.sk-estimator {font-family: monospace;background-color: #f0f8ff;border: 1px dotted black;border-radius: 0.25em;box-sizing: border-box;margin-bottom: 0.5em;}#sk-container-id-4 div.sk-estimator:hover {background-color: #d4ebff;}#sk-container-id-4 div.sk-parallel-item::after {content: \"\";width: 100%;border-bottom: 1px solid gray;flex-grow: 1;}#sk-container-id-4 div.sk-label:hover label.sk-toggleable__label {background-color: #d4ebff;}#sk-container-id-4 div.sk-serial::before {content: \"\";position: absolute;border-left: 1px solid gray;box-sizing: border-box;top: 0;bottom: 0;left: 50%;z-index: 0;}#sk-container-id-4 div.sk-serial {display: flex;flex-direction: column;align-items: center;background-color: white;padding-right: 0.2em;padding-left: 0.2em;position: relative;}#sk-container-id-4 div.sk-item {position: relative;z-index: 1;}#sk-container-id-4 div.sk-parallel {display: flex;align-items: stretch;justify-content: center;background-color: white;position: relative;}#sk-container-id-4 div.sk-item::before, #sk-container-id-4 div.sk-parallel-item::before {content: \"\";position: absolute;border-left: 1px solid gray;box-sizing: border-box;top: 0;bottom: 0;left: 50%;z-index: -1;}#sk-container-id-4 div.sk-parallel-item {display: flex;flex-direction: column;z-index: 1;position: relative;background-color: white;}#sk-container-id-4 div.sk-parallel-item:first-child::after {align-self: flex-end;width: 50%;}#sk-container-id-4 div.sk-parallel-item:last-child::after {align-self: flex-start;width: 50%;}#sk-container-id-4 div.sk-parallel-item:only-child::after {width: 0;}#sk-container-id-4 div.sk-dashed-wrapped {border: 1px dashed gray;margin: 0 0.4em 0.5em 0.4em;box-sizing: border-box;padding-bottom: 0.4em;background-color: white;}#sk-container-id-4 div.sk-label label {font-family: monospace;font-weight: bold;display: inline-block;line-height: 1.2em;}#sk-container-id-4 div.sk-label-container {text-align: center;}#sk-container-id-4 div.sk-container {/* jupyter's `normalize.less` sets `[hidden] { display: none; }` but bootstrap.min.css set `[hidden] { display: none !important; }` so we also need the `!important` here to be able to override the default hidden behavior on the sphinx rendered scikit-learn.org. See: https://github.com/scikit-learn/scikit-learn/issues/21755 */display: inline-block !important;position: relative;}#sk-container-id-4 div.sk-text-repr-fallback {display: none;}</style><div id=\"sk-container-id-4\" class=\"sk-top-container\"><div class=\"sk-text-repr-fallback\"><pre>GradientBoostingClassifier(learning_rate=1.0, max_depth=6, n_estimators=1000,\n                           random_state=42)</pre><b>In a Jupyter environment, please rerun this cell to show the HTML representation or trust the notebook. <br />On GitHub, the HTML representation is unable to render, please try loading this page with nbviewer.org.</b></div><div class=\"sk-container\" hidden><div class=\"sk-item\"><div class=\"sk-estimator sk-toggleable\"><input class=\"sk-toggleable__control sk-hidden--visually\" id=\"sk-estimator-id-8\" type=\"checkbox\" checked><label for=\"sk-estimator-id-8\" class=\"sk-toggleable__label sk-toggleable__label-arrow\">GradientBoostingClassifier</label><div class=\"sk-toggleable__content\"><pre>GradientBoostingClassifier(learning_rate=1.0, max_depth=6, n_estimators=1000,\n                           random_state=42)</pre></div></div></div></div></div>"
     },
     "execution_count": 35,
     "metadata": {},
     "output_type": "execute_result"
    }
   ],
   "source": [
    "gradient.fit(X_train, y_train)"
   ],
   "metadata": {
    "collapsed": false,
    "ExecuteTime": {
     "end_time": "2023-12-28T17:00:22.055563Z",
     "start_time": "2023-12-28T17:00:13.012355Z"
    }
   },
   "id": "aaf001d98b6a04b9"
  },
  {
   "cell_type": "code",
   "execution_count": 36,
   "outputs": [
    {
     "name": "stdout",
     "output_type": "stream",
     "text": [
      "Accuracy: 0.6326905417814509\n"
     ]
    }
   ],
   "source": [
    "y_prob = gradient.predict_proba(X_test)[:, 1]\n",
    "y_pred = gradient.predict(X_test)\n",
    "fpr, tpr, thresholds = roc_curve(y_test, y_prob)\n",
    "accuracy = accuracy_score(y_test, y_pred)\n",
    "print(f'Accuracy: {accuracy}')"
   ],
   "metadata": {
    "collapsed": false,
    "ExecuteTime": {
     "end_time": "2023-12-28T17:00:25.312927Z",
     "start_time": "2023-12-28T17:00:25.299418Z"
    }
   },
   "id": "7262820b3e4b02cd"
  },
  {
   "cell_type": "code",
   "execution_count": 37,
   "outputs": [
    {
     "name": "stdout",
     "output_type": "stream",
     "text": [
      "              precision    recall  f1-score   support\n",
      "\n",
      "           0       0.51      0.76      0.61       412\n",
      "           1       0.79      0.55      0.65       677\n",
      "\n",
      "    accuracy                           0.63      1089\n",
      "   macro avg       0.65      0.66      0.63      1089\n",
      "weighted avg       0.69      0.63      0.64      1089\n"
     ]
    }
   ],
   "source": [
    "print(classification_report(y_test, y_pred))"
   ],
   "metadata": {
    "collapsed": false,
    "ExecuteTime": {
     "end_time": "2023-12-28T17:00:48.179216Z",
     "start_time": "2023-12-28T17:00:48.164601Z"
    }
   },
   "id": "7b8ffa65084e13c9"
  },
  {
   "cell_type": "code",
   "execution_count": 38,
   "outputs": [
    {
     "data": {
      "text/plain": "<Figure size 300x300 with 1 Axes>",
      "image/png": "[encoded data removed]"
     },
     "metadata": {},
     "output_type": "display_data"
    }
   ],
   "source": [
    "cm = confusion_matrix(y_test, y_pred)\n",
    "plt.figure(figsize = (3, 3))\n",
    "sns.heatmap(cm, annot = True, fmt = 'd', cbar = False)\n",
    "plt.xlabel('Predicted')\n",
    "plt.ylabel('True')\n",
    "plt.title('Confusion Matrix', fontsize = 12, fontfamily = 'Serif')\n",
    "plt.show()"
   ],
   "metadata": {
    "collapsed": false,
    "ExecuteTime": {
     "end_time": "2023-12-28T17:00:59.761115Z",
     "start_time": "2023-12-28T17:00:59.712307Z"
    }
   },
   "id": "7ebdef8e696feeb6"
  },
  {
   "cell_type": "code",
   "execution_count": 39,
   "outputs": [
    {
     "data": {
      "text/plain": "<Figure size 600x400 with 1 Axes>",
      "image/png": "[encoded data removed]"
     },
     "metadata": {},
     "output_type": "display_data"
    }
   ],
   "source": [
    "fpr, tpr, thresholds = roc_curve(y_test, y_prob)\n",
    "roc_auc = auc(fpr, tpr)\n",
    "\n",
    "plt.figure(figsize = (6, 4))\n",
    "plt.plot(fpr, tpr, label = 'Grediant Boost (area = {:.2f})'.format(roc_auc), color = 'red', alpha = 0.8)\n",
    "plt.plot([0, 1], [0, 1], 'k:')\n",
    "plt.xlabel('False Positive Rate')\n",
    "plt.ylabel('True Positive Rate')\n",
    "plt.title('ROC Curve with Grediant Boost', fontsize = 12, fontfamily = 'Serif')\n",
    "plt.grid(False)\n",
    "plt.legend()\n",
    "plt.show()"
   ],
   "metadata": {
    "collapsed": false,
    "ExecuteTime": {
     "end_time": "2023-12-28T17:01:07.335054Z",
     "start_time": "2023-12-28T17:01:07.238757Z"
    }
   },
   "id": "3642984de3fedd6e"
  },
  {
   "cell_type": "markdown",
   "source": [
    "**7.4 CatBoosting**\n",
    "\n",
    "주어진 문제를 CatBoost를 활용해 예측해 보자. 아래의 Hyper Parameter를 사용하고, Sample Weights는 Random Forest에서 사용했던 balanced_subsample과 동일한 기능을 하도록 조정한다\n",
    "\n",
    "```\n",
    "    class_weights = class_weights,\n",
    "    n_estimators = 1000,\n",
    "    loss_function = 'Logloss',\n",
    "    random_state = 42,\n",
    "    learning_rate = 0.1,\n",
    "    verbose = 0\n",
    "```"
   ],
   "metadata": {
    "collapsed": false
   },
   "id": "cd6102cf40445a1f"
  },
  {
   "cell_type": "code",
   "execution_count": 40,
   "outputs": [],
   "source": [
    "from sklearn.utils.class_weight import compute_class_weight\n",
    "\n",
    "classes = np.unique(y_train)\n",
    "weights = compute_class_weight(\n",
    "    class_weight = 'balanced', \n",
    "    classes = classes, \n",
    "    y = y_train\n",
    ")\n",
    "class_weights = dict(zip(classes, weights))"
   ],
   "metadata": {
    "collapsed": false,
    "ExecuteTime": {
     "end_time": "2023-12-28T17:01:46.939797Z",
     "start_time": "2023-12-28T17:01:46.916199Z"
    }
   },
   "id": "95f7b3a5e25edc57"
  },
  {
   "cell_type": "code",
   "execution_count": 41,
   "outputs": [],
   "source": [
    "from catboost import CatBoostClassifier\n",
    "cat = CatBoostClassifier(\n",
    "    class_weights = class_weights,\n",
    "    n_estimators = 1000,\n",
    "    loss_function = 'Logloss',\n",
    "    random_state = 42,\n",
    "    learning_rate = 0.1,\n",
    "    verbose = 0\n",
    ")"
   ],
   "metadata": {
    "collapsed": false,
    "ExecuteTime": {
     "end_time": "2023-12-28T17:01:52.417219Z",
     "start_time": "2023-12-28T17:01:52.366676Z"
    }
   },
   "id": "2e4aa85953c2e5a0"
  },
  {
   "cell_type": "code",
   "execution_count": 42,
   "outputs": [
    {
     "data": {
      "text/plain": "<catboost.core.CatBoostClassifier at 0x151d5f370>"
     },
     "execution_count": 42,
     "metadata": {},
     "output_type": "execute_result"
    }
   ],
   "source": [
    "cat.fit(X_train, y_train)"
   ],
   "metadata": {
    "collapsed": false,
    "ExecuteTime": {
     "end_time": "2023-12-28T17:01:59.563515Z",
     "start_time": "2023-12-28T17:01:56.994985Z"
    }
   },
   "id": "32d6fdaab863b12a"
  },
  {
   "cell_type": "code",
   "execution_count": 43,
   "outputs": [
    {
     "name": "stdout",
     "output_type": "stream",
     "text": [
      "Accuracy: 0.7144168962350781\n"
     ]
    }
   ],
   "source": [
    "y_prob = cat.predict_proba(X_test)[:, 1]\n",
    "y_pred = cat.predict(X_test)\n",
    "fpr, tpr, thresholds = roc_curve(y_test, y_prob)\n",
    "accuracy = accuracy_score(y_test, y_pred)\n",
    "print(f'Accuracy: {accuracy}')"
   ],
   "metadata": {
    "collapsed": false,
    "ExecuteTime": {
     "end_time": "2023-12-28T17:02:03.737187Z",
     "start_time": "2023-12-28T17:02:03.705327Z"
    }
   },
   "id": "6ec51656ba1b1d3d"
  },
  {
   "cell_type": "code",
   "execution_count": 44,
   "outputs": [
    {
     "name": "stdout",
     "output_type": "stream",
     "text": [
      "              precision    recall  f1-score   support\n",
      "\n",
      "           0       0.64      0.57      0.60       412\n",
      "           1       0.75      0.80      0.78       677\n",
      "\n",
      "    accuracy                           0.71      1089\n",
      "   macro avg       0.70      0.69      0.69      1089\n",
      "weighted avg       0.71      0.71      0.71      1089\n"
     ]
    }
   ],
   "source": [
    "print(classification_report(y_test, y_pred))"
   ],
   "metadata": {
    "collapsed": false,
    "ExecuteTime": {
     "end_time": "2023-12-28T17:02:09.753871Z",
     "start_time": "2023-12-28T17:02:09.734249Z"
    }
   },
   "id": "67dca550b1792998"
  },
  {
   "cell_type": "code",
   "execution_count": 45,
   "outputs": [
    {
     "data": {
      "text/plain": "<Figure size 300x300 with 1 Axes>",
      "image/png": "[encoded data removed]"
     },
     "metadata": {},
     "output_type": "display_data"
    }
   ],
   "source": [
    "cm = confusion_matrix(y_test, y_pred)\n",
    "plt.figure(figsize = (3, 3))\n",
    "sns.heatmap(cm, annot = True, fmt = 'd', cbar = False)\n",
    "plt.xlabel('Predicted')\n",
    "plt.ylabel('True')\n",
    "plt.title('Confusion Matrix', fontsize = 12, fontfamily = 'Serif')\n",
    "plt.show()"
   ],
   "metadata": {
    "collapsed": false,
    "ExecuteTime": {
     "end_time": "2023-12-28T17:02:15.309017Z",
     "start_time": "2023-12-28T17:02:15.265692Z"
    }
   },
   "id": "bf7d96a43959feba"
  },
  {
   "cell_type": "code",
   "execution_count": 46,
   "outputs": [
    {
     "data": {
      "text/plain": "<Figure size 600x400 with 1 Axes>",
      "image/png": "[encoded data removed]"
     },
     "metadata": {},
     "output_type": "display_data"
    }
   ],
   "source": [
    "fpr, tpr, thresholds = roc_curve(y_test, y_prob)\n",
    "roc_auc = auc(fpr, tpr)\n",
    "\n",
    "plt.figure(figsize = (6, 4))\n",
    "plt.plot(fpr, tpr, label = 'Cat Boost (area = {:.2f})'.format(roc_auc), color = 'purple', alpha = 0.8)\n",
    "plt.plot([0, 1], [0, 1], 'k:')\n",
    "plt.xlabel('False Positive Rate')\n",
    "plt.ylabel('True Positive Rate')\n",
    "plt.title('ROC Curve with Cat Boost', fontsize = 12, fontfamily = 'Serif')\n",
    "plt.grid(False)\n",
    "plt.legend()\n",
    "plt.show()"
   ],
   "metadata": {
    "collapsed": false,
    "ExecuteTime": {
     "end_time": "2023-12-28T17:02:20.912785Z",
     "start_time": "2023-12-28T17:02:20.827902Z"
    }
   },
   "id": "60298e295c70f93e"
  },
  {
   "cell_type": "markdown",
   "source": [
    "#### 8. Compare Results\n",
    "\n",
    "추정기간의 성능을 비교해 보자. 매매 기회를 최대한 많이 잡아내기 위해서는(실제 1 중에서 최대한 많이 잡아내는 것) 어떤 모형을 쓰는 것이 가장 효율적인가?"
   ],
   "metadata": {
    "collapsed": false
   },
   "id": "e098c2ff3a161724"
  }
 ],
 "metadata": {
  "kernelspec": {
   "display_name": "Python 3",
   "language": "python",
   "name": "python3"
  },
  "language_info": {
   "codemirror_mode": {
    "name": "ipython",
    "version": 2
   },
   "file_extension": ".py",
   "mimetype": "text/x-python",
   "name": "python",
   "nbconvert_exporter": "python",
   "pygments_lexer": "ipython2",
   "version": "2.7.6"
  }
 },
 "nbformat": 4,
 "nbformat_minor": 5
}
