{
 "cells": [
  {
   "cell_type": "markdown",
   "source": [
    "### Ensemble Learning"
   ],
   "metadata": {
    "collapsed": false
   },
   "id": "51bf4d0fd106fc67"
  },
  {
   "cell_type": "markdown",
   "source": [
    "종류 : Bagging (Random Forest), Boosting(Ada Boost, GBM계열)\n",
    "\n",
    "Ada Boost 계열 : SAMME\n",
    "\n",
    "GBM 계열 : XG, LGBM, Catboost\n",
    "\n",
    "Random Forest Hyperparameter 소개"
   ],
   "metadata": {
    "collapsed": false
   },
   "id": "b08caec9f0d5af82"
  },
  {
   "cell_type": "markdown",
   "source": [
    "#### 1. Bagging & Random Forest"
   ],
   "metadata": {
    "collapsed": false
   },
   "id": "619fe246081d4706"
  },
  {
   "cell_type": "code",
   "execution_count": null,
   "outputs": [],
   "source": [],
   "metadata": {
    "collapsed": false
   },
   "id": "e97753a9764206b6"
  },
  {
   "cell_type": "markdown",
   "source": [
    "#### 2. Gradient Boosting"
   ],
   "metadata": {
    "collapsed": false
   },
   "id": "114f5d5a48920145"
  },
  {
   "cell_type": "code",
   "execution_count": null,
   "outputs": [],
   "source": [],
   "metadata": {
    "collapsed": false
   },
   "id": "bcf08c293f08901f"
  },
  {
   "cell_type": "markdown",
   "source": [
    "#### 3. AdaBoost"
   ],
   "metadata": {
    "collapsed": false
   },
   "id": "19b5745ac759abb1"
  },
  {
   "cell_type": "code",
   "execution_count": null,
   "outputs": [],
   "source": [],
   "metadata": {
    "collapsed": false
   },
   "id": "2c322e5deb378947"
  },
  {
   "cell_type": "markdown",
   "source": [
    "#### 4. Cat Boost"
   ],
   "metadata": {
    "collapsed": false
   },
   "id": "b02c9a0d0b8edaa5"
  },
  {
   "cell_type": "code",
   "execution_count": null,
   "outputs": [],
   "source": [],
   "metadata": {
    "collapsed": false
   },
   "id": "aec728a7b98b53c3"
  }
 ],
 "metadata": {
  "kernelspec": {
   "display_name": "Python 3",
   "language": "python",
   "name": "python3"
  },
  "language_info": {
   "codemirror_mode": {
    "name": "ipython",
    "version": 2
   },
   "file_extension": ".py",
   "mimetype": "text/x-python",
   "name": "python",
   "nbconvert_exporter": "python",
   "pygments_lexer": "ipython2",
   "version": "2.7.6"
  }
 },
 "nbformat": 4,
 "nbformat_minor": 5
}
