{
 "cells": [
  {
   "cell_type": "markdown",
   "source": [
    "### Ensemble Learning"
   ],
   "metadata": {
    "collapsed": false
   },
   "id": "51bf4d0fd106fc67"
  },
  {
   "cell_type": "markdown",
   "source": [
    "종류 : Bagging (Random Forest), Boosting(Ada Boost, GBM계열)\n",
    "\n",
    "Ada Boost 계열 : SAMME\n",
    "\n",
    "GBM 계열 : XG, LGBM, Catboost\n",
    "\n",
    "Random Forest Hyperparameter 소개"
   ],
   "metadata": {
    "collapsed": false
   },
   "id": "b08caec9f0d5af82"
  }
 ],
 "metadata": {
  "kernelspec": {
   "display_name": "Python 3",
   "language": "python",
   "name": "python3"
  },
  "language_info": {
   "codemirror_mode": {
    "name": "ipython",
    "version": 2
   },
   "file_extension": ".py",
   "mimetype": "text/x-python",
   "name": "python",
   "nbconvert_exporter": "python",
   "pygments_lexer": "ipython2",
   "version": "2.7.6"
  }
 },
 "nbformat": 4,
 "nbformat_minor": 5
}
