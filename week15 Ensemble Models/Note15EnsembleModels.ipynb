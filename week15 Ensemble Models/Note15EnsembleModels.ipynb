{
 "cells": [
  {
   "cell_type": "markdown",
   "id": "51bf4d0fd106fc67",
   "metadata": {
    "collapsed": false
   },
   "source": [
    "### Ensemble Learning\n",
    "\n",
    "Ensemble Learning은 여러 개의 동질적이거나 base model 혹은 weak learner를 동일한 문제에 대해 다른 표본으로 훈련시킨 후 결과를 종합하거나 순차적으로 훈련시켜서 예측의 분산과 편향을 줄여준다"
   ]
  },
  {
   "cell_type": "markdown",
   "id": "619fe246081d4706",
   "metadata": {
    "collapsed": false
   },
   "source": [
    "#### 1. Bagging\n",
    "\n",
    "```\n",
    "sklearn.ensemble.BaggingClassifier(\n",
    "    estimator=None, \n",
    "    n_estimators=10, *, \n",
    "    max_samples=1.0, \n",
    "    max_features=1.0, \n",
    "    bootstrap=True, \n",
    "    bootstrap_features=False, \n",
    "    oob_score=False, \n",
    "    warm_start=False, \n",
    "    n_jobs=None, \n",
    "    random_state=None, \n",
    "    verbose=0, \n",
    "    base_estimator='deprecated')\n",
    "```\n",
    "\n",
    "배깅(Bagging)은 Ensemble Learning의 하나로, sklearn에서는 `BaggingClassifier`와 `RandomForestClassifier`가 존재한다 (회귀 모형 또한 존재한다)\n",
    "\n",
    "\n",
    "**1.1 Booststrap Sampling**\n",
    "\n",
    "Bagging(Bootstrap Aggregation)은 예측 시 분산을 축소하는 효과적인 방법이다. 배깅은 다음과 같은 단계를 따른다. 첫째, Bootstrap Sampling을 통해 N개의 Training Data set을 생성한다. 주어진 data set을 모집단으로 가정하고, 여러개의 sub dataset을 추출하여 표본집단으로 가정한 뒤 이 과정을 여러번 복원추출하여 사용한다.\n",
    "\n",
    "$$\\mathcal{D}\\left(x_i,y_i\\right)=\\{\\left(x_1,y_1\\right),\\left(x_2,y_2\\right),\\ldots,\\left(x_n,y_n\\right)\\}$$\n",
    "$$\\mathcal{D}\\left(x_i^\\ast,y_i^\\ast\\right)=\\{\\left(x_1^\\ast,y_1^\\ast\\right),\\left(x_2^\\ast,y_2^\\ast\\right),\\ldots,\\left(x_n^\\ast,y_n^\\ast\\right)\\}$$\n",
    "\n",
    "둘째, 각각의 Training Set에 적합화된 N개의 추정 계수를 구한다. 이 추정 계수들을 각각 독립적이로 추정되기 때문에 모형은 병렬로 적합화될 수 있다\n",
    "\n",
    "셋째, Ensemble Learner의 예측을 N개의 모델로부터 생성된 각 개별 예측의 단순 평균이다. Categorical 변수의 경우 관측치가 어떤 클래스에 속할 확률은 관측을 그 클래스 멤버로 분류한 추정기의 비율로 계산한다. 기초 추정기가 예측 확률을 갖고 예측할 수 있으면 배깅 분류기는 확률의 평균을 도출할 수 있다."
   ]
  },
  {
   "cell_type": "markdown",
   "id": "6e8617d74ea80ccd",
   "metadata": {
    "collapsed": false
   },
   "source": [
    "**1.2 분산 축소 알고리즘**\n",
    "\n",
    "배깅의 주요 장점은 예측의 분산을 줄이는 것이다. 그러므로, Overfitting을 해결하는데 도움이 된다. 배깅 모형의 예측 분산은 배깅의 추정 계수 (N), 단일 추정 계수 예측의 평균, 분산, 그리고 이들 예측 간의 평균 상관관계에 대한 함수이다\n",
    "\n",
    "$$\n",
    "\\begin{matrix}\n",
    "V\\left[ \\frac{1}{N} \\sum_{i=1}^N \\varphi_i[c]\\right]  & = & \\frac{1}{N^2}\\sum_{i=1}^N \\left( \\sum_{j=1}^N \\sigma_{i,j}\\right) \\\\\n",
    "& = & \\frac{1}{N^2} \\sum_{i=1}^N \\left( \\sigma_i^2 + \\sum_{j \\neq i}^N \\sigma_i \\sigma_j \\rho_{i,j}\\right) \\\\\n",
    "& = & \\frac{1}{N^2}\\sum_{i=1}^N \\left( \\bar{\\sigma}^2 + \\sum_{j \\neq i}^N \\bar{\\sigma}^2 \\bar{\\rho}\\right) \\\\\n",
    "& = & \\frac{\\bar{\\sigma}^2 + (N-1)\\bar{\\sigma}^2 \\bar{\\rho}}{N} \\\\\n",
    "& = & \\bar{\\sigma}^2 \\big( \\bar{\\rho} + \\frac{1 - \\bar{\\rho}}{N}\\big)\n",
    "\\end{matrix}\n",
    "$$\n",
    "\n",
    "여기서 $\\sigma_{i,j}$는 추정기 $i,j$에 의한 predicted covariance이다\n",
    "\n",
    "$$\\sum_{i=1}^{N}\\bar{\\sigma^2}=\\sum_{i=1}^{N}\\sigma_i^2\\Leftrightarrow\\bar{\\sigma^2}N^{-1}\\sum_{i=1}^{N}\\sigma_i^2$$\n",
    "$$\\sum_{j\\neq i}^{N}{\\bar{\\sigma_i^2}\\bar{\\rho}}=\\sum_{j\\neq i}^{N}{\\sigma_i\\sigma_j\\sigma_{i,j}}\\Leftrightarrow\\bar{\\rho^2}=\\left(\\sigma^2N\\left(N-1\\right)\\right)^{-1}\\sum_{j\\neq i}^{N}{\\sigma_i\\sigma_j\\sigma_{i,j}}$$"
   ]
  },
  {
   "cell_type": "markdown",
   "id": "2e3ac525c6f8da04",
   "metadata": {
    "collapsed": false
   },
   "source": [
    "위 식에서 $\\bar{\\rho}\\rightarrow1\\Rightarrow V\\left[\\frac{1}{2}\\sum_{i=1}^{N}{\\varphi_i\\left[c\\right]}\\right]\\rightarrow\\bar{\\sigma^2}$이므로 배깅이 $\\bar{\\rho}<1$에 대해서만 효과적이라는 것을 식에서 보여 준다. 즉, Machine Learning Algorithm이라고 어떠한 데이터를 넣어도 되는 것이 아니라 추정 성능의 극대화를 위해서는 데이터의 품질이 매우 중요하다"
   ]
  },
  {
   "cell_type": "markdown",
   "id": "a1a4d849dec86fc6",
   "metadata": {
    "collapsed": false
   },
   "source": [
    "**1.3 개선된 정확도**\n",
    "\n",
    "$N$개의 독립된 분류 기간의 다수결에 의해 $k$개 클래스를 예측하는 배깅 분류기를 생각해 보자. 예측은 ${0,1}$로 labeling할 수 있는데, 여기서 1은 정확한 예측을 의미한다. 분류기의 정확도는 예측을 1로 labeling하는 확률 p이다. 평균적으로 $Np$예측이 1로 labeling될 것이고, 분산은 $Np\\left(1-p\\right)$이다. 다수결 투표는 가장 많이 예측된 클래스가 관측된 경우에 정확한 예측을 한 것이다\n",
    "\n",
    "예를 들어, $N\\ =\\ 10$이고 $k=3$일때 배깅 분류기는 클래스 A가 관측되고, 투표의 결과가 $\\left[A,B,C\\right]=\\left[4,3,3\\right]$이었다면 정확한 예측을 한 것이다. 그러나 배깅 분류기는 클래스 A가 관측되고, 투표의 결과가 $\\left[A,B,C\\right]=\\left[4,1,5\\right]$라면 예측에 실패를 한 것이다. 충분 조건은 이 label의 합이 $X>\\frac{X}{2}$인 것이다. 필요조건은 $X>\\frac{X}{k}$이고, 이는 다음과 같은 확률로 발생한다\n",
    "\n",
    "$$P\\left[X>\\frac{N}{k}\\right]=1-P\\left[X\\le\\frac{N}{k}\\right]=1-\\sum_{i=0}^{\\left\\lfloor\\frac{N}{k}\\right\\rfloor}{\\binom{N}{i}p^i\\left(1-p\\right)^{N-i}}$$\n",
    "\n",
    "이는 N이 충분히 크면, 즉 $N>p\\left(p-\\frac{1}{k}\\right)^{-2}$이면 $p>1\\Rightarrow P\\left[X>\\frac{N}{k}\\right]>p$이라는 것을 의미한다. 따라서 배깅 분류기의 정확도는 **개별 분류기들의 평균 정확도를 능가**한다"
   ]
  },
  {
   "cell_type": "markdown",
   "id": "7db3d00e276c65fe",
   "metadata": {
    "collapsed": false
   },
   "source": [
    "#### example 1\n",
    "\n",
    "개인의 부도상태를 분류하는 모형을 만들어 보자. `credit_risk_data.csv`의 데이터를 불러오라. 분류 모형을 Bagging Classifier를 이용해 학습하라. weak learner인 estimator는 Decision Tree를 사용하도록 한다.\n",
    "\n",
    "Dicision Tree Model의 Hyperparameter는 다음과 같이 설정한다\n",
    "\n",
    "```\n",
    "criterion = 'entropy', class_weight = 'balanced', random_state = 42\n",
    "```\n",
    "\n",
    "또한, Bagging Classifier의 `n_estimators`는 1000으로 둔다"
   ]
  },
  {
   "cell_type": "code",
   "execution_count": 1,
   "id": "978189e0417ee0e9",
   "metadata": {
    "ExecuteTime": {
     "end_time": "2023-12-28T15:14:07.259744Z",
     "start_time": "2023-12-28T15:14:07.215334Z"
    },
    "collapsed": false
   },
   "outputs": [
    {
     "data": {
      "text/html": [
       "<div>\n",
       "<style scoped>\n",
       "    .dataframe tbody tr th:only-of-type {\n",
       "        vertical-align: middle;\n",
       "    }\n",
       "\n",
       "    .dataframe tbody tr th {\n",
       "        vertical-align: top;\n",
       "    }\n",
       "\n",
       "    .dataframe thead th {\n",
       "        text-align: right;\n",
       "    }\n",
       "</style>\n",
       "<table border=\"1\" class=\"dataframe\">\n",
       "  <thead>\n",
       "    <tr style=\"text-align: right;\">\n",
       "      <th></th>\n",
       "      <th>person_age</th>\n",
       "      <th>person_income</th>\n",
       "      <th>person_emp_length</th>\n",
       "      <th>loan_amnt</th>\n",
       "      <th>loan_int_rate</th>\n",
       "      <th>loan_status</th>\n",
       "      <th>loan_percent_income</th>\n",
       "      <th>cb_person_default_on_file</th>\n",
       "      <th>cb_person_cred_hist_length</th>\n",
       "      <th>person_home_ownership_MORTGAGE</th>\n",
       "      <th>...</th>\n",
       "      <th>loan_intent_MEDICAL</th>\n",
       "      <th>loan_intent_PERSONAL</th>\n",
       "      <th>loan_intent_VENTURE</th>\n",
       "      <th>loan_grade_A</th>\n",
       "      <th>loan_grade_B</th>\n",
       "      <th>loan_grade_C</th>\n",
       "      <th>loan_grade_D</th>\n",
       "      <th>loan_grade_E</th>\n",
       "      <th>loan_grade_F</th>\n",
       "      <th>loan_grade_G</th>\n",
       "    </tr>\n",
       "  </thead>\n",
       "  <tbody>\n",
       "    <tr>\n",
       "      <th>0</th>\n",
       "      <td>22</td>\n",
       "      <td>59000</td>\n",
       "      <td>123.0</td>\n",
       "      <td>35000</td>\n",
       "      <td>16.02</td>\n",
       "      <td>1</td>\n",
       "      <td>0.59</td>\n",
       "      <td>Y</td>\n",
       "      <td>3</td>\n",
       "      <td>0</td>\n",
       "      <td>...</td>\n",
       "      <td>0</td>\n",
       "      <td>1</td>\n",
       "      <td>0</td>\n",
       "      <td>0</td>\n",
       "      <td>0</td>\n",
       "      <td>0</td>\n",
       "      <td>1</td>\n",
       "      <td>0</td>\n",
       "      <td>0</td>\n",
       "      <td>0</td>\n",
       "    </tr>\n",
       "    <tr>\n",
       "      <th>1</th>\n",
       "      <td>21</td>\n",
       "      <td>9600</td>\n",
       "      <td>5.0</td>\n",
       "      <td>1000</td>\n",
       "      <td>11.14</td>\n",
       "      <td>0</td>\n",
       "      <td>0.10</td>\n",
       "      <td>N</td>\n",
       "      <td>2</td>\n",
       "      <td>0</td>\n",
       "      <td>...</td>\n",
       "      <td>0</td>\n",
       "      <td>0</td>\n",
       "      <td>0</td>\n",
       "      <td>0</td>\n",
       "      <td>1</td>\n",
       "      <td>0</td>\n",
       "      <td>0</td>\n",
       "      <td>0</td>\n",
       "      <td>0</td>\n",
       "      <td>0</td>\n",
       "    </tr>\n",
       "    <tr>\n",
       "      <th>2</th>\n",
       "      <td>25</td>\n",
       "      <td>9600</td>\n",
       "      <td>1.0</td>\n",
       "      <td>5500</td>\n",
       "      <td>12.87</td>\n",
       "      <td>1</td>\n",
       "      <td>0.57</td>\n",
       "      <td>N</td>\n",
       "      <td>3</td>\n",
       "      <td>1</td>\n",
       "      <td>...</td>\n",
       "      <td>1</td>\n",
       "      <td>0</td>\n",
       "      <td>0</td>\n",
       "      <td>0</td>\n",
       "      <td>0</td>\n",
       "      <td>1</td>\n",
       "      <td>0</td>\n",
       "      <td>0</td>\n",
       "      <td>0</td>\n",
       "      <td>0</td>\n",
       "    </tr>\n",
       "    <tr>\n",
       "      <th>3</th>\n",
       "      <td>23</td>\n",
       "      <td>65500</td>\n",
       "      <td>4.0</td>\n",
       "      <td>35000</td>\n",
       "      <td>15.23</td>\n",
       "      <td>1</td>\n",
       "      <td>0.53</td>\n",
       "      <td>N</td>\n",
       "      <td>2</td>\n",
       "      <td>0</td>\n",
       "      <td>...</td>\n",
       "      <td>1</td>\n",
       "      <td>0</td>\n",
       "      <td>0</td>\n",
       "      <td>0</td>\n",
       "      <td>0</td>\n",
       "      <td>1</td>\n",
       "      <td>0</td>\n",
       "      <td>0</td>\n",
       "      <td>0</td>\n",
       "      <td>0</td>\n",
       "    </tr>\n",
       "    <tr>\n",
       "      <th>4</th>\n",
       "      <td>24</td>\n",
       "      <td>54400</td>\n",
       "      <td>8.0</td>\n",
       "      <td>35000</td>\n",
       "      <td>14.27</td>\n",
       "      <td>1</td>\n",
       "      <td>0.55</td>\n",
       "      <td>Y</td>\n",
       "      <td>4</td>\n",
       "      <td>0</td>\n",
       "      <td>...</td>\n",
       "      <td>1</td>\n",
       "      <td>0</td>\n",
       "      <td>0</td>\n",
       "      <td>0</td>\n",
       "      <td>0</td>\n",
       "      <td>1</td>\n",
       "      <td>0</td>\n",
       "      <td>0</td>\n",
       "      <td>0</td>\n",
       "      <td>0</td>\n",
       "    </tr>\n",
       "  </tbody>\n",
       "</table>\n",
       "<p>5 rows × 26 columns</p>\n",
       "</div>"
      ],
      "text/plain": [
       "   person_age  person_income  person_emp_length  loan_amnt  loan_int_rate  \\\n",
       "0          22          59000              123.0      35000          16.02   \n",
       "1          21           9600                5.0       1000          11.14   \n",
       "2          25           9600                1.0       5500          12.87   \n",
       "3          23          65500                4.0      35000          15.23   \n",
       "4          24          54400                8.0      35000          14.27   \n",
       "\n",
       "   loan_status  loan_percent_income cb_person_default_on_file  \\\n",
       "0            1                 0.59                         Y   \n",
       "1            0                 0.10                         N   \n",
       "2            1                 0.57                         N   \n",
       "3            1                 0.53                         N   \n",
       "4            1                 0.55                         Y   \n",
       "\n",
       "   cb_person_cred_hist_length  person_home_ownership_MORTGAGE  ...  \\\n",
       "0                           3                               0  ...   \n",
       "1                           2                               0  ...   \n",
       "2                           3                               1  ...   \n",
       "3                           2                               0  ...   \n",
       "4                           4                               0  ...   \n",
       "\n",
       "   loan_intent_MEDICAL  loan_intent_PERSONAL  loan_intent_VENTURE  \\\n",
       "0                    0                     1                    0   \n",
       "1                    0                     0                    0   \n",
       "2                    1                     0                    0   \n",
       "3                    1                     0                    0   \n",
       "4                    1                     0                    0   \n",
       "\n",
       "   loan_grade_A  loan_grade_B  loan_grade_C  loan_grade_D  loan_grade_E  \\\n",
       "0             0             0             0             1             0   \n",
       "1             0             1             0             0             0   \n",
       "2             0             0             1             0             0   \n",
       "3             0             0             1             0             0   \n",
       "4             0             0             1             0             0   \n",
       "\n",
       "   loan_grade_F  loan_grade_G  \n",
       "0             0             0  \n",
       "1             0             0  \n",
       "2             0             0  \n",
       "3             0             0  \n",
       "4             0             0  \n",
       "\n",
       "[5 rows x 26 columns]"
      ]
     },
     "execution_count": 1,
     "metadata": {},
     "output_type": "execute_result"
    }
   ],
   "source": [
    "import numpy as np\n",
    "import pandas as pd\n",
    "\n",
    "credit = pd.read_csv('credit_risk_data.csv', index_col = 0)\n",
    "credit.head()"
   ]
  },
  {
   "cell_type": "code",
   "execution_count": 6,
   "id": "ef509fba282137d5",
   "metadata": {
    "ExecuteTime": {
     "end_time": "2023-12-28T15:14:38.842883Z",
     "start_time": "2023-12-28T15:14:38.827837Z"
    },
    "collapsed": false
   },
   "outputs": [],
   "source": [
    "from sklearn.model_selection import train_test_split\n",
    "\n",
    "X = credit.drop(['loan_status', 'person_age','cb_person_default_on_file'], axis = 1)\n",
    "y = credit['loan_status']\n",
    "\n",
    "X_train, X_test, y_train, y_test = train_test_split(X, y, test_size = 0.3, random_state = 42)"
   ]
  },
  {
   "cell_type": "code",
   "execution_count": 7,
   "id": "acea00ecf5530b37",
   "metadata": {
    "ExecuteTime": {
     "end_time": "2023-12-28T15:14:39.396941Z",
     "start_time": "2023-12-28T15:14:39.389422Z"
    },
    "collapsed": false
   },
   "outputs": [],
   "source": [
    "from sklearn.ensemble import BaggingClassifier\n",
    "from sklearn.tree import DecisionTreeClassifier\n",
    "\n",
    "tree = DecisionTreeClassifier(\n",
    "    max_depth = 1,\n",
    "    criterion = 'entropy',\n",
    "    class_weight = 'balanced',\n",
    "    random_state = 42\n",
    ")\n",
    "model = BaggingClassifier(\n",
    "    estimator = tree,\n",
    "    n_estimators = 1000,\n",
    "    random_state = 42\n",
    ")"
   ]
  },
  {
   "cell_type": "code",
   "execution_count": 8,
   "id": "19442e3b4ab56dbd",
   "metadata": {
    "ExecuteTime": {
     "end_time": "2023-12-28T15:15:29.358176Z",
     "start_time": "2023-12-28T15:14:40.285554Z"
    },
    "collapsed": false
   },
   "outputs": [
    {
     "data": {
      "text/html": [
       "<style>#sk-container-id-1 {color: black;}#sk-container-id-1 pre{padding: 0;}#sk-container-id-1 div.sk-toggleable {background-color: white;}#sk-container-id-1 label.sk-toggleable__label {cursor: pointer;display: block;width: 100%;margin-bottom: 0;padding: 0.3em;box-sizing: border-box;text-align: center;}#sk-container-id-1 label.sk-toggleable__label-arrow:before {content: \"▸\";float: left;margin-right: 0.25em;color: #696969;}#sk-container-id-1 label.sk-toggleable__label-arrow:hover:before {color: black;}#sk-container-id-1 div.sk-estimator:hover label.sk-toggleable__label-arrow:before {color: black;}#sk-container-id-1 div.sk-toggleable__content {max-height: 0;max-width: 0;overflow: hidden;text-align: left;background-color: #f0f8ff;}#sk-container-id-1 div.sk-toggleable__content pre {margin: 0.2em;color: black;border-radius: 0.25em;background-color: #f0f8ff;}#sk-container-id-1 input.sk-toggleable__control:checked~div.sk-toggleable__content {max-height: 200px;max-width: 100%;overflow: auto;}#sk-container-id-1 input.sk-toggleable__control:checked~label.sk-toggleable__label-arrow:before {content: \"▾\";}#sk-container-id-1 div.sk-estimator input.sk-toggleable__control:checked~label.sk-toggleable__label {background-color: #d4ebff;}#sk-container-id-1 div.sk-label input.sk-toggleable__control:checked~label.sk-toggleable__label {background-color: #d4ebff;}#sk-container-id-1 input.sk-hidden--visually {border: 0;clip: rect(1px 1px 1px 1px);clip: rect(1px, 1px, 1px, 1px);height: 1px;margin: -1px;overflow: hidden;padding: 0;position: absolute;width: 1px;}#sk-container-id-1 div.sk-estimator {font-family: monospace;background-color: #f0f8ff;border: 1px dotted black;border-radius: 0.25em;box-sizing: border-box;margin-bottom: 0.5em;}#sk-container-id-1 div.sk-estimator:hover {background-color: #d4ebff;}#sk-container-id-1 div.sk-parallel-item::after {content: \"\";width: 100%;border-bottom: 1px solid gray;flex-grow: 1;}#sk-container-id-1 div.sk-label:hover label.sk-toggleable__label {background-color: #d4ebff;}#sk-container-id-1 div.sk-serial::before {content: \"\";position: absolute;border-left: 1px solid gray;box-sizing: border-box;top: 0;bottom: 0;left: 50%;z-index: 0;}#sk-container-id-1 div.sk-serial {display: flex;flex-direction: column;align-items: center;background-color: white;padding-right: 0.2em;padding-left: 0.2em;position: relative;}#sk-container-id-1 div.sk-item {position: relative;z-index: 1;}#sk-container-id-1 div.sk-parallel {display: flex;align-items: stretch;justify-content: center;background-color: white;position: relative;}#sk-container-id-1 div.sk-item::before, #sk-container-id-1 div.sk-parallel-item::before {content: \"\";position: absolute;border-left: 1px solid gray;box-sizing: border-box;top: 0;bottom: 0;left: 50%;z-index: -1;}#sk-container-id-1 div.sk-parallel-item {display: flex;flex-direction: column;z-index: 1;position: relative;background-color: white;}#sk-container-id-1 div.sk-parallel-item:first-child::after {align-self: flex-end;width: 50%;}#sk-container-id-1 div.sk-parallel-item:last-child::after {align-self: flex-start;width: 50%;}#sk-container-id-1 div.sk-parallel-item:only-child::after {width: 0;}#sk-container-id-1 div.sk-dashed-wrapped {border: 1px dashed gray;margin: 0 0.4em 0.5em 0.4em;box-sizing: border-box;padding-bottom: 0.4em;background-color: white;}#sk-container-id-1 div.sk-label label {font-family: monospace;font-weight: bold;display: inline-block;line-height: 1.2em;}#sk-container-id-1 div.sk-label-container {text-align: center;}#sk-container-id-1 div.sk-container {/* jupyter's `normalize.less` sets `[hidden] { display: none; }` but bootstrap.min.css set `[hidden] { display: none !important; }` so we also need the `!important` here to be able to override the default hidden behavior on the sphinx rendered scikit-learn.org. See: https://github.com/scikit-learn/scikit-learn/issues/21755 */display: inline-block !important;position: relative;}#sk-container-id-1 div.sk-text-repr-fallback {display: none;}</style><div id=\"sk-container-id-1\" class=\"sk-top-container\"><div class=\"sk-text-repr-fallback\"><pre>BaggingClassifier(estimator=DecisionTreeClassifier(class_weight=&#x27;balanced&#x27;,\n",
       "                                                   criterion=&#x27;entropy&#x27;,\n",
       "                                                   random_state=42),\n",
       "                  n_estimators=1000, random_state=42)</pre><b>In a Jupyter environment, please rerun this cell to show the HTML representation or trust the notebook. <br />On GitHub, the HTML representation is unable to render, please try loading this page with nbviewer.org.</b></div><div class=\"sk-container\" hidden><div class=\"sk-item sk-dashed-wrapped\"><div class=\"sk-label-container\"><div class=\"sk-label sk-toggleable\"><input class=\"sk-toggleable__control sk-hidden--visually\" id=\"sk-estimator-id-1\" type=\"checkbox\" ><label for=\"sk-estimator-id-1\" class=\"sk-toggleable__label sk-toggleable__label-arrow\">BaggingClassifier</label><div class=\"sk-toggleable__content\"><pre>BaggingClassifier(estimator=DecisionTreeClassifier(class_weight=&#x27;balanced&#x27;,\n",
       "                                                   criterion=&#x27;entropy&#x27;,\n",
       "                                                   random_state=42),\n",
       "                  n_estimators=1000, random_state=42)</pre></div></div></div><div class=\"sk-parallel\"><div class=\"sk-parallel-item\"><div class=\"sk-item\"><div class=\"sk-label-container\"><div class=\"sk-label sk-toggleable\"><input class=\"sk-toggleable__control sk-hidden--visually\" id=\"sk-estimator-id-2\" type=\"checkbox\" ><label for=\"sk-estimator-id-2\" class=\"sk-toggleable__label sk-toggleable__label-arrow\">estimator: DecisionTreeClassifier</label><div class=\"sk-toggleable__content\"><pre>DecisionTreeClassifier(class_weight=&#x27;balanced&#x27;, criterion=&#x27;entropy&#x27;,\n",
       "                       random_state=42)</pre></div></div></div><div class=\"sk-serial\"><div class=\"sk-item\"><div class=\"sk-estimator sk-toggleable\"><input class=\"sk-toggleable__control sk-hidden--visually\" id=\"sk-estimator-id-3\" type=\"checkbox\" ><label for=\"sk-estimator-id-3\" class=\"sk-toggleable__label sk-toggleable__label-arrow\">DecisionTreeClassifier</label><div class=\"sk-toggleable__content\"><pre>DecisionTreeClassifier(class_weight=&#x27;balanced&#x27;, criterion=&#x27;entropy&#x27;,\n",
       "                       random_state=42)</pre></div></div></div></div></div></div></div></div></div></div>"
      ],
      "text/plain": [
       "BaggingClassifier(estimator=DecisionTreeClassifier(class_weight='balanced',\n",
       "                                                   criterion='entropy',\n",
       "                                                   random_state=42),\n",
       "                  n_estimators=1000, random_state=42)"
      ]
     },
     "execution_count": 8,
     "metadata": {},
     "output_type": "execute_result"
    }
   ],
   "source": [
    "model.fit(X_train, y_train)"
   ]
  },
  {
   "cell_type": "code",
   "execution_count": 9,
   "id": "bfabb9d3b5f1ef55",
   "metadata": {
    "ExecuteTime": {
     "end_time": "2023-12-28T15:15:33.940127Z",
     "start_time": "2023-12-28T15:15:32.181518Z"
    },
    "collapsed": false
   },
   "outputs": [
    {
     "name": "stdout",
     "output_type": "stream",
     "text": [
      "Accuracy: 0.9292364990689013\n"
     ]
    }
   ],
   "source": [
    "from sklearn.metrics import accuracy_score, classification_report, confusion_matrix, roc_curve, auc\n",
    "\n",
    "y_prob = model.predict_proba(X_test)[:, 1]\n",
    "y_pred = model.predict(X_test)\n",
    "fpr, tpr, thresholds = roc_curve(y_test, y_prob)\n",
    "accuracy = accuracy_score(y_test, y_pred)\n",
    "print(f'Accuracy: {accuracy}')"
   ]
  },
  {
   "cell_type": "code",
   "execution_count": 10,
   "id": "7f88b27e13666d1",
   "metadata": {
    "ExecuteTime": {
     "end_time": "2023-12-28T15:15:35.648909Z",
     "start_time": "2023-12-28T15:15:35.620326Z"
    },
    "collapsed": false
   },
   "outputs": [
    {
     "name": "stdout",
     "output_type": "stream",
     "text": [
      "              precision    recall  f1-score   support\n",
      "\n",
      "           0       0.92      0.99      0.96      6715\n",
      "           1       0.95      0.71      0.81      1877\n",
      "\n",
      "    accuracy                           0.93      8592\n",
      "   macro avg       0.94      0.85      0.89      8592\n",
      "weighted avg       0.93      0.93      0.93      8592\n"
     ]
    }
   ],
   "source": [
    "print(classification_report(y_test, y_pred))"
   ]
  },
  {
   "cell_type": "code",
   "execution_count": 11,
   "id": "51b1f86a08a940dc",
   "metadata": {
    "ExecuteTime": {
     "end_time": "2023-12-28T15:15:38.419702Z",
     "start_time": "2023-12-28T15:15:38.350045Z"
    },
    "collapsed": false
   },
   "outputs": [
    {
     "data": {
      "image/png": "[encoded data removed]",
      "text/plain": [
       "<Figure size 300x300 with 1 Axes>"
      ]
     },
     "metadata": {},
     "output_type": "display_data"
    }
   ],
   "source": [
    "import matplotlib.pyplot as plt\n",
    "import seaborn as sns\n",
    "\n",
    "cm = confusion_matrix(y_test, y_pred)\n",
    "plt.figure(figsize = (3, 3))\n",
    "sns.heatmap(cm, annot = True, fmt = 'd', cbar = False)\n",
    "plt.xlabel('Predicted')\n",
    "plt.ylabel('True')\n",
    "plt.title('Confusion Matrix', fontsize = 12, fontfamily = 'Serif')\n",
    "plt.show()"
   ]
  },
  {
   "cell_type": "code",
   "execution_count": 12,
   "id": "cd592d1b19e1f417",
   "metadata": {
    "ExecuteTime": {
     "end_time": "2023-12-28T15:15:41.111961Z",
     "start_time": "2023-12-28T15:15:41.009041Z"
    },
    "collapsed": false
   },
   "outputs": [
    {
     "data": {
      "image/png": "[encoded data removed]",
      "text/plain": [
       "<Figure size 600x400 with 1 Axes>"
      ]
     },
     "metadata": {},
     "output_type": "display_data"
    }
   ],
   "source": [
    "fpr, tpr, thresholds = roc_curve(y_test, y_prob)\n",
    "roc_auc = auc(fpr, tpr)\n",
    "\n",
    "plt.figure(figsize = (6, 4))\n",
    "plt.plot(fpr, tpr, label = 'Bagging Classifier (area = {:.2f})'.format(roc_auc), color = 'navy', alpha = 0.8)\n",
    "plt.plot([0, 1], [0, 1], 'k:')\n",
    "plt.xlabel('False Positive Rate')\n",
    "plt.ylabel('True Positive Rate')\n",
    "plt.title('ROC Curve with Bagging Algorithm', fontsize = 12, fontfamily = 'Serif')\n",
    "plt.grid(False)\n",
    "plt.legend()\n",
    "plt.show()"
   ]
  },
  {
   "cell_type": "markdown",
   "id": "f37009530b5d1bc4",
   "metadata": {
    "collapsed": false
   },
   "source": [
    "**1.4** Random Forest\n",
    "\n",
    "Random Forest는 Bagging Algorithm 중에서 가장 많이 사용되는 학습기이다. 구조나 원리는 약간 다르지만 거의 동의어로 쓰인다\n",
    "\n",
    "```\n",
    "sklearn.ensemble.RandomForestClassifier(\n",
    "    n_estimators=100, *, \n",
    "    criterion='gini', \n",
    "    max_depth=None, \n",
    "    min_samples_split=2, \n",
    "    min_samples_leaf=1, \n",
    "    min_weight_fraction_leaf=0.0, \n",
    "    max_features='sqrt', \n",
    "    max_leaf_nodes=None, \n",
    "    min_impurity_decrease=0.0, \n",
    "    bootstrap=True, \n",
    "    oob_score=False, \n",
    "    n_jobs=None, \n",
    "    random_state=None, \n",
    "    verbose=0, \n",
    "    warm_start=False, \n",
    "    class_weight=None, \n",
    "    ccp_alpha=0.0, \n",
    "    max_samples=None)\n",
    "```\n",
    "\n",
    "<center>\n",
    "<img src=\"https://miro.medium.com/v2/resize:fit:1400/1*jE1Cb1Dc_p9WEOPMkC95WQ.png\" title=\"RF\"/>\n",
    "</center>\n",
    "\n",
    "Decision Tree는 과적합되기 쉽다고 알려져 있으며, 이는 예측의 분산을 증가시킨다. Random Forest는 Decision Tree를 추정기를 여러개 모아 결과를 평균 낸 Ensemble Model으로써, 더 낮은 분산을 가지도록 설계되었다\n",
    "\n",
    "Random Forest는 데이터 중 Bootstrapping된 부분 집합에 대해 Decision Tree 가 추정한 parameter를 독립적으로 학습해 산출한다는 점에서 배깅 알고리즘과 비슷하다. 배깅과 비교해 핵심적인 차이는 Random Forest가 2차 수준의 무작위성을 반영한다는 점이다. 각 node의 분기를 최적화할 떄 속성의 Random subsample만 평가하여 추정기간 상관관계를 더욱 축소하려는 목적을 가지고 있다\n",
    "\n",
    "Random Forest가 가진 장점으로는 다음과 같다\n",
    "\n",
    "1. Random Forest가 Bagging처럼 예측 분산을 과적합 없이 줄일수 있다는 것이다 (단, $\\bar{\\rho} < 1$의 조건이 충족되어야 한다)\n",
    "2. Random Forest가 Feature Importance를 계산할 수 있는데, 이에 대해서는 마지막 주차에 심층적으로 다룰 예정이다\n",
    "3. Random Forest가 Out of bag의 정확도를 계산할 수 있다는 것이다. 그러나, 금융 데이터에 적용 시에는 부풀려질 가능성이 존재한다\n",
    "\n",
    "Bagging Algorithm에서처럼 Random Forest도 개별 Decision Tree보다 더 낮은 편향을 보이지는 않을 것이다"
   ]
  },
  {
   "cell_type": "markdown",
   "id": "e3a96a566712c91",
   "metadata": {
    "collapsed": false
   },
   "source": [
    "#### example 2\n",
    "\n",
    "1번의 문제를 RandomForest로 추정해 보자. Hyper Parameter는 다음과 같이 지정한다\n",
    "\n",
    "```\n",
    "n_estimator = 1000, class_weight = 'balanced_subsample', criterion = 'entropy', ccp_alpha = 0.001\n",
    "```"
   ]
  },
  {
   "cell_type": "code",
   "execution_count": 13,
   "id": "e97753a9764206b6",
   "metadata": {
    "ExecuteTime": {
     "end_time": "2023-12-28T15:20:25.238333Z",
     "start_time": "2023-12-28T15:20:25.217670Z"
    },
    "collapsed": false
   },
   "outputs": [],
   "source": [
    "from sklearn.ensemble import RandomForestClassifier\n",
    "\n",
    "forest = RandomForestClassifier(\n",
    "    n_estimators = 1000,\n",
    "    class_weight = 'balanced_subsample',\n",
    "    criterion = 'entropy',\n",
    "    ccp_alpha = 0.001\n",
    ")"
   ]
  },
  {
   "cell_type": "code",
   "execution_count": 14,
   "id": "96622921e4485543",
   "metadata": {
    "ExecuteTime": {
     "end_time": "2023-12-28T15:20:58.180878Z",
     "start_time": "2023-12-28T15:20:39.265085Z"
    },
    "collapsed": false
   },
   "outputs": [
    {
     "data": {
      "text/html": [
       "<style>#sk-container-id-2 {color: black;}#sk-container-id-2 pre{padding: 0;}#sk-container-id-2 div.sk-toggleable {background-color: white;}#sk-container-id-2 label.sk-toggleable__label {cursor: pointer;display: block;width: 100%;margin-bottom: 0;padding: 0.3em;box-sizing: border-box;text-align: center;}#sk-container-id-2 label.sk-toggleable__label-arrow:before {content: \"▸\";float: left;margin-right: 0.25em;color: #696969;}#sk-container-id-2 label.sk-toggleable__label-arrow:hover:before {color: black;}#sk-container-id-2 div.sk-estimator:hover label.sk-toggleable__label-arrow:before {color: black;}#sk-container-id-2 div.sk-toggleable__content {max-height: 0;max-width: 0;overflow: hidden;text-align: left;background-color: #f0f8ff;}#sk-container-id-2 div.sk-toggleable__content pre {margin: 0.2em;color: black;border-radius: 0.25em;background-color: #f0f8ff;}#sk-container-id-2 input.sk-toggleable__control:checked~div.sk-toggleable__content {max-height: 200px;max-width: 100%;overflow: auto;}#sk-container-id-2 input.sk-toggleable__control:checked~label.sk-toggleable__label-arrow:before {content: \"▾\";}#sk-container-id-2 div.sk-estimator input.sk-toggleable__control:checked~label.sk-toggleable__label {background-color: #d4ebff;}#sk-container-id-2 div.sk-label input.sk-toggleable__control:checked~label.sk-toggleable__label {background-color: #d4ebff;}#sk-container-id-2 input.sk-hidden--visually {border: 0;clip: rect(1px 1px 1px 1px);clip: rect(1px, 1px, 1px, 1px);height: 1px;margin: -1px;overflow: hidden;padding: 0;position: absolute;width: 1px;}#sk-container-id-2 div.sk-estimator {font-family: monospace;background-color: #f0f8ff;border: 1px dotted black;border-radius: 0.25em;box-sizing: border-box;margin-bottom: 0.5em;}#sk-container-id-2 div.sk-estimator:hover {background-color: #d4ebff;}#sk-container-id-2 div.sk-parallel-item::after {content: \"\";width: 100%;border-bottom: 1px solid gray;flex-grow: 1;}#sk-container-id-2 div.sk-label:hover label.sk-toggleable__label {background-color: #d4ebff;}#sk-container-id-2 div.sk-serial::before {content: \"\";position: absolute;border-left: 1px solid gray;box-sizing: border-box;top: 0;bottom: 0;left: 50%;z-index: 0;}#sk-container-id-2 div.sk-serial {display: flex;flex-direction: column;align-items: center;background-color: white;padding-right: 0.2em;padding-left: 0.2em;position: relative;}#sk-container-id-2 div.sk-item {position: relative;z-index: 1;}#sk-container-id-2 div.sk-parallel {display: flex;align-items: stretch;justify-content: center;background-color: white;position: relative;}#sk-container-id-2 div.sk-item::before, #sk-container-id-2 div.sk-parallel-item::before {content: \"\";position: absolute;border-left: 1px solid gray;box-sizing: border-box;top: 0;bottom: 0;left: 50%;z-index: -1;}#sk-container-id-2 div.sk-parallel-item {display: flex;flex-direction: column;z-index: 1;position: relative;background-color: white;}#sk-container-id-2 div.sk-parallel-item:first-child::after {align-self: flex-end;width: 50%;}#sk-container-id-2 div.sk-parallel-item:last-child::after {align-self: flex-start;width: 50%;}#sk-container-id-2 div.sk-parallel-item:only-child::after {width: 0;}#sk-container-id-2 div.sk-dashed-wrapped {border: 1px dashed gray;margin: 0 0.4em 0.5em 0.4em;box-sizing: border-box;padding-bottom: 0.4em;background-color: white;}#sk-container-id-2 div.sk-label label {font-family: monospace;font-weight: bold;display: inline-block;line-height: 1.2em;}#sk-container-id-2 div.sk-label-container {text-align: center;}#sk-container-id-2 div.sk-container {/* jupyter's `normalize.less` sets `[hidden] { display: none; }` but bootstrap.min.css set `[hidden] { display: none !important; }` so we also need the `!important` here to be able to override the default hidden behavior on the sphinx rendered scikit-learn.org. See: https://github.com/scikit-learn/scikit-learn/issues/21755 */display: inline-block !important;position: relative;}#sk-container-id-2 div.sk-text-repr-fallback {display: none;}</style><div id=\"sk-container-id-2\" class=\"sk-top-container\"><div class=\"sk-text-repr-fallback\"><pre>RandomForestClassifier(ccp_alpha=0.001, class_weight=&#x27;balanced_subsample&#x27;,\n",
       "                       criterion=&#x27;entropy&#x27;, n_estimators=1000)</pre><b>In a Jupyter environment, please rerun this cell to show the HTML representation or trust the notebook. <br />On GitHub, the HTML representation is unable to render, please try loading this page with nbviewer.org.</b></div><div class=\"sk-container\" hidden><div class=\"sk-item\"><div class=\"sk-estimator sk-toggleable\"><input class=\"sk-toggleable__control sk-hidden--visually\" id=\"sk-estimator-id-4\" type=\"checkbox\" checked><label for=\"sk-estimator-id-4\" class=\"sk-toggleable__label sk-toggleable__label-arrow\">RandomForestClassifier</label><div class=\"sk-toggleable__content\"><pre>RandomForestClassifier(ccp_alpha=0.001, class_weight=&#x27;balanced_subsample&#x27;,\n",
       "                       criterion=&#x27;entropy&#x27;, n_estimators=1000)</pre></div></div></div></div></div>"
      ],
      "text/plain": [
       "RandomForestClassifier(ccp_alpha=0.001, class_weight='balanced_subsample',\n",
       "                       criterion='entropy', n_estimators=1000)"
      ]
     },
     "execution_count": 14,
     "metadata": {},
     "output_type": "execute_result"
    }
   ],
   "source": [
    "forest.fit(X_train, y_train)"
   ]
  },
  {
   "cell_type": "code",
   "execution_count": 15,
   "id": "43bae9df6e9f0758",
   "metadata": {
    "ExecuteTime": {
     "end_time": "2023-12-28T15:21:08.926786Z",
     "start_time": "2023-12-28T15:21:07.957958Z"
    },
    "collapsed": false
   },
   "outputs": [
    {
     "name": "stdout",
     "output_type": "stream",
     "text": [
      "Accuracy: 0.8958333333333334\n"
     ]
    }
   ],
   "source": [
    "y_prob = forest.predict_proba(X_test)[:, 1]\n",
    "y_pred = forest.predict(X_test)\n",
    "fpr, tpr, thresholds = roc_curve(y_test, y_prob)\n",
    "accuracy = accuracy_score(y_test, y_pred)\n",
    "print(f'Accuracy: {accuracy}')"
   ]
  },
  {
   "cell_type": "code",
   "execution_count": 16,
   "id": "c3c6549d79f75516",
   "metadata": {
    "ExecuteTime": {
     "end_time": "2023-12-28T15:21:14.051576Z",
     "start_time": "2023-12-28T15:21:14.017246Z"
    },
    "collapsed": false
   },
   "outputs": [
    {
     "name": "stdout",
     "output_type": "stream",
     "text": [
      "              precision    recall  f1-score   support\n",
      "\n",
      "           0       0.93      0.94      0.93      6715\n",
      "           1       0.77      0.75      0.76      1877\n",
      "\n",
      "    accuracy                           0.90      8592\n",
      "   macro avg       0.85      0.84      0.85      8592\n",
      "weighted avg       0.90      0.90      0.90      8592\n"
     ]
    }
   ],
   "source": [
    "print(classification_report(y_test, y_pred))"
   ]
  },
  {
   "cell_type": "code",
   "execution_count": 17,
   "id": "63001b5087cb0859",
   "metadata": {
    "ExecuteTime": {
     "end_time": "2023-12-28T15:21:35.726225Z",
     "start_time": "2023-12-28T15:21:35.683822Z"
    },
    "collapsed": false
   },
   "outputs": [
    {
     "data": {
      "image/png": "[encoded data removed]",
      "text/plain": [
       "<Figure size 300x300 with 1 Axes>"
      ]
     },
     "metadata": {},
     "output_type": "display_data"
    }
   ],
   "source": [
    "cm = confusion_matrix(y_test, y_pred)\n",
    "plt.figure(figsize = (3, 3))\n",
    "sns.heatmap(cm, annot = True, fmt = 'd', cbar = False)\n",
    "plt.xlabel('Predicted')\n",
    "plt.ylabel('True')\n",
    "plt.title('Confusion Matrix', fontsize = 12, fontfamily = 'Serif')\n",
    "plt.show()"
   ]
  },
  {
   "cell_type": "code",
   "execution_count": 19,
   "id": "d3731207d22ee5a4",
   "metadata": {
    "ExecuteTime": {
     "end_time": "2023-12-28T15:22:06.197566Z",
     "start_time": "2023-12-28T15:22:06.112236Z"
    },
    "collapsed": false
   },
   "outputs": [
    {
     "data": {
      "image/png": "[encoded data removed]",
      "text/plain": [
       "<Figure size 600x400 with 1 Axes>"
      ]
     },
     "metadata": {},
     "output_type": "display_data"
    }
   ],
   "source": [
    "fpr, tpr, thresholds = roc_curve(y_test, y_prob)\n",
    "roc_auc = auc(fpr, tpr)\n",
    "\n",
    "plt.figure(figsize = (6, 4))\n",
    "plt.plot(fpr, tpr, label = 'Random Forest (area = {:.2f})'.format(roc_auc), color = 'darkgreen', alpha = 0.8)\n",
    "plt.plot([0, 1], [0, 1], 'k:')\n",
    "plt.xlabel('False Positive Rate')\n",
    "plt.ylabel('True Positive Rate')\n",
    "plt.title('ROC Curve with Random Forest', fontsize = 12, fontfamily = 'Serif')\n",
    "plt.grid(False)\n",
    "plt.legend()\n",
    "plt.show()"
   ]
  },
  {
   "cell_type": "markdown",
   "id": "114f5d5a48920145",
   "metadata": {
    "collapsed": false
   },
   "source": [
    "#### 2. Boosting\n",
    "\n",
    "Kearns & Valiant는 1989년 논문 \"Cryptographic limitations on learning Boolean formulae and finite automania\"에서 약한 추정기들을 병합해 더 높은 정확도를 얻을 수 있는지에 대한 의문을 제기한 최초의 사람들에 속한다\n",
    "\n",
    "그 후, Schapire는 1990년 논문 \"The Strength of weak learnability\"에서 통상 Boosting이라는 방법을 이용해 실제로 약한 추정기들을 병합하여 추정한 것이 더 높은 정확도를 얻을 수 있다는 것을 증명하였다. Boosting계열 Model은 일반적으로 다음과 같이 작동한다\n",
    "\n",
    "1. 어떤 sample가중치에 따라 복원 랜덤 샘플링을 활용해 하나의 훈련셋을 생성한다\n",
    "2. 하나의 추정기를 이 훈련 데이터셋을 사용해 적합화한다\n",
    "3. 단일 추정기가 허용하는 threshold값보다 더 높은 정확도를 얻으면 그 추정기는 유지하고, 그렇지 않으면 폐기한다\n",
    "4. 잘못 분류된 관측값에 대해서는 더 많은 가중값을 부여하고, 정확히 분류된 관측값에서는 더 적은 가중값을 부여한다\n",
    "5. 지정한 N개의 추정기가 생성될 때까지 이 과정을 반복한다\n",
    "6. Ensemble 예측은 N개의 모델에서 나온 개별 예측의 평균인데 가중값은 개별 추정기의 정확도에 따라 결정된다\n",
    "\n",
    "**2.1 AdaBoost**\n",
    "\n",
    "Adaptive Boosting의 줄임말이다. 단어에서 볼 수 있듯이, 부스팅 모형이긴 한데 sequence를 지날 때마다 적응을 시킨다는 의미이다\n",
    "\n",
    "<center>\n",
    "<img src=\"./image/adaboost.png\" title=\"adaboost\"/>\n",
    "</center>\n",
    "\n",
    "```\n",
    "sklearn.ensemble.AdaBoostClassifier(\n",
    "    estimator=None, *, \n",
    "    n_estimators=50, \n",
    "    learning_rate=1.0, \n",
    "    algorithm='SAMME.R', \n",
    "    random_state=None, \n",
    "    base_estimator='deprecated')\n",
    "```"
   ]
  },
  {
   "cell_type": "code",
   "execution_count": 20,
   "id": "bcf08c293f08901f",
   "metadata": {
    "ExecuteTime": {
     "end_time": "2023-12-28T15:36:28.625344Z",
     "start_time": "2023-12-28T15:36:28.614640Z"
    },
    "collapsed": false
   },
   "outputs": [],
   "source": [
    "from sklearn.ensemble import AdaBoostClassifier\n",
    "\n",
    "tree = DecisionTreeClassifier(\n",
    "    max_depth = 1,\n",
    "    criterion = 'entropy',\n",
    "    class_weight = 'balanced',\n",
    "    random_state = 42\n",
    ")\n",
    "adaboost = AdaBoostClassifier(\n",
    "    tree,\n",
    "    n_estimators = 1000,\n",
    "    random_state = 42\n",
    ")"
   ]
  },
  {
   "cell_type": "code",
   "execution_count": 21,
   "id": "c1f6f8e04124dc54",
   "metadata": {
    "ExecuteTime": {
     "end_time": "2023-12-28T15:36:47.490101Z",
     "start_time": "2023-12-28T15:36:38.091365Z"
    },
    "collapsed": false
   },
   "outputs": [
    {
     "data": {
      "text/html": [
       "<style>#sk-container-id-3 {color: black;}#sk-container-id-3 pre{padding: 0;}#sk-container-id-3 div.sk-toggleable {background-color: white;}#sk-container-id-3 label.sk-toggleable__label {cursor: pointer;display: block;width: 100%;margin-bottom: 0;padding: 0.3em;box-sizing: border-box;text-align: center;}#sk-container-id-3 label.sk-toggleable__label-arrow:before {content: \"▸\";float: left;margin-right: 0.25em;color: #696969;}#sk-container-id-3 label.sk-toggleable__label-arrow:hover:before {color: black;}#sk-container-id-3 div.sk-estimator:hover label.sk-toggleable__label-arrow:before {color: black;}#sk-container-id-3 div.sk-toggleable__content {max-height: 0;max-width: 0;overflow: hidden;text-align: left;background-color: #f0f8ff;}#sk-container-id-3 div.sk-toggleable__content pre {margin: 0.2em;color: black;border-radius: 0.25em;background-color: #f0f8ff;}#sk-container-id-3 input.sk-toggleable__control:checked~div.sk-toggleable__content {max-height: 200px;max-width: 100%;overflow: auto;}#sk-container-id-3 input.sk-toggleable__control:checked~label.sk-toggleable__label-arrow:before {content: \"▾\";}#sk-container-id-3 div.sk-estimator input.sk-toggleable__control:checked~label.sk-toggleable__label {background-color: #d4ebff;}#sk-container-id-3 div.sk-label input.sk-toggleable__control:checked~label.sk-toggleable__label {background-color: #d4ebff;}#sk-container-id-3 input.sk-hidden--visually {border: 0;clip: rect(1px 1px 1px 1px);clip: rect(1px, 1px, 1px, 1px);height: 1px;margin: -1px;overflow: hidden;padding: 0;position: absolute;width: 1px;}#sk-container-id-3 div.sk-estimator {font-family: monospace;background-color: #f0f8ff;border: 1px dotted black;border-radius: 0.25em;box-sizing: border-box;margin-bottom: 0.5em;}#sk-container-id-3 div.sk-estimator:hover {background-color: #d4ebff;}#sk-container-id-3 div.sk-parallel-item::after {content: \"\";width: 100%;border-bottom: 1px solid gray;flex-grow: 1;}#sk-container-id-3 div.sk-label:hover label.sk-toggleable__label {background-color: #d4ebff;}#sk-container-id-3 div.sk-serial::before {content: \"\";position: absolute;border-left: 1px solid gray;box-sizing: border-box;top: 0;bottom: 0;left: 50%;z-index: 0;}#sk-container-id-3 div.sk-serial {display: flex;flex-direction: column;align-items: center;background-color: white;padding-right: 0.2em;padding-left: 0.2em;position: relative;}#sk-container-id-3 div.sk-item {position: relative;z-index: 1;}#sk-container-id-3 div.sk-parallel {display: flex;align-items: stretch;justify-content: center;background-color: white;position: relative;}#sk-container-id-3 div.sk-item::before, #sk-container-id-3 div.sk-parallel-item::before {content: \"\";position: absolute;border-left: 1px solid gray;box-sizing: border-box;top: 0;bottom: 0;left: 50%;z-index: -1;}#sk-container-id-3 div.sk-parallel-item {display: flex;flex-direction: column;z-index: 1;position: relative;background-color: white;}#sk-container-id-3 div.sk-parallel-item:first-child::after {align-self: flex-end;width: 50%;}#sk-container-id-3 div.sk-parallel-item:last-child::after {align-self: flex-start;width: 50%;}#sk-container-id-3 div.sk-parallel-item:only-child::after {width: 0;}#sk-container-id-3 div.sk-dashed-wrapped {border: 1px dashed gray;margin: 0 0.4em 0.5em 0.4em;box-sizing: border-box;padding-bottom: 0.4em;background-color: white;}#sk-container-id-3 div.sk-label label {font-family: monospace;font-weight: bold;display: inline-block;line-height: 1.2em;}#sk-container-id-3 div.sk-label-container {text-align: center;}#sk-container-id-3 div.sk-container {/* jupyter's `normalize.less` sets `[hidden] { display: none; }` but bootstrap.min.css set `[hidden] { display: none !important; }` so we also need the `!important` here to be able to override the default hidden behavior on the sphinx rendered scikit-learn.org. See: https://github.com/scikit-learn/scikit-learn/issues/21755 */display: inline-block !important;position: relative;}#sk-container-id-3 div.sk-text-repr-fallback {display: none;}</style><div id=\"sk-container-id-3\" class=\"sk-top-container\"><div class=\"sk-text-repr-fallback\"><pre>AdaBoostClassifier(estimator=DecisionTreeClassifier(class_weight=&#x27;balanced&#x27;,\n",
       "                                                    criterion=&#x27;entropy&#x27;,\n",
       "                                                    max_depth=1,\n",
       "                                                    random_state=42),\n",
       "                   n_estimators=1000, random_state=42)</pre><b>In a Jupyter environment, please rerun this cell to show the HTML representation or trust the notebook. <br />On GitHub, the HTML representation is unable to render, please try loading this page with nbviewer.org.</b></div><div class=\"sk-container\" hidden><div class=\"sk-item sk-dashed-wrapped\"><div class=\"sk-label-container\"><div class=\"sk-label sk-toggleable\"><input class=\"sk-toggleable__control sk-hidden--visually\" id=\"sk-estimator-id-5\" type=\"checkbox\" ><label for=\"sk-estimator-id-5\" class=\"sk-toggleable__label sk-toggleable__label-arrow\">AdaBoostClassifier</label><div class=\"sk-toggleable__content\"><pre>AdaBoostClassifier(estimator=DecisionTreeClassifier(class_weight=&#x27;balanced&#x27;,\n",
       "                                                    criterion=&#x27;entropy&#x27;,\n",
       "                                                    max_depth=1,\n",
       "                                                    random_state=42),\n",
       "                   n_estimators=1000, random_state=42)</pre></div></div></div><div class=\"sk-parallel\"><div class=\"sk-parallel-item\"><div class=\"sk-item\"><div class=\"sk-label-container\"><div class=\"sk-label sk-toggleable\"><input class=\"sk-toggleable__control sk-hidden--visually\" id=\"sk-estimator-id-6\" type=\"checkbox\" ><label for=\"sk-estimator-id-6\" class=\"sk-toggleable__label sk-toggleable__label-arrow\">estimator: DecisionTreeClassifier</label><div class=\"sk-toggleable__content\"><pre>DecisionTreeClassifier(class_weight=&#x27;balanced&#x27;, criterion=&#x27;entropy&#x27;,\n",
       "                       max_depth=1, random_state=42)</pre></div></div></div><div class=\"sk-serial\"><div class=\"sk-item\"><div class=\"sk-estimator sk-toggleable\"><input class=\"sk-toggleable__control sk-hidden--visually\" id=\"sk-estimator-id-7\" type=\"checkbox\" ><label for=\"sk-estimator-id-7\" class=\"sk-toggleable__label sk-toggleable__label-arrow\">DecisionTreeClassifier</label><div class=\"sk-toggleable__content\"><pre>DecisionTreeClassifier(class_weight=&#x27;balanced&#x27;, criterion=&#x27;entropy&#x27;,\n",
       "                       max_depth=1, random_state=42)</pre></div></div></div></div></div></div></div></div></div></div>"
      ],
      "text/plain": [
       "AdaBoostClassifier(estimator=DecisionTreeClassifier(class_weight='balanced',\n",
       "                                                    criterion='entropy',\n",
       "                                                    max_depth=1,\n",
       "                                                    random_state=42),\n",
       "                   n_estimators=1000, random_state=42)"
      ]
     },
     "execution_count": 21,
     "metadata": {},
     "output_type": "execute_result"
    }
   ],
   "source": [
    "adaboost.fit(X_train, y_train)"
   ]
  },
  {
   "cell_type": "code",
   "execution_count": 22,
   "id": "cc1d9aa162750348",
   "metadata": {
    "ExecuteTime": {
     "end_time": "2023-12-28T15:37:17.060934Z",
     "start_time": "2023-12-28T15:37:16.263473Z"
    },
    "collapsed": false
   },
   "outputs": [
    {
     "name": "stdout",
     "output_type": "stream",
     "text": [
      "Accuracy: 0.854050279329609\n"
     ]
    }
   ],
   "source": [
    "y_prob = adaboost.predict_proba(X_test)[:, 1]\n",
    "y_pred = adaboost.predict(X_test)\n",
    "fpr, tpr, thresholds = roc_curve(y_test, y_prob)\n",
    "accuracy = accuracy_score(y_test, y_pred)\n",
    "print(f'Accuracy: {accuracy}')"
   ]
  },
  {
   "cell_type": "code",
   "execution_count": 23,
   "id": "29b8aee38047a153",
   "metadata": {
    "ExecuteTime": {
     "end_time": "2023-12-28T15:37:31.477415Z",
     "start_time": "2023-12-28T15:37:31.456581Z"
    },
    "collapsed": false
   },
   "outputs": [
    {
     "name": "stdout",
     "output_type": "stream",
     "text": [
      "              precision    recall  f1-score   support\n",
      "\n",
      "           0       0.94      0.87      0.90      6715\n",
      "           1       0.63      0.79      0.70      1877\n",
      "\n",
      "    accuracy                           0.85      8592\n",
      "   macro avg       0.78      0.83      0.80      8592\n",
      "weighted avg       0.87      0.85      0.86      8592\n"
     ]
    }
   ],
   "source": [
    "print(classification_report(y_test, y_pred))"
   ]
  },
  {
   "cell_type": "code",
   "execution_count": 24,
   "id": "a9c478e624eb28a",
   "metadata": {
    "ExecuteTime": {
     "end_time": "2023-12-28T15:37:40.245535Z",
     "start_time": "2023-12-28T15:37:40.132859Z"
    },
    "collapsed": false
   },
   "outputs": [
    {
     "data": {
      "image/png": "[encoded data removed]",
      "text/plain": [
       "<Figure size 300x300 with 1 Axes>"
      ]
     },
     "metadata": {},
     "output_type": "display_data"
    }
   ],
   "source": [
    "cm = confusion_matrix(y_test, y_pred)\n",
    "plt.figure(figsize = (3, 3))\n",
    "sns.heatmap(cm, annot = True, fmt = 'd', cbar = False)\n",
    "plt.xlabel('Predicted')\n",
    "plt.ylabel('True')\n",
    "plt.title('Confusion Matrix', fontsize = 12, fontfamily = 'Serif')\n",
    "plt.show()"
   ]
  },
  {
   "cell_type": "code",
   "execution_count": 26,
   "id": "93ea1a937e0cd98a",
   "metadata": {
    "ExecuteTime": {
     "end_time": "2023-12-28T15:38:09.493151Z",
     "start_time": "2023-12-28T15:38:09.406190Z"
    },
    "collapsed": false
   },
   "outputs": [
    {
     "data": {
      "image/png": "[encoded data removed]",
      "text/plain": [
       "<Figure size 600x400 with 1 Axes>"
      ]
     },
     "metadata": {},
     "output_type": "display_data"
    }
   ],
   "source": [
    "fpr, tpr, thresholds = roc_curve(y_test, y_prob)\n",
    "roc_auc = auc(fpr, tpr)\n",
    "\n",
    "plt.figure(figsize = (6, 4))\n",
    "plt.plot(fpr, tpr, label = 'Ada Boost (area = {:.2f})'.format(roc_auc), color = 'darkorange', alpha = 0.8)\n",
    "plt.plot([0, 1], [0, 1], 'k:')\n",
    "plt.xlabel('False Positive Rate')\n",
    "plt.ylabel('True Positive Rate')\n",
    "plt.title('ROC Curve with Ada Boost', fontsize = 12, fontfamily = 'Serif')\n",
    "plt.grid(False)\n",
    "plt.legend()\n",
    "plt.show()"
   ]
  },
  {
   "cell_type": "markdown",
   "id": "19b5745ac759abb1",
   "metadata": {
    "collapsed": false
   },
   "source": [
    "**2.2 Gradient Boosting**\n",
    "\n",
    "<center>\n",
    "<img src=\"./image/gradientBoost.png\" title=\"adaboost\"/>\n",
    "</center>\n",
    "\n",
    "\n",
    "```\n",
    "sklearn.ensemble.GradientBoostingClassifier(*, \n",
    "    loss='log_loss', \n",
    "    learning_rate=0.1, \n",
    "    n_estimators=100, \n",
    "    subsample=1.0, \n",
    "    criterion='friedman_mse', \n",
    "    min_samples_split=2, \n",
    "    min_samples_leaf=1, \n",
    "    min_weight_fraction_leaf=0.0, \n",
    "    max_depth=3, \n",
    "    min_impurity_decrease=0.0, \n",
    "    init=None, \n",
    "    random_state=None, \n",
    "    max_features=None, \n",
    "    verbose=0, \n",
    "    max_leaf_nodes=None, \n",
    "    warm_start=False, \n",
    "    validation_fraction=0.1, \n",
    "    n_iter_no_change=None, \n",
    "    tol=0.0001, \n",
    "    ccp_alpha=0.0)\n",
    "```"
   ]
  },
  {
   "cell_type": "code",
   "execution_count": 27,
   "id": "2c322e5deb378947",
   "metadata": {
    "ExecuteTime": {
     "end_time": "2023-12-28T15:41:42.890746Z",
     "start_time": "2023-12-28T15:41:42.849400Z"
    },
    "collapsed": false
   },
   "outputs": [],
   "source": [
    "from sklearn.ensemble import GradientBoostingClassifier\n",
    "\n",
    "gradient = GradientBoostingClassifier(\n",
    "    n_estimators = 1000, \n",
    "    learning_rate = 1.0, \n",
    "    max_depth = 1, \n",
    "    random_state = 42\n",
    ")"
   ]
  },
  {
   "cell_type": "code",
   "execution_count": 28,
   "id": "b3699a52adfad436",
   "metadata": {
    "ExecuteTime": {
     "end_time": "2023-12-28T15:42:02.012044Z",
     "start_time": "2023-12-28T15:41:55.738827Z"
    },
    "collapsed": false
   },
   "outputs": [
    {
     "data": {
      "text/html": [
       "<style>#sk-container-id-4 {color: black;}#sk-container-id-4 pre{padding: 0;}#sk-container-id-4 div.sk-toggleable {background-color: white;}#sk-container-id-4 label.sk-toggleable__label {cursor: pointer;display: block;width: 100%;margin-bottom: 0;padding: 0.3em;box-sizing: border-box;text-align: center;}#sk-container-id-4 label.sk-toggleable__label-arrow:before {content: \"▸\";float: left;margin-right: 0.25em;color: #696969;}#sk-container-id-4 label.sk-toggleable__label-arrow:hover:before {color: black;}#sk-container-id-4 div.sk-estimator:hover label.sk-toggleable__label-arrow:before {color: black;}#sk-container-id-4 div.sk-toggleable__content {max-height: 0;max-width: 0;overflow: hidden;text-align: left;background-color: #f0f8ff;}#sk-container-id-4 div.sk-toggleable__content pre {margin: 0.2em;color: black;border-radius: 0.25em;background-color: #f0f8ff;}#sk-container-id-4 input.sk-toggleable__control:checked~div.sk-toggleable__content {max-height: 200px;max-width: 100%;overflow: auto;}#sk-container-id-4 input.sk-toggleable__control:checked~label.sk-toggleable__label-arrow:before {content: \"▾\";}#sk-container-id-4 div.sk-estimator input.sk-toggleable__control:checked~label.sk-toggleable__label {background-color: #d4ebff;}#sk-container-id-4 div.sk-label input.sk-toggleable__control:checked~label.sk-toggleable__label {background-color: #d4ebff;}#sk-container-id-4 input.sk-hidden--visually {border: 0;clip: rect(1px 1px 1px 1px);clip: rect(1px, 1px, 1px, 1px);height: 1px;margin: -1px;overflow: hidden;padding: 0;position: absolute;width: 1px;}#sk-container-id-4 div.sk-estimator {font-family: monospace;background-color: #f0f8ff;border: 1px dotted black;border-radius: 0.25em;box-sizing: border-box;margin-bottom: 0.5em;}#sk-container-id-4 div.sk-estimator:hover {background-color: #d4ebff;}#sk-container-id-4 div.sk-parallel-item::after {content: \"\";width: 100%;border-bottom: 1px solid gray;flex-grow: 1;}#sk-container-id-4 div.sk-label:hover label.sk-toggleable__label {background-color: #d4ebff;}#sk-container-id-4 div.sk-serial::before {content: \"\";position: absolute;border-left: 1px solid gray;box-sizing: border-box;top: 0;bottom: 0;left: 50%;z-index: 0;}#sk-container-id-4 div.sk-serial {display: flex;flex-direction: column;align-items: center;background-color: white;padding-right: 0.2em;padding-left: 0.2em;position: relative;}#sk-container-id-4 div.sk-item {position: relative;z-index: 1;}#sk-container-id-4 div.sk-parallel {display: flex;align-items: stretch;justify-content: center;background-color: white;position: relative;}#sk-container-id-4 div.sk-item::before, #sk-container-id-4 div.sk-parallel-item::before {content: \"\";position: absolute;border-left: 1px solid gray;box-sizing: border-box;top: 0;bottom: 0;left: 50%;z-index: -1;}#sk-container-id-4 div.sk-parallel-item {display: flex;flex-direction: column;z-index: 1;position: relative;background-color: white;}#sk-container-id-4 div.sk-parallel-item:first-child::after {align-self: flex-end;width: 50%;}#sk-container-id-4 div.sk-parallel-item:last-child::after {align-self: flex-start;width: 50%;}#sk-container-id-4 div.sk-parallel-item:only-child::after {width: 0;}#sk-container-id-4 div.sk-dashed-wrapped {border: 1px dashed gray;margin: 0 0.4em 0.5em 0.4em;box-sizing: border-box;padding-bottom: 0.4em;background-color: white;}#sk-container-id-4 div.sk-label label {font-family: monospace;font-weight: bold;display: inline-block;line-height: 1.2em;}#sk-container-id-4 div.sk-label-container {text-align: center;}#sk-container-id-4 div.sk-container {/* jupyter's `normalize.less` sets `[hidden] { display: none; }` but bootstrap.min.css set `[hidden] { display: none !important; }` so we also need the `!important` here to be able to override the default hidden behavior on the sphinx rendered scikit-learn.org. See: https://github.com/scikit-learn/scikit-learn/issues/21755 */display: inline-block !important;position: relative;}#sk-container-id-4 div.sk-text-repr-fallback {display: none;}</style><div id=\"sk-container-id-4\" class=\"sk-top-container\"><div class=\"sk-text-repr-fallback\"><pre>GradientBoostingClassifier(learning_rate=1.0, max_depth=1, n_estimators=1000,\n",
       "                           random_state=42)</pre><b>In a Jupyter environment, please rerun this cell to show the HTML representation or trust the notebook. <br />On GitHub, the HTML representation is unable to render, please try loading this page with nbviewer.org.</b></div><div class=\"sk-container\" hidden><div class=\"sk-item\"><div class=\"sk-estimator sk-toggleable\"><input class=\"sk-toggleable__control sk-hidden--visually\" id=\"sk-estimator-id-8\" type=\"checkbox\" checked><label for=\"sk-estimator-id-8\" class=\"sk-toggleable__label sk-toggleable__label-arrow\">GradientBoostingClassifier</label><div class=\"sk-toggleable__content\"><pre>GradientBoostingClassifier(learning_rate=1.0, max_depth=1, n_estimators=1000,\n",
       "                           random_state=42)</pre></div></div></div></div></div>"
      ],
      "text/plain": [
       "GradientBoostingClassifier(learning_rate=1.0, max_depth=1, n_estimators=1000,\n",
       "                           random_state=42)"
      ]
     },
     "execution_count": 28,
     "metadata": {},
     "output_type": "execute_result"
    }
   ],
   "source": [
    "gradient.fit(X_train, y_train)"
   ]
  },
  {
   "cell_type": "code",
   "execution_count": 29,
   "id": "480876a45dd1f4b9",
   "metadata": {
    "ExecuteTime": {
     "end_time": "2023-12-28T15:42:10.006418Z",
     "start_time": "2023-12-28T15:42:09.925931Z"
    },
    "collapsed": false
   },
   "outputs": [
    {
     "name": "stdout",
     "output_type": "stream",
     "text": [
      "Accuracy: 0.8903631284916201\n"
     ]
    }
   ],
   "source": [
    "y_prob = gradient.predict_proba(X_test)[:, 1]\n",
    "y_pred = gradient.predict(X_test)\n",
    "fpr, tpr, thresholds = roc_curve(y_test, y_prob)\n",
    "accuracy = accuracy_score(y_test, y_pred)\n",
    "print(f'Accuracy: {accuracy}')"
   ]
  },
  {
   "cell_type": "code",
   "execution_count": 30,
   "id": "9cb67e074e5155ac",
   "metadata": {
    "ExecuteTime": {
     "end_time": "2023-12-28T15:42:28.678091Z",
     "start_time": "2023-12-28T15:42:28.659324Z"
    },
    "collapsed": false
   },
   "outputs": [
    {
     "name": "stdout",
     "output_type": "stream",
     "text": [
      "              precision    recall  f1-score   support\n",
      "\n",
      "           0       0.91      0.96      0.93      6715\n",
      "           1       0.81      0.65      0.72      1877\n",
      "\n",
      "    accuracy                           0.89      8592\n",
      "   macro avg       0.86      0.80      0.83      8592\n",
      "weighted avg       0.89      0.89      0.89      8592\n"
     ]
    }
   ],
   "source": [
    "print(classification_report(y_test, y_pred))"
   ]
  },
  {
   "cell_type": "code",
   "execution_count": 31,
   "id": "8f70b7732ecff61b",
   "metadata": {
    "ExecuteTime": {
     "end_time": "2023-12-28T15:42:40.036685Z",
     "start_time": "2023-12-28T15:42:39.988833Z"
    },
    "collapsed": false
   },
   "outputs": [
    {
     "data": {
      "image/png": "[encoded data removed]",
      "text/plain": [
       "<Figure size 300x300 with 1 Axes>"
      ]
     },
     "metadata": {},
     "output_type": "display_data"
    }
   ],
   "source": [
    "cm = confusion_matrix(y_test, y_pred)\n",
    "plt.figure(figsize = (3, 3))\n",
    "sns.heatmap(cm, annot = True, fmt = 'd', cbar = False)\n",
    "plt.xlabel('Predicted')\n",
    "plt.ylabel('True')\n",
    "plt.title('Confusion Matrix', fontsize = 12, fontfamily = 'Serif')\n",
    "plt.show()"
   ]
  },
  {
   "cell_type": "code",
   "execution_count": 33,
   "id": "62ce4339b56d7488",
   "metadata": {
    "ExecuteTime": {
     "end_time": "2023-12-28T15:46:16.263046Z",
     "start_time": "2023-12-28T15:46:16.177743Z"
    },
    "collapsed": false
   },
   "outputs": [
    {
     "data": {
      "image/png": "[encoded data removed]",
      "text/plain": [
       "<Figure size 600x400 with 1 Axes>"
      ]
     },
     "metadata": {},
     "output_type": "display_data"
    }
   ],
   "source": [
    "fpr, tpr, thresholds = roc_curve(y_test, y_prob)\n",
    "roc_auc = auc(fpr, tpr)\n",
    "\n",
    "plt.figure(figsize = (6, 4))\n",
    "plt.plot(fpr, tpr, label = 'Grediant Boost (area = {:.2f})'.format(roc_auc), color = 'red', alpha = 0.8)\n",
    "plt.plot([0, 1], [0, 1], 'k:')\n",
    "plt.xlabel('False Positive Rate')\n",
    "plt.ylabel('True Positive Rate')\n",
    "plt.title('ROC Curve with Grediant Boost', fontsize = 12, fontfamily = 'Serif')\n",
    "plt.grid(False)\n",
    "plt.legend()\n",
    "plt.show()"
   ]
  },
  {
   "cell_type": "markdown",
   "id": "b02c9a0d0b8edaa5",
   "metadata": {
    "collapsed": false
   },
   "source": [
    "**2.3 Cat Boost**\n",
    "\n",
    "Gradient Boosting 계열 알고리즘 중 가장 최신 알고리즘이다. 무조건 순차적으로만 Tree를 분기하던 기본의 Gradient Boosting 계열 알고리즘과는 다르게, depth를 추가할 때마다 모든 추정기의 분기를 동시에 진행함으로써 Boosting계열 알고리즘의 가장 큰 약점이었던 과적합 위험을 어느정도 제어하는데 성공하였다\n",
    "\n",
    "XG boost와 LGBM의 결과는 Gradient Boost와 결과가 크게 달라지지 않으므로, Gradient Boosting과 비교하면서 보도록 한다.\n",
    "\n",
    "```\n",
    "class CatBoostClassifier(iterations=None, learning_rate=None, depth=None, l2_leaf_reg=None, model_size_reg=None, rsm=None,\n",
    "                         loss_function=None, border_count=None, feature_border_type=None, per_float_feature_quantization=None,\n",
    "                         input_borders=None, output_borders=None, fold_permutation_block=None, od_pval=None, od_wait=None,\n",
    "                         od_type=None, nan_mode=None, counter_calc_method=None, leaf_estimation_iterations=None,\n",
    "                         leaf_estimation_method=None, thread_count=None, random_seed=None, use_best_model=None,\n",
    "                         verbose=None, logging_level=None, metric_period=None, ctr_leaf_count_limit=None,\n",
    "                         store_all_simple_ctr=None, max_ctr_complexity=None, has_time=None, allow_const_label=None,\n",
    "                         classes_count=None, class_weights=None, auto_class_weights=None, one_hot_max_size=None,\n",
    "                         random_strength=None, name=None, ignored_features=None, train_dir=None, custom_loss=None,\n",
    "                         custom_metric=None, eval_metric=None, bagging_temperature=None, save_snapshot=None,\n",
    "                         snapshot_file=None, snapshot_interval=None, fold_len_multiplier=None, used_ram_limit=None,\n",
    "                         gpu_ram_part=None, allow_writing_files=None, final_ctr_computation_mode=None, approx_on_full_history=None,\n",
    "                         boosting_type=None, simple_ctr=None, combinations_ctr=None, per_feature_ctr=None, task_type=None,\n",
    "                         device_config=None, devices=None, bootstrap_type=None, subsample=None, sampling_unit=None,\n",
    "                         dev_score_calc_obj_block_size=None, max_depth=None, n_estimators=None, num_boost_round=None,\n",
    "                         num_trees=None, colsample_bylevel=None, random_state=None, reg_lambda=None, objective=None,\n",
    "                         eta=None, max_bin=None, scale_pos_weight=None, gpu_cat_features_storage=None, data_partition=None,\n",
    "                         metadata=None, early_stopping_rounds=None, cat_features=None, grow_policy=None,\n",
    "                         min_data_in_leaf=None, min_child_samples=None, max_leaves=None, num_leaves=None,\n",
    "                         score_function=None, leaf_estimation_backtracking=None, ctr_history_unit=None,\n",
    "                         monotone_constraints=None, feature_weights=None, penalties_coefficient=None, first_feature_use_penalties=None,\n",
    "                         model_shrink_rate=None, model_shrink_mode=None, langevin=None, diffusion_temperature=None,\n",
    "                         posterior_sampling=None, boost_from_average=None, text_features=None, tokenizers=None,\n",
    "                         dictionaries=None, feature_calcers=None, text_processing=None, fixed_binary_splits=None)\n",
    "```\n",
    "\n",
    "Catboost가 성능은 굉장히 좋지만, 그만큼 Hyper parameter의 개수가 엄청나게 많다. 모두 다 외우려고 하는 것 보다는 중요한 parameter 몇 개만 알아두도록 하자"
   ]
  },
  {
   "cell_type": "code",
   "execution_count": 36,
   "id": "aec728a7b98b53c3",
   "metadata": {
    "ExecuteTime": {
     "end_time": "2023-12-28T16:05:01.024641Z",
     "start_time": "2023-12-28T16:05:00.994687Z"
    },
    "collapsed": false
   },
   "outputs": [],
   "source": [
    "from sklearn.utils.class_weight import compute_class_weight\n",
    "\n",
    "classes = np.unique(y_train)\n",
    "weights = compute_class_weight(\n",
    "    class_weight = 'balanced', \n",
    "    classes = classes, \n",
    "    y = y_train\n",
    ")\n",
    "class_weights = dict(zip(classes, weights))"
   ]
  },
  {
   "cell_type": "markdown",
   "id": "aa17333f839ac9d1",
   "metadata": {
    "collapsed": false
   },
   "source": [
    "Cat Boost에서는 Random Forest혹은 Bagging의 sample_weight를 지정할 수 없기 때문에 위와 같이 직접 지정해주는 과정이 필요하다"
   ]
  },
  {
   "cell_type": "code",
   "execution_count": null,
   "id": "170418fdd2082741",
   "metadata": {
    "collapsed": false
   },
   "outputs": [],
   "source": [
    "from catboost import CatBoostClassifier\n",
    "cat = CatBoostClassifier(\n",
    "    class_weights = class_weights,\n",
    "    n_estimators = 1000,\n",
    "    loss_function = 'Logloss',\n",
    "    random_state = 42,\n",
    "    learning_rate = 0.1,\n",
    "    verbose = 0\n",
    ")"
   ]
  },
  {
   "cell_type": "markdown",
   "id": "392f30a5254ac91b",
   "metadata": {
    "collapsed": false
   },
   "source": [
    "loss function(손실함수)이 logloss인 것은 entropy와 같은 것이니 logloss로 지정하자. learning rate는 학습 속도에 관한 parameter이기 때문에, 데이터의 속성에 따라 달라질 수 있다\n",
    "\n",
    "verbose = 0으로 두면 training log가 출력되지 않아 깔끔하다"
   ]
  },
  {
   "cell_type": "code",
   "execution_count": 37,
   "id": "eba673295e3114d4",
   "metadata": {
    "ExecuteTime": {
     "end_time": "2023-12-28T16:05:08.457945Z",
     "start_time": "2023-12-28T16:05:01.483078Z"
    },
    "collapsed": false
   },
   "outputs": [
    {
     "data": {
      "text/plain": [
       "<catboost.core.CatBoostClassifier at 0x16b018d90>"
      ]
     },
     "execution_count": 37,
     "metadata": {},
     "output_type": "execute_result"
    }
   ],
   "source": [
    "cat.fit(X_train, y_train)"
   ]
  },
  {
   "cell_type": "code",
   "execution_count": 38,
   "id": "354d3e6779d750c",
   "metadata": {
    "ExecuteTime": {
     "end_time": "2023-12-28T16:05:24.721587Z",
     "start_time": "2023-12-28T16:05:24.704504Z"
    },
    "collapsed": false
   },
   "outputs": [
    {
     "name": "stdout",
     "output_type": "stream",
     "text": [
      "Accuracy: 0.9214385474860335\n"
     ]
    }
   ],
   "source": [
    "y_prob = cat.predict_proba(X_test)[:, 1]\n",
    "y_pred = cat.predict(X_test)\n",
    "fpr, tpr, thresholds = roc_curve(y_test, y_prob)\n",
    "accuracy = accuracy_score(y_test, y_pred)\n",
    "print(f'Accuracy: {accuracy}')"
   ]
  },
  {
   "cell_type": "code",
   "execution_count": 39,
   "id": "4d5842a900241a2f",
   "metadata": {
    "ExecuteTime": {
     "end_time": "2023-12-28T16:08:28.790835Z",
     "start_time": "2023-12-28T16:08:28.773761Z"
    },
    "collapsed": false
   },
   "outputs": [
    {
     "name": "stdout",
     "output_type": "stream",
     "text": [
      "              precision    recall  f1-score   support\n",
      "\n",
      "           0       0.94      0.96      0.95      6715\n",
      "           1       0.85      0.78      0.81      1877\n",
      "\n",
      "    accuracy                           0.92      8592\n",
      "   macro avg       0.89      0.87      0.88      8592\n",
      "weighted avg       0.92      0.92      0.92      8592\n"
     ]
    }
   ],
   "source": [
    "print(classification_report(y_test, y_pred))"
   ]
  },
  {
   "cell_type": "code",
   "execution_count": 40,
   "id": "b08f9e36e299a34b",
   "metadata": {
    "ExecuteTime": {
     "end_time": "2023-12-28T16:08:48.616687Z",
     "start_time": "2023-12-28T16:08:48.571766Z"
    },
    "collapsed": false
   },
   "outputs": [
    {
     "data": {
      "image/png": "[encoded data removed]",
      "text/plain": [
       "<Figure size 300x300 with 1 Axes>"
      ]
     },
     "metadata": {},
     "output_type": "display_data"
    }
   ],
   "source": [
    "cm = confusion_matrix(y_test, y_pred)\n",
    "plt.figure(figsize = (3, 3))\n",
    "sns.heatmap(cm, annot = True, fmt = 'd', cbar = False)\n",
    "plt.xlabel('Predicted')\n",
    "plt.ylabel('True')\n",
    "plt.title('Confusion Matrix', fontsize = 12, fontfamily = 'Serif')\n",
    "plt.show()"
   ]
  },
  {
   "cell_type": "code",
   "execution_count": 41,
   "id": "b61ae6e31acdfec9",
   "metadata": {
    "ExecuteTime": {
     "end_time": "2023-12-28T16:09:11.068132Z",
     "start_time": "2023-12-28T16:09:10.975718Z"
    },
    "collapsed": false
   },
   "outputs": [
    {
     "data": {
      "image/png": "[encoded data removed]",
      "text/plain": [
       "<Figure size 600x400 with 1 Axes>"
      ]
     },
     "metadata": {},
     "output_type": "display_data"
    }
   ],
   "source": [
    "fpr, tpr, thresholds = roc_curve(y_test, y_prob)\n",
    "roc_auc = auc(fpr, tpr)\n",
    "\n",
    "plt.figure(figsize = (6, 4))\n",
    "plt.plot(fpr, tpr, label = 'Cat Boost (area = {:.2f})'.format(roc_auc), color = 'purple', alpha = 0.8)\n",
    "plt.plot([0, 1], [0, 1], 'k:')\n",
    "plt.xlabel('False Positive Rate')\n",
    "plt.ylabel('True Positive Rate')\n",
    "plt.title('ROC Curve with Cat Boost', fontsize = 12, fontfamily = 'Serif')\n",
    "plt.grid(False)\n",
    "plt.legend()\n",
    "plt.show()"
   ]
  },
  {
   "cell_type": "markdown",
   "id": "a682adbd320de738",
   "metadata": {
    "collapsed": false
   },
   "source": [
    "#### 3. Boosting vs Bagging\n",
    "\n",
    "앞에서 설명한 것처럼 Boosting은 몇 가지 측면에서 배깅과 상당히 다르다.\n",
    "- 개별 분류기가 순차적으로 적합화된다\n",
    "- 성능이 나쁜 분류기는 퇴출된다\n",
    "- 관측값의 가중치를 각 반복 시행마다 다르게 부여한다\n",
    "- Ensemble 예측은 개별 학습기의 가중 평균이다\n",
    "\n",
    "Boosting의 주요 장점은 예측의 분산과 평향 둘 다 감소시킨다는 것이다. 그러나 편향을 교정하면 과적합이 될 위험성이 커진다. 금융에 있어서는 Boosting보다 Bagging이 일반적으로 더 선호된다고 주장할 수 있다. **Boosting은 Underfitting을, Bagging은 Overfitting을 다룬다.** Overfitting은 종종 Underfitting보다 더 문제가 된다. 그 이유는 금융 데이터에 있어서 Machine Learning 알고리즘을 과적합하는것은 낮은 신호 대 잡음 비율로 인해 그리 어려운 일이 아니기 떄문이다. 게다가 Bagging은 병렬 처리가 가능하지만, 일반적으로 Boosting은 순차적으로 수행해야 한다. 오차를 줄이는 것을 목적함수로 두고 순차적으로 학습을 하기 때문에 과적합을 일으킬 가능성이 크다"
   ]
  }
 ],
 "metadata": {
  "kernelspec": {
   "display_name": "Python 3 (ipykernel)",
   "language": "python",
   "name": "python3"
  },
  "language_info": {
   "codemirror_mode": {
    "name": "ipython",
    "version": 3
   },
   "file_extension": ".py",
   "mimetype": "text/x-python",
   "name": "python",
   "nbconvert_exporter": "python",
   "pygments_lexer": "ipython3",
   "version": "3.10.13"
  }
 },
 "nbformat": 4,
 "nbformat_minor": 5
}
