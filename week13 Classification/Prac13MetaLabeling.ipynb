{
 "cells": [
  {
   "cell_type": "markdown",
   "source": [
    "### Meta Labeling I\n",
    "\n",
    "<center><img src = \"https://hudsonthames.org/wp-content/uploads/2021/11/meta_labeling.png\" alt=\"My Image\"></center>\n",
    "\n",
    "Meta Labeling은 Marcos Lopez de Prado(2018)가 저서 Advances in Financial Machine Learning에서 제안한 모형으로, labeling문제에 직면한 금융 머신러닝 프로젝트에 적절한 방법을 제시한다. 다음과 같은 논리로 이뤄진다\n",
    "\n",
    "1. Feature 준비 : 자산에 대한 가격 데이터, technical feature등을 포함한 feature matrix를 준비한다\n",
    "2. Primary Model : 자산의 가격이 상승할지, 하강할지 판단하는 모형이다. 여기에는 자신만의 판단 기준을 내세울 수 있으며, 때로는 애널리스트의 판단이 될 수 있다\n",
    "3. Secondary Model : Primary Model에서 나온 정보를 가지고 거래를 집행할지, 하지 않을지를 판단하는 모형이다. 거래 집행 유무만 판단하므로 이진 분류 문제가 된다\n",
    "\n",
    "오늘은 technical feature를 이용해 간단한 이동평균 매수매도 전략을 Primary Model로 제작한 후, Secondary Model을 이용해 매매 의사결정 모형을 만들 것이다"
   ],
   "metadata": {
    "collapsed": false
   },
   "id": "d1de38822b695744"
  },
  {
   "cell_type": "markdown",
   "source": [
    "#### 1. Data Import\n",
    "\n",
    "아래의 library를 활용해 Apple의 가격 시계열을 불러오자. 한국은 공매도 집행이 금지되었으므로 고려하지 않는다. 기간은 2000년 1월 1일부터 11월 15일까지로 지정한다. 시계열이므로 정상성을 위해 로그 차분을 진행한다"
   ],
   "metadata": {
    "collapsed": false
   },
   "id": "2527c32c0eabbd69"
  },
  {
   "cell_type": "code",
   "execution_count": null,
   "id": "initial_id",
   "metadata": {
    "collapsed": true
   },
   "outputs": [],
   "source": [
    "import yfinance as yf\n",
    "import pandas as pd\n",
    "import numpy as np\n",
    "\n",
    "start_date = '2000-01-01'\n",
    "end_date = '2023-11-16'"
   ]
  },
  {
   "cell_type": "markdown",
   "source": [
    "#### 2. Technical Features\n",
    "\n",
    "`ta` library에는 다양한 기술적 분석들에 사용 가능한 feature를 제작해 준다. ta library를 활용하여 다음과 같은 feature를 만들어 주도록 한다\n",
    "\n",
    "- money flow index : window = 20\n",
    "- on balance volume : window = 20\n",
    "- rsi : window = 20\n",
    "- bollinger band : window = 20, window_dev = 1\n",
    "- volume weighted average price : window = 20\n",
    "- tsi indicator : window_fast = 13, window_slow = 25"
   ],
   "metadata": {
    "collapsed": false
   },
   "id": "e6546abf77c63bd2"
  },
  {
   "cell_type": "code",
   "execution_count": null,
   "outputs": [],
   "source": [
    "from ta.volatility import BollingerBands\n",
    "from ta.volume import money_flow_index, on_balance_volume\n",
    "from ta.momentum import rsi\n",
    "from ta.volume import volume_weighted_average_price\n",
    "from ta.momentum import tsi\n",
    "\n",
    "#indicator_bb = BollingerBands(close = apple[\"Close\"], window = 20, window_dev = 1)\n",
    "\n",
    "#apple['bb_bbm'] = indicator_bb.bollinger_mavg()\n",
    "#apple['bb_bbh'] = indicator_bb.bollinger_hband()\n",
    "#apple['bb_bbl'] = indicator_bb.bollinger_lband()\n",
    "\n",
    "#apple['mfi'] = money_flow_index(high = apple.High, \n",
    "#                                 low = apple.Low, \n",
    "#                                 close = apple.Close, \n",
    "#                                 volume = apple.Volume,\n",
    "#                                 window = 20)\n",
    "#apple['obv'] = on_balance_volume(close = apple.Close, \n",
    "#                                 volume = apple.Volume)\n",
    "#apple['rsi'] = rsi(close = apple.Close, window = 21)\n",
    "#apple['return'] = apple_ret\n",
    "#apple['vwap'] = volume_weighted_average_price(high = apple['High'],\n",
    "#                                           low = apple['Low'],\n",
    "#                                           close = apple['Close'],\n",
    "#                                           volume = apple['Volume'],\n",
    "#                                           window = 20)\n",
    "#apple['tsi'] = tsi(close = apple['Close'],\n",
    "#                            window_fast = 13,\n",
    "#                            window_slow = 15)"
   ],
   "metadata": {
    "collapsed": false
   },
   "id": "b68431087d3039ad"
  },
  {
   "cell_type": "markdown",
   "source": [
    "#### 3. Primary Modeling\n",
    "\n",
    "Primary Model에서는 방향만을 추정한다. 여기서는 Bollinger Band전략을 사용하여 가격이 상승할 것인지, 하락할 것인지 labeling을 하자. 여기서 상승은 1, 하락은 -1, 횡보상태는 0으로 labeling한다"
   ],
   "metadata": {
    "collapsed": false
   },
   "id": "d39fb861092e781c"
  },
  {
   "cell_type": "code",
   "execution_count": null,
   "outputs": [],
   "source": [
    "# Write your code here!"
   ],
   "metadata": {
    "collapsed": false
   },
   "id": "c481be6907e61eb2"
  },
  {
   "cell_type": "markdown",
   "source": [
    "#### 4. Meta Labeling\n",
    "\n",
    "Secondary Model은 Primary Model에서 나온 방향을 이용해 거래의 실행 여부만을 평가한다. 3개의 레이블[-1, 0, 1]을 이진 분류 모형[0, 1]으로 다시 labeling을 진행한다. 이 과정을 Meta Labeling이라고 한다"
   ],
   "metadata": {
    "collapsed": false
   },
   "id": "22420551b2061725"
  },
  {
   "cell_type": "code",
   "execution_count": null,
   "outputs": [],
   "source": [
    "# Write your code here!"
   ],
   "metadata": {
    "collapsed": false
   },
   "id": "146faf26d3aa4473"
  },
  {
   "cell_type": "markdown",
   "source": [
    "#### 5. Secondary Modeling\n",
    "\n",
    "Meta Label을 target으로 지정하고, 2번에서 지정한 technical feature들을 이용하여 이진 분류 모형을 수행하라. 즉, feature matrix에는 아래와 같은 데이터들이 들어간다\n",
    "\n",
    "- money flow index\n",
    "- on balance volume\n",
    "- RSI\n",
    "- TSI\n",
    "- VWAP\n",
    "- log return\n",
    "- meta label (target)\n",
    "\n",
    "여기서, Bollinger Band 관련 feature들은 labeling에 사용되었으므로 고려하지 않는다\n",
    "\n",
    "모형의 검증을 위해 test data는 0.2로 지정하고 shuffle = False로 지정한다"
   ],
   "metadata": {
    "collapsed": false
   },
   "id": "28c152d339cfe6b5"
  },
  {
   "cell_type": "code",
   "execution_count": null,
   "outputs": [],
   "source": [
    "# Write your code here!"
   ],
   "metadata": {
    "collapsed": false
   },
   "id": "c3b49aff63b49d94"
  },
  {
   "cell_type": "markdown",
   "source": [
    "**5.1 Logit Model**\n",
    "\n",
    "Secondary Model로 Logit Model을 사용하고 성능을 평가하라"
   ],
   "metadata": {
    "collapsed": false
   },
   "id": "6488752491be8ab0"
  },
  {
   "cell_type": "code",
   "execution_count": null,
   "outputs": [],
   "source": [
    "import statsmodels.api as sm\n",
    "from sklearn.model_selection import train_test_split\n",
    "\n",
    "from sklearn.metrics import accuracy_score, classification_report, confusion_matrix\n",
    "\n",
    "from sklearn.metrics import roc_auc_score, classification_report, roc_curve\n",
    "from sklearn.metrics import auc\n",
    "\n",
    "# Write your code here!"
   ],
   "metadata": {
    "collapsed": false
   },
   "id": "aefdb6f6a2c0db3c"
  },
  {
   "cell_type": "markdown",
   "source": [
    "**5.2 Support Vector Machine**\n",
    "\n",
    "Secondary Model로 SVM을 사용하고 성능을 평가하라. 여기서 kernel은 linear, C = 0.1로 지정한다"
   ],
   "metadata": {
    "collapsed": false
   },
   "id": "d209759822037eee"
  },
  {
   "cell_type": "code",
   "execution_count": null,
   "outputs": [],
   "source": [
    "from sklearn.svm import SVC\n",
    "\n",
    "# Write your code here!"
   ],
   "metadata": {
    "collapsed": false
   },
   "id": "a68666d776fd8229"
  },
  {
   "cell_type": "markdown",
   "source": [
    "**5.3 Decision Tree Classification**\n",
    "\n",
    "Secondary Model로 Decision Tree를 사용하고 성능을 평가하라. 여기서 `criterion = 'entropy'`를 지정한다"
   ],
   "metadata": {
    "collapsed": false
   },
   "id": "4753803021af5390"
  },
  {
   "cell_type": "code",
   "execution_count": null,
   "outputs": [],
   "source": [
    "from sklearn.tree import DecisionTreeClassifier\n",
    "\n",
    "# Write your code here!"
   ],
   "metadata": {
    "collapsed": false
   },
   "id": "ef364b68ddb928ee"
  },
  {
   "cell_type": "markdown",
   "source": [
    "#### 6. 모형 성능 평가\n",
    "\n",
    "Meta Modeling을 비롯하여 technical feature들은 많은 연구가 이뤄지고 있다. 이를 기반으로 Meta labeling을 모형화 할 때, 가장 적합한 Machinie Learning 모형은 무엇인가? 여기에서 투자를 집행하는 label이 1인 점에 주목해야 한다 (실제 투자 기회를 최대한 많이 잡아내는 것이 중요한다)\n",
    "\n",
    "Machine Learning의 강점과 한계에는 어떤 것이 있을까?"
   ],
   "metadata": {
    "collapsed": false
   },
   "id": "f19e82dd35a99c92"
  },
  {
   "cell_type": "code",
   "execution_count": null,
   "outputs": [],
   "source": [
    "# Write your code here!"
   ],
   "metadata": {
    "collapsed": false
   },
   "id": "f4ea8d571fc97297"
  }
 ],
 "metadata": {
  "kernelspec": {
   "display_name": "Python 3",
   "language": "python",
   "name": "python3"
  },
  "language_info": {
   "codemirror_mode": {
    "name": "ipython",
    "version": 2
   },
   "file_extension": ".py",
   "mimetype": "text/x-python",
   "name": "python",
   "nbconvert_exporter": "python",
   "pygments_lexer": "ipython2",
   "version": "2.7.6"
  }
 },
 "nbformat": 4,
 "nbformat_minor": 5
}
