{
 "cells": [
  {
   "cell_type": "markdown",
   "source": [
    "### Meta Labeling I\n",
    "\n",
    "<center><img src = \"https://hudsonthames.org/wp-content/uploads/2021/11/meta_labeling.png\" alt=\"My Image\"></center>\n",
    "\n",
    "Meta Labeling은 Marcos Lopez de Prado(2018)가 저서 Advances in Financial Machine Learning에서 제안한 모형으로, labeling문제에 직면한 금융 머신러닝 프로젝트에 적절한 방법을 제시한다. 다음과 같은 논리로 이뤄진다\n",
    "\n",
    "1. Feature 준비 : 자산에 대한 가격 데이터, technical feature등을 포함한 feature matrix를 준비한다\n",
    "2. Primary Model : 자산의 가격이 상승할지, 하강할지 판단하는 모형이다. 여기에는 자신만의 판단 기준을 내세울 수 있으며, 때로는 애널리스트의 판단이 될 수 있다\n",
    "3. Secondary Model : Primary Model에서 나온 정보를 가지고 거래를 집행할지, 하지 않을지를 판단하는 모형이다. 거래 집행 유무만 판단하므로 이진 분류 문제가 된다\n",
    "\n",
    "오늘은 technical feature를 이용해 간단한 이동평균 매수매도 전략을 Primary Model로 제작한 후, Secondary Model을 이용해 매매 의사결정 모형을 만들 것이다"
   ],
   "metadata": {
    "collapsed": false
   },
   "id": "d1de38822b695744"
  },
  {
   "cell_type": "markdown",
   "source": [
    "#### 1. Data Import\n",
    "\n",
    "아래의 library를 활용해 Apple의 가격 시계열을 불러오자. 한국은 공매도 집행이 금지되었으므로 고려하지 않는다. 기간은 2000년 1월 1일부터 11월 15일까지로 지정한다. 시계열이므로 정상성을 위해 로그 차분을 진행한다"
   ],
   "metadata": {
    "collapsed": false
   },
   "id": "2527c32c0eabbd69"
  },
  {
   "cell_type": "code",
   "execution_count": 1,
   "id": "initial_id",
   "metadata": {
    "collapsed": true,
    "ExecuteTime": {
     "end_time": "2023-11-16T18:22:06.343569Z",
     "start_time": "2023-11-16T18:22:04.883854Z"
    }
   },
   "outputs": [
    {
     "name": "stdout",
     "output_type": "stream",
     "text": [
      "[*********************100%%**********************]  1 of 1 completed\n"
     ]
    },
    {
     "data": {
      "text/plain": "Date\n2000-01-04   -0.088077\n2000-01-05    0.014527\n2000-01-06   -0.090514\n2000-01-07    0.046281\n2000-01-10   -0.017744\nName: Close, dtype: float64"
     },
     "execution_count": 1,
     "metadata": {},
     "output_type": "execute_result"
    }
   ],
   "source": [
    "import yfinance as yf\n",
    "import pandas as pd\n",
    "import numpy as np\n",
    "\n",
    "start_date = '2000-01-01'\n",
    "end_date = '2023-11-16'\n",
    "\n",
    "apple = yf.download('AAPL', start = start_date, end = end_date)\n",
    "apple_ret = np.log(apple.Close / apple.Close.shift(1)).dropna()\n",
    "apple_ret.head()"
   ]
  },
  {
   "cell_type": "markdown",
   "source": [
    "#### 2. Technical Features\n",
    "\n",
    "`ta` library에는 다양한 기술적 분석들에 사용 가능한 feature를 제작해 준다. ta library를 활용하여 다음과 같은 feature를 만들어 주도록 한다\n",
    "\n",
    "- money flow index : window = 20\n",
    "- on balance volume : window = 20\n",
    "- rsi : window = 20\n",
    "- bollinger band : window = 20, window_dev = 1\n",
    "- volume weighted average price : window = 20\n",
    "- tsi indicator : window_fast = 13, window_slow = 25"
   ],
   "metadata": {
    "collapsed": false
   },
   "id": "e6546abf77c63bd2"
  },
  {
   "cell_type": "code",
   "execution_count": 2,
   "outputs": [],
   "source": [
    "from ta.volatility import BollingerBands\n",
    "from ta.volume import money_flow_index, on_balance_volume\n",
    "from ta.momentum import rsi\n",
    "from ta.volume import volume_weighted_average_price\n",
    "from ta.momentum import tsi\n",
    "\n",
    "indicator_bb = BollingerBands(close = apple[\"Close\"], window = 20, window_dev = 1)\n",
    "\n",
    "apple['bb_bbm'] = indicator_bb.bollinger_mavg()\n",
    "apple['bb_bbh'] = indicator_bb.bollinger_hband()\n",
    "apple['bb_bbl'] = indicator_bb.bollinger_lband()\n",
    "\n",
    "apple['mfi'] = money_flow_index(high = apple.High, \n",
    "                                  low = apple.Low, \n",
    "                                  close = apple.Close, \n",
    "                                  volume = apple.Volume,\n",
    "                                  window = 20)\n",
    "apple['obv'] = on_balance_volume(close = apple.Close, \n",
    "                                   volume = apple.Volume)\n",
    "apple['rsi'] = rsi(close = apple.Close, window = 21)\n",
    "apple['return'] = apple_ret\n",
    "apple['vwap'] = volume_weighted_average_price(high = apple['High'],\n",
    "                                           low = apple['Low'],\n",
    "                                           close = apple['Close'],\n",
    "                                           volume = apple['Volume'],\n",
    "                                           window = 20)\n",
    "apple['tsi'] = tsi(close = apple['Close'],\n",
    "                            window_fast = 13,\n",
    "                            window_slow = 15)"
   ],
   "metadata": {
    "collapsed": false,
    "ExecuteTime": {
     "end_time": "2023-11-16T18:22:06.925575Z",
     "start_time": "2023-11-16T18:22:06.873688Z"
    }
   },
   "id": "b68431087d3039ad"
  },
  {
   "cell_type": "code",
   "execution_count": 3,
   "outputs": [],
   "source": [
    "apple.dropna(inplace = True)"
   ],
   "metadata": {
    "collapsed": false,
    "ExecuteTime": {
     "end_time": "2023-11-16T18:22:07.252437Z",
     "start_time": "2023-11-16T18:22:07.235303Z"
    }
   },
   "id": "c384c1b633f48d3b"
  },
  {
   "cell_type": "code",
   "execution_count": 4,
   "outputs": [
    {
     "data": {
      "text/plain": "                Open      High       Low     Close  Adj Close     Volume  \\\nDate                                                                       \n2000-02-10  1.007813  1.016741  0.982143  1.013393   0.859033  302982400   \n2000-02-11  1.014509  1.018973  0.966518  0.970982   0.823082  212251200   \n2000-02-14  0.976004  1.034598  0.969866  1.034040   0.876535  367539200   \n2000-02-15  1.029018  1.070871  1.028460  1.062500   0.900660  485744000   \n2000-02-16  1.051339  1.054688  1.001116  1.018973   0.863763  378246400   \n\n              bb_bbm    bb_bbh    bb_bbl        mfi         obv        rsi  \\\nDate                                                                         \n2000-02-10  0.956250  1.005885  0.906615  67.837827  2985819200  55.265652   \n2000-02-11  0.961607  1.006538  0.916676  63.388650  2773568000  50.920473   \n2000-02-14  0.968471  1.013457  0.923485  63.469843  3141107200  56.286120   \n2000-02-15  0.975195  1.023556  0.926835  63.800555  3626851200  58.439342   \n2000-02-16  0.978571  1.027510  0.929633  59.045962  3248604800  54.155579   \n\n              return      vwap       tsi  \nDate                                      \n2000-02-10  0.007740  0.958161 -2.088898  \n2000-02-11 -0.042751  0.969293 -2.453919  \n2000-02-14  0.062921  0.973696  0.351555  \n2000-02-15  0.027151  0.979953  3.858724  \n2000-02-16 -0.041829  0.983656  4.334626  ",
      "text/html": "<div>\n<style scoped>\n    .dataframe tbody tr th:only-of-type {\n        vertical-align: middle;\n    }\n\n    .dataframe tbody tr th {\n        vertical-align: top;\n    }\n\n    .dataframe thead th {\n        text-align: right;\n    }\n</style>\n<table border=\"1\" class=\"dataframe\">\n  <thead>\n    <tr style=\"text-align: right;\">\n      <th></th>\n      <th>Open</th>\n      <th>High</th>\n      <th>Low</th>\n      <th>Close</th>\n      <th>Adj Close</th>\n      <th>Volume</th>\n      <th>bb_bbm</th>\n      <th>bb_bbh</th>\n      <th>bb_bbl</th>\n      <th>mfi</th>\n      <th>obv</th>\n      <th>rsi</th>\n      <th>return</th>\n      <th>vwap</th>\n      <th>tsi</th>\n    </tr>\n    <tr>\n      <th>Date</th>\n      <th></th>\n      <th></th>\n      <th></th>\n      <th></th>\n      <th></th>\n      <th></th>\n      <th></th>\n      <th></th>\n      <th></th>\n      <th></th>\n      <th></th>\n      <th></th>\n      <th></th>\n      <th></th>\n      <th></th>\n    </tr>\n  </thead>\n  <tbody>\n    <tr>\n      <th>2000-02-10</th>\n      <td>1.007813</td>\n      <td>1.016741</td>\n      <td>0.982143</td>\n      <td>1.013393</td>\n      <td>0.859033</td>\n      <td>302982400</td>\n      <td>0.956250</td>\n      <td>1.005885</td>\n      <td>0.906615</td>\n      <td>67.837827</td>\n      <td>2985819200</td>\n      <td>55.265652</td>\n      <td>0.007740</td>\n      <td>0.958161</td>\n      <td>-2.088898</td>\n    </tr>\n    <tr>\n      <th>2000-02-11</th>\n      <td>1.014509</td>\n      <td>1.018973</td>\n      <td>0.966518</td>\n      <td>0.970982</td>\n      <td>0.823082</td>\n      <td>212251200</td>\n      <td>0.961607</td>\n      <td>1.006538</td>\n      <td>0.916676</td>\n      <td>63.388650</td>\n      <td>2773568000</td>\n      <td>50.920473</td>\n      <td>-0.042751</td>\n      <td>0.969293</td>\n      <td>-2.453919</td>\n    </tr>\n    <tr>\n      <th>2000-02-14</th>\n      <td>0.976004</td>\n      <td>1.034598</td>\n      <td>0.969866</td>\n      <td>1.034040</td>\n      <td>0.876535</td>\n      <td>367539200</td>\n      <td>0.968471</td>\n      <td>1.013457</td>\n      <td>0.923485</td>\n      <td>63.469843</td>\n      <td>3141107200</td>\n      <td>56.286120</td>\n      <td>0.062921</td>\n      <td>0.973696</td>\n      <td>0.351555</td>\n    </tr>\n    <tr>\n      <th>2000-02-15</th>\n      <td>1.029018</td>\n      <td>1.070871</td>\n      <td>1.028460</td>\n      <td>1.062500</td>\n      <td>0.900660</td>\n      <td>485744000</td>\n      <td>0.975195</td>\n      <td>1.023556</td>\n      <td>0.926835</td>\n      <td>63.800555</td>\n      <td>3626851200</td>\n      <td>58.439342</td>\n      <td>0.027151</td>\n      <td>0.979953</td>\n      <td>3.858724</td>\n    </tr>\n    <tr>\n      <th>2000-02-16</th>\n      <td>1.051339</td>\n      <td>1.054688</td>\n      <td>1.001116</td>\n      <td>1.018973</td>\n      <td>0.863763</td>\n      <td>378246400</td>\n      <td>0.978571</td>\n      <td>1.027510</td>\n      <td>0.929633</td>\n      <td>59.045962</td>\n      <td>3248604800</td>\n      <td>54.155579</td>\n      <td>-0.041829</td>\n      <td>0.983656</td>\n      <td>4.334626</td>\n    </tr>\n  </tbody>\n</table>\n</div>"
     },
     "execution_count": 4,
     "metadata": {},
     "output_type": "execute_result"
    }
   ],
   "source": [
    "apple.head()"
   ],
   "metadata": {
    "collapsed": false,
    "ExecuteTime": {
     "end_time": "2023-11-16T18:22:07.491348Z",
     "start_time": "2023-11-16T18:22:07.486322Z"
    }
   },
   "id": "6c55782f672be0c"
  },
  {
   "cell_type": "markdown",
   "source": [
    "#### 3. Primary Modeling\n",
    "\n",
    "Primary Model에서는 방향만을 추정한다. 여기서는 Bollinger Band전략을 사용하여 가격이 상승할 것인지, 하락할 것인지 labeling을 하자. 여기서 상승은 1, 하락은 -1, 횡보상태는 0으로 labeling한다"
   ],
   "metadata": {
    "collapsed": false
   },
   "id": "d39fb861092e781c"
  },
  {
   "cell_type": "code",
   "execution_count": 5,
   "outputs": [
    {
     "data": {
      "text/plain": "                Open      High       Low     Close  Adj Close     Volume  \\\nDate                                                                       \n2000-02-10  1.007813  1.016741  0.982143  1.013393   0.859033  302982400   \n2000-02-11  1.014509  1.018973  0.966518  0.970982   0.823082  212251200   \n2000-02-14  0.976004  1.034598  0.969866  1.034040   0.876535  367539200   \n2000-02-15  1.029018  1.070871  1.028460  1.062500   0.900660  485744000   \n2000-02-16  1.051339  1.054688  1.001116  1.018973   0.863763  378246400   \n\n              bb_bbm    bb_bbh    bb_bbl        mfi         obv        rsi  \\\nDate                                                                         \n2000-02-10  0.956250  1.005885  0.906615  67.837827  2985819200  55.265652   \n2000-02-11  0.961607  1.006538  0.916676  63.388650  2773568000  50.920473   \n2000-02-14  0.968471  1.013457  0.923485  63.469843  3141107200  56.286120   \n2000-02-15  0.975195  1.023556  0.926835  63.800555  3626851200  58.439342   \n2000-02-16  0.978571  1.027510  0.929633  59.045962  3248604800  54.155579   \n\n              return      vwap       tsi  label  \nDate                                             \n2000-02-10  0.007740  0.958161 -2.088898      1  \n2000-02-11 -0.042751  0.969293 -2.453919      0  \n2000-02-14  0.062921  0.973696  0.351555      1  \n2000-02-15  0.027151  0.979953  3.858724      1  \n2000-02-16 -0.041829  0.983656  4.334626      0  ",
      "text/html": "<div>\n<style scoped>\n    .dataframe tbody tr th:only-of-type {\n        vertical-align: middle;\n    }\n\n    .dataframe tbody tr th {\n        vertical-align: top;\n    }\n\n    .dataframe thead th {\n        text-align: right;\n    }\n</style>\n<table border=\"1\" class=\"dataframe\">\n  <thead>\n    <tr style=\"text-align: right;\">\n      <th></th>\n      <th>Open</th>\n      <th>High</th>\n      <th>Low</th>\n      <th>Close</th>\n      <th>Adj Close</th>\n      <th>Volume</th>\n      <th>bb_bbm</th>\n      <th>bb_bbh</th>\n      <th>bb_bbl</th>\n      <th>mfi</th>\n      <th>obv</th>\n      <th>rsi</th>\n      <th>return</th>\n      <th>vwap</th>\n      <th>tsi</th>\n      <th>label</th>\n    </tr>\n    <tr>\n      <th>Date</th>\n      <th></th>\n      <th></th>\n      <th></th>\n      <th></th>\n      <th></th>\n      <th></th>\n      <th></th>\n      <th></th>\n      <th></th>\n      <th></th>\n      <th></th>\n      <th></th>\n      <th></th>\n      <th></th>\n      <th></th>\n      <th></th>\n    </tr>\n  </thead>\n  <tbody>\n    <tr>\n      <th>2000-02-10</th>\n      <td>1.007813</td>\n      <td>1.016741</td>\n      <td>0.982143</td>\n      <td>1.013393</td>\n      <td>0.859033</td>\n      <td>302982400</td>\n      <td>0.956250</td>\n      <td>1.005885</td>\n      <td>0.906615</td>\n      <td>67.837827</td>\n      <td>2985819200</td>\n      <td>55.265652</td>\n      <td>0.007740</td>\n      <td>0.958161</td>\n      <td>-2.088898</td>\n      <td>1</td>\n    </tr>\n    <tr>\n      <th>2000-02-11</th>\n      <td>1.014509</td>\n      <td>1.018973</td>\n      <td>0.966518</td>\n      <td>0.970982</td>\n      <td>0.823082</td>\n      <td>212251200</td>\n      <td>0.961607</td>\n      <td>1.006538</td>\n      <td>0.916676</td>\n      <td>63.388650</td>\n      <td>2773568000</td>\n      <td>50.920473</td>\n      <td>-0.042751</td>\n      <td>0.969293</td>\n      <td>-2.453919</td>\n      <td>0</td>\n    </tr>\n    <tr>\n      <th>2000-02-14</th>\n      <td>0.976004</td>\n      <td>1.034598</td>\n      <td>0.969866</td>\n      <td>1.034040</td>\n      <td>0.876535</td>\n      <td>367539200</td>\n      <td>0.968471</td>\n      <td>1.013457</td>\n      <td>0.923485</td>\n      <td>63.469843</td>\n      <td>3141107200</td>\n      <td>56.286120</td>\n      <td>0.062921</td>\n      <td>0.973696</td>\n      <td>0.351555</td>\n      <td>1</td>\n    </tr>\n    <tr>\n      <th>2000-02-15</th>\n      <td>1.029018</td>\n      <td>1.070871</td>\n      <td>1.028460</td>\n      <td>1.062500</td>\n      <td>0.900660</td>\n      <td>485744000</td>\n      <td>0.975195</td>\n      <td>1.023556</td>\n      <td>0.926835</td>\n      <td>63.800555</td>\n      <td>3626851200</td>\n      <td>58.439342</td>\n      <td>0.027151</td>\n      <td>0.979953</td>\n      <td>3.858724</td>\n      <td>1</td>\n    </tr>\n    <tr>\n      <th>2000-02-16</th>\n      <td>1.051339</td>\n      <td>1.054688</td>\n      <td>1.001116</td>\n      <td>1.018973</td>\n      <td>0.863763</td>\n      <td>378246400</td>\n      <td>0.978571</td>\n      <td>1.027510</td>\n      <td>0.929633</td>\n      <td>59.045962</td>\n      <td>3248604800</td>\n      <td>54.155579</td>\n      <td>-0.041829</td>\n      <td>0.983656</td>\n      <td>4.334626</td>\n      <td>0</td>\n    </tr>\n  </tbody>\n</table>\n</div>"
     },
     "execution_count": 5,
     "metadata": {},
     "output_type": "execute_result"
    }
   ],
   "source": [
    "apple['label'] = 0\n",
    "apple.loc[(apple['Close'] > apple['bb_bbh']), 'label'] = 1\n",
    "apple.loc[(apple['Close'] < apple['bb_bbl']), 'label'] = -1\n",
    "apple.head()"
   ],
   "metadata": {
    "collapsed": false,
    "ExecuteTime": {
     "end_time": "2023-11-16T18:22:08.125445Z",
     "start_time": "2023-11-16T18:22:08.119603Z"
    }
   },
   "id": "b32a986fdd83d06b"
  },
  {
   "cell_type": "markdown",
   "source": [
    "#### 4. Meta Labeling\n",
    "\n",
    "Secondary Model은 Primary Model에서 나온 방향을 이용해 거래의 실행 여부만을 평가한다. 3개의 레이블[-1, 0, 1]을 이진 분류 모형[0, 1]으로 다시 labeling을 진행한다. 이 과정을 Meta Labeling이라고 한다"
   ],
   "metadata": {
    "collapsed": false
   },
   "id": "22420551b2061725"
  },
  {
   "cell_type": "code",
   "execution_count": 6,
   "outputs": [
    {
     "data": {
      "text/plain": "                Open      High       Low     Close  Adj Close     Volume  \\\nDate                                                                       \n2000-02-10  1.007813  1.016741  0.982143  1.013393   0.859033  302982400   \n2000-02-11  1.014509  1.018973  0.966518  0.970982   0.823082  212251200   \n2000-02-14  0.976004  1.034598  0.969866  1.034040   0.876535  367539200   \n2000-02-15  1.029018  1.070871  1.028460  1.062500   0.900660  485744000   \n2000-02-16  1.051339  1.054688  1.001116  1.018973   0.863763  378246400   \n\n              bb_bbm    bb_bbh    bb_bbl        mfi         obv        rsi  \\\nDate                                                                         \n2000-02-10  0.956250  1.005885  0.906615  67.837827  2985819200  55.265652   \n2000-02-11  0.961607  1.006538  0.916676  63.388650  2773568000  50.920473   \n2000-02-14  0.968471  1.013457  0.923485  63.469843  3141107200  56.286120   \n2000-02-15  0.975195  1.023556  0.926835  63.800555  3626851200  58.439342   \n2000-02-16  0.978571  1.027510  0.929633  59.045962  3248604800  54.155579   \n\n              return      vwap       tsi  label  meta_label  \nDate                                                         \n2000-02-10  0.007740  0.958161 -2.088898      1           1  \n2000-02-11 -0.042751  0.969293 -2.453919      0           0  \n2000-02-14  0.062921  0.973696  0.351555      1           1  \n2000-02-15  0.027151  0.979953  3.858724      1           1  \n2000-02-16 -0.041829  0.983656  4.334626      0           0  ",
      "text/html": "<div>\n<style scoped>\n    .dataframe tbody tr th:only-of-type {\n        vertical-align: middle;\n    }\n\n    .dataframe tbody tr th {\n        vertical-align: top;\n    }\n\n    .dataframe thead th {\n        text-align: right;\n    }\n</style>\n<table border=\"1\" class=\"dataframe\">\n  <thead>\n    <tr style=\"text-align: right;\">\n      <th></th>\n      <th>Open</th>\n      <th>High</th>\n      <th>Low</th>\n      <th>Close</th>\n      <th>Adj Close</th>\n      <th>Volume</th>\n      <th>bb_bbm</th>\n      <th>bb_bbh</th>\n      <th>bb_bbl</th>\n      <th>mfi</th>\n      <th>obv</th>\n      <th>rsi</th>\n      <th>return</th>\n      <th>vwap</th>\n      <th>tsi</th>\n      <th>label</th>\n      <th>meta_label</th>\n    </tr>\n    <tr>\n      <th>Date</th>\n      <th></th>\n      <th></th>\n      <th></th>\n      <th></th>\n      <th></th>\n      <th></th>\n      <th></th>\n      <th></th>\n      <th></th>\n      <th></th>\n      <th></th>\n      <th></th>\n      <th></th>\n      <th></th>\n      <th></th>\n      <th></th>\n      <th></th>\n    </tr>\n  </thead>\n  <tbody>\n    <tr>\n      <th>2000-02-10</th>\n      <td>1.007813</td>\n      <td>1.016741</td>\n      <td>0.982143</td>\n      <td>1.013393</td>\n      <td>0.859033</td>\n      <td>302982400</td>\n      <td>0.956250</td>\n      <td>1.005885</td>\n      <td>0.906615</td>\n      <td>67.837827</td>\n      <td>2985819200</td>\n      <td>55.265652</td>\n      <td>0.007740</td>\n      <td>0.958161</td>\n      <td>-2.088898</td>\n      <td>1</td>\n      <td>1</td>\n    </tr>\n    <tr>\n      <th>2000-02-11</th>\n      <td>1.014509</td>\n      <td>1.018973</td>\n      <td>0.966518</td>\n      <td>0.970982</td>\n      <td>0.823082</td>\n      <td>212251200</td>\n      <td>0.961607</td>\n      <td>1.006538</td>\n      <td>0.916676</td>\n      <td>63.388650</td>\n      <td>2773568000</td>\n      <td>50.920473</td>\n      <td>-0.042751</td>\n      <td>0.969293</td>\n      <td>-2.453919</td>\n      <td>0</td>\n      <td>0</td>\n    </tr>\n    <tr>\n      <th>2000-02-14</th>\n      <td>0.976004</td>\n      <td>1.034598</td>\n      <td>0.969866</td>\n      <td>1.034040</td>\n      <td>0.876535</td>\n      <td>367539200</td>\n      <td>0.968471</td>\n      <td>1.013457</td>\n      <td>0.923485</td>\n      <td>63.469843</td>\n      <td>3141107200</td>\n      <td>56.286120</td>\n      <td>0.062921</td>\n      <td>0.973696</td>\n      <td>0.351555</td>\n      <td>1</td>\n      <td>1</td>\n    </tr>\n    <tr>\n      <th>2000-02-15</th>\n      <td>1.029018</td>\n      <td>1.070871</td>\n      <td>1.028460</td>\n      <td>1.062500</td>\n      <td>0.900660</td>\n      <td>485744000</td>\n      <td>0.975195</td>\n      <td>1.023556</td>\n      <td>0.926835</td>\n      <td>63.800555</td>\n      <td>3626851200</td>\n      <td>58.439342</td>\n      <td>0.027151</td>\n      <td>0.979953</td>\n      <td>3.858724</td>\n      <td>1</td>\n      <td>1</td>\n    </tr>\n    <tr>\n      <th>2000-02-16</th>\n      <td>1.051339</td>\n      <td>1.054688</td>\n      <td>1.001116</td>\n      <td>1.018973</td>\n      <td>0.863763</td>\n      <td>378246400</td>\n      <td>0.978571</td>\n      <td>1.027510</td>\n      <td>0.929633</td>\n      <td>59.045962</td>\n      <td>3248604800</td>\n      <td>54.155579</td>\n      <td>-0.041829</td>\n      <td>0.983656</td>\n      <td>4.334626</td>\n      <td>0</td>\n      <td>0</td>\n    </tr>\n  </tbody>\n</table>\n</div>"
     },
     "execution_count": 6,
     "metadata": {},
     "output_type": "execute_result"
    }
   ],
   "source": [
    "apple['meta_label'] = 0\n",
    "apple.loc[(apple['label'] == 1) | (apple['label'] == -1), 'meta_label'] = 1\n",
    "apple.head()"
   ],
   "metadata": {
    "collapsed": false,
    "ExecuteTime": {
     "end_time": "2023-11-16T18:22:09.357937Z",
     "start_time": "2023-11-16T18:22:09.352733Z"
    }
   },
   "id": "b5b40555d1bd2189"
  },
  {
   "cell_type": "markdown",
   "source": [
    "#### 5. Secondary Modeling\n",
    "\n",
    "Meta Label을 target으로 지정하고, 2번에서 지정한 technical feature들을 이용하여 이진 분류 모형을 수행하라. 즉, feature matrix에는 아래와 같은 데이터들이 들어간다\n",
    "\n",
    "- money flow index\n",
    "- on balance volume\n",
    "- RSI\n",
    "- TSI\n",
    "- VWAP\n",
    "- log return\n",
    "- meta label (target)\n",
    "\n",
    "여기서, Bollinger Band 관련 feature들은 labeling에 사용되었으므로 고려하지 않는다\n",
    "\n",
    "모형의 검증을 위해 test data는 0.2로 지정하고 shuffle = False로 지정한다"
   ],
   "metadata": {
    "collapsed": false
   },
   "id": "28c152d339cfe6b5"
  },
  {
   "cell_type": "code",
   "execution_count": 7,
   "outputs": [
    {
     "data": {
      "text/plain": "                  mfi         obv        rsi    return      vwap       tsi  \\\nDate                                                                         \n2000-02-10  67.837827  2985819200  55.265652  0.007740  0.958161 -2.088898   \n2000-02-11  63.388650  2773568000  50.920473 -0.042751  0.969293 -2.453919   \n2000-02-14  63.469843  3141107200  56.286120  0.062921  0.973696  0.351555   \n2000-02-15  63.800555  3626851200  58.439342  0.027151  0.979953  3.858724   \n2000-02-16  59.045962  3248604800  54.155579 -0.041829  0.983656  4.334626   \n\n            meta_label  \nDate                    \n2000-02-10           1  \n2000-02-11           0  \n2000-02-14           1  \n2000-02-15           1  \n2000-02-16           0  ",
      "text/html": "<div>\n<style scoped>\n    .dataframe tbody tr th:only-of-type {\n        vertical-align: middle;\n    }\n\n    .dataframe tbody tr th {\n        vertical-align: top;\n    }\n\n    .dataframe thead th {\n        text-align: right;\n    }\n</style>\n<table border=\"1\" class=\"dataframe\">\n  <thead>\n    <tr style=\"text-align: right;\">\n      <th></th>\n      <th>mfi</th>\n      <th>obv</th>\n      <th>rsi</th>\n      <th>return</th>\n      <th>vwap</th>\n      <th>tsi</th>\n      <th>meta_label</th>\n    </tr>\n    <tr>\n      <th>Date</th>\n      <th></th>\n      <th></th>\n      <th></th>\n      <th></th>\n      <th></th>\n      <th></th>\n      <th></th>\n    </tr>\n  </thead>\n  <tbody>\n    <tr>\n      <th>2000-02-10</th>\n      <td>67.837827</td>\n      <td>2985819200</td>\n      <td>55.265652</td>\n      <td>0.007740</td>\n      <td>0.958161</td>\n      <td>-2.088898</td>\n      <td>1</td>\n    </tr>\n    <tr>\n      <th>2000-02-11</th>\n      <td>63.388650</td>\n      <td>2773568000</td>\n      <td>50.920473</td>\n      <td>-0.042751</td>\n      <td>0.969293</td>\n      <td>-2.453919</td>\n      <td>0</td>\n    </tr>\n    <tr>\n      <th>2000-02-14</th>\n      <td>63.469843</td>\n      <td>3141107200</td>\n      <td>56.286120</td>\n      <td>0.062921</td>\n      <td>0.973696</td>\n      <td>0.351555</td>\n      <td>1</td>\n    </tr>\n    <tr>\n      <th>2000-02-15</th>\n      <td>63.800555</td>\n      <td>3626851200</td>\n      <td>58.439342</td>\n      <td>0.027151</td>\n      <td>0.979953</td>\n      <td>3.858724</td>\n      <td>1</td>\n    </tr>\n    <tr>\n      <th>2000-02-16</th>\n      <td>59.045962</td>\n      <td>3248604800</td>\n      <td>54.155579</td>\n      <td>-0.041829</td>\n      <td>0.983656</td>\n      <td>4.334626</td>\n      <td>0</td>\n    </tr>\n  </tbody>\n</table>\n</div>"
     },
     "execution_count": 7,
     "metadata": {},
     "output_type": "execute_result"
    }
   ],
   "source": [
    "matrix = apple[['mfi','obv','rsi','return','vwap','tsi','meta_label']]\n",
    "matrix.head()"
   ],
   "metadata": {
    "collapsed": false,
    "ExecuteTime": {
     "end_time": "2023-11-16T18:22:10.750901Z",
     "start_time": "2023-11-16T18:22:10.743578Z"
    }
   },
   "id": "2565552b06d6dba3"
  },
  {
   "cell_type": "markdown",
   "source": [
    "**5.1 Logit Model**\n",
    "\n",
    "Secondary Model로 Logit Model을 사용하고 성능을 평가하라"
   ],
   "metadata": {
    "collapsed": false
   },
   "id": "6488752491be8ab0"
  },
  {
   "cell_type": "code",
   "execution_count": 8,
   "outputs": [
    {
     "name": "stdout",
     "output_type": "stream",
     "text": [
      "Optimization terminated successfully.\n",
      "         Current function value: 0.672789\n",
      "         Iterations 5\n",
      "                           Logit Regression Results                           \n",
      "==============================================================================\n",
      "Dep. Variable:             meta_label   No. Observations:                 4784\n",
      "Model:                          Logit   Df Residuals:                     4777\n",
      "Method:                           MLE   Df Model:                            6\n",
      "Date:                Fri, 17 Nov 2023   Pseudo R-squ.:                 0.01850\n",
      "Time:                        03:22:12   Log-Likelihood:                -3218.6\n",
      "converged:                       True   LL-Null:                       -3279.3\n",
      "Covariance Type:            nonrobust   LLR p-value:                 8.514e-24\n",
      "==============================================================================\n",
      "                 coef    std err          z      P>|z|      [0.025      0.975]\n",
      "------------------------------------------------------------------------------\n",
      "const         -2.3134      0.556     -4.165      0.000      -3.402      -1.225\n",
      "mfi            0.0012      0.004      0.313      0.754      -0.007       0.009\n",
      "obv         1.278e-12   1.03e-12      1.239      0.216   -7.44e-13     3.3e-12\n",
      "rsi            0.0470      0.010      4.782      0.000       0.028       0.066\n",
      "return        -2.7162      1.335     -2.035      0.042      -5.332      -0.100\n",
      "vwap          -0.0041      0.003     -1.374      0.170      -0.010       0.002\n",
      "tsi           -0.0083      0.005     -1.791      0.073      -0.017       0.001\n",
      "==============================================================================\n"
     ]
    }
   ],
   "source": [
    "import statsmodels.api as sm\n",
    "from sklearn.model_selection import train_test_split\n",
    "\n",
    "X = matrix.drop('meta_label', axis = 1)\n",
    "X = sm.add_constant(X)\n",
    "y = matrix['meta_label']\n",
    "\n",
    "X_train, X_test, y_train, y_test = train_test_split(X, y, test_size = 0.2, shuffle = False)\n",
    "logit_model = sm.Logit(y_train, X_train)\n",
    "\n",
    "result = logit_model.fit()\n",
    "print(result.summary())"
   ],
   "metadata": {
    "collapsed": false,
    "ExecuteTime": {
     "end_time": "2023-11-16T18:22:12.310570Z",
     "start_time": "2023-11-16T18:22:11.752138Z"
    }
   },
   "id": "aefdb6f6a2c0db3c"
  },
  {
   "cell_type": "code",
   "execution_count": 9,
   "outputs": [
    {
     "name": "stdout",
     "output_type": "stream",
     "text": [
      "              precision    recall  f1-score   support\n",
      "\n",
      "           0       0.47      0.81      0.59       445\n",
      "           1       0.80      0.45      0.57       751\n",
      "\n",
      "    accuracy                           0.58      1196\n",
      "   macro avg       0.63      0.63      0.58      1196\n",
      "weighted avg       0.68      0.58      0.58      1196\n"
     ]
    }
   ],
   "source": [
    "from sklearn.metrics import accuracy_score, classification_report, confusion_matrix\n",
    "y_pred_prob = result.predict(X_test)\n",
    "y_pred = (result.predict(X_test) > 0.5).astype(int)\n",
    "print(classification_report(y_test, y_pred))"
   ],
   "metadata": {
    "collapsed": false,
    "ExecuteTime": {
     "end_time": "2023-11-16T18:22:12.369837Z",
     "start_time": "2023-11-16T18:22:12.353716Z"
    }
   },
   "id": "b14a16242e67bde"
  },
  {
   "cell_type": "code",
   "execution_count": 10,
   "outputs": [
    {
     "data": {
      "text/plain": "<Figure size 300x300 with 1 Axes>",
      "image/png": "[encoded data removed]"
     },
     "metadata": {},
     "output_type": "display_data"
    }
   ],
   "source": [
    "import seaborn as sns\n",
    "import matplotlib.pyplot as plt\n",
    "cm = confusion_matrix(y_test, y_pred)\n",
    "plt.figure(figsize = (3, 3))\n",
    "sns.heatmap(cm, annot = True, fmt = 'd', cbar = False)\n",
    "plt.xlabel('Predicted')\n",
    "plt.ylabel('True')\n",
    "plt.title('Confusion Matrix', fontsize = 12, fontfamily = 'Serif')\n",
    "plt.show()"
   ],
   "metadata": {
    "collapsed": false,
    "ExecuteTime": {
     "end_time": "2023-11-16T18:22:13.106230Z",
     "start_time": "2023-11-16T18:22:13.039577Z"
    }
   },
   "id": "a66fb4a652a82bd7"
  },
  {
   "cell_type": "code",
   "execution_count": 11,
   "outputs": [
    {
     "data": {
      "text/plain": "<Figure size 600x400 with 1 Axes>",
      "image/png": "[encoded data removed]"
     },
     "metadata": {},
     "output_type": "display_data"
    }
   ],
   "source": [
    "import matplotlib.pyplot as plt\n",
    "from sklearn.metrics import roc_auc_score, classification_report, roc_curve\n",
    "from sklearn.metrics import auc\n",
    "\n",
    "y_pred_prob = result.predict(X_test)\n",
    "fpr, tpr, thresholds = roc_curve(y_test, y_pred_prob)\n",
    "roc_auc = auc(fpr, tpr)\n",
    "\n",
    "plt.figure(figsize = (6, 4))\n",
    "plt.plot(fpr, tpr, label = 'Logit Model (area = {:.2f})'.format(roc_auc), color = 'navy', alpha = 0.8)\n",
    "plt.plot([0, 1], [0, 1], 'k:')\n",
    "plt.grid(False)\n",
    "plt.xlabel('False Positive Rate')\n",
    "plt.ylabel('True Positive Rate')\n",
    "plt.title('ROC Curve with Logit Model', fontsize = 12, fontfamily = 'Serif')\n",
    "plt.legend()\n",
    "plt.show()"
   ],
   "metadata": {
    "collapsed": false,
    "ExecuteTime": {
     "end_time": "2023-11-16T18:22:14.220651Z",
     "start_time": "2023-11-16T18:22:14.089988Z"
    }
   },
   "id": "46ce73bc966100f2"
  },
  {
   "cell_type": "markdown",
   "source": [
    "**5.2 Support Vector Machine**\n",
    "\n",
    "Secondary Model로 SVM을 사용하고 성능을 평가하라. 여기서 kernel은 linear, C = 0.1로 지정한다"
   ],
   "metadata": {
    "collapsed": false
   },
   "id": "d209759822037eee"
  },
  {
   "cell_type": "code",
   "execution_count": null,
   "outputs": [],
   "source": [
    "from sklearn.svm import SVC\n",
    "\n",
    "X = matrix.drop('meta_label', axis = 1)\n",
    "y = matrix['meta_label']\n",
    "\n",
    "X_train, X_test, y_train, y_test = train_test_split(X, y, test_size = 0.2, shuffle = False)\n",
    "\n",
    "svc = SVC(kernel = 'linear',\n",
    "          C = 0.1, \n",
    "          probability = True,\n",
    "          random_state = 42)\n",
    "svc.fit(X_train, y_train)"
   ],
   "metadata": {
    "collapsed": false,
    "ExecuteTime": {
     "start_time": "2023-11-16T15:58:33.767399Z"
    }
   },
   "id": "a68666d776fd8229"
  },
  {
   "cell_type": "code",
   "execution_count": null,
   "outputs": [],
   "source": [
    "y_prob = svc.predict_proba(X_test)[:, 1]\n",
    "y_pred = svc.predict(X_test)\n",
    "fpr, tpr, thresholds = roc_curve(y_test, y_prob)\n",
    "accuracy = accuracy_score(y_test, y_pred)\n",
    "print(f'Accuracy: {accuracy}')"
   ],
   "metadata": {
    "collapsed": false
   },
   "id": "db781c65ff3411f"
  },
  {
   "cell_type": "code",
   "execution_count": null,
   "outputs": [],
   "source": [
    "print(classification_report(y_test, y_pred))"
   ],
   "metadata": {
    "collapsed": false
   },
   "id": "590eecd4f4cbb873"
  },
  {
   "cell_type": "code",
   "execution_count": null,
   "outputs": [],
   "source": [
    "cm = confusion_matrix(y_test, y_pred)\n",
    "plt.figure(figsize = (3, 3))\n",
    "sns.heatmap(cm, annot = True, fmt = 'd', cbar = False)\n",
    "plt.xlabel('Predicted')\n",
    "plt.ylabel('True')\n",
    "plt.title('Confusion Matrix', fontsize = 12, fontfamily = 'Serif')\n",
    "plt.show()"
   ],
   "metadata": {
    "collapsed": false
   },
   "id": "6eafd540be902f28"
  },
  {
   "cell_type": "code",
   "execution_count": null,
   "outputs": [],
   "source": [
    "y_prob = svc.predict_proba(X_test)[:, 1]\n",
    "\n",
    "fpr, tpr, thresholds = roc_curve(y_test, y_prob)\n",
    "roc_auc = auc(fpr, tpr)\n",
    "\n",
    "plt.figure(figsize = (6, 4))\n",
    "plt.plot(fpr, tpr, label = 'SVM (area = {:.2f})'.format(roc_auc), color = 'navy', alpha = 0.8)\n",
    "plt.plot([0, 1], [0, 1], 'k:')\n",
    "plt.xlabel('False Positive Rate')\n",
    "plt.ylabel('True Positive Rate')\n",
    "plt.title('ROC Curve with Support Vector Machine', fontsize = 12, fontfamily = 'Serif')\n",
    "plt.grid(False)\n",
    "plt.legend()\n",
    "plt.show()"
   ],
   "metadata": {
    "collapsed": false
   },
   "id": "a5ec087fdfe7a915"
  },
  {
   "cell_type": "markdown",
   "source": [
    "**5.3 Decision Tree Classification**\n",
    "\n",
    "Secondary Model로 Decision Tree를 사용하고 성능을 평가하라. 여기서 `criterion = 'entropy'`를 지정한다"
   ],
   "metadata": {
    "collapsed": false
   },
   "id": "4753803021af5390"
  },
  {
   "cell_type": "code",
   "execution_count": 12,
   "outputs": [
    {
     "data": {
      "text/plain": "DecisionTreeClassifier(criterion='entropy', random_state=42)",
      "text/html": "<style>#sk-container-id-1 {color: black;}#sk-container-id-1 pre{padding: 0;}#sk-container-id-1 div.sk-toggleable {background-color: white;}#sk-container-id-1 label.sk-toggleable__label {cursor: pointer;display: block;width: 100%;margin-bottom: 0;padding: 0.3em;box-sizing: border-box;text-align: center;}#sk-container-id-1 label.sk-toggleable__label-arrow:before {content: \"▸\";float: left;margin-right: 0.25em;color: #696969;}#sk-container-id-1 label.sk-toggleable__label-arrow:hover:before {color: black;}#sk-container-id-1 div.sk-estimator:hover label.sk-toggleable__label-arrow:before {color: black;}#sk-container-id-1 div.sk-toggleable__content {max-height: 0;max-width: 0;overflow: hidden;text-align: left;background-color: #f0f8ff;}#sk-container-id-1 div.sk-toggleable__content pre {margin: 0.2em;color: black;border-radius: 0.25em;background-color: #f0f8ff;}#sk-container-id-1 input.sk-toggleable__control:checked~div.sk-toggleable__content {max-height: 200px;max-width: 100%;overflow: auto;}#sk-container-id-1 input.sk-toggleable__control:checked~label.sk-toggleable__label-arrow:before {content: \"▾\";}#sk-container-id-1 div.sk-estimator input.sk-toggleable__control:checked~label.sk-toggleable__label {background-color: #d4ebff;}#sk-container-id-1 div.sk-label input.sk-toggleable__control:checked~label.sk-toggleable__label {background-color: #d4ebff;}#sk-container-id-1 input.sk-hidden--visually {border: 0;clip: rect(1px 1px 1px 1px);clip: rect(1px, 1px, 1px, 1px);height: 1px;margin: -1px;overflow: hidden;padding: 0;position: absolute;width: 1px;}#sk-container-id-1 div.sk-estimator {font-family: monospace;background-color: #f0f8ff;border: 1px dotted black;border-radius: 0.25em;box-sizing: border-box;margin-bottom: 0.5em;}#sk-container-id-1 div.sk-estimator:hover {background-color: #d4ebff;}#sk-container-id-1 div.sk-parallel-item::after {content: \"\";width: 100%;border-bottom: 1px solid gray;flex-grow: 1;}#sk-container-id-1 div.sk-label:hover label.sk-toggleable__label {background-color: #d4ebff;}#sk-container-id-1 div.sk-serial::before {content: \"\";position: absolute;border-left: 1px solid gray;box-sizing: border-box;top: 0;bottom: 0;left: 50%;z-index: 0;}#sk-container-id-1 div.sk-serial {display: flex;flex-direction: column;align-items: center;background-color: white;padding-right: 0.2em;padding-left: 0.2em;position: relative;}#sk-container-id-1 div.sk-item {position: relative;z-index: 1;}#sk-container-id-1 div.sk-parallel {display: flex;align-items: stretch;justify-content: center;background-color: white;position: relative;}#sk-container-id-1 div.sk-item::before, #sk-container-id-1 div.sk-parallel-item::before {content: \"\";position: absolute;border-left: 1px solid gray;box-sizing: border-box;top: 0;bottom: 0;left: 50%;z-index: -1;}#sk-container-id-1 div.sk-parallel-item {display: flex;flex-direction: column;z-index: 1;position: relative;background-color: white;}#sk-container-id-1 div.sk-parallel-item:first-child::after {align-self: flex-end;width: 50%;}#sk-container-id-1 div.sk-parallel-item:last-child::after {align-self: flex-start;width: 50%;}#sk-container-id-1 div.sk-parallel-item:only-child::after {width: 0;}#sk-container-id-1 div.sk-dashed-wrapped {border: 1px dashed gray;margin: 0 0.4em 0.5em 0.4em;box-sizing: border-box;padding-bottom: 0.4em;background-color: white;}#sk-container-id-1 div.sk-label label {font-family: monospace;font-weight: bold;display: inline-block;line-height: 1.2em;}#sk-container-id-1 div.sk-label-container {text-align: center;}#sk-container-id-1 div.sk-container {/* jupyter's `normalize.less` sets `[hidden] { display: none; }` but bootstrap.min.css set `[hidden] { display: none !important; }` so we also need the `!important` here to be able to override the default hidden behavior on the sphinx rendered scikit-learn.org. See: https://github.com/scikit-learn/scikit-learn/issues/21755 */display: inline-block !important;position: relative;}#sk-container-id-1 div.sk-text-repr-fallback {display: none;}</style><div id=\"sk-container-id-1\" class=\"sk-top-container\"><div class=\"sk-text-repr-fallback\"><pre>DecisionTreeClassifier(criterion=&#x27;entropy&#x27;, random_state=42)</pre><b>In a Jupyter environment, please rerun this cell to show the HTML representation or trust the notebook. <br />On GitHub, the HTML representation is unable to render, please try loading this page with nbviewer.org.</b></div><div class=\"sk-container\" hidden><div class=\"sk-item\"><div class=\"sk-estimator sk-toggleable\"><input class=\"sk-toggleable__control sk-hidden--visually\" id=\"sk-estimator-id-1\" type=\"checkbox\" checked><label for=\"sk-estimator-id-1\" class=\"sk-toggleable__label sk-toggleable__label-arrow\">DecisionTreeClassifier</label><div class=\"sk-toggleable__content\"><pre>DecisionTreeClassifier(criterion=&#x27;entropy&#x27;, random_state=42)</pre></div></div></div></div></div>"
     },
     "execution_count": 12,
     "metadata": {},
     "output_type": "execute_result"
    }
   ],
   "source": [
    "from sklearn.tree import DecisionTreeClassifier\n",
    "\n",
    "tree = DecisionTreeClassifier(criterion = 'entropy',\n",
    "                              \n",
    "                              random_state = 42)\n",
    "tree.fit(X_train, y_train)"
   ],
   "metadata": {
    "collapsed": false,
    "ExecuteTime": {
     "end_time": "2023-11-16T18:22:17.608741Z",
     "start_time": "2023-11-16T18:22:17.425648Z"
    }
   },
   "id": "ef364b68ddb928ee"
  },
  {
   "cell_type": "code",
   "execution_count": 13,
   "outputs": [
    {
     "name": "stdout",
     "output_type": "stream",
     "text": [
      "Accuracy: 0.6137123745819398\n"
     ]
    }
   ],
   "source": [
    "y_prob = tree.predict_proba(X_test)[:, 1]\n",
    "y_pred = tree.predict(X_test)\n",
    "fpr, tpr, thresholds = roc_curve(y_test, y_prob)\n",
    "accuracy = accuracy_score(y_test, y_pred)\n",
    "print(f'Accuracy: {accuracy}')"
   ],
   "metadata": {
    "collapsed": false,
    "ExecuteTime": {
     "end_time": "2023-11-16T18:22:17.800075Z",
     "start_time": "2023-11-16T18:22:17.792769Z"
    }
   },
   "id": "484c2c8a91b70f8f"
  },
  {
   "cell_type": "code",
   "execution_count": 14,
   "outputs": [
    {
     "name": "stdout",
     "output_type": "stream",
     "text": [
      "              precision    recall  f1-score   support\n",
      "\n",
      "           0       0.48      0.44      0.46       445\n",
      "           1       0.68      0.72      0.70       751\n",
      "\n",
      "    accuracy                           0.61      1196\n",
      "   macro avg       0.58      0.58      0.58      1196\n",
      "weighted avg       0.61      0.61      0.61      1196\n"
     ]
    }
   ],
   "source": [
    "print(classification_report(y_test, y_pred))"
   ],
   "metadata": {
    "collapsed": false,
    "ExecuteTime": {
     "end_time": "2023-11-16T18:22:18.194603Z",
     "start_time": "2023-11-16T18:22:18.185980Z"
    }
   },
   "id": "fd6de2870f10cca3"
  },
  {
   "cell_type": "code",
   "execution_count": 15,
   "outputs": [
    {
     "data": {
      "text/plain": "<Figure size 300x300 with 1 Axes>",
      "image/png": "[encoded data removed]"
     },
     "metadata": {},
     "output_type": "display_data"
    }
   ],
   "source": [
    "cm = confusion_matrix(y_test, y_pred)\n",
    "plt.figure(figsize = (3, 3))\n",
    "sns.heatmap(cm, annot = True, fmt = 'd', cbar = False)\n",
    "plt.xlabel('Predicted')\n",
    "plt.ylabel('True')\n",
    "plt.title('Confusion Matrix', fontsize = 12, fontfamily = 'Serif')\n",
    "plt.show()"
   ],
   "metadata": {
    "collapsed": false,
    "ExecuteTime": {
     "end_time": "2023-11-16T18:22:19.281231Z",
     "start_time": "2023-11-16T18:22:19.227171Z"
    }
   },
   "id": "eeca9404e058fe8b"
  },
  {
   "cell_type": "code",
   "execution_count": 16,
   "outputs": [
    {
     "data": {
      "text/plain": "<Figure size 600x400 with 1 Axes>",
      "image/png": "[encoded data removed]"
     },
     "metadata": {},
     "output_type": "display_data"
    }
   ],
   "source": [
    "y_prob = tree.predict_proba(X_test)[:, 1]\n",
    "\n",
    "fpr, tpr, thresholds = roc_curve(y_test, y_prob)\n",
    "roc_auc = auc(fpr, tpr)\n",
    "\n",
    "plt.figure(figsize = (6, 4))\n",
    "plt.plot(fpr, tpr, label = 'Decision Tree (area = {:.2f})'.format(roc_auc), color = 'green', alpha = 0.8)\n",
    "plt.plot([0, 1], [0, 1], 'k:')\n",
    "plt.xlabel('False Positive Rate')\n",
    "plt.ylabel('True Positive Rate')\n",
    "plt.title('ROC Curve with Decision Tree', fontsize = 12, fontfamily = 'Serif')\n",
    "plt.grid(False)\n",
    "plt.legend()\n",
    "plt.show()"
   ],
   "metadata": {
    "collapsed": false,
    "ExecuteTime": {
     "end_time": "2023-11-16T18:22:20.053378Z",
     "start_time": "2023-11-16T18:22:19.959289Z"
    }
   },
   "id": "dbfed9ec159439ae"
  },
  {
   "cell_type": "markdown",
   "source": [
    "#### 6. 모형 성능 평가\n",
    "\n",
    "Meta Modeling을 비롯하여 technical feature들은 많은 연구가 이뤄지고 있다. 이를 기반으로 Meta labeling을 모형화 할 때, 가장 적합한 Machinie Learning 모형은 무엇인가? 여기에서 투자를 집행하는 label이 1인 점에 주목해야 한다 (실제 투자 기회를 최대한 많이 잡아내는 것이 중요한다)\n",
    "\n",
    "Machine Learning의 강점과 한계에는 어떤 것이 있을까?"
   ],
   "metadata": {
    "collapsed": false
   },
   "id": "f19e82dd35a99c92"
  },
  {
   "cell_type": "code",
   "execution_count": null,
   "outputs": [],
   "source": [],
   "metadata": {
    "collapsed": false
   },
   "id": "f4ea8d571fc97297"
  }
 ],
 "metadata": {
  "kernelspec": {
   "display_name": "Python 3",
   "language": "python",
   "name": "python3"
  },
  "language_info": {
   "codemirror_mode": {
    "name": "ipython",
    "version": 2
   },
   "file_extension": ".py",
   "mimetype": "text/x-python",
   "name": "python",
   "nbconvert_exporter": "python",
   "pygments_lexer": "ipython2",
   "version": "2.7.6"
  }
 },
 "nbformat": 4,
 "nbformat_minor": 5
}
