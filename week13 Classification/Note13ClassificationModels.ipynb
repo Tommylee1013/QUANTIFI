{
 "cells": [
  {
   "cell_type": "markdown",
   "source": [
    "### Classification Models\n",
    "\n",
    "Machine Learning에서 주된 주제는 분류 모형이다. Logit, Probit 모형에 머물던 분류 모형은 Machine Learning 알고리즘 등장으로 비약한 발전을 이뤘다. Regression Model과 마찬가지로 Classification Model 또한 크게 SVM, Tree Algorithm으로 나뉜다. 여기에 Naive Bayes 계열 모형이 추가되어 총 3개로 나뉜다고 보면 된다"
   ],
   "metadata": {
    "collapsed": false
   },
   "id": "366d3b4878d2a474"
  },
  {
   "cell_type": "markdown",
   "source": [
    "#### 1. Logit / Probit"
   ],
   "metadata": {
    "collapsed": false
   },
   "id": "5765eb1137b53973"
  },
  {
   "cell_type": "markdown",
   "source": [
    "#### 2. Naive Bayes"
   ],
   "metadata": {
    "collapsed": false
   },
   "id": "6e7484b0bda9c71"
  },
  {
   "cell_type": "code",
   "execution_count": null,
   "id": "initial_id",
   "metadata": {
    "collapsed": true
   },
   "outputs": [],
   "source": []
  },
  {
   "cell_type": "markdown",
   "source": [
    "#### 3. Support Vector Machine"
   ],
   "metadata": {
    "collapsed": false
   },
   "id": "124523a1a66e4b51"
  },
  {
   "cell_type": "code",
   "execution_count": null,
   "outputs": [],
   "source": [],
   "metadata": {
    "collapsed": false
   },
   "id": "3a32817d88674d40"
  },
  {
   "cell_type": "markdown",
   "source": [
    "#### 4. Decision Tree"
   ],
   "metadata": {
    "collapsed": false
   },
   "id": "30d99a694681a4c0"
  },
  {
   "cell_type": "code",
   "execution_count": null,
   "outputs": [],
   "source": [],
   "metadata": {
    "collapsed": false
   },
   "id": "97819f5fe0a55681"
  }
 ],
 "metadata": {
  "kernelspec": {
   "display_name": "Python 3",
   "language": "python",
   "name": "python3"
  },
  "language_info": {
   "codemirror_mode": {
    "name": "ipython",
    "version": 2
   },
   "file_extension": ".py",
   "mimetype": "text/x-python",
   "name": "python",
   "nbconvert_exporter": "python",
   "pygments_lexer": "ipython2",
   "version": "2.7.6"
  }
 },
 "nbformat": 4,
 "nbformat_minor": 5
}
