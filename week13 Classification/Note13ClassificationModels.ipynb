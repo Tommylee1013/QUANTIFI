{
 "cells": [
  {
   "cell_type": "markdown",
   "source": [
    "### Classification Models\n",
    "\n",
    "Machine Learning에서 주된 주제는 분류 모형이다. Logit, Probit 모형에 머물던 분류 모형은 Machine Learning 알고리즘 등장으로 비약한 발전을 이뤘다. Regression Model과 마찬가지로 Classification Model 또한 크게 SVM, Tree Algorithm으로 나뉜다. 여기에 Naive Bayes 계열 모형이 추가되어 총 3개로 나뉜다고 보면 된다"
   ],
   "metadata": {
    "collapsed": false
   },
   "id": "366d3b4878d2a474"
  },
  {
   "cell_type": "markdown",
   "source": [
    "#### 1. Logit / Probit\n",
    "\n",
    "**1.1 Logit Model**\n",
    "\n",
    "1958년 영국의 통계학자 Cox가 제안한 확률 모형으로써, 독립변수의 선형 결합을 이용하여 사건의 **발생 가능성**을 예측하는 데 사용되는 통계 기법이다. 독립 변수의 선형 결합으로 종속변수를 설명하는 관점에서는 선형 회귀 분석과 유사하지만, 종속변수가 범주형 데이터를 대상으로 한다는 점에서 분류 모형이라고 할 수 있다\n",
    "\n",
    "Logit Model은 종속변수 $Y_i$가 1의 값을 갖는 확률 $p_i$를 아래와 같이 가정한다\n",
    "\n",
    "$$p_i = E(Y_i) = \\frac{1}{1+e^{-\\mathbf{\\beta X_i}}}$$\n",
    "\n",
    "이진 분류 모형의 경우 아래와 같이 분류를 생각해볼 수 있다\n",
    "\n",
    "$$p(Y_i = 1) = p_i = \\frac{1}{1+e^{-\\mathbf{\\beta X_i}}} = \\frac{e^{\\mathbf{\\beta X_i}}}{1+e^{\\mathbf{\\beta X_i}}$$\n",
    "$$p(Y_i = 0) = 1 - p_i = \\frac{1e^{-\\mathbf{\\beta X_i}}}{1+e^{-\\mathbf{\\beta X_i}}} = \\frac{1}{1+e^{\\mathbf{\\beta X_i}}$$\n",
    "\n",
    "추정된 $\\hat{p_i}$는 각각 1인 확률과 0인 확률을 추정한다. 여기서 추정된 확률이 0.5보다 크면 1을, 0.5보다 작으면 0으로 처리하는 분류 모형을 고려할 수 있다\n",
    "\n",
    "odds ratio는 어떤 사건이 일어날 확률을 사건이 일어나지 않을 확률로 나눈 것으로, 아래와 같이 나타낼 수 있다\n",
    "\n",
    "$$\\mathrm{odds} = \\frac{p_i}{1-p_i} = e^{\\mathbf{\\beta X_i}}$$\n",
    "\n",
    "odds ratio는 상대위험도의 척도로써 다양한 곳에서 사용되지 알아두면 좋다\n"
   ],
   "metadata": {
    "collapsed": false
   },
   "id": "5765eb1137b53973"
  },
  {
   "cell_type": "markdown",
   "source": [
    "**1.2 Probit Model**\n",
    "\n",
    "Probit Model은 종속변수 $Y_i$기 1의 값을 갖는 확률이 다음과 같이 계산되는 모형이다\n",
    "\n",
    "$$p_i = \\int_{- \\infty}^{\\mathbf{\\beta X_i}} \\frac{1}{\\sqrt{2\\pi}} e^{-0.5\\epsilon^2} d \\epsilon \\equiv \\Phi (\\mathbf{\\beta X_i})$$\n",
    "\n",
    "여기서 $\\Phi (\\mathbf{\\beta X_i})$는 표준정규분포의 누정분포함수를 나타내며, Logit Model과 같이 0과 1 사이의 값을 가지는 확률을 추정한다\n",
    "\n",
    "한편, 모형의 parameter는 일반적인 선형모델처럼 바로 구할 수는 없으며, Maximum Likelihood Extimation을 사용하여 구할 수 있다. \n",
    "\n",
    "Logit Model과 Probit Model 모두 고전적인 통계 모형에서 분류 모형에 해당하는 것으로, sklearn에서는 `Logistic Regression`이 같은 역할을 한다"
   ],
   "metadata": {
    "collapsed": false
   },
   "id": "6c4b3b25b12e3369"
  },
  {
   "cell_type": "markdown",
   "source": [
    "#### 2. Naive Bayes"
   ],
   "metadata": {
    "collapsed": false
   },
   "id": "6e7484b0bda9c71"
  },
  {
   "cell_type": "code",
   "execution_count": null,
   "id": "initial_id",
   "metadata": {
    "collapsed": true
   },
   "outputs": [],
   "source": []
  },
  {
   "cell_type": "markdown",
   "source": [
    "#### 3. Support Vector Machine"
   ],
   "metadata": {
    "collapsed": false
   },
   "id": "124523a1a66e4b51"
  },
  {
   "cell_type": "code",
   "execution_count": null,
   "outputs": [],
   "source": [],
   "metadata": {
    "collapsed": false
   },
   "id": "3a32817d88674d40"
  },
  {
   "cell_type": "markdown",
   "source": [
    "#### 4. Decision Tree"
   ],
   "metadata": {
    "collapsed": false
   },
   "id": "30d99a694681a4c0"
  },
  {
   "cell_type": "code",
   "execution_count": null,
   "outputs": [],
   "source": [],
   "metadata": {
    "collapsed": false
   },
   "id": "97819f5fe0a55681"
  }
 ],
 "metadata": {
  "kernelspec": {
   "display_name": "Python 3",
   "language": "python",
   "name": "python3"
  },
  "language_info": {
   "codemirror_mode": {
    "name": "ipython",
    "version": 2
   },
   "file_extension": ".py",
   "mimetype": "text/x-python",
   "name": "python",
   "nbconvert_exporter": "python",
   "pygments_lexer": "ipython2",
   "version": "2.7.6"
  }
 },
 "nbformat": 4,
 "nbformat_minor": 5
}
