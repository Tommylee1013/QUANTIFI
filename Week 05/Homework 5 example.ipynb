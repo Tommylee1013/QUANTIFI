{
 "cells": [
  {
   "cell_type": "markdown",
   "metadata": {
    "id": "kBzl_CVDNg9I"
   },
   "source": [
    "### Homework 2\n",
    "\n",
    "이번 과제에서는 pandas datareader를 이용하여 주가 데이터를 이용해 실습을 한다"
   ]
  },
  {
   "cell_type": "markdown",
   "metadata": {
    "id": "rmjmQpE9Ng9N"
   },
   "source": [
    "#### 1. 데이터 불러오기\n",
    "\n",
    "아래 라이브러리를 활용하여 2020년 1월 1일부터 2023년 6월 31일까지의 어느 한 주식 종목의 데이터를 불러오라"
   ]
  },
  {
   "cell_type": "code",
   "execution_count": null,
   "metadata": {
    "collapsed": true,
    "id": "Y_Up_2A_Ng9O",
    "is_executing": true
   },
   "outputs": [],
   "source": [
    "import pandas_datareader as pdr\n",
    "import datetime\n",
    "import yfinance as yf"
   ]
  },
  {
   "cell_type": "code",
   "execution_count": null,
   "metadata": {
    "colab": {
     "base_uri": "https://localhost:8080/",
     "height": 458
    },
    "id": "fIzc-LHiNptc",
    "outputId": "48f3b20f-9531-491b-baa4-1766c2eb6a88",
    "is_executing": true
   },
   "outputs": [],
   "source": [
    "start_date = '2020-01-01'\n",
    "end_date = '2023-07-01'\n",
    "\n",
    "apple = yf.download('AAPL', start = start_date, end = end_date)\n",
    "apple"
   ]
  },
  {
   "cell_type": "markdown",
   "metadata": {
    "id": "694a2jnkNg9Q"
   },
   "source": [
    "#### 2. AR model\n",
    "\n",
    "준비된 데이터에 대해 AR모형의 차수를 결정하고 AR model을 적합화(fit)해 보자. 모형을 가장 잘 적합화하기 위해서는 차수를 어떻게 정해야 하는가?"
   ]
  },
  {
   "cell_type": "code",
   "execution_count": null,
   "metadata": {
    "id": "tx_dwg_LNg9Q",
    "is_executing": true
   },
   "outputs": [],
   "source": [
    "import numpy as np\n",
    "import matplotlib.pyplot as plt\n",
    "from statsmodels.graphics.tsaplots import plot_acf, plot_pacf\n",
    "import statsmodels.api as sm\n",
    "import warnings\n",
    "warnings.filterwarnings(\"ignore\")"
   ]
  },
  {
   "cell_type": "code",
   "execution_count": null,
   "metadata": {
    "colab": {
     "base_uri": "https://localhost:8080/"
    },
    "id": "Lex-Tg9_N9Ur",
    "outputId": "647f1b53-b59a-4400-9026-3a81b1a53dc3",
    "is_executing": true
   },
   "outputs": [],
   "source": [
    "ret = np.log(apple.Close) - np.log(apple.Close.shift())\n",
    "ret = ret.dropna()\n",
    "ret"
   ]
  },
  {
   "cell_type": "markdown",
   "metadata": {
    "id": "nPQxUUrUOQQG"
   },
   "source": [
    "AR 차수 구하기"
   ]
  },
  {
   "cell_type": "code",
   "execution_count": null,
   "metadata": {
    "colab": {
     "base_uri": "https://localhost:8080/",
     "height": 410
    },
    "id": "PRq3VqQjONfT",
    "outputId": "8bfddc3c-7d7a-4c90-c735-8d6b8041dfd5",
    "is_executing": true
   },
   "outputs": [],
   "source": [
    "fig, ax = plt.subplots(figsize=(8, 4))\n",
    "plot_pacf(np.log(apple.Close), auto_ylims = True, lags = 30, title = 'PACF of Tesla log Index', ax = ax)\n",
    "plt.xlabel('Time lags', fontsize = 10)\n",
    "plt.title('Partial Auto Correlation Function', fontsize = 15, fontfamily = 'Serif')\n",
    "plt.show()"
   ]
  },
  {
   "cell_type": "code",
   "execution_count": null,
   "metadata": {
    "colab": {
     "base_uri": "https://localhost:8080/"
    },
    "id": "q288eFc_OiPL",
    "outputId": "eac46639-2956-4ec3-9853-29ab916fa4e6",
    "is_executing": true
   },
   "outputs": [],
   "source": [
    "model = sm.tsa.ARIMA(np.log(apple.Close), order = (1,0,0), trend = 'c').fit(method = 'innovations_mle')\n",
    "print(model.summary())"
   ]
  },
  {
   "cell_type": "code",
   "execution_count": null,
   "metadata": {
    "colab": {
     "base_uri": "https://localhost:8080/",
     "height": 640
    },
    "id": "OaSoJh4gPTBC",
    "outputId": "1a9738c7-c2a2-4d9b-b4ac-115db7019071",
    "is_executing": true
   },
   "outputs": [],
   "source": [
    "model.plot_diagnostics(figsize = (14,7))\n",
    "plt.show()"
   ]
  },
  {
   "cell_type": "markdown",
   "metadata": {
    "id": "VKs3hr9VNg9R"
   },
   "source": [
    "#### 3. MA model\n",
    "\n",
    "준비된 데이터에 대해 MA모형의 차수를 결정하고 MA model을 적합화(fit)해 보자. 모형을 가장 잘 적합화하기 위해서는 차수를 어떻게 정해야 하는가? 그리고 MA model을 사용하기 위해서는 어떤 데이터를 사용해야 하는가?"
   ]
  },
  {
   "cell_type": "code",
   "execution_count": null,
   "metadata": {
    "colab": {
     "base_uri": "https://localhost:8080/",
     "height": 410
    },
    "id": "1hmPqC33OVTj",
    "outputId": "8b2ce04f-4a09-41c4-bb56-889fb2aa98f3",
    "is_executing": true
   },
   "outputs": [],
   "source": [
    "fig, ax = plt.subplots(figsize=(8, 4))\n",
    "plot_acf(ret, auto_ylims = True, lags = 30, title = 'ACF of Tesla return' , ax = ax)\n",
    "plt.xlabel('Time lags', fontsize = 10)\n",
    "plt.title('Auto Correlation Function', fontsize = 15, fontfamily = 'Serif')\n",
    "plt.show()"
   ]
  },
  {
   "cell_type": "code",
   "execution_count": null,
   "metadata": {
    "colab": {
     "base_uri": "https://localhost:8080/"
    },
    "id": "LaZUUzwBO8Tb",
    "outputId": "09aabec2-d4ab-4850-ab83-d4a47926b9c6",
    "is_executing": true
   },
   "outputs": [],
   "source": [
    "model = sm.tsa.ARIMA(ret, order = (0,0,1), trend = 'c').fit(method = 'innovations_mle')\n",
    "print(model.summary())"
   ]
  },
  {
   "cell_type": "code",
   "execution_count": null,
   "metadata": {
    "colab": {
     "base_uri": "https://localhost:8080/",
     "height": 640
    },
    "id": "4ytCvMEsPWn2",
    "outputId": "7ccbba14-c616-4ddc-8404-853b8bda6015",
    "is_executing": true
   },
   "outputs": [],
   "source": [
    "model.plot_diagnostics(figsize = (14,7))\n",
    "plt.show()"
   ]
  },
  {
   "cell_type": "markdown",
   "metadata": {
    "id": "ezi7ULGONg9R"
   },
   "source": [
    "#### 4. ARMA model\n",
    "\n",
    "준비된 데이터에 대해 ARMA모형의 차수(p,q)를 결정하고 ARMA model을 적합화(fit)해 보자. 모형을 가장 잘 적합화하기 위해서는 차수를 어떻게 정해야 하는가? 그리고 ARMA model을 사용하기 위해서는 어떤 데이터를 사용해야 하는가?"
   ]
  },
  {
   "cell_type": "code",
   "execution_count": null,
   "metadata": {
    "colab": {
     "base_uri": "https://localhost:8080/"
    },
    "id": "cKSVWH_-Ng9R",
    "outputId": "bc745d41-2f8d-4598-a23e-65d24ffb8ae1",
    "is_executing": true
   },
   "outputs": [],
   "source": [
    "model = sm.tsa.ARIMA(np.log(apple.Close), order = (1,0,1), trend = 'c').fit(method = 'innovations_mle')\n",
    "print(model.summary())"
   ]
  },
  {
   "cell_type": "code",
   "execution_count": null,
   "metadata": {
    "colab": {
     "base_uri": "https://localhost:8080/",
     "height": 484
    },
    "id": "FLC4RyfvPr_y",
    "outputId": "9fba9ac6-a6cc-48f4-da3d-731fb0b7ac64",
    "is_executing": true
   },
   "outputs": [],
   "source": [
    "import seaborn as sns\n",
    "fig, ax1 = plt.subplots(figsize=(8,5), dpi=100)\n",
    "sns.distplot(np.random.normal(size=100000), kde = True, ax = ax1, label = 'Normal Distribution')\n",
    "sns.distplot(np.log(model.resid) - np.log(model.resid).mean() ,\n",
    "             kde = True, rug = False , ax = ax1, label = 'Log Residual Distribution')\n",
    "plt.legend()\n",
    "plt.title('Residual vs. Normal', fontsize = 15, fontfamily = 'Serif')"
   ]
  },
  {
   "cell_type": "code",
   "execution_count": null,
   "metadata": {
    "colab": {
     "base_uri": "https://localhost:8080/",
     "height": 640
    },
    "id": "-MhUmU41P1dy",
    "outputId": "fe562479-bd3a-4561-edd3-c3790f45426d",
    "is_executing": true
   },
   "outputs": [],
   "source": [
    "model.plot_diagnostics(figsize = (14,7))\n",
    "plt.show()"
   ]
  },
  {
   "cell_type": "markdown",
   "metadata": {
    "id": "gbX8A2skNg9R"
   },
   "source": [
    "#### 5. Prediction\n",
    "\n",
    "1~4번을 통해 구한 모형으로부터 20기간 예측을 실행하라. 어떤 결과값이 나오는가? 실제값과 비교하였을 때, 예측은 정확한가? 추정된 값은 효율적인 추정량이고, 최소 예측 분산을 가지고 있는가?"
   ]
  },
  {
   "cell_type": "code",
   "execution_count": null,
   "metadata": {
    "colab": {
     "base_uri": "https://localhost:8080/"
    },
    "id": "3AG0S4DZNg9S",
    "outputId": "41ab7bfb-3b9b-401a-d42f-63fc7510fc73",
    "is_executing": true
   },
   "outputs": [],
   "source": [
    "forecast_steps = 20\n",
    "model.forecast(steps = forecast_steps)"
   ]
  },
  {
   "cell_type": "code",
   "execution_count": null,
   "metadata": {
    "colab": {
     "base_uri": "https://localhost:8080/"
    },
    "id": "gqFhTvwOP5sr",
    "outputId": "9327831f-7a3a-4a8a-f751-3bebfe88c14e",
    "is_executing": true
   },
   "outputs": [],
   "source": [
    "start_date = '2023-06-30'\n",
    "end_date = '2023-07-30'\n",
    "\n",
    "apple_new = yf.download('AAPL', start = start_date, end = end_date)"
   ]
  },
  {
   "cell_type": "code",
   "execution_count": null,
   "metadata": {
    "colab": {
     "base_uri": "https://localhost:8080/",
     "height": 441
    },
    "id": "97Poj-hKQCtN",
    "outputId": "dd0a8873-946f-4aa7-b0ab-a875d6579daa",
    "is_executing": true
   },
   "outputs": [],
   "source": [
    "import pandas as pd\n",
    "plt.figure(figsize = (10,4))\n",
    "plt.plot(model.fittedvalues[-10:], label = 'train')\n",
    "plt.plot(pd.date_range(start = '2023-06-30', periods = forecast_steps, freq='B'),\n",
    "         model.forecast(steps = forecast_steps), label = 'predicted')\n",
    "plt.plot(np.log(apple_new.Close), label = 'test')\n",
    "plt.xticks(rotation = 45, ha = 'right')\n",
    "plt.legend(loc = 'center left', bbox_to_anchor = (1, 0.5))"
   ]
  },
  {
   "cell_type": "markdown",
   "metadata": {
    "id": "JDsALAmXNg9S"
   },
   "source": [
    "#### 6. Recurrent Neural Network\n",
    "\n",
    "<center><img src = \"https://images.velog.io/images/yuns_u/post/ccbb28ea-fa08-4d23-804e-419e6f578e4b/image.png\" alt=\"My Image\"></center>\n",
    "\n",
    "**RNN(Recurrent Neural Network)** 은 딥러닝 기법 중 하나로, 시퀀스 데이터를 처리하는 데 특화된 인공신경망 구조이다. 자연어 처리, 음성 인식, 시계열 데이터 등 다양한 시퀀스 데이터에 대한 분석과 예측에 매우 유용하게 사용된다고 알려져 있다. RNN에 관한 자세한 내용은 아래 링크를 통해 익히도록 하자\n",
    "\n",
    "https://pytorch.org/docs/stable/generated/torch.nn.RNN.html\n",
    "\n",
    "1개의 hidden layer, $H=1$, activation function은 없고 입력 벡터의 차원 $P=1$인 간단한 경우의 $\\mbox{RNN}$을 추가로 고려하자. 추가로 $W_z^{(1)} = \\phi_z$, $|\\phi_z|<1$, $W_x^{(1)} = \\phi_x$, $W_y = 1$, $b_h = 0$, $b_y = \\mu$를 가정하자. 그러면 $f_{W^{(1)},b^{(1)}}^{(1)}(\\chi_t)$가 자기회귀 계수가 기하급수적으로 감쇠하는, 즉 $\\phi_i = \\phi_x \\phi_z^{i-1}$인 $p$차의 자기회귀 $\\mbox{AR}(p)$모델임을 보일 수 있다\n",
    "\n",
    "$$z_{t-p} = \\phi_x x_{t-p}$$\n",
    "$$z_{t-T+2} = \\phi_z z_{t-T+1} + \\phi_x x_{x-T+2}$$\n",
    "$$\\cdots = \\cdots$$\n",
    "$$z_{t-1} = \\phi_z z_{t-2} + \\phi_x x_{t-1}$$\n",
    "$$\\hat x_t = z_{t-1} + \\mu$$\n",
    "\n",
    "위 조건에서 다음이 성립한다\n",
    "\n",
    "$$\\hat x_t = \\mu + \\phi_x(L + \\phi_z L^2 + \\cdots + \\phi_z^{p-1} L^p)[x_t] = \\mu + \\sum_{i=1} \\phi_i x_{t-i}$$"
   ]
  },
  {
   "cell_type": "markdown",
   "metadata": {
    "id": "KO3YU8i3Ng9S"
   },
   "source": [
    "위 조건을 참고하여, 아래 라이브러리를 사용하여 Activation function을 사용하지 않고 은닉층이 한 개인 간단한 RNN모형을 사용하여 2번의 과정을 다시 반복하라."
   ]
  },
  {
   "cell_type": "code",
   "execution_count": null,
   "metadata": {
    "id": "MP18W9JiNg9S",
    "is_executing": true
   },
   "outputs": [],
   "source": [
    "import numpy as np\n",
    "from keras.models import Sequential\n",
    "from keras.layers import SimpleRNN, Dense\n",
    "from keras.regularizers import l1, l2"
   ]
  },
  {
   "cell_type": "markdown",
   "source": [
    "scaling"
   ],
   "metadata": {
    "collapsed": false
   }
  },
  {
   "cell_type": "code",
   "execution_count": null,
   "metadata": {
    "id": "jcreG3bJVcwC",
    "is_executing": true
   },
   "outputs": [],
   "source": [
    "min_val = np.min(apple.Close)\n",
    "max_val = np.max(apple.Close)\n",
    "scaled_data = (apple.Close - min_val) / (max_val - min_val)"
   ]
  },
  {
   "cell_type": "code",
   "execution_count": null,
   "metadata": {
    "id": "MG7uBCfZRUlo",
    "is_executing": true
   },
   "outputs": [],
   "source": [
    "X = scaled_data[1:]\n",
    "y = scaled_data.shift(1).dropna()"
   ]
  },
  {
   "cell_type": "markdown",
   "source": [
    "train - test split"
   ],
   "metadata": {
    "collapsed": false
   }
  },
  {
   "cell_type": "code",
   "execution_count": null,
   "metadata": {
    "id": "hO5Rk7qQRE2D",
    "is_executing": true
   },
   "outputs": [],
   "source": [
    "from sklearn.model_selection import train_test_split\n",
    "X_train, X_test, y_train, y_test = train_test_split(X, y, test_size = 0.2, shuffle = False)"
   ]
  },
  {
   "cell_type": "markdown",
   "source": [
    "Simple RNN models"
   ],
   "metadata": {
    "collapsed": false
   }
  },
  {
   "cell_type": "code",
   "execution_count": null,
   "metadata": {
    "id": "9HqnM6FGQ4Gm",
    "is_executing": true
   },
   "outputs": [],
   "source": [
    "model = Sequential()\n",
    "model.add(SimpleRNN(units = 1, \n",
    "                    input_shape = (X_train.shape[0], 1), \n",
    "                    kernel_regularizer = l1(0), \n",
    "                    unroll = True, \n",
    "                    stateful = False,\n",
    "                    activation = None))\n",
    "model.add(Dense(1, kernel_regularizer = l1(0)))\n",
    "model.compile(optimizer = 'adam', loss = 'mean_squared_error')"
   ]
  },
  {
   "cell_type": "code",
   "execution_count": null,
   "metadata": {
    "colab": {
     "base_uri": "https://localhost:8080/"
    },
    "id": "SaOKrkM8WEeN",
    "outputId": "544815bb-2cd7-4148-8eff-466dfa644840",
    "is_executing": true
   },
   "outputs": [],
   "source": [
    "model.fit(X_train, y_train, epochs = 100, verbose = 0)"
   ]
  },
  {
   "cell_type": "code",
   "execution_count": null,
   "metadata": {
    "colab": {
     "base_uri": "https://localhost:8080/"
    },
    "id": "k86RHvQnRo6r",
    "outputId": "d99d2dbb-780c-4551-ae6f-5ab8e4017c9f",
    "is_executing": true
   },
   "outputs": [],
   "source": [
    "predicted_train = model.predict(X_train)\n",
    "predicted_test = model.predict(X_test)"
   ]
  },
  {
   "cell_type": "code",
   "execution_count": null,
   "metadata": {
    "id": "-D-iJV4OSnSW",
    "is_executing": true
   },
   "outputs": [],
   "source": [
    "test = pd.Series(predicted_test.reshape(-1), index = X_test.index)"
   ]
  },
  {
   "cell_type": "code",
   "execution_count": null,
   "metadata": {
    "colab": {
     "base_uri": "https://localhost:8080/",
     "height": 408
    },
    "id": "MAtpoM6MSk-Q",
    "outputId": "865e8db8-c515-4a75-ce70-e1d9e4aeb396",
    "is_executing": true
   },
   "outputs": [],
   "source": [
    "plt.figure(figsize = (10, 4))\n",
    "plt.plot(X_train, label = 'Train data')\n",
    "plt.plot(test, label = 'Predicted data')\n",
    "plt.plot(X_test, label = 'Test data')\n",
    "plt.grid(False)\n",
    "plt.legend(loc = 'center left', bbox_to_anchor = (1, 0.5))\n",
    "plt.title('AR model prediction with simple RNN', fontsize = 12, fontfamily = 'Serif')"
   ]
  },
  {
   "cell_type": "code",
   "execution_count": null,
   "outputs": [],
   "source": [],
   "metadata": {
    "collapsed": false,
    "is_executing": true
   }
  }
 ],
 "metadata": {
  "colab": {
   "provenance": []
  },
  "kernelspec": {
   "display_name": "Python 3 (ipykernel)",
   "language": "python",
   "name": "python3"
  },
  "language_info": {
   "codemirror_mode": {
    "name": "ipython",
    "version": 3
   },
   "file_extension": ".py",
   "mimetype": "text/x-python",
   "name": "python",
   "nbconvert_exporter": "python",
   "pygments_lexer": "ipython3",
   "version": "3.9.13"
  }
 },
 "nbformat": 4,
 "nbformat_minor": 1
}
