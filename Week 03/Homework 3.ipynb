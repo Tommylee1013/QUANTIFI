{
 "nbformat": 4,
 "nbformat_minor": 0,
 "metadata": {
  "colab": {
   "provenance": [],
   "authorship_tag": "ABX9TyNiAM/3fK5eV0E6w4kpcVLy"
  },
  "kernelspec": {
   "name": "python3",
   "language": "python",
   "display_name": "Python 3 (ipykernel)"
  },
  "language_info": {
   "name": "python"
  }
 },
 "cells": [
  {
   "cell_type": "markdown",
   "source": [
    "# **Linear Regression Practice**"
   ],
   "metadata": {
    "id": "hM8zXx9GsfZO"
   }
  },
  {
   "cell_type": "markdown",
   "source": [
    "- 해당 과제를 수행하기 위해서는 다음 외부 라이브러리를 설치해야합니다:"
   ],
   "metadata": {
    "id": "Dlnsv0eDZST8"
   }
  },
  {
   "cell_type": "code",
   "source": [
    "!pip install linearmodels"
   ],
   "metadata": {
    "colab": {
     "base_uri": "https://localhost:8080/"
    },
    "id": "7zLbxOefZgtY",
    "executionInfo": {
     "status": "ok",
     "timestamp": 1692222198841,
     "user_tz": -540,
     "elapsed": 11608,
     "user": {
      "displayName": "정세호",
      "userId": "18356479869734498362"
     }
    },
    "outputId": "d9b6e450-e148-4f18-ed6c-854382cca100",
    "ExecuteTime": {
     "end_time": "2023-09-07T13:06:18.354747Z",
     "start_time": "2023-09-07T13:06:08.238842Z"
    }
   },
   "execution_count": 1,
   "outputs": [
    {
     "name": "stdout",
     "output_type": "stream",
     "text": [
      "Collecting linearmodels\r\n",
      "  Obtaining dependency information for linearmodels from https://files.pythonhosted.org/packages/a2/97/5ee7c355fa4ad615bea783eeed0c918635731ca79e9a427339bcea06ac32/linearmodels-5.1-cp310-cp310-macosx_11_0_arm64.whl.metadata\r\n",
      "  Downloading linearmodels-5.1-cp310-cp310-macosx_11_0_arm64.whl.metadata (8.1 kB)\r\n",
      "Requirement already satisfied: numpy>=1.19.0 in /Users/junghunlee/anaconda3/envs/TimeSeriesModeling/lib/python3.10/site-packages (from linearmodels) (1.25.2)\r\n",
      "Requirement already satisfied: pandas>=1.1.0 in /Users/junghunlee/anaconda3/envs/TimeSeriesModeling/lib/python3.10/site-packages (from linearmodels) (2.0.3)\r\n",
      "Requirement already satisfied: scipy>=1.5.0 in /Users/junghunlee/anaconda3/envs/TimeSeriesModeling/lib/python3.10/site-packages (from linearmodels) (1.11.1)\r\n",
      "Requirement already satisfied: statsmodels>=0.12.0 in /Users/junghunlee/anaconda3/envs/TimeSeriesModeling/lib/python3.10/site-packages (from linearmodels) (0.14.0)\r\n",
      "Collecting mypy-extensions>=0.4 (from linearmodels)\r\n",
      "  Downloading mypy_extensions-1.0.0-py3-none-any.whl (4.7 kB)\r\n",
      "Collecting Cython>=0.29.34 (from linearmodels)\r\n",
      "  Obtaining dependency information for Cython>=0.29.34 from https://files.pythonhosted.org/packages/03/e9/9cc0c4f0d8a566089d096254cd25168a0db02dd047863a7f995d8d3eefa7/Cython-3.0.2-py2.py3-none-any.whl.metadata\r\n",
      "  Downloading Cython-3.0.2-py2.py3-none-any.whl.metadata (3.1 kB)\r\n",
      "Collecting pyhdfe>=0.1 (from linearmodels)\r\n",
      "  Obtaining dependency information for pyhdfe>=0.1 from https://files.pythonhosted.org/packages/2f/51/cb006fbc08c32f161035fb19ca718250eb5f6d0692ea6dcc1e62c3e556a2/pyhdfe-0.2.0-py3-none-any.whl.metadata\r\n",
      "  Downloading pyhdfe-0.2.0-py3-none-any.whl.metadata (4.0 kB)\r\n",
      "Collecting formulaic>=0.6.1 (from linearmodels)\r\n",
      "  Obtaining dependency information for formulaic>=0.6.1 from https://files.pythonhosted.org/packages/db/97/2ac97273f77138c4248ab63cdc4799ea3c87ea2be2d28bb726562e0d0827/formulaic-0.6.4-py3-none-any.whl.metadata\r\n",
      "  Downloading formulaic-0.6.4-py3-none-any.whl.metadata (6.0 kB)\r\n",
      "Collecting setuptools-scm[toml]<8.0.0,>=7.0.0 (from linearmodels)\r\n",
      "  Using cached setuptools_scm-7.1.0-py3-none-any.whl (43 kB)\r\n",
      "Collecting astor>=0.8 (from formulaic>=0.6.1->linearmodels)\r\n",
      "  Downloading astor-0.8.1-py2.py3-none-any.whl (27 kB)\r\n",
      "Collecting interface-meta>=1.2.0 (from formulaic>=0.6.1->linearmodels)\r\n",
      "  Downloading interface_meta-1.3.0-py3-none-any.whl (14 kB)\r\n",
      "Requirement already satisfied: typing-extensions>=4.2.0 in /Users/junghunlee/anaconda3/envs/TimeSeriesModeling/lib/python3.10/site-packages (from formulaic>=0.6.1->linearmodels) (4.7.1)\r\n",
      "Collecting wrapt>=1.0 (from formulaic>=0.6.1->linearmodels)\r\n",
      "  Downloading wrapt-1.15.0-cp310-cp310-macosx_11_0_arm64.whl (36 kB)\r\n",
      "Requirement already satisfied: python-dateutil>=2.8.2 in /Users/junghunlee/anaconda3/envs/TimeSeriesModeling/lib/python3.10/site-packages (from pandas>=1.1.0->linearmodels) (2.8.2)\r\n",
      "Requirement already satisfied: pytz>=2020.1 in /Users/junghunlee/anaconda3/envs/TimeSeriesModeling/lib/python3.10/site-packages (from pandas>=1.1.0->linearmodels) (2022.7)\r\n",
      "Requirement already satisfied: tzdata>=2022.1 in /Users/junghunlee/anaconda3/envs/TimeSeriesModeling/lib/python3.10/site-packages (from pandas>=1.1.0->linearmodels) (2023.3)\r\n",
      "Requirement already satisfied: packaging>=20.0 in /Users/junghunlee/anaconda3/envs/TimeSeriesModeling/lib/python3.10/site-packages (from setuptools-scm[toml]<8.0.0,>=7.0.0->linearmodels) (23.0)\r\n",
      "Requirement already satisfied: setuptools in /Users/junghunlee/anaconda3/envs/TimeSeriesModeling/lib/python3.10/site-packages (from setuptools-scm[toml]<8.0.0,>=7.0.0->linearmodels) (68.0.0)\r\n",
      "Requirement already satisfied: tomli>=1.0.0 in /Users/junghunlee/anaconda3/envs/TimeSeriesModeling/lib/python3.10/site-packages (from setuptools-scm[toml]<8.0.0,>=7.0.0->linearmodels) (2.0.1)\r\n",
      "Requirement already satisfied: patsy>=0.5.2 in /Users/junghunlee/anaconda3/envs/TimeSeriesModeling/lib/python3.10/site-packages (from statsmodels>=0.12.0->linearmodels) (0.5.3)\r\n",
      "Requirement already satisfied: six in /Users/junghunlee/anaconda3/envs/TimeSeriesModeling/lib/python3.10/site-packages (from patsy>=0.5.2->statsmodels>=0.12.0->linearmodels) (1.16.0)\r\n",
      "Downloading linearmodels-5.1-cp310-cp310-macosx_11_0_arm64.whl (1.8 MB)\r\n",
      "\u001B[2K   \u001B[90m━━━━━━━━━━━━━━━━━━━━━━━━━━━━━━━━━━━━━━━━\u001B[0m \u001B[32m1.8/1.8 MB\u001B[0m \u001B[31m558.9 kB/s\u001B[0m eta \u001B[36m0:00:00\u001B[0m00:01\u001B[0m00:01\u001B[0m\r\n",
      "\u001B[?25hDownloading Cython-3.0.2-py2.py3-none-any.whl (1.2 MB)\r\n",
      "\u001B[2K   \u001B[90m━━━━━━━━━━━━━━━━━━━━━━━━━━━━━━━━━━━━━━━━\u001B[0m \u001B[32m1.2/1.2 MB\u001B[0m \u001B[31m700.6 kB/s\u001B[0m eta \u001B[36m0:00:00\u001B[0ma \u001B[36m0:00:01\u001B[0m\r\n",
      "\u001B[?25hDownloading formulaic-0.6.4-py3-none-any.whl (88 kB)\r\n",
      "\u001B[2K   \u001B[90m━━━━━━━━━━━━━━━━━━━━━━━━━━━━━━━━━━━━━━━━\u001B[0m \u001B[32m88.9/88.9 kB\u001B[0m \u001B[31m737.4 kB/s\u001B[0m eta \u001B[36m0:00:00\u001B[0ma \u001B[36m0:00:01\u001B[0m\r\n",
      "\u001B[?25hDownloading pyhdfe-0.2.0-py3-none-any.whl (19 kB)\r\n",
      "Installing collected packages: wrapt, setuptools-scm, mypy-extensions, interface-meta, Cython, astor, pyhdfe, formulaic, linearmodels\r\n",
      "Successfully installed Cython-3.0.2 astor-0.8.1 formulaic-0.6.4 interface-meta-1.3.0 linearmodels-5.1 mypy-extensions-1.0.0 pyhdfe-0.2.0 setuptools-scm-7.1.0 wrapt-1.15.0\r\n"
     ]
    }
   ]
  },
  {
   "cell_type": "markdown",
   "source": [
    "## **0. Introduction**"
   ],
   "metadata": {
    "id": "eW9o8U5SyC7-"
   }
  },
  {
   "cell_type": "markdown",
   "source": [
    "- Linear regression is a **standard tool for analyzing the relationship between two or more variables**.\n",
    "- In this lecture, we’ll use the Python package `statsmodels` to **estimate, interpret, and visualize** linear regression models.\n",
    "- Along the way, we’ll discuss a variety of topics, including\n",
    "    - simple and multivariate linear regression\n",
    "    - visualization\n",
    "    - endogeneity and omitted variable bias\n",
    "    - two-stage least squares\n",
    "- As an example, we will replicate results from Acemoglu, Johnson and Robinson’s seminal paper [AJR01].\n",
    "    - 필요한 경우 공통과정 페이지 하단 보충자료 섹션에서 다운로드받으실 수 있습니다.\n",
    "- In the paper, the authors emphasize the importance of institutions in economic development.\n",
    "    - The main contribution is the use of settler mortality rates as a source of exogenous variation in institutional differences.\n",
    "    - Such variation is needed to determine whether it is institutions that give rise to greater economic growth, rather than the other way around.\n",
    "- Let’s start with some imports:"
   ],
   "metadata": {
    "id": "KTjSN9K8YR7j"
   }
  },
  {
   "cell_type": "code",
   "source": [
    "%matplotlib inline\n",
    "import matplotlib.pyplot as plt\n",
    "plt.rcParams[\"figure.figsize\"] = (11, 5)  #set default figure size\n",
    "import numpy as np\n",
    "import pandas as pd\n",
    "import statsmodels.api as sm\n",
    "from statsmodels.iolib.summary2 import summary_col\n",
    "from linearmodels.iv import IV2SLS"
   ],
   "metadata": {
    "id": "FDzZ9HMSZLkw",
    "executionInfo": {
     "status": "ok",
     "timestamp": 1692222215939,
     "user_tz": -540,
     "elapsed": 3719,
     "user": {
      "displayName": "정세호",
      "userId": "18356479869734498362"
     }
    }
   },
   "execution_count": 2,
   "outputs": []
  },
  {
   "cell_type": "markdown",
   "source": [
    "- 해당 과제는 **계량경제학I 수준의 통계 개념**을 알고 있음을 가정하고 작성한 내용입니다.\n",
    "    - 중간중간 막히는 부분이 있다면 \"Wooldridge, Introductory Econometrics\"와 같은 학부 기초 계량경제학 교재와 병행하여 수행하시길 바랍니다."
   ],
   "metadata": {
    "id": "tImtjwluZq_o"
   }
  },
  {
   "cell_type": "markdown",
   "source": [
    "## **1. Simple Linear Regression**"
   ],
   "metadata": {
    "id": "2QW95t0PyGyv"
   }
  },
  {
   "cell_type": "markdown",
   "source": [
    "- [AJR01] wish to determine **whether or not differences in institutions can help to explain observed economic outcomes**.\n",
    "- How do we measure institutional differences and economic outcomes?\n",
    "- In this paper,\n",
    "    - economic outcomes are proxied by log GDP per capita in 1995, adjusted for exchange rates.\n",
    "    - institutional differences are proxied by an index of protection against expropriation on average over 1985-95, constructed by the Political Risk Services Group.\n",
    "    - These variables and other data used in the paper are available for download on Daron Acemoglu’s webpage.\n",
    "- We will use pandas’ `.read_stata()` function to read in data contained in the `.dta` files to dataframes."
   ],
   "metadata": {
    "id": "Cuz79XB2ar27"
   }
  },
  {
   "cell_type": "code",
   "source": [
    "df1 = pd.read_stata('https://github.com/QuantEcon/lecture-python/blob/master/source/_static/lecture_specific/ols/maketable1.dta?raw=true')\n",
    "df1.head()"
   ],
   "metadata": {
    "colab": {
     "base_uri": "https://localhost:8080/",
     "height": 206
    },
    "id": "9whicJXNbG5O",
    "executionInfo": {
     "status": "ok",
     "timestamp": 1692222221311,
     "user_tz": -540,
     "elapsed": 1617,
     "user": {
      "displayName": "정세호",
      "userId": "18356479869734498362"
     }
    },
    "outputId": "c2b4694a-5618-4765-a067-42635128e478"
   },
   "execution_count": 3,
   "outputs": [
    {
     "output_type": "execute_result",
     "data": {
      "text/plain": [
       "  shortnam   euro1900  excolony    avexpr  logpgp95  cons1  cons90  democ00a  \\\n",
       "0      AFG   0.000000       1.0       NaN       NaN    1.0     2.0       1.0   \n",
       "1      AGO   8.000000       1.0  5.363636  7.770645    3.0     3.0       0.0   \n",
       "2      ARE   0.000000       1.0  7.181818  9.804219    NaN     NaN       NaN   \n",
       "3      ARG  60.000004       1.0  6.386364  9.133459    1.0     6.0       3.0   \n",
       "4      ARM   0.000000       0.0       NaN  7.682482    NaN     NaN       NaN   \n",
       "\n",
       "   cons00a    extmort4    logem4  loghjypl  baseco  \n",
       "0      1.0   93.699997  4.540098       NaN     NaN  \n",
       "1      1.0  280.000000  5.634789 -3.411248     1.0  \n",
       "2      NaN         NaN       NaN       NaN     NaN  \n",
       "3      3.0   68.900002  4.232656 -0.872274     1.0  \n",
       "4      NaN         NaN       NaN       NaN     NaN  "
      ],
      "text/html": [
       "\n",
       "\n",
       "  <div id=\"df-f1e40dbe-df0b-48a8-8aaf-6c69c8bebbea\">\n",
       "    <div class=\"colab-df-container\">\n",
       "      <div>\n",
       "<style scoped>\n",
       "    .dataframe tbody tr th:only-of-type {\n",
       "        vertical-align: middle;\n",
       "    }\n",
       "\n",
       "    .dataframe tbody tr th {\n",
       "        vertical-align: top;\n",
       "    }\n",
       "\n",
       "    .dataframe thead th {\n",
       "        text-align: right;\n",
       "    }\n",
       "</style>\n",
       "<table border=\"1\" class=\"dataframe\">\n",
       "  <thead>\n",
       "    <tr style=\"text-align: right;\">\n",
       "      <th></th>\n",
       "      <th>shortnam</th>\n",
       "      <th>euro1900</th>\n",
       "      <th>excolony</th>\n",
       "      <th>avexpr</th>\n",
       "      <th>logpgp95</th>\n",
       "      <th>cons1</th>\n",
       "      <th>cons90</th>\n",
       "      <th>democ00a</th>\n",
       "      <th>cons00a</th>\n",
       "      <th>extmort4</th>\n",
       "      <th>logem4</th>\n",
       "      <th>loghjypl</th>\n",
       "      <th>baseco</th>\n",
       "    </tr>\n",
       "  </thead>\n",
       "  <tbody>\n",
       "    <tr>\n",
       "      <th>0</th>\n",
       "      <td>AFG</td>\n",
       "      <td>0.000000</td>\n",
       "      <td>1.0</td>\n",
       "      <td>NaN</td>\n",
       "      <td>NaN</td>\n",
       "      <td>1.0</td>\n",
       "      <td>2.0</td>\n",
       "      <td>1.0</td>\n",
       "      <td>1.0</td>\n",
       "      <td>93.699997</td>\n",
       "      <td>4.540098</td>\n",
       "      <td>NaN</td>\n",
       "      <td>NaN</td>\n",
       "    </tr>\n",
       "    <tr>\n",
       "      <th>1</th>\n",
       "      <td>AGO</td>\n",
       "      <td>8.000000</td>\n",
       "      <td>1.0</td>\n",
       "      <td>5.363636</td>\n",
       "      <td>7.770645</td>\n",
       "      <td>3.0</td>\n",
       "      <td>3.0</td>\n",
       "      <td>0.0</td>\n",
       "      <td>1.0</td>\n",
       "      <td>280.000000</td>\n",
       "      <td>5.634789</td>\n",
       "      <td>-3.411248</td>\n",
       "      <td>1.0</td>\n",
       "    </tr>\n",
       "    <tr>\n",
       "      <th>2</th>\n",
       "      <td>ARE</td>\n",
       "      <td>0.000000</td>\n",
       "      <td>1.0</td>\n",
       "      <td>7.181818</td>\n",
       "      <td>9.804219</td>\n",
       "      <td>NaN</td>\n",
       "      <td>NaN</td>\n",
       "      <td>NaN</td>\n",
       "      <td>NaN</td>\n",
       "      <td>NaN</td>\n",
       "      <td>NaN</td>\n",
       "      <td>NaN</td>\n",
       "      <td>NaN</td>\n",
       "    </tr>\n",
       "    <tr>\n",
       "      <th>3</th>\n",
       "      <td>ARG</td>\n",
       "      <td>60.000004</td>\n",
       "      <td>1.0</td>\n",
       "      <td>6.386364</td>\n",
       "      <td>9.133459</td>\n",
       "      <td>1.0</td>\n",
       "      <td>6.0</td>\n",
       "      <td>3.0</td>\n",
       "      <td>3.0</td>\n",
       "      <td>68.900002</td>\n",
       "      <td>4.232656</td>\n",
       "      <td>-0.872274</td>\n",
       "      <td>1.0</td>\n",
       "    </tr>\n",
       "    <tr>\n",
       "      <th>4</th>\n",
       "      <td>ARM</td>\n",
       "      <td>0.000000</td>\n",
       "      <td>0.0</td>\n",
       "      <td>NaN</td>\n",
       "      <td>7.682482</td>\n",
       "      <td>NaN</td>\n",
       "      <td>NaN</td>\n",
       "      <td>NaN</td>\n",
       "      <td>NaN</td>\n",
       "      <td>NaN</td>\n",
       "      <td>NaN</td>\n",
       "      <td>NaN</td>\n",
       "      <td>NaN</td>\n",
       "    </tr>\n",
       "  </tbody>\n",
       "</table>\n",
       "</div>\n",
       "      <button class=\"colab-df-convert\" onclick=\"convertToInteractive('df-f1e40dbe-df0b-48a8-8aaf-6c69c8bebbea')\"\n",
       "              title=\"Convert this dataframe to an interactive table.\"\n",
       "              style=\"display:none;\">\n",
       "\n",
       "  <svg xmlns=\"http://www.w3.org/2000/svg\" height=\"24px\"viewBox=\"0 0 24 24\"\n",
       "       width=\"24px\">\n",
       "    <path d=\"M0 0h24v24H0V0z\" fill=\"none\"/>\n",
       "    <path d=\"M18.56 5.44l.94 2.06.94-2.06 2.06-.94-2.06-.94-.94-2.06-.94 2.06-2.06.94zm-11 1L8.5 8.5l.94-2.06 2.06-.94-2.06-.94L8.5 2.5l-.94 2.06-2.06.94zm10 10l.94 2.06.94-2.06 2.06-.94-2.06-.94-.94-2.06-.94 2.06-2.06.94z\"/><path d=\"M17.41 7.96l-1.37-1.37c-.4-.4-.92-.59-1.43-.59-.52 0-1.04.2-1.43.59L10.3 9.45l-7.72 7.72c-.78.78-.78 2.05 0 2.83L4 21.41c.39.39.9.59 1.41.59.51 0 1.02-.2 1.41-.59l7.78-7.78 2.81-2.81c.8-.78.8-2.07 0-2.86zM5.41 20L4 18.59l7.72-7.72 1.47 1.35L5.41 20z\"/>\n",
       "  </svg>\n",
       "      </button>\n",
       "\n",
       "\n",
       "\n",
       "    <div id=\"df-51776019-376e-4db8-8dfa-33da518f216b\">\n",
       "      <button class=\"colab-df-quickchart\" onclick=\"quickchart('df-51776019-376e-4db8-8dfa-33da518f216b')\"\n",
       "              title=\"Suggest charts.\"\n",
       "              style=\"display:none;\">\n",
       "\n",
       "<svg xmlns=\"http://www.w3.org/2000/svg\" height=\"24px\"viewBox=\"0 0 24 24\"\n",
       "     width=\"24px\">\n",
       "    <g>\n",
       "        <path d=\"M19 3H5c-1.1 0-2 .9-2 2v14c0 1.1.9 2 2 2h14c1.1 0 2-.9 2-2V5c0-1.1-.9-2-2-2zM9 17H7v-7h2v7zm4 0h-2V7h2v10zm4 0h-2v-4h2v4z\"/>\n",
       "    </g>\n",
       "</svg>\n",
       "      </button>\n",
       "    </div>\n",
       "\n",
       "<style>\n",
       "  .colab-df-quickchart {\n",
       "    background-color: #E8F0FE;\n",
       "    border: none;\n",
       "    border-radius: 50%;\n",
       "    cursor: pointer;\n",
       "    display: none;\n",
       "    fill: #1967D2;\n",
       "    height: 32px;\n",
       "    padding: 0 0 0 0;\n",
       "    width: 32px;\n",
       "  }\n",
       "\n",
       "  .colab-df-quickchart:hover {\n",
       "    background-color: #E2EBFA;\n",
       "    box-shadow: 0px 1px 2px rgba(60, 64, 67, 0.3), 0px 1px 3px 1px rgba(60, 64, 67, 0.15);\n",
       "    fill: #174EA6;\n",
       "  }\n",
       "\n",
       "  [theme=dark] .colab-df-quickchart {\n",
       "    background-color: #3B4455;\n",
       "    fill: #D2E3FC;\n",
       "  }\n",
       "\n",
       "  [theme=dark] .colab-df-quickchart:hover {\n",
       "    background-color: #434B5C;\n",
       "    box-shadow: 0px 1px 3px 1px rgba(0, 0, 0, 0.15);\n",
       "    filter: drop-shadow(0px 1px 2px rgba(0, 0, 0, 0.3));\n",
       "    fill: #FFFFFF;\n",
       "  }\n",
       "</style>\n",
       "\n",
       "    <script>\n",
       "      async function quickchart(key) {\n",
       "        const containerElement = document.querySelector('#' + key);\n",
       "        const charts = await google.colab.kernel.invokeFunction(\n",
       "            'suggestCharts', [key], {});\n",
       "      }\n",
       "    </script>\n",
       "\n",
       "\n",
       "      <script>\n",
       "\n",
       "function displayQuickchartButton(domScope) {\n",
       "  let quickchartButtonEl =\n",
       "    domScope.querySelector('#df-51776019-376e-4db8-8dfa-33da518f216b button.colab-df-quickchart');\n",
       "  quickchartButtonEl.style.display =\n",
       "    google.colab.kernel.accessAllowed ? 'block' : 'none';\n",
       "}\n",
       "\n",
       "        displayQuickchartButton(document);\n",
       "      </script>\n",
       "      <style>\n",
       "    .colab-df-container {\n",
       "      display:flex;\n",
       "      flex-wrap:wrap;\n",
       "      gap: 12px;\n",
       "    }\n",
       "\n",
       "    .colab-df-convert {\n",
       "      background-color: #E8F0FE;\n",
       "      border: none;\n",
       "      border-radius: 50%;\n",
       "      cursor: pointer;\n",
       "      display: none;\n",
       "      fill: #1967D2;\n",
       "      height: 32px;\n",
       "      padding: 0 0 0 0;\n",
       "      width: 32px;\n",
       "    }\n",
       "\n",
       "    .colab-df-convert:hover {\n",
       "      background-color: #E2EBFA;\n",
       "      box-shadow: 0px 1px 2px rgba(60, 64, 67, 0.3), 0px 1px 3px 1px rgba(60, 64, 67, 0.15);\n",
       "      fill: #174EA6;\n",
       "    }\n",
       "\n",
       "    [theme=dark] .colab-df-convert {\n",
       "      background-color: #3B4455;\n",
       "      fill: #D2E3FC;\n",
       "    }\n",
       "\n",
       "    [theme=dark] .colab-df-convert:hover {\n",
       "      background-color: #434B5C;\n",
       "      box-shadow: 0px 1px 3px 1px rgba(0, 0, 0, 0.15);\n",
       "      filter: drop-shadow(0px 1px 2px rgba(0, 0, 0, 0.3));\n",
       "      fill: #FFFFFF;\n",
       "    }\n",
       "  </style>\n",
       "\n",
       "      <script>\n",
       "        const buttonEl =\n",
       "          document.querySelector('#df-f1e40dbe-df0b-48a8-8aaf-6c69c8bebbea button.colab-df-convert');\n",
       "        buttonEl.style.display =\n",
       "          google.colab.kernel.accessAllowed ? 'block' : 'none';\n",
       "\n",
       "        async function convertToInteractive(key) {\n",
       "          const element = document.querySelector('#df-f1e40dbe-df0b-48a8-8aaf-6c69c8bebbea');\n",
       "          const dataTable =\n",
       "            await google.colab.kernel.invokeFunction('convertToInteractive',\n",
       "                                                     [key], {});\n",
       "          if (!dataTable) return;\n",
       "\n",
       "          const docLinkHtml = 'Like what you see? Visit the ' +\n",
       "            '<a target=\"_blank\" href=https://colab.research.google.com/notebooks/data_table.ipynb>data table notebook</a>'\n",
       "            + ' to learn more about interactive tables.';\n",
       "          element.innerHTML = '';\n",
       "          dataTable['output_type'] = 'display_data';\n",
       "          await google.colab.output.renderOutput(dataTable, element);\n",
       "          const docLink = document.createElement('div');\n",
       "          docLink.innerHTML = docLinkHtml;\n",
       "          element.appendChild(docLink);\n",
       "        }\n",
       "      </script>\n",
       "    </div>\n",
       "  </div>\n"
      ]
     },
     "metadata": {},
     "execution_count": 3
    }
   ]
  },
  {
   "cell_type": "markdown",
   "source": [
    "- Let’s use a scatterplot to see whether any obvious relationship exists between GDP per capita and the protection against expropriation index"
   ],
   "metadata": {
    "id": "eOo60M7DbN2B"
   }
  },
  {
   "cell_type": "code",
   "source": [
    "plt.style.use('seaborn')\n",
    "\n",
    "df1.plot(x='avexpr', y='logpgp95', kind='scatter')\n",
    "plt.show()"
   ],
   "metadata": {
    "colab": {
     "base_uri": "https://localhost:8080/",
     "height": 558
    },
    "id": "RzuGsDE9bTAA",
    "executionInfo": {
     "status": "ok",
     "timestamp": 1692222224238,
     "user_tz": -540,
     "elapsed": 382,
     "user": {
      "displayName": "정세호",
      "userId": "18356479869734498362"
     }
    },
    "outputId": "ca0ee88e-c992-48c3-fc91-b5b2c6c9ed85"
   },
   "execution_count": 4,
   "outputs": [
    {
     "output_type": "stream",
     "name": "stderr",
     "text": [
      "<ipython-input-4-fd88f6a3e725>:1: MatplotlibDeprecationWarning: The seaborn styles shipped by Matplotlib are deprecated since 3.6, as they no longer correspond to the styles shipped by seaborn. However, they will remain available as 'seaborn-v0_8-<style>'. Alternatively, directly use the seaborn API instead.\n",
      "  plt.style.use('seaborn')\n"
     ]
    },
    {
     "output_type": "display_data",
     "data": {
      "text/plain": [
       "<Figure size 800x550 with 1 Axes>"
      ],
      "image/png": "[encoded data removed]"
     },
     "metadata": {}
    }
   ]
  },
  {
   "cell_type": "markdown",
   "source": [
    "- The plot shows a fairly strong positive relationship between protection against expropriation and log GDP per capita.\n",
    "- Specifically, if higher protection against expropriation is a measure of institutional quality, then better institutions appear to be positively correlated with better economic outcomes (higher GDP per capita).\n",
    "- Given the plot, choosing a linear model to describe this relationship seems like a reasonable assumption.\n",
    "- We can write our model as\n",
    "\n",
    "$$logpgp95_i = \\beta_0 + \\beta_1 avexpr_i + u_i $$\n",
    "\n",
    "- where:\n",
    "    - $\\beta_0$ is the intercept of the linear trend line on the y-axis\n",
    "    - $\\beta_1$ is the slope of the linear trend line, representing the marginal effect of protection against risk on log GDP per capita\n",
    "    - $u_i$ is a random error term (deviations of observations from the linear trend due to factors not included in the model)"
   ],
   "metadata": {
    "id": "FhEznPNgbSSN"
   }
  },
  {
   "cell_type": "markdown",
   "source": [
    "- Visually, this linear model involves choosing a straight line that best fits the data, as in the following plot (Figure 2 in [AJR01])"
   ],
   "metadata": {
    "id": "TjKtZi8RcQwz"
   }
  },
  {
   "cell_type": "code",
   "source": [
    "# Dropping NA's is required to use numpy's polyfit\n",
    "df1_subset = df1.dropna(subset=['logpgp95', 'avexpr'])\n",
    "\n",
    "# Use only 'base sample' for plotting purposes\n",
    "df1_subset = df1_subset[df1_subset['baseco'] == 1]\n",
    "\n",
    "X = df1_subset['avexpr']\n",
    "y = df1_subset['logpgp95']\n",
    "labels = df1_subset['shortnam']\n",
    "\n",
    "# Replace markers with country labels\n",
    "fig, ax = plt.subplots()\n",
    "ax.scatter(X, y, marker='')\n",
    "\n",
    "for i, label in enumerate(labels):\n",
    "    ax.annotate(label, (X.iloc[i], y.iloc[i]))\n",
    "\n",
    "# Fit a linear trend line\n",
    "ax.plot(np.unique(X),\n",
    "         np.poly1d(np.polyfit(X, y, 1))(np.unique(X)),\n",
    "         color='black')\n",
    "\n",
    "ax.set_xlim([3.3,10.5])\n",
    "ax.set_ylim([4,10.5])\n",
    "ax.set_xlabel('Average Expropriation Risk 1985-95')\n",
    "ax.set_ylabel('Log GDP per capita, PPP, 1995')\n",
    "ax.set_title('Figure 2: OLS relationship between expropriation \\\n",
    "    risk and income')\n",
    "plt.show()"
   ],
   "metadata": {
    "colab": {
     "base_uri": "https://localhost:8080/",
     "height": 524
    },
    "id": "ioPEo9tpcU9q",
    "executionInfo": {
     "status": "ok",
     "timestamp": 1692222228553,
     "user_tz": -540,
     "elapsed": 709,
     "user": {
      "displayName": "정세호",
      "userId": "18356479869734498362"
     }
    },
    "outputId": "d84d5963-6178-4f29-b5d9-b9ab33cff0ae"
   },
   "execution_count": 5,
   "outputs": [
    {
     "output_type": "display_data",
     "data": {
      "text/plain": [
       "<Figure size 800x550 with 1 Axes>"
      ],
      "image/png": "[encoded data removed]"
     },
     "metadata": {}
    }
   ]
  },
  {
   "cell_type": "markdown",
   "source": [
    "- The most common technique to estimate the parameters ($\\beta$’s) of the linear model is **Ordinary Least Squares (OLS)**.\n",
    "- As the name implies, an OLS model is solved by finding the parameters that **minimize the sum of squared residuals**, i.e.\n",
    "\n",
    "$$\\min_{\\hat{\\beta}} \\sum_{i=1}^{N} \\hat{u_i}^2$$"
   ],
   "metadata": {
    "id": "NBGtqPJKcePE"
   }
  },
  {
   "cell_type": "markdown",
   "source": [
    "- where $\\hat{u_i}$ is the difference between the observation and the predicted value of the dependent variable.\n",
    "- To estimate the constant term $\\beta_0$, we need to add a column of 1’s to our dataset (consider the equation if $\\beta_0$ was replaced with $\\beta_0 x_i$ and $x_i = 1$)"
   ],
   "metadata": {
    "id": "mU7vghY4dISz"
   }
  },
  {
   "cell_type": "code",
   "source": [
    "df1['const'] = 1"
   ],
   "metadata": {
    "id": "xifO3d8md3U7",
    "executionInfo": {
     "status": "ok",
     "timestamp": 1692222234342,
     "user_tz": -540,
     "elapsed": 4,
     "user": {
      "displayName": "정세호",
      "userId": "18356479869734498362"
     }
    }
   },
   "execution_count": 6,
   "outputs": []
  },
  {
   "cell_type": "markdown",
   "source": [
    "- Now we can construct our model in `statsmodels` using the OLS function.\n",
    "- We will use pandas dataframes with `statsmodels`, however standard arrays can also be used as arguments"
   ],
   "metadata": {
    "id": "X6fLOoPtd6S3"
   }
  },
  {
   "cell_type": "code",
   "source": [
    "reg1 = sm.OLS(endog=df1['logpgp95'], exog=df1[['const', 'avexpr']], missing='drop')\n",
    "type(reg1)"
   ],
   "metadata": {
    "colab": {
     "base_uri": "https://localhost:8080/"
    },
    "id": "3hfvvWPmeFWt",
    "executionInfo": {
     "status": "ok",
     "timestamp": 1692222235656,
     "user_tz": -540,
     "elapsed": 7,
     "user": {
      "displayName": "정세호",
      "userId": "18356479869734498362"
     }
    },
    "outputId": "6fda04df-fa02-40ea-b3be-2f64d5680c49"
   },
   "execution_count": 7,
   "outputs": [
    {
     "output_type": "execute_result",
     "data": {
      "text/plain": [
       "statsmodels.regression.linear_model.OLS"
      ]
     },
     "metadata": {},
     "execution_count": 7
    }
   ]
  },
  {
   "cell_type": "markdown",
   "source": [
    "- So far we have simply constructed our model.\n",
    "- We need to use `.fit()` to obtain parameter estimates $\\hat{\\beta_0}$ and $\\hat{\\beta_1}$.\n"
   ],
   "metadata": {
    "id": "9vHFS_C9eH5r"
   }
  },
  {
   "cell_type": "code",
   "source": [
    "results = reg1.fit()\n",
    "type(results)"
   ],
   "metadata": {
    "colab": {
     "base_uri": "https://localhost:8080/"
    },
    "id": "eMWTHmJFeczZ",
    "executionInfo": {
     "status": "ok",
     "timestamp": 1692222237836,
     "user_tz": -540,
     "elapsed": 7,
     "user": {
      "displayName": "정세호",
      "userId": "18356479869734498362"
     }
    },
    "outputId": "3442d4ff-c58d-4b92-b9cc-ffd634a1ba3e"
   },
   "execution_count": 8,
   "outputs": [
    {
     "output_type": "execute_result",
     "data": {
      "text/plain": [
       "statsmodels.regression.linear_model.RegressionResultsWrapper"
      ]
     },
     "metadata": {},
     "execution_count": 8
    }
   ]
  },
  {
   "cell_type": "markdown",
   "source": [
    "- We now have the fitted regression model stored in results.\n",
    "- To view the OLS regression results, we can call the `.summary()` method.\n",
    "- Note that an observation was mistakenly dropped from the results in the original paper (see the note located in `maketable2.do` from Acemoglu’s webpage), and thus the coefficients differ slightly."
   ],
   "metadata": {
    "id": "E5F10CKjeDpd"
   }
  },
  {
   "cell_type": "code",
   "source": [
    "print(results.summary())"
   ],
   "metadata": {
    "colab": {
     "base_uri": "https://localhost:8080/"
    },
    "id": "rRWIdM04eqag",
    "executionInfo": {
     "status": "ok",
     "timestamp": 1692222239283,
     "user_tz": -540,
     "elapsed": 6,
     "user": {
      "displayName": "정세호",
      "userId": "18356479869734498362"
     }
    },
    "outputId": "8c9aa298-ace8-425d-9f61-3d7ffc03a572"
   },
   "execution_count": 9,
   "outputs": [
    {
     "output_type": "stream",
     "name": "stdout",
     "text": [
      "                            OLS Regression Results                            \n",
      "==============================================================================\n",
      "Dep. Variable:               logpgp95   R-squared:                       0.611\n",
      "Model:                            OLS   Adj. R-squared:                  0.608\n",
      "Method:                 Least Squares   F-statistic:                     171.4\n",
      "Date:                Wed, 16 Aug 2023   Prob (F-statistic):           4.16e-24\n",
      "Time:                        21:43:58   Log-Likelihood:                -119.71\n",
      "No. Observations:                 111   AIC:                             243.4\n",
      "Df Residuals:                     109   BIC:                             248.8\n",
      "Df Model:                           1                                         \n",
      "Covariance Type:            nonrobust                                         \n",
      "==============================================================================\n",
      "                 coef    std err          t      P>|t|      [0.025      0.975]\n",
      "------------------------------------------------------------------------------\n",
      "const          4.6261      0.301     15.391      0.000       4.030       5.222\n",
      "avexpr         0.5319      0.041     13.093      0.000       0.451       0.612\n",
      "==============================================================================\n",
      "Omnibus:                        9.251   Durbin-Watson:                   1.689\n",
      "Prob(Omnibus):                  0.010   Jarque-Bera (JB):                9.170\n",
      "Skew:                          -0.680   Prob(JB):                       0.0102\n",
      "Kurtosis:                       3.362   Cond. No.                         33.2\n",
      "==============================================================================\n",
      "\n",
      "Notes:\n",
      "[1] Standard Errors assume that the covariance matrix of the errors is correctly specified.\n"
     ]
    }
   ]
  },
  {
   "cell_type": "markdown",
   "source": [
    "- From our results, we see that\n",
    "   - The intercept $\\hat{\\beta_0} = 4.63$.\n",
    "   - The slope $\\hat{\\beta_1} = 0.53$.\n",
    "   - The positive $\\hat{\\beta_1}$ parameter estimate implies that. institutional quality has a positive effect on economic outcomes, as we saw in the figure.\n",
    "   - The **p-value** of 0.000 for \\hat{\\beta_1}implies that the effect of institutions on GDP is statistically significant (using p < 0.05 as a rejection rule).\n",
    "   - The **R-squared value** of 0.611 indicates that around 61% of variation in log GDP per capita is explained by protection against expropriation.\n",
    "- Using our parameter estimates, we can now write our estimated relationship as\n",
    "\n",
    "$$\\widehat{logpgp95}_i =4.63 + 0.53\\  avexpr_i$$\n",
    "\n",
    "- **This equation describes the line that best fits our data**, as shown in Figure 2.\n",
    "- We can use this equation to **predict the level of log GDP per capita for a value of the index of expropriation protection**.\n",
    "    - For example, for a country with an index value of 7.07 (the average for the dataset), we find that their predicted level of log GDP per capita in 1995 is 8.38."
   ],
   "metadata": {
    "id": "gpHlnjKdRCr7"
   }
  },
  {
   "cell_type": "code",
   "source": [
    "mean_expr = np.mean(df1_subset['avexpr'])\n",
    "mean_expr"
   ],
   "metadata": {
    "colab": {
     "base_uri": "https://localhost:8080/"
    },
    "id": "2VOgUbfJTQwp",
    "executionInfo": {
     "status": "ok",
     "timestamp": 1692222243319,
     "user_tz": -540,
     "elapsed": 308,
     "user": {
      "displayName": "정세호",
      "userId": "18356479869734498362"
     }
    },
    "outputId": "56d9b3c3-ff9c-41b9-b59e-5aeb50b48e4c"
   },
   "execution_count": 10,
   "outputs": [
    {
     "output_type": "execute_result",
     "data": {
      "text/plain": [
       "6.515625"
      ]
     },
     "metadata": {},
     "execution_count": 10
    }
   ]
  },
  {
   "cell_type": "code",
   "source": [
    "predicted_logpdp95 = 4.63 + 0.53 * 7.07\n",
    "predicted_logpdp95"
   ],
   "metadata": {
    "colab": {
     "base_uri": "https://localhost:8080/"
    },
    "id": "_td2kwDuTlqZ",
    "executionInfo": {
     "status": "ok",
     "timestamp": 1692222252276,
     "user_tz": -540,
     "elapsed": 362,
     "user": {
      "displayName": "정세호",
      "userId": "18356479869734498362"
     }
    },
    "outputId": "148e5e48-9f52-42ee-ebe0-8794a79bee3b"
   },
   "execution_count": 11,
   "outputs": [
    {
     "output_type": "execute_result",
     "data": {
      "text/plain": [
       "8.3771"
      ]
     },
     "metadata": {},
     "execution_count": 11
    }
   ]
  },
  {
   "cell_type": "markdown",
   "source": [
    "- An easier (and more accurate) way to obtain this result is to use `.predict()` and set $constant = 1$ and $avexpr_i = mean\\_expr_i$.\n"
   ],
   "metadata": {
    "id": "UhWLMQgYToDl"
   }
  },
  {
   "cell_type": "code",
   "source": [
    "results.predict(exog=[1, mean_expr])"
   ],
   "metadata": {
    "colab": {
     "base_uri": "https://localhost:8080/"
    },
    "id": "uLJGXhloT_Kg",
    "executionInfo": {
     "status": "ok",
     "timestamp": 1692222358085,
     "user_tz": -540,
     "elapsed": 419,
     "user": {
      "displayName": "정세호",
      "userId": "18356479869734498362"
     }
    },
    "outputId": "bfe6f9e7-5aa9-4803-81f8-3695f60abd3c"
   },
   "execution_count": 12,
   "outputs": [
    {
     "output_type": "execute_result",
     "data": {
      "text/plain": [
       "array([8.09156367])"
      ]
     },
     "metadata": {},
     "execution_count": 12
    }
   ]
  },
  {
   "cell_type": "markdown",
   "source": [
    "- We can obtain an array of predicted $logpgp95_i$ for every value of $avexpr_i$ in our dataset by calling `.predict()` on our results.\n",
    "- Plotting the predicted values against $avexpr_i$ shows that the predicted values lie along the linear line that we fitted above.\n",
    "- The observed values of $logpgp95_i$ are also plotted for comparison purposes"
   ],
   "metadata": {
    "id": "Uib9JTvJUEfz"
   }
  },
  {
   "cell_type": "code",
   "source": [
    "# Drop missing observations from whole sample\n",
    "\n",
    "df1_plot = df1.dropna(subset=['logpgp95', 'avexpr'])\n",
    "\n",
    "# Plot predicted values\n",
    "\n",
    "fix, ax = plt.subplots()\n",
    "ax.scatter(df1_plot['avexpr'], results.predict(), alpha=0.5,\n",
    "        label='predicted')\n",
    "\n",
    "# Plot observed values\n",
    "\n",
    "ax.scatter(df1_plot['avexpr'], df1_plot['logpgp95'], alpha=0.5,\n",
    "        label='observed')\n",
    "\n",
    "ax.legend()\n",
    "ax.set_title('OLS predicted values')\n",
    "ax.set_xlabel('avexpr')\n",
    "ax.set_ylabel('logpgp95')\n",
    "plt.show()"
   ],
   "metadata": {
    "colab": {
     "base_uri": "https://localhost:8080/",
     "height": 524
    },
    "id": "zTq_hmp7Ulvs",
    "executionInfo": {
     "status": "ok",
     "timestamp": 1692222516769,
     "user_tz": -540,
     "elapsed": 639,
     "user": {
      "displayName": "정세호",
      "userId": "18356479869734498362"
     }
    },
    "outputId": "b62230f2-70f8-4701-d818-26b981d28252"
   },
   "execution_count": 13,
   "outputs": [
    {
     "output_type": "display_data",
     "data": {
      "text/plain": [
       "<Figure size 800x550 with 1 Axes>"
      ],
      "image/png": "[encoded data removed]"
     },
     "metadata": {}
    }
   ]
  },
  {
   "cell_type": "markdown",
   "source": [
    "## **2. Extending the Linear Regression Model**"
   ],
   "metadata": {
    "id": "u3HcEm9ayPSr"
   }
  },
  {
   "cell_type": "markdown",
   "source": [
    "- So far we have only accounted for institutions affecting economic performance - almost certainly there are numerous other factors affecting GDP that are not included in our model.\n",
    "- Leaving out variables that affect $logpgp95_i$ will result in **omitted variable bias**, yielding biased and inconsistent parameter estimates.\n",
    "- We can extend our bivariate regression model to a **multivariate regression model** by adding in other factors that may affect $logpgp95_i$.\n",
    "- [AJR01] consider other factors such as:\n",
    "    - the effect of climate on economic outcomes; latitude is used to proxy this\n",
    "    - differences that affect both economic performance and institutions, eg. cultural, historical, etc.; controlled for with the use of continent dummies\n",
    "- Let’s estimate some of the extended models considered in the paper (Table 2) using data from `maketable2.dta`"
   ],
   "metadata": {
    "id": "n0QAvuaqVYgL"
   }
  },
  {
   "cell_type": "code",
   "source": [
    "df2 = pd.read_stata('https://github.com/QuantEcon/lecture-python/blob/master/source/_static/lecture_specific/ols/maketable2.dta?raw=true')\n",
    "\n",
    "# Add constant term to dataset\n",
    "df2['const'] = 1\n",
    "\n",
    "# Create lists of variables to be used in each regression\n",
    "X1 = ['const', 'avexpr']\n",
    "X2 = ['const', 'avexpr', 'lat_abst']\n",
    "X3 = ['const', 'avexpr', 'lat_abst', 'asia', 'africa', 'other']\n",
    "\n",
    "# Estimate an OLS regression for each set of variables\n",
    "reg1 = sm.OLS(df2['logpgp95'], df2[X1], missing='drop').fit()\n",
    "reg2 = sm.OLS(df2['logpgp95'], df2[X2], missing='drop').fit()\n",
    "reg3 = sm.OLS(df2['logpgp95'], df2[X3], missing='drop').fit()"
   ],
   "metadata": {
    "id": "ZxuwVW0KWEND",
    "executionInfo": {
     "status": "ok",
     "timestamp": 1692222903178,
     "user_tz": -540,
     "elapsed": 1745,
     "user": {
      "displayName": "정세호",
      "userId": "18356479869734498362"
     }
    }
   },
   "execution_count": 14,
   "outputs": []
  },
  {
   "cell_type": "markdown",
   "source": [
    "- Now that we have fitted our model, we will use `summary_col` to display the results in a single table (model numbers correspond to those in the paper)."
   ],
   "metadata": {
    "id": "-gDqzNbbWISZ"
   }
  },
  {
   "cell_type": "code",
   "source": [
    "info_dict={'R-squared' : lambda x: f\"{x.rsquared:.2f}\",\n",
    "           'No. observations' : lambda x: f\"{int(x.nobs):d}\"}\n",
    "\n",
    "results_table = summary_col(results=[reg1,reg2,reg3],\n",
    "                            float_format='%0.2f',\n",
    "                            stars = True,\n",
    "                            model_names=['Model 1',\n",
    "                                         'Model 3',\n",
    "                                         'Model 4'],\n",
    "                            info_dict=info_dict,\n",
    "                            regressor_order=['const',\n",
    "                                             'avexpr',\n",
    "                                             'lat_abst',\n",
    "                                             'asia',\n",
    "                                             'africa'])\n",
    "\n",
    "results_table.add_title('Table 2 - OLS Regressions')\n",
    "\n",
    "print(results_table)"
   ],
   "metadata": {
    "colab": {
     "base_uri": "https://localhost:8080/"
    },
    "id": "DUsIpkVaWUWd",
    "executionInfo": {
     "status": "ok",
     "timestamp": 1692222972095,
     "user_tz": -540,
     "elapsed": 413,
     "user": {
      "displayName": "정세호",
      "userId": "18356479869734498362"
     }
    },
    "outputId": "8f6427da-2c4b-4b25-c300-94abdf598a25"
   },
   "execution_count": 15,
   "outputs": [
    {
     "output_type": "stream",
     "name": "stdout",
     "text": [
      "        Table 2 - OLS Regressions\n",
      "=========================================\n",
      "                 Model 1 Model 3 Model 4 \n",
      "-----------------------------------------\n",
      "const            4.63*** 4.87*** 5.85*** \n",
      "                 (0.30)  (0.33)  (0.34)  \n",
      "avexpr           0.53*** 0.46*** 0.39*** \n",
      "                 (0.04)  (0.06)  (0.05)  \n",
      "lat_abst                 0.87*   0.33    \n",
      "                         (0.49)  (0.45)  \n",
      "asia                             -0.15   \n",
      "                                 (0.15)  \n",
      "africa                           -0.92***\n",
      "                                 (0.17)  \n",
      "other                            0.30    \n",
      "                                 (0.37)  \n",
      "R-squared        0.61    0.62    0.72    \n",
      "R-squared Adj.   0.61    0.62    0.70    \n",
      "R-squared        0.61    0.62    0.72    \n",
      "No. observations 111     111     111     \n",
      "=========================================\n",
      "Standard errors in parentheses.\n",
      "* p<.1, ** p<.05, ***p<.01\n"
     ]
    }
   ]
  },
  {
   "cell_type": "markdown",
   "source": [
    "## **3. Endogeneity**"
   ],
   "metadata": {
    "id": "6MpARw34yWn0"
   }
  },
  {
   "cell_type": "markdown",
   "source": [
    "- As [AJR01] discuss, the OLS models likely suffer from **endogeneity** issues, resulting in biased and inconsistent model estimates.\n",
    "- Namely, there is likely a two-way relationship between institutions and economic outcomes:\n",
    "    - richer countries may be able to afford or prefer better institutions\n",
    "    - variables that affect income may also be correlated with institutional differences\n",
    "    - the construction of the index may be biased; analysts may be biased towards seeing countries with higher income having better institutions\n",
    "- To deal with endogeneity, we can use **two-stage least squares (2SLS) regression**, which is an extension of OLS regression.\n",
    "- This method requires replacing the endogenous variable $avexpr_i$ with a variable that is:\n",
    "   1. correlated with $avexpr_i$\n",
    "   2. not correlated with the error term (ie. it should not directly affect the dependent variable, otherwise it would be correlated with $u_i$ due to omitted variable bias)\n",
    "- The new set of regressors is called an **instrument**, which aims to remove endogeneity in our proxy of institutional differences.\n",
    "- The main contribution of [AJR01] is the use of settler mortality rates to instrument for institutional differences.\n",
    "- They hypothesize that higher mortality rates of colonizers led to the establishment of institutions that were more extractive in nature (less protection against expropriation), and these institutions still persist today.\n",
    "- Using a scatterplot (Figure 3 in [AJR01]), we can see protection against expropriation is negatively correlated with settler mortality rates, coinciding with the authors’ hypothesis and satisfying the first condition of a valid instrument."
   ],
   "metadata": {
    "id": "5tFnv-yMWuoJ"
   }
  },
  {
   "cell_type": "code",
   "source": [
    "# Dropping NA's is required to use numpy's polyfit\n",
    "df1_subset2 = df1.dropna(subset=['logem4', 'avexpr'])\n",
    "\n",
    "X = df1_subset2['logem4']\n",
    "y = df1_subset2['avexpr']\n",
    "labels = df1_subset2['shortnam']\n",
    "\n",
    "# Replace markers with country labels\n",
    "fig, ax = plt.subplots()\n",
    "ax.scatter(X, y, marker='')\n",
    "\n",
    "for i, label in enumerate(labels):\n",
    "    ax.annotate(label, (X.iloc[i], y.iloc[i]))\n",
    "\n",
    "# Fit a linear trend line\n",
    "ax.plot(np.unique(X),\n",
    "         np.poly1d(np.polyfit(X, y, 1))(np.unique(X)),\n",
    "         color='black')\n",
    "\n",
    "ax.set_xlim([1.8,8.4])\n",
    "ax.set_ylim([3.3,10.4])\n",
    "ax.set_xlabel('Log of Settler Mortality')\n",
    "ax.set_ylabel('Average Expropriation Risk 1985-95')\n",
    "ax.set_title('Figure 3: First-stage relationship between settler mortality \\\n",
    "    and expropriation risk')\n",
    "plt.show()"
   ],
   "metadata": {
    "colab": {
     "base_uri": "https://localhost:8080/",
     "height": 524
    },
    "id": "oCBYiBzoXhJy",
    "executionInfo": {
     "status": "ok",
     "timestamp": 1692223283412,
     "user_tz": -540,
     "elapsed": 1249,
     "user": {
      "displayName": "정세호",
      "userId": "18356479869734498362"
     }
    },
    "outputId": "a28277f5-ac0f-4d87-dc46-2b9fdc77e859"
   },
   "execution_count": 16,
   "outputs": [
    {
     "output_type": "display_data",
     "data": {
      "text/plain": [
       "<Figure size 800x550 with 1 Axes>"
      ],
      "image/png": "[encoded data removed]"
     },
     "metadata": {}
    }
   ]
  },
  {
   "cell_type": "markdown",
   "source": [
    "- The second condition may not be satisfied if settler mortality rates in the 17th to 19th centuries have a direct effect on current GDP (in addition to their indirect effect through institutions).\n",
    "    - For example, settler mortality rates may be related to the current disease environment in a country, which could affect current economic performance.\n",
    "- [AJR01] argue this is unlikely because:\n",
    "    - The majority of settler deaths were due to malaria and yellow fever and had a limited effect on local people.\n",
    "    - The disease burden on local people in Africa or India, for example, did not appear to be higher than average, supported by relatively high population densities in these areas before colonization.\n",
    "- As we appear to have a valid instrument, we can use 2SLS regression to obtain consistent and unbiased parameter estimates."
   ],
   "metadata": {
    "id": "N_jRjW_bXfeU"
   }
  },
  {
   "cell_type": "markdown",
   "source": [
    "### 3.1. First Stage"
   ],
   "metadata": {
    "id": "Rp1LsVSiX2pE"
   }
  },
  {
   "cell_type": "markdown",
   "source": [
    "- The first stage involves regressing the endogenous variable ($avexpr_i$) on the instrument.\n",
    "- The instrument is the set of all exogenous variables in our model (and not just the variable we have replaced).\n",
    "- Using model 1 as an example, our instrument is simply a constant and settler mortality rates $logem4_i$\n",
    "- Therefore, we will estimate the first-stage regression as\n",
    "\n",
    "$$avexpr_i = \\delta_0 + \\delta_1 logem4_i + v_i$$\n",
    "\n",
    "- The data we need to estimate this equation is located in `maketable4.dta` (only complete data, indicated by `baseco = 1`, is used for estimation)"
   ],
   "metadata": {
    "id": "DLFae3b1X8oA"
   }
  },
  {
   "cell_type": "code",
   "source": [
    "# Import and select the data\n",
    "df4 = pd.read_stata('https://github.com/QuantEcon/lecture-python/blob/master/source/_static/lecture_specific/ols/maketable4.dta?raw=true')\n",
    "df4 = df4[df4['baseco'] == 1]\n",
    "\n",
    "# Add a constant variable\n",
    "df4['const'] = 1\n",
    "\n",
    "# Fit the first stage regression and print summary\n",
    "results_fs = sm.OLS(df4['avexpr'],\n",
    "                    df4[['const', 'logem4']],\n",
    "                    missing='drop').fit()\n",
    "print(results_fs.summary())"
   ],
   "metadata": {
    "colab": {
     "base_uri": "https://localhost:8080/"
    },
    "id": "S-fnQ07jYgux",
    "executionInfo": {
     "status": "ok",
     "timestamp": 1692223544184,
     "user_tz": -540,
     "elapsed": 1413,
     "user": {
      "displayName": "정세호",
      "userId": "18356479869734498362"
     }
    },
    "outputId": "9c174119-0577-4a22-b950-c064044ae882"
   },
   "execution_count": 17,
   "outputs": [
    {
     "output_type": "stream",
     "name": "stdout",
     "text": [
      "                            OLS Regression Results                            \n",
      "==============================================================================\n",
      "Dep. Variable:                 avexpr   R-squared:                       0.270\n",
      "Model:                            OLS   Adj. R-squared:                  0.258\n",
      "Method:                 Least Squares   F-statistic:                     22.95\n",
      "Date:                Wed, 16 Aug 2023   Prob (F-statistic):           1.08e-05\n",
      "Time:                        22:05:43   Log-Likelihood:                -104.83\n",
      "No. Observations:                  64   AIC:                             213.7\n",
      "Df Residuals:                      62   BIC:                             218.0\n",
      "Df Model:                           1                                         \n",
      "Covariance Type:            nonrobust                                         \n",
      "==============================================================================\n",
      "                 coef    std err          t      P>|t|      [0.025      0.975]\n",
      "------------------------------------------------------------------------------\n",
      "const          9.3414      0.611     15.296      0.000       8.121      10.562\n",
      "logem4        -0.6068      0.127     -4.790      0.000      -0.860      -0.354\n",
      "==============================================================================\n",
      "Omnibus:                        0.035   Durbin-Watson:                   2.003\n",
      "Prob(Omnibus):                  0.983   Jarque-Bera (JB):                0.172\n",
      "Skew:                           0.045   Prob(JB):                        0.918\n",
      "Kurtosis:                       2.763   Cond. No.                         19.4\n",
      "==============================================================================\n",
      "\n",
      "Notes:\n",
      "[1] Standard Errors assume that the covariance matrix of the errors is correctly specified.\n"
     ]
    }
   ]
  },
  {
   "cell_type": "markdown",
   "source": [
    "### 3.2. Second Stage"
   ],
   "metadata": {
    "id": "_eVw9J5JYxlx"
   }
  },
  {
   "cell_type": "markdown",
   "source": [
    "- We need to retrieve the predicted values of $avexpr_i$ using `.predict()`.\n",
    "- We then replace the endogenous variable  $avexpr_i$ with the predicted values $\\widehat{avexpr}_i$ in the original linear model.\n",
    "- Our second stage regression is thus\n",
    "\n",
    "$$logpgp95_i = \\beta_0 + \\beta_1 \\widehat{avexpr}_i + u_i$$"
   ],
   "metadata": {
    "id": "6Jwtpr-QY3mx"
   }
  },
  {
   "cell_type": "code",
   "execution_count": 18,
   "metadata": {
    "id": "RF2SL8pbrgMO",
    "colab": {
     "base_uri": "https://localhost:8080/"
    },
    "executionInfo": {
     "status": "ok",
     "timestamp": 1692223879783,
     "user_tz": -540,
     "elapsed": 420,
     "user": {
      "displayName": "정세호",
      "userId": "18356479869734498362"
     }
    },
    "outputId": "2137ccfd-251f-4cd7-ea22-03aeb84864aa"
   },
   "outputs": [
    {
     "output_type": "stream",
     "name": "stdout",
     "text": [
      "                            OLS Regression Results                            \n",
      "==============================================================================\n",
      "Dep. Variable:               logpgp95   R-squared:                       0.477\n",
      "Model:                            OLS   Adj. R-squared:                  0.469\n",
      "Method:                 Least Squares   F-statistic:                     56.60\n",
      "Date:                Wed, 16 Aug 2023   Prob (F-statistic):           2.66e-10\n",
      "Time:                        22:11:18   Log-Likelihood:                -72.268\n",
      "No. Observations:                  64   AIC:                             148.5\n",
      "Df Residuals:                      62   BIC:                             152.9\n",
      "Df Model:                           1                                         \n",
      "Covariance Type:            nonrobust                                         \n",
      "====================================================================================\n",
      "                       coef    std err          t      P>|t|      [0.025      0.975]\n",
      "------------------------------------------------------------------------------------\n",
      "const                1.9097      0.823      2.320      0.024       0.264       3.555\n",
      "predicted_avexpr     0.9443      0.126      7.523      0.000       0.693       1.195\n",
      "==============================================================================\n",
      "Omnibus:                       10.547   Durbin-Watson:                   2.137\n",
      "Prob(Omnibus):                  0.005   Jarque-Bera (JB):               11.010\n",
      "Skew:                          -0.790   Prob(JB):                      0.00407\n",
      "Kurtosis:                       4.277   Cond. No.                         58.1\n",
      "==============================================================================\n",
      "\n",
      "Notes:\n",
      "[1] Standard Errors assume that the covariance matrix of the errors is correctly specified.\n"
     ]
    }
   ],
   "source": [
    "df4['predicted_avexpr'] = results_fs.predict()\n",
    "\n",
    "results_ss = sm.OLS(df4['logpgp95'],\n",
    "                    df4[['const', 'predicted_avexpr']]).fit()\n",
    "print(results_ss.summary())"
   ]
  },
  {
   "cell_type": "markdown",
   "source": [
    "- The second-stage regression results give us an unbiased and consistent estimate of the effect of institutions on economic outcomes.\n",
    "- The result suggests a stronger positive relationship than what the OLS results indicated.\n",
    "- Note that while our parameter estimates are correct, our standard errors are not and for this reason, computing 2SLS ‘manually’ (in stages with OLS) is not recommended.\n",
    "- We can correctly estimate a 2SLS regression in one step using the linearmodels package, an extension of `statsmodels`\n",
    "- Note that when using `IV2SLS`, the exogenous and instrument variables are split up in the function arguments (whereas before the instrument included exogenous variables)"
   ],
   "metadata": {
    "id": "OJlIPI4wZ2it"
   }
  },
  {
   "cell_type": "code",
   "source": [
    "iv = IV2SLS(dependent=df4['logpgp95'],\n",
    "            exog=df4['const'],\n",
    "            endog=df4['avexpr'],\n",
    "            instruments=df4['logem4']).fit(cov_type='unadjusted')\n",
    "\n",
    "print(iv.summary)"
   ],
   "metadata": {
    "colab": {
     "base_uri": "https://localhost:8080/"
    },
    "id": "ZymHVDhtaFWH",
    "executionInfo": {
     "status": "ok",
     "timestamp": 1692223955354,
     "user_tz": -540,
     "elapsed": 409,
     "user": {
      "displayName": "정세호",
      "userId": "18356479869734498362"
     }
    },
    "outputId": "ebe867ad-a232-4a1e-8672-18b3ae72175d"
   },
   "execution_count": 19,
   "outputs": [
    {
     "output_type": "stream",
     "name": "stdout",
     "text": [
      "                          IV-2SLS Estimation Summary                          \n",
      "==============================================================================\n",
      "Dep. Variable:               logpgp95   R-squared:                      0.1870\n",
      "Estimator:                    IV-2SLS   Adj. R-squared:                 0.1739\n",
      "No. Observations:                  64   F-statistic:                    37.568\n",
      "Date:                Wed, Aug 16 2023   P-value (F-stat)                0.0000\n",
      "Time:                        22:12:34   Distribution:                  chi2(1)\n",
      "Cov. Estimator:            unadjusted                                         \n",
      "                                                                              \n",
      "                             Parameter Estimates                              \n",
      "==============================================================================\n",
      "            Parameter  Std. Err.     T-stat    P-value    Lower CI    Upper CI\n",
      "------------------------------------------------------------------------------\n",
      "const          1.9097     1.0106     1.8897     0.0588     -0.0710      3.8903\n",
      "avexpr         0.9443     0.1541     6.1293     0.0000      0.6423      1.2462\n",
      "==============================================================================\n",
      "\n",
      "Endogenous: avexpr\n",
      "Instruments: logem4\n",
      "Unadjusted Covariance (Homoskedastic)\n",
      "Debiased: False\n"
     ]
    }
   ]
  },
  {
   "cell_type": "markdown",
   "source": [
    "- Given that we now have consistent and unbiased estimates, we can infer from the model we have estimated that institutional differences (stemming from institutions set up during colonization) can help to explain differences in income levels across countries today.\n",
    "- [AJR01] use a marginal effect of 0.94 to calculate that the difference in the index between Chile and Nigeria (ie. institutional quality) implies up to a 7-fold difference in income, emphasizing the significance of institutions in economic development."
   ],
   "metadata": {
    "id": "Rf5I4GYGaJVI"
   }
  },
  {
   "cell_type": "markdown",
   "source": [
    "**[Exercise]**\n",
    "\n",
    "- In the lecture, we think the original model suffers from endogeneity bias due to the likely effect income has on institutional development.\n",
    "- Although endogeneity is often best identified by thinking about the data and model, we can formally test for endogeneity using the **Hausman test**.\n",
    "\n",
    "- We want to test for correlation between the endogenous variable, $avexpr_i$, and the errors, $u_i$\n",
    "\n",
    "$$\\begin{matrix}\n",
    "H_0 : & Cov(avexpr_i, u_i) = 0 & (no endogeneity) \\\\\n",
    "H_1 : & Cov(avexpr_i, u_i) \\ne 0 & (endogeneity)\n",
    "\\end{matrix}$$\n",
    "\n",
    "- This test is running in two stages.\n",
    "- First, we regress $avexpr_i$ on the instrument, $logem4_i$\n",
    "\n",
    "$$avexpr_i = \\pi_0 + \\pi_1 logem4_i + v_i$$\n",
    "\n",
    "- Second, we retrieve the residuals $\\hat{v}_i$ and include them in the original equation\n",
    "\n",
    "$$logpgp95_i = \\beta_0 + \\beta_1 avexpr_i + \\alpha \\hat{v}_i + u_i$$\n",
    "\n",
    "If $\\alpha$ is statistically significant (with a p-value < 0.05), then we reject the null hypothesis and conclude that $avexpr_i$ is endogenous.\n",
    "- Using the above information, estimate a Hausman test and interpret your results."
   ],
   "metadata": {
    "id": "IFgEYPzWaeEt"
   }
  },
  {
   "cell_type": "code",
   "source": [
    "# Your Code Here\n",
    "\n",
    "# Load in data\n",
    "df4 = pd.read_stata('https://github.com/QuantEcon/lecture-python/blob/master/source/_static/lecture_specific/ols/maketable4.dta?raw=true')\n",
    "\n",
    "# Add a constant term\n",
    "\n",
    "\n",
    "# Estimate the first stage regression\n",
    "\n",
    "\n",
    "# Retrieve the residuals\n",
    "\n",
    "\n",
    "# Estimate the second stage residuals\n",
    "\n",
    "\n",
    "# Print the Result.\n",
    "print(reg2.summary())"
   ],
   "metadata": {
    "id": "oEPHCB51ajur"
   },
   "execution_count": null,
   "outputs": []
  },
  {
   "cell_type": "markdown",
   "source": [
    "- The result will be like:\n",
    "\n",
    "```python\n",
    "                            OLS Regression Results                            \n",
    "==============================================================================\n",
    "Dep. Variable:               logpgp95   R-squared:                       0.689\n",
    "Model:                            OLS   Adj. R-squared:                  0.679\n",
    "Method:                 Least Squares   F-statistic:                     74.05\n",
    "Date:                Mon, 31 Jul 2023   Prob (F-statistic):           1.07e-17\n",
    "Time:                        22:51:50   Log-Likelihood:                -62.031\n",
    "No. Observations:                  70   AIC:                             130.1\n",
    "Df Residuals:                      67   BIC:                             136.8\n",
    "Df Model:                           2                                         \n",
    "Covariance Type:            nonrobust                                         \n",
    "==============================================================================\n",
    "                 coef    std err          t      P>|t|      [0.025      0.975]\n",
    "------------------------------------------------------------------------------\n",
    "const          2.4782      0.547      4.530      0.000       1.386       3.570\n",
    "avexpr         0.8564      0.082     10.406      0.000       0.692       1.021\n",
    "resid         -0.4951      0.099     -5.017      0.000      -0.692      -0.298\n",
    "==============================================================================\n",
    "Omnibus:                       17.597   Durbin-Watson:                   2.086\n",
    "Prob(Omnibus):                  0.000   Jarque-Bera (JB):               23.194\n",
    "Skew:                          -1.054   Prob(JB):                     9.19e-06\n",
    "Kurtosis:                       4.873   Cond. No.                         53.8\n",
    "==============================================================================\n",
    "\n",
    "Notes:\n",
    "[1] Standard Errors assume that the covariance matrix of the errors is correctly specified.\n",
    "\n",
    "```"
   ],
   "metadata": {
    "id": "NRsSNqC1dvTN"
   }
  },
  {
   "cell_type": "markdown",
   "source": [
    "**[Exercise]**\n",
    "\n",
    "- The OLS parameter $\\beta$ can also be estimated using matrix algebra and `numpy` (you may need to review the numpy lecture to complete this exercise).\n",
    "- The linear equation we want to estimate is (written in matrix form)\n",
    "\n",
    "$$y = X \\beta + u$$\n",
    "\n",
    "- To solve for the unknown parameter $\\beta$, we want to minimize the sum of squared residuals\n",
    "\n",
    "$$\\min_{\\hat{\\beta}} \\hat{u}^{T}\\hat{u}$$\n",
    "\n",
    "- Rearranging the first equation and substituting into the second equation, we can write\n",
    "\n",
    "$$\\min_{\\hat{\\beta}}(Y-X\\hat{\\beta})^{T}(Y-X\\hat{\\beta})$$\n",
    "\n",
    "- Solving this optimization problem gives the solution for the $\\hat{\\beta}$ coefficients\n",
    "\n",
    "$$\\hat{\\beta} = (X^TX)^{-1}X^{T} y $$\n",
    "\n",
    "- Using the above information, compute $\\hat{\\beta}$ from model 1 using `numpy` - your results should be the same as those in the `statsmodels` output from earlier in the lecture."
   ],
   "metadata": {
    "id": "ndRC21akakGp"
   }
  },
  {
   "cell_type": "code",
   "source": [
    "# Your Code Here!\n",
    "\n",
    "# Load in data\n",
    "df1 = pd.read_stata('https://github.com/QuantEcon/lecture-python/blob/master/source/_static/lecture_specific/ols/maketable1.dta?raw=true')\n",
    "df1 = df1.dropna(subset=['logpgp95', 'avexpr'])\n",
    "\n",
    "# Add a constant term\n",
    "\n",
    "\n",
    "# Define the X and y variables (Use numpy)\n",
    "\n",
    "\n",
    "\n",
    "# Compute β_hat\n",
    "\n",
    "\n",
    "# Print out the results from the 2 x 1 vector β_hat\n",
    "print(f'β_0 = {β_hat[0]:.2}')\n",
    "print(f'β_1 = {β_hat[1]:.2}')"
   ],
   "metadata": {
    "id": "6Oe_lun8alQ3"
   },
   "execution_count": null,
   "outputs": []
  },
  {
   "cell_type": "markdown",
   "source": [
    "The output should be:\n",
    "\n",
    "```python\n",
    "β_0 = 4.6\n",
    "β_1 = 0.53\n",
    "```"
   ],
   "metadata": {
    "id": "inCXDExwgoda"
   }
  }
 ]
}
