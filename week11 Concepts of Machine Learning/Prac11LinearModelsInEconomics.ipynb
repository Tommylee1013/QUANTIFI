{
 "cells": [
  {
   "cell_type": "markdown",
   "source": [
    "### Homework 11\n",
    "\n",
    "이번 과제에서는 기존 경제학에서 사용했던 모형을 Regularized Linear Model로 직접 구현해 보도록 한다"
   ],
   "metadata": {
    "collapsed": false
   },
   "id": "dc3c1d109d87462"
  },
  {
   "cell_type": "markdown",
   "source": [
    "#### 1. Data Import\n",
    "\n",
    "`data.csv`는 대표적인 market index별 realized volatility를 기록한 자료이다. 아래와 같은 ticker가 등록되어 있다\n",
    "\n",
    "```\n",
    "array(['.AEX', '.AORD', '.BFX', '.BSESN', '.BVLG', '.BVSP', '.DJI',\n",
    "       '.FCHI', '.FTMIB', '.FTSE', '.GDAXI', '.GSPTSE', '.HSI', '.IBEX',\n",
    "       '.IXIC', '.KS11', '.KSE', '.MXX', '.N225', '.NSEI', '.OMXC20',\n",
    "       '.OMXHPI', '.OMXSPI', '.OSEAX', '.RUT', '.SMSI', '.SPX', '.SSEC',\n",
    "       '.SSMI', '.STI', '.STOXX50E'], dtype=object)\n",
    "```\n",
    "\n",
    "`.KS11`은 KOSPI시장을 나타내는 티커이다. 전체 데이터를 가져와 그 중 KOSPI index만 저장하라"
   ],
   "metadata": {
    "collapsed": false
   },
   "id": "97ddf1d0bccdb660"
  },
  {
   "cell_type": "code",
   "execution_count": 1,
   "outputs": [],
   "source": [
    "# Write your code here!"
   ],
   "metadata": {
    "collapsed": false,
    "ExecuteTime": {
     "end_time": "2023-11-02T14:47:05.769026Z",
     "start_time": "2023-11-02T14:47:05.766889Z"
    }
   },
   "id": "65b311c667fcfaab"
  },
  {
   "cell_type": "markdown",
   "source": [
    "#### 2. HAR Model\n",
    "\n",
    "HAR (Heterogeneous Autoregressive) model은 2009년 Corsi가 제안한 모형으로, 다음과 같이 추정된다\n",
    "\n",
    "$$\\log \\mathrm{RV}_{t+1}^d = \\beta_0 + \\beta_d \\log \\mathrm{RV}_{t}^d + \\beta_w \\log \\mathrm{RV}_{t}^w + \\beta_m \\log \\mathrm{RV}_{t}^m$$\n",
    "\n",
    "여기서 $\\log \\mathrm{RV}_t^w = \\sum_{j=0}^4 \\mathrm{RV}_{t-j}^d$이고, $\\log \\mathrm{RV}_t^w = \\sum_{j=0}^{21} \\mathrm{RV}_{t-j}^d$이다\n",
    "\n",
    "식의 추정을 위해 realized volatility를 shift() method를 사용해 새로운 컬럼을 추가하면서 22일 전까지의 realized volatility가 하나의 row에 있는 Data Frame을 생성하라(11장 강의노트를 참고하면 좋다) 컬럼은 rv5를 사용하면 된다"
   ],
   "metadata": {
    "collapsed": false
   },
   "id": "87ad8cc706a6df1"
  },
  {
   "cell_type": "code",
   "execution_count": null,
   "outputs": [],
   "source": [
    "# Write your code here!"
   ],
   "metadata": {
    "collapsed": false
   },
   "id": "f282448b6ee46b9f"
  },
  {
   "cell_type": "markdown",
   "source": [
    "#### 3. Ridge Regression\n",
    "\n",
    "3.1 준비된 Data Frame을 이용하여 train test split을 수행하라. test data의 비율을 0.2로 지정, shuffle = False로 지정하고 분할하면 된다. random seed는 42로 지정한다"
   ],
   "metadata": {
    "collapsed": false
   },
   "id": "f70eec58cbbe516a"
  },
  {
   "cell_type": "code",
   "execution_count": null,
   "outputs": [],
   "source": [
    "# Write your code here!"
   ],
   "metadata": {
    "collapsed": false
   },
   "id": "45f505b969e5d265"
  },
  {
   "cell_type": "markdown",
   "source": [
    "3.2 Ridge Regression을 수행하라. parameter `alpha = 0.1`을 지정한다"
   ],
   "metadata": {
    "collapsed": false
   },
   "id": "c5b0b3e672d83d55"
  },
  {
   "cell_type": "code",
   "execution_count": 2,
   "outputs": [],
   "source": [
    "# Write your code here!"
   ],
   "metadata": {
    "collapsed": false,
    "ExecuteTime": {
     "end_time": "2023-11-02T14:51:57.044626Z",
     "start_time": "2023-11-02T14:51:57.029125Z"
    }
   },
   "id": "f8d796af0d8f4623"
  },
  {
   "cell_type": "markdown",
   "source": [
    "3.3 적합화된 모형에서 coef_ 속성을 사용해 coefficient를 확인하라. 어떤 결과가 보이는가?"
   ],
   "metadata": {
    "collapsed": false
   },
   "id": "f9522515d27e5842"
  },
  {
   "cell_type": "code",
   "execution_count": null,
   "outputs": [],
   "source": [
    "# Write your code here!"
   ],
   "metadata": {
    "collapsed": false
   },
   "id": "5802cc7f0905c731"
  },
  {
   "cell_type": "markdown",
   "source": [
    "#### 4. Ridge Regression\n",
    "\n",
    "4.1 준비된 Data Frame을 이용하여 train test split을 수행하라. test data의 비율을 0.2로 지정, shuffle = False로 지정하고 분할하면 된다. random seed는 42로 지정한다"
   ],
   "metadata": {
    "collapsed": false
   },
   "id": "2b03c066666f0167"
  },
  {
   "cell_type": "code",
   "execution_count": null,
   "outputs": [],
   "source": [
    "# Write your code here!"
   ],
   "metadata": {
    "collapsed": false
   },
   "id": "2a3a4a5021cd6468"
  },
  {
   "cell_type": "markdown",
   "source": [
    "4.2 Lasso Regression을 수행하라. paramter `alpha = 0.1`을 지정한다"
   ],
   "metadata": {
    "collapsed": false
   },
   "id": "6eb0058001dd46ae"
  },
  {
   "cell_type": "code",
   "execution_count": null,
   "outputs": [],
   "source": [
    "# Write your code here!"
   ],
   "metadata": {
    "collapsed": false
   },
   "id": "46e86fd8dc0d7c0b"
  },
  {
   "cell_type": "markdown",
   "source": [
    "4.3 적합화된 모형에서 coef_ 속성을 사용해 coefficient를 확인하라. 어떤 결과가 보이는가?"
   ],
   "metadata": {
    "collapsed": false
   },
   "id": "ddde6c0799d3968"
  },
  {
   "cell_type": "code",
   "execution_count": null,
   "outputs": [],
   "source": [
    "# Write your code here!"
   ],
   "metadata": {
    "collapsed": false
   },
   "id": "7ebe46f99e9925d7"
  },
  {
   "cell_type": "markdown",
   "source": [
    "#### 5. Elastic Net Regression\n",
    "\n",
    "5.1 준비된 Data Frame을 이용하여 train test split을 수행하라. test data의 비율을 0.2로 지정, shuffle = False로 지정하고 분할하면 된다. random seed는 42로 지정한다"
   ],
   "metadata": {
    "collapsed": false
   },
   "id": "b0c836f80195c5e6"
  },
  {
   "cell_type": "code",
   "execution_count": null,
   "outputs": [],
   "source": [
    "# Write your code here!"
   ],
   "metadata": {
    "collapsed": false
   },
   "id": "4f27a16871bfed3b"
  },
  {
   "cell_type": "markdown",
   "source": [
    "5.2 Elastic Net Regression을 수행하라. paramter `alpha = 0.1`, `l1_ratio = 0.5`를 지정한다"
   ],
   "metadata": {
    "collapsed": false
   },
   "id": "bed6873e862ac6b7"
  },
  {
   "cell_type": "code",
   "execution_count": null,
   "outputs": [],
   "source": [
    "# Write your code here!"
   ],
   "metadata": {
    "collapsed": false
   },
   "id": "47ae8b54e3e98e89"
  },
  {
   "cell_type": "markdown",
   "source": [
    "5.3 적합화된 모형에서 coef_ 속성을 사용해 coefficient를 확인하라. 어떤 결과가 보이는가?"
   ],
   "metadata": {
    "collapsed": false
   },
   "id": "82dafdfe2b0927a2"
  },
  {
   "cell_type": "markdown",
   "source": [
    "### 6. 결과의 비교\n",
    "\n",
    "3, 4, 5번에서 수행한 Regression 의 coefficient를 확인하여, 모형별로 어떤 차이가 있는지 확인한다. KOSPI 시장에서는 HAR모형이 추정되는가?"
   ],
   "metadata": {
    "collapsed": false
   },
   "id": "e133729b9321b380"
  },
  {
   "cell_type": "code",
   "execution_count": null,
   "outputs": [],
   "source": [
    "# Write your code here!"
   ],
   "metadata": {
    "collapsed": false
   },
   "id": "415069636369e3fe"
  }
 ],
 "metadata": {
  "kernelspec": {
   "display_name": "Python 3",
   "language": "python",
   "name": "python3"
  },
  "language_info": {
   "codemirror_mode": {
    "name": "ipython",
    "version": 2
   },
   "file_extension": ".py",
   "mimetype": "text/x-python",
   "name": "python",
   "nbconvert_exporter": "python",
   "pygments_lexer": "ipython2",
   "version": "2.7.6"
  }
 },
 "nbformat": 4,
 "nbformat_minor": 5
}
